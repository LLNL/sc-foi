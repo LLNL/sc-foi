{
 "cells": [
  {
   "cell_type": "code",
   "execution_count": 1,
   "metadata": {},
   "outputs": [],
   "source": [
    "import glob\n",
    "# from slab import *\n",
    "#import PyInventor\n",
    "#from PyInventor import *\n",
    "%load_ext autoreload\n",
    "%autoreload 2\n",
    "#import pyEPR as epr\n",
    "#from pyEPR import ansys as HFSS\n",
    "import numpy as np\n",
    "\n",
    "%matplotlib notebook\n",
    "\n",
    "import pandas as pd\n",
    "import pyEPR\n",
    "from pyEPR import ansys as HFSS\n",
    "\n",
    "import scipy\n",
    "from scipy import constants as const\n",
    "\n",
    "from pint import UnitRegistry\n",
    "ureg = UnitRegistry()\n",
    "Q = ureg.Quantity\n",
    "import os\n",
    "import matplotlib.pyplot as plt\n",
    "\n",
    "def flt2strfmt(val, fmt='%.3f', units='mm'):\n",
    "    return (fmt % val) + units\n",
    "\n",
    "import matplotlib\n",
    "import datetime"
   ]
  },
  {
   "cell_type": "markdown",
   "metadata": {},
   "source": [
    "# Add junction and chip"
   ]
  },
  {
   "cell_type": "code",
   "execution_count": 13,
   "metadata": {},
   "outputs": [
    {
     "name": "stdout",
     "output_type": "stream",
     "text": [
      "project_name: monolithic_pads_l_coupled_bbq_y11_220205\n",
      "path: Z:\\tcav\\ipynbs\\HFSS\\monolithic_pads_l_coupled_bbq_y11_220205.aedt\n",
      "z_offset: z_offset\n",
      "x_cpl_offset: x_cpl_offset\n"
     ]
    },
    {
     "data": {
      "text/plain": [
       "'coupler'"
      ]
     },
     "execution_count": 13,
     "metadata": {},
     "output_type": "execute_result"
    }
   ],
   "source": [
    "'''\n",
    "HFSS eigenmode simulation Creation:\n",
    "\n",
    "This sets up a standard eigenmode simulation without the qubit, just the bare cavity created above. It calculates\n",
    "the mode frequencies, loss (with boundary impedances set) and the electric and magnetic surface participation \n",
    "ratios (S_e, S_m)\n",
    "\n",
    "'''\n",
    "\n",
    "# Define the cavity parameters [mm]\n",
    "z_cav_1 = 55\n",
    "y_cav_1 = 25\n",
    "x_cav_1 = 5\n",
    "z_cav_2 = 55\n",
    "y_cav_2 = 25\n",
    "x_cav_2 = 5\n",
    "z_offset = 3\n",
    "cav_thickness = 1\n",
    "\n",
    "# Define the coupler parameters [mmm]\n",
    "z_coupler = 100.\n",
    "y_coupler = 25.\n",
    "x_coupler = 10.\n",
    "coupler_offset = 0.\n",
    "\n",
    "# Light and heavy modes (500, 100 um)\n",
    "# l_junc = 500e-3\n",
    "# l_junc = 100e-3\n",
    "l_junc = 0.05\n",
    "coupler_pads = (x_coupler - l_junc) / 2\n",
    "y_pads = 0.1\n",
    "w_junc = l_junc / 2 * 1e-3\n",
    "\n",
    "# Project and HFSS design names for the bare waveguide model\n",
    "dd = datetime.datetime.today().strftime('%y%m%d')\n",
    "ref_name = 'monolithic_pads_l_coupled_bbq_y11'\n",
    "project_name=f'{ref_name}_{dd}'\n",
    "design_name=f'{ref_name}_hfss_design_{dd}'\n",
    "overwrite=True\n",
    "\n",
    "#use file location path:\n",
    "HFSS_path=os.getcwd()\n",
    "\n",
    "full_path=HFSS_path+'\\\\HFSS\\\\'+project_name+'.aedt'\n",
    "\n",
    "HFSS_app=HFSS.HfssApp()\n",
    "HFSS_desktop=HFSS_app.get_app_desktop()\n",
    "\n",
    "project=HFSS_desktop.open_project(full_path)\n",
    "\n",
    "if project==None:\n",
    "    project=HFSS_desktop.new_project()\n",
    "    project.save(full_path)\n",
    "    \n",
    "project.save(full_path)\n",
    "project.make_active()\n",
    "    \n",
    "if design_name in project.get_design_names():\n",
    "    if overwrite==True:\n",
    "        project.delete_design(design_name)\n",
    "        project.save()\n",
    "        EM_design=project.new_em_design(design_name)\n",
    "    else:\n",
    "        EM_design=project.get_design(design_name)\n",
    "        \n",
    "else:\n",
    "    EM_design=project.new_em_design(design_name)\n",
    "        \n",
    "EM_design.make_active()\n",
    "model=HFSS.HfssModeler(EM_design)\n",
    "\n",
    "# Geometry parameters\n",
    "zcav1 = EM_design.set_variable('z_cav_1', flt2strfmt(z_cav_1))\n",
    "ycav1 = EM_design.set_variable('y_cav_1', flt2strfmt(y_cav_1))\n",
    "xcav1 = EM_design.set_variable('x_cav_1', flt2strfmt(x_cav_1))\n",
    "zcav2 = EM_design.set_variable('z_cav_2', flt2strfmt(z_cav_2))\n",
    "ycav2 = EM_design.set_variable('y_cav_2', flt2strfmt(y_cav_2))\n",
    "xcav2 = EM_design.set_variable('x_cav_2', flt2strfmt(x_cav_2))\n",
    "zcpl  = EM_design.set_variable('z_coupler', flt2strfmt(z_coupler))\n",
    "ycpl  = EM_design.set_variable('y_coupler', flt2strfmt(y_coupler))\n",
    "xcpl  = EM_design.set_variable('x_coupler', flt2strfmt(x_coupler))\n",
    "cpl_offset = EM_design.set_variable('coupler_offset',\n",
    "                                    flt2strfmt(coupler_offset))\n",
    "z_offset  = EM_design.set_variable('z_offset', flt2strfmt(z_offset))\n",
    "x_cpl_offset = EM_design.set_variable('x_cpl_offset', flt2strfmt(2e3*x_cav_1))\n",
    "tcav = EM_design.set_variable('cav_thickness', flt2strfmt(cav_thickness))\n",
    "cpl_pads = EM_design.set_variable('coupler_pads', flt2strfmt(coupler_pads))\n",
    "ypads = EM_design.set_variable('y_pads', flt2strfmt(y_pads))\n",
    "ljunc = EM_design.set_variable('l_junc', flt2strfmt(l_junc))\n",
    "\n",
    "print(f'z_offset: {z_offset}')\n",
    "print(f'x_cpl_offset: {x_cpl_offset}')\n",
    "\n",
    "# Origin\n",
    "pos=[0, 0, 0]\n",
    "\n",
    "# Draw the cavities\n",
    "## Define the cavity and coupler dimensions and positions\n",
    "cav1_dims = [xcav1, ycav1, zcav1]\n",
    "cav2_dims = [xcav1+tcav, ycav1+tcav, zcav1+tcav]\n",
    "cav1_pos = [0, ycav1/2, zcav1/2]\n",
    "cpl_dims = [xcpl, ycpl, zcpl/2]\n",
    "cplout_dims = [xcpl+tcav, ycpl+tcav, zcpl/2+tcav]\n",
    "cpl_pos = [0, 0, 0]\n",
    "cav2_dims = [xcav2, ycav2, zcav2]\n",
    "cav2_pos = [0, ycav1+ycpl+ycav2/2, zcav1/2]\n",
    "\n",
    "# cav1 = model.draw_box_center(cav1_pos, cav1_dims, name='cavity_1')\n",
    "pad1_pos = [-cpl_pads/2-ljunc/2, -cpl_pads/4, 0]\n",
    "pad2_pos = [cpl_pads/2+ljunc/2, -cpl_pads/4, 0]\n",
    "pad_dims = [cpl_pads,  ypads, xcpl/10]\n",
    "cpl  = model.draw_box_center(cpl_pos, cpl_dims, name='coupler')\n",
    "pad1 = model.draw_box_center(pad1_pos, pad_dims, name='pad1')\n",
    "pad2 = model.draw_box_center(pad2_pos, pad_dims, name='pad2')\n",
    "\n",
    "# PEC cavity subtraction and realization\n",
    "# cplout  = model.draw_box_center(cpl_pos, cplout_dims, name='coupler_outer')\n",
    "# model.subtract(cplout, [cpl], keep_originals=True)\n",
    "# model.assign_material(cplout, material='pec')\n",
    "\n",
    "# cav2 = model.draw_box_center(cav2_pos, cav2_dims, name='cavity_2')\n",
    "\n",
    "# Seed mesh for coupler box before uniting with cavities\n",
    "# model.mesh_length(name_mesh='cpl', objects=[cpl], \n",
    "#                  max_length='%.3fum'%200)\n",
    "\n",
    "#cavity = model.unite(names=['cavity_1', 'cavity_2','coupler'], \n",
    "#                     keep_originals=False)\n",
    "\n",
    "model.subtract(cpl, [pad1, pad2], keep_originals=False)"
   ]
  },
  {
   "cell_type": "code",
   "execution_count": 14,
   "metadata": {},
   "outputs": [],
   "source": [
    "# NICK: Change junc_loc to [0, ycav1+ycpl/2, zcav1/2+z_offset]\n",
    "#       from [0, ycav1+ycpl, zcav1/2+z_offset].\n",
    "#       This will place the junction in the center of the coupler\n",
    "\n",
    "# Off-axis position\n",
    "# junc_loc = [0, ycav1+ycpl/4, zcav1/2+z_offset]\n",
    "junc_loc = [0, -cpl_pads/4, 0]\n",
    "jj=model.draw_rect_center(pos=junc_loc, x_size=xcpl-2*cpl_offset-2*cpl_pads,\n",
    "                          y_size=0,\n",
    "                          z_size = w_junc,\n",
    "                          name='jj')"
   ]
  },
  {
   "cell_type": "code",
   "execution_count": 15,
   "metadata": {},
   "outputs": [],
   "source": [
    "# model.assign_perfect_E([pad_1, pad_2], name='TPads')\n",
    "Lj_val=10.  #<---this sets the nominal Lj_val, should be same as start\n",
    "\n",
    "L_jj=EM_design.set_variable('Lj_1', '%.3fnH'%Lj_val)\n",
    "# jj.make_rlc_boundary(axis='X', r=0, l=L_jj, c=0, name='jj1_RLC')\n",
    "jj_line=model.draw_polyline(jj.make_center_line(axis='X'), \n",
    "                            closed=False, name='jj_line')\n",
    "\n",
    "## TODO: Rerun with seeded mesh -- does not converge with seeded mesh\n",
    "##       as of the last update, 211207\n",
    "#do some meshing to better sample the E-field of the qubit and pads\n",
    "# mesh_density = l_junc / 10\n",
    "# model.mesh_length(name_mesh='jj', objects=[jj], \n",
    "#                  max_length='%.3fum'% mesh_density )\n",
    "#model.mesh_length(name_mesh='pads', objects=[pad_1, pad_2], \n",
    "#                  max_length='%.3fum'%100)\n",
    "# model.mesh_length(name_mesh='cavity', objects=[cavity], max_length='%.3fum'%500)"
   ]
  },
  {
   "cell_type": "code",
   "execution_count": 16,
   "metadata": {},
   "outputs": [],
   "source": [
    "jj.make_lumped_port('X', z0=1e6)"
   ]
  },
  {
   "cell_type": "markdown",
   "metadata": {},
   "source": [
    "## Postprocessing, blackbox quantization"
   ]
  },
  {
   "cell_type": "code",
   "execution_count": null,
   "metadata": {},
   "outputs": [],
   "source": [
    "def get_wp_Cp_Lp(f, y, LJ0=10e-9, CJ0=2e-15, fscale=1e9, use_Zq=False):\n",
    "    \"\"\"\n",
    "    Converts frequency-dependent imaginary parts\n",
    "    of the admittance data to poles,\n",
    "    capacitances, and inductances\n",
    "    \"\"\"\n",
    "    # Add the junction inductance and capacitance to the\n",
    "    # total admittance\n",
    "    # Compute the zero crossings\n",
    "    fcpy = np.copy(f * fscale)\n",
    "    ycpy = np.copy(np.complex128(y))\n",
    "    if LJ0 is not None:\n",
    "        ycpy += (1. / (1j * fcpy * 2 * np.pi * LJ0)) \\\n",
    "          + 1j * fcpy * 2 * np.pi * CJ0\n",
    "        LJ = LJ0\n",
    "    else:\n",
    "        LJ = 10e-9\n",
    "    yim = ycpy.imag\n",
    "    zero_xing_idxs = np.where(np.diff(np.sign(yim)))[0]\n",
    "    wp = 2 * np.pi * fcpy[zero_xing_idxs]\n",
    "    yp = yim[zero_xing_idxs]\n",
    "\n",
    "    # Compute the capacitances from the derivatives\n",
    "    ypp = np.gradient(ycpy, 2*np.pi*(fcpy[1]-fcpy[0]))\n",
    "    Cp = 0.5 * np.abs(ypp.imag[zero_xing_idxs])\n",
    "    Lp = 1. / (wp**2 * Cp)\n",
    "    Zp = np.sqrt(Lp / Cp)\n",
    "    \n",
    "    # Select the q-mode as the max or just the LJ0 / CJ0\n",
    "    # contribution\n",
    "    if use_Zq:\n",
    "        Zj = np.max(np.sqrt(Lp / Cp))\n",
    "    else:\n",
    "        Zj = np.sqrt(LJ / CJ0)\n",
    "    \n",
    "    # Physical constants\n",
    "    h    = 6.62607015e-34 \n",
    "    hbar = h / (2 * np.pi)\n",
    "    e    = 1.602176634e-19\n",
    "    Phi0 = h / (2 * e)\n",
    "    \n",
    "    # Compute Ej, Ec\n",
    "    Ej = (Phi0 / (2 * np.pi))**2 / LJ\n",
    "    Ec = e**2 / (2 * CJ0)\n",
    "    \n",
    "    # Compute the phase zero point fluctuations\n",
    "    GQ = 2 * e**2 / h\n",
    "    phi2 = 2 * np.pi * GQ * Zp\n",
    "    \n",
    "    # Compute the participations\n",
    "    p = phi2 * 2 * Ej / (hbar * wp)\n",
    "    \n",
    "    # Compute the gs / Ds\n",
    "    gD = np.sqrt(Zp / Zj)\n",
    "    \n",
    "    # Compute the chis, anharmonicities\n",
    "    # In units of Hz\n",
    "    chipp  = -Ec * gD**2 / h\n",
    "    chippp = np.asarray([-2 * np.sqrt(chipp[p] * chipp[q]) \n",
    "                         for p in range(len(chipp))\n",
    "                         for q in range(len(chipp))])\n",
    "    chippp = chippp.reshape([len(chipp), len(chipp)])\n",
    "    \n",
    "    return wp, Lp, Cp, fcpy, ycpy, yp, p, gD, chippp"
   ]
  },
  {
   "cell_type": "code",
   "execution_count": null,
   "metadata": {},
   "outputs": [],
   "source": [
    "# Load the data from file, combine as one wide frequency sweep\n",
    "yredata = []\n",
    "yimdata = []\n",
    "fdata = []\n",
    "# Set the directories and name the files in a sane fashion\n",
    "dstr = '211217'\n",
    "data_prefix = f'../data/y11_monolithic_pads'\n",
    "# data_prefix = f'../data/y11_term_monolithic_pads'\n",
    "fswp1 = f'{data_prefix}_5_15GHz_{dstr}.csv'\n",
    "# fswp1 = f'{data_prefix}_5_15GHz_500um_{dstr}.csv'\n",
    "fswp1 = f'{data_prefix}_5_25GHz_50um_{dstr}.csv'\n",
    "filenames = [fswp1]\n",
    "\n",
    "# Iterate over all of the files\n",
    "for f in filenames:\n",
    "    data = np.genfromtxt(f, delimiter=',', skip_header=1).T\n",
    "    fdata.append(data[0])\n",
    "    yredata.append(data[1])\n",
    "    yimdata.append(data[2])\n",
    "\n",
    "# Combine and flatten the data\n",
    "fdata = np.asarray(fdata).flatten()\n",
    "yredata = np.asarray(yredata).flatten()\n",
    "yimdata = np.asarray(yimdata).flatten()\n",
    "ydata = yredata + 1j * yimdata\n",
    "\n",
    "# Compute the zero crossings locations\n",
    "fscale = 1e9\n",
    "wp, Lp, Cp, f, y, yp, p, gD, chi = get_wp_Cp_Lp(fdata, ydata, fscale=fscale, LJ0=1e-9)\n",
    "print(f'wp / 2pi: {wp / 2 / np.pi}')\n",
    "print(f'Lp: {Lp / 1e-9} nH')\n",
    "print(f'Cp: {Cp / 1e-15} fF')"
   ]
  },
  {
   "cell_type": "code",
   "execution_count": null,
   "metadata": {},
   "outputs": [],
   "source": [
    "def set_axes_fonts(ax, fsize):\n",
    "    \"\"\"\n",
    "    Set axes font sizes because it should be abstracted away\n",
    "    \"\"\"\n",
    "    for tick in ax.get_xticklabels():\n",
    "        tick.set_fontsize(fsize)\n",
    "    for tick in ax.get_yticklabels():\n",
    "        tick.set_fontsize(fsize)"
   ]
  },
  {
   "cell_type": "code",
   "execution_count": null,
   "metadata": {},
   "outputs": [],
   "source": [
    "def set_leg_outside(ax, fsize):\n",
    "    \"\"\"\n",
    "    Sets the legend location outside\n",
    "    \"\"\"\n",
    "    \n",
    "    # Shrink current axis by 20%\n",
    "    box = ax.get_position()\n",
    "    ax.set_position([box.x0, box.y0, box.width * 0.8, box.height])\n",
    "    \n",
    "    # Put a legend to the right of the current axis\n",
    "    hdls, legs = ax.get_legend_handles_labels()\n",
    "    leg = ax.legend(hdls, legs, loc='center left', bbox_to_anchor=(1, 0.5), \\\n",
    "                    fontsize=fsize, framealpha=0.)\n",
    "\n",
    "    return leg"
   ]
  },
  {
   "cell_type": "code",
   "execution_count": null,
   "metadata": {},
   "outputs": [],
   "source": [
    "# Plot the results, save the figure(s)\n",
    "fsize = 20\n",
    "fig, ax = plt.subplots(1, 1, tight_layout=True)\n",
    "ax.plot(f/fscale, y.imag)\n",
    "ax.plot(wp/(2*np.pi*fscale), yp.imag, 'o', label='Zero Crossings')\n",
    "ax.set_ylabel(r'$\\Im Y(\\omega)$', fontsize=fsize)\n",
    "ax.set_xlabel(r'Frequency [GHz]', fontsize=fsize)\n",
    "set_axes_fonts(ax, fsize)\n",
    "fig.savefig(f'../figs/zeros_term_bbq_inductive_50um_{dstr}.pdf', format='pdf')"
   ]
  },
  {
   "cell_type": "markdown",
   "metadata": {},
   "source": [
    "## Iterate over all LJ values"
   ]
  },
  {
   "cell_type": "code",
   "execution_count": null,
   "metadata": {},
   "outputs": [],
   "source": [
    "NLJ = 25\n",
    "wps = []\n",
    "ps = []\n",
    "gDs = []\n",
    "Cps = []\n",
    "Lps = []\n",
    "chis = []\n",
    "Nmodes = 6\n",
    "\n",
    "# Whether or not to use the largest impedance mode\n",
    "# as the junction mode in the calculations\n",
    "use_Zq = False\n",
    "\n",
    "# LJs = np.linspace(10e-9, 100e-9, NLJ)\n",
    "LJs = np.logspace(np.log10(0.1e-9), np.log10(100e-9), NLJ)\n",
    "for idx, LJ in enumerate(LJs):\n",
    "    wpp, Lp, Cp, _, _, _, p, gD, chip \\\n",
    "    = get_wp_Cp_Lp(fdata, ydata, LJ0=LJ, fscale=fscale, use_Zq=use_Zq)\n",
    "    # wps.append(wpp[0:4])\n",
    "    wps.append(wpp[0:Nmodes])\n",
    "    ps.append(p[0:Nmodes])\n",
    "    gDs.append(gD[0:Nmodes])\n",
    "    Lps.append(Lp[0:Nmodes])\n",
    "    Cps.append(Cp[0:Nmodes])\n",
    "    chis.append(chip[0:Nmodes, 0:Nmodes])\n",
    "    # wps.append(wpp)\n",
    "    # print(f'LJ: {LJ}, wpp: {wpp}')\n",
    "wps = np.asarray(wps).T\n",
    "ps  = np.asarray(ps).T\n",
    "gDs = np.asarray(gDs).T\n",
    "Lps = np.asarray(Lps).T\n",
    "Cps = np.asarray(Cps).T\n",
    "chis = np.asarray(chis).T"
   ]
  },
  {
   "cell_type": "code",
   "execution_count": null,
   "metadata": {},
   "outputs": [],
   "source": [
    "wp0, _, _, _, _, _, _, _, _ = get_wp_Cp_Lp(fdata, ydata, fscale=fscale, LJ0=1e-9)"
   ]
  },
  {
   "cell_type": "code",
   "execution_count": null,
   "metadata": {},
   "outputs": [],
   "source": [
    "wp0"
   ]
  },
  {
   "cell_type": "code",
   "execution_count": null,
   "metadata": {},
   "outputs": [],
   "source": [
    "chis[0, 0, :]"
   ]
  },
  {
   "cell_type": "code",
   "execution_count": null,
   "metadata": {},
   "outputs": [],
   "source": [
    "fig, ax = plt.subplots(1, 1, tight_layout=True)\n",
    "cycle = plt.rcParams['axes.prop_cycle'].by_key()['color']\n",
    "clen = len(cycle)\n",
    "for idx, wppp in enumerate(wps):\n",
    "    ax.plot(LJs/1e-9, wppp/(2*np.pi*fscale),\n",
    "            'o', label=r'Mode-%d' % (idx + 1),\n",
    "            color=cycle[idx%clen])\n",
    "    ax.plot(LJs/1e-9, [wp0[idx]/(2*np.pi*fscale)] * len(LJs),\n",
    "            '--', color=cycle[idx%clen])\n",
    "ax.set_xlabel(r'$L_{J_0}$ [nH]', fontsize=fsize)\n",
    "ax.set_ylabel(r'Eigenfrequencies [GHz]', fontsize=fsize)\n",
    "set_axes_fonts(ax, fsize)\n",
    "ax.set_xscale('log')\n",
    "fig.savefig(f'../figs/modes_term_bbq_inductive_50um_{dstr}.pdf', format='pdf')"
   ]
  },
  {
   "cell_type": "markdown",
   "metadata": {},
   "source": [
    "## Blackbox participation extraction"
   ]
  },
  {
   "cell_type": "code",
   "execution_count": null,
   "metadata": {},
   "outputs": [],
   "source": [
    "fig, ax = plt.subplots(1, 1, tight_layout=True)\n",
    "cycle = plt.rcParams['axes.prop_cycle'].by_key()['color']\n",
    "clen = len(cycle)\n",
    "for idx, pp in enumerate(ps):\n",
    "    ax.plot(LJs/1e-9, pp,\n",
    "            'o-', label=r'Mode-%d' % (idx + 1),\n",
    "            color=cycle[idx%clen])\n",
    "ax.set_xlabel(r'$L_{J_0}$ [nH]', fontsize=fsize)\n",
    "ax.set_ylabel('Participations', fontsize=fsize)\n",
    "set_axes_fonts(ax, fsize)\n",
    "ax.set_xscale('log')\n",
    "ax.set_yscale('log')\n",
    "fig.savefig(f'../figs/participations_term_bbq_inductive_50um_{dstr}.pdf',\n",
    "            format='pdf')"
   ]
  },
  {
   "cell_type": "markdown",
   "metadata": {},
   "source": [
    "## $\\frac{g}{\\Delta}$ From Blackbox"
   ]
  },
  {
   "cell_type": "code",
   "execution_count": null,
   "metadata": {},
   "outputs": [],
   "source": [
    "fig, ax = plt.subplots(1, 1, tight_layout=True)\n",
    "cycle = plt.rcParams['axes.prop_cycle'].by_key()['color']\n",
    "clen = len(cycle)\n",
    "for idx, gg in enumerate(gDs):\n",
    "    ax.plot(LJs/1e-9, gg,\n",
    "            'o-', label=r'Mode-%d' % (idx + 1),\n",
    "            color=cycle[idx%clen])\n",
    "ax.set_xlabel(r'$L_{J_0}$ [nH]', fontsize=fsize)\n",
    "ax.set_ylabel(r'$g\\ /\\ \\Delta$', fontsize=fsize)\n",
    "set_axes_fonts(ax, fsize)\n",
    "ax.set_xscale('log')\n",
    "ax.set_yscale('log')\n",
    "fig.savefig(f'../figs/g_over_D_term_bbq_inductive_50um_{dstr}.pdf',\n",
    "            format='pdf')"
   ]
  },
  {
   "cell_type": "markdown",
   "metadata": {},
   "source": [
    "## $\\chi$ from Black box"
   ]
  },
  {
   "cell_type": "code",
   "execution_count": null,
   "metadata": {},
   "outputs": [],
   "source": [
    "fig, ax = plt.subplots(1, 1, tight_layout=True)\n",
    "chi_scale = 1e6\n",
    "chi_dict = {1e6: 'MHz', 1e9 : 'GHz'}\n",
    "chi_str = chi_dict[chi_scale]\n",
    "cycle = plt.rcParams['axes.prop_cycle'].by_key()['color']\n",
    "clen = len(cycle)\n",
    "M1, M2 = [Nmodes, Nmodes]\n",
    "for idx1 in range(M1):\n",
    "    for idx2 in range(M2):\n",
    "        if idx1 != idx2:\n",
    "            ax.plot(LJs/1e-9, np.abs(chis[idx1, idx2, :])/chi_scale,\n",
    "            'o-', label=r'$|\\chi_{%d, %d}|$' % (idx1, idx2),\n",
    "            color=cycle[(idx1*Nmodes+idx2)%clen])\n",
    "ax.set_xlabel(r'$L_{J_0}$ [nH]', fontsize=fsize)\n",
    "ax.set_ylabel(r'$|\\chi_{i, j}|$ [%s]' % (chi_str),\n",
    "              fontsize=fsize)\n",
    "set_axes_fonts(ax, fsize)\n",
    "ax.set_xscale('log')\n",
    "ax.set_yscale('log')\n",
    "fig.savefig(f'../figs/chis_bbq_inductive_50um_{dstr}.pdf',\n",
    "           format='pdf')"
   ]
  },
  {
   "cell_type": "markdown",
   "metadata": {},
   "source": [
    "## $\\alpha$ from Black box"
   ]
  },
  {
   "cell_type": "code",
   "execution_count": null,
   "metadata": {},
   "outputs": [],
   "source": [
    "fig, ax = plt.subplots(1, 1, tight_layout=True)\n",
    "chi_scale = 1e6\n",
    "chi_dict = {1e6: 'MHz', 1e9 : 'GHz'}\n",
    "chi_str = chi_dict[chi_scale]\n",
    "cycle = plt.rcParams['axes.prop_cycle'].by_key()['color']\n",
    "clen = len(cycle)\n",
    "M1, M2 = [Nmodes, Nmodes]\n",
    "for idx1 in range(M1):\n",
    "        ax.plot(LJs/1e-9, \n",
    "                0.5 * np.abs(chis[idx1, idx1, :])/chi_scale,\n",
    "                'o-', label=r'$|\\alpha_{%d}|$' % (idx1),\n",
    "                color=cycle[idx1%clen])\n",
    "ax.set_xlabel(r'$L_{J_0}$ [nH]', fontsize=fsize)\n",
    "ax.set_ylabel(r'$|\\alpha|$ [%s]' % (chi_str),\n",
    "              fontsize=fsize)\n",
    "set_axes_fonts(ax, fsize)\n",
    "ax.set_xscale('log')\n",
    "ax.set_yscale('log')\n",
    "fig.savefig(f'../figs/alpha_bbq_inductive_50um_{dstr}.pdf',\n",
    "           format='pdf')"
   ]
  },
  {
   "cell_type": "markdown",
   "metadata": {},
   "source": [
    "## Mode Capacitances, Inductances"
   ]
  },
  {
   "cell_type": "code",
   "execution_count": null,
   "metadata": {},
   "outputs": [],
   "source": [
    "fig, ax = plt.subplots(1, 1, tight_layout=True)\n",
    "cycle = plt.rcParams['axes.prop_cycle'].by_key()['color']\n",
    "clen = len(cycle)\n",
    "for idx, Lppp in enumerate(Lps):\n",
    "    ax.plot(LJs/1e-9, Lppp / 1e-9,\n",
    "            'o-',color=cycle[idx%clen])\n",
    "ax.set_xlabel(r'$L_{J_0}$ [nH]', fontsize=fsize)\n",
    "ax.set_ylabel(r'$L_p$ [nH]', fontsize=fsize)\n",
    "set_axes_fonts(ax, fsize)\n",
    "ax.set_xscale('log')\n",
    "ax.set_yscale('log')\n",
    "fig.savefig(f'../figs/Lp_term_bbq_inductive_50um_{dstr}.pdf',\n",
    "            format='pdf')"
   ]
  },
  {
   "cell_type": "code",
   "execution_count": null,
   "metadata": {},
   "outputs": [],
   "source": [
    "fig, ax = plt.subplots(1, 1, tight_layout=True)\n",
    "cycle = plt.rcParams['axes.prop_cycle'].by_key()['color']\n",
    "clen = len(cycle)\n",
    "for idx, Cppp in enumerate(Cps):\n",
    "    ax.plot(LJs/1e-9, Cppp / 1e-15,\n",
    "            'o-',color=cycle[idx%clen])\n",
    "ax.set_xlabel(r'$L_{J_0}$ [nH]', fontsize=fsize)\n",
    "ax.set_ylabel(r'$C_p$ [fF]', fontsize=fsize)\n",
    "set_axes_fonts(ax, fsize)\n",
    "ax.set_xscale('log')\n",
    "ax.set_yscale('log')\n",
    "fig.savefig(f'../figs/Cp_term_bbq_inductive_50um_{dstr}.pdf',\n",
    "            format='pdf')"
   ]
  },
  {
   "cell_type": "markdown",
   "metadata": {},
   "source": [
    "## Mode Impedances"
   ]
  },
  {
   "cell_type": "code",
   "execution_count": null,
   "metadata": {},
   "outputs": [],
   "source": [
    "fig, ax = plt.subplots(1, 1, tight_layout=True)\n",
    "cycle = plt.rcParams['axes.prop_cycle'].by_key()['color']\n",
    "clen = len(cycle)\n",
    "for idx, Cppp in enumerate(Cps):\n",
    "    ax.plot(LJs/1e-9, np.sqrt(Lps[idx] / Cppp),\n",
    "            'o-',color=cycle[idx%clen])\n",
    "ax.plot(LJs / 1e-9, [50.] * len(LJs), 'k--')\n",
    "ax.set_xlabel(r'$L_{J_0}$ [nH]', fontsize=fsize)\n",
    "ax.set_ylabel(r'$Z_p=\\sqrt{L_p/C_p}$ [$\\Omega$]', fontsize=fsize)\n",
    "set_axes_fonts(ax, fsize)\n",
    "ax.set_xscale('log')\n",
    "ax.set_yscale('log')\n",
    "fig.savefig(f'../figs/Zp_term_bbq_inductive_50um_{dstr}.pdf',\n",
    "            format='pdf')"
   ]
  },
  {
   "cell_type": "code",
   "execution_count": null,
   "metadata": {},
   "outputs": [],
   "source": []
  },
  {
   "cell_type": "code",
   "execution_count": null,
   "metadata": {},
   "outputs": [],
   "source": []
  }
 ],
 "metadata": {
  "kernelspec": {
   "display_name": "Python 3 (ipykernel)",
   "language": "python",
   "name": "python3"
  },
  "language_info": {
   "codemirror_mode": {
    "name": "ipython",
    "version": 3
   },
   "file_extension": ".py",
   "mimetype": "text/x-python",
   "name": "python",
   "nbconvert_exporter": "python",
   "pygments_lexer": "ipython3",
   "version": "3.9.7"
  },
  "varInspector": {
   "cols": {
    "lenName": 16,
    "lenType": 16,
    "lenVar": 40
   },
   "kernels_config": {
    "python": {
     "delete_cmd_postfix": "",
     "delete_cmd_prefix": "del ",
     "library": "var_list.py",
     "varRefreshCmd": "print(var_dic_list())"
    },
    "r": {
     "delete_cmd_postfix": ") ",
     "delete_cmd_prefix": "rm(",
     "library": "var_list.r",
     "varRefreshCmd": "cat(var_dic_list()) "
    }
   },
   "types_to_exclude": [
    "module",
    "function",
    "builtin_function_or_method",
    "instance",
    "_Feature"
   ],
   "window_display": false
  }
 },
 "nbformat": 4,
 "nbformat_minor": 4
}
