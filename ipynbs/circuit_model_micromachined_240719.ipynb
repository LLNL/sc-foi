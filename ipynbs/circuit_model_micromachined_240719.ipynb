{
 "cells": [
  {
   "cell_type": "markdown",
   "id": "cdd96ffd",
   "metadata": {},
   "source": [
    "# Cavity Circuit Representations for the two micromachined cavity coupler"
   ]
  },
  {
   "cell_type": "code",
   "execution_count": 1,
   "id": "21e1302e",
   "metadata": {},
   "outputs": [],
   "source": [
    "import numpy as np\n",
    "import scipy.linalg\n",
    "import matplotlib.pyplot as plt\n",
    "%matplotlib inline\n",
    "\n",
    "import datetime"
   ]
  },
  {
   "cell_type": "markdown",
   "id": "e33c5321",
   "metadata": {},
   "source": [
    "## Eigenvector / eigenvalue calculations"
   ]
  },
  {
   "cell_type": "code",
   "execution_count": 2,
   "id": "d7d11803",
   "metadata": {},
   "outputs": [],
   "source": [
    "def two_cavity_one_coupler(L, C, Lc, Cc, LJ, debug=False):\n",
    "    \"\"\"\n",
    "    Compute the eigenvalues and eigenvectors for the three stage\n",
    "    circuit describing the two lowest modes of the cavity + JJ\n",
    "    \"\"\"\n",
    "    # Inductance matrix\n",
    "    LJtot = 1. / LJ + 1. / Lc\n",
    "    L11 = 1. / L[0] + LJtot\n",
    "    L22 = 1. / L[1] + LJtot\n",
    "    Lmat = np.array([[L11, -LJtot], \n",
    "                     [-LJtot, L22]])\n",
    "    \n",
    "    # Capacitance matrix\n",
    "    Cmat = np.array([[C[0] + Cc,        -Cc],\n",
    "                    [-Cc,         C[1] + Cc]])\n",
    "    \n",
    "    # Solve the generalized eigenvalue problem\n",
    "    # A * x = l * B * x\n",
    "    # L^-1 * x - w^2 * C * x\n",
    "    evals, evecs = scipy.linalg.eig(Lmat, b=Cmat)\n",
    "    \n",
    "    # Print the L^-1 and C matrices\n",
    "    if debug:\n",
    "        print(f'L^-1:\\n{Lmat}')\n",
    "        print(f'C:\\n{Cmat}')\n",
    "    \n",
    "    return np.real(np.sqrt(evals)), evecs"
   ]
  },
  {
   "cell_type": "code",
   "execution_count": 3,
   "id": "dc65665a-9b6b-44e7-a371-4922aacde8fb",
   "metadata": {},
   "outputs": [],
   "source": [
    "def two_cavity_one_coupler_series(L, C, Ls, Cs, LJ, CJ, debug=False,\n",
    "                                 coupling : str = 'both'):\n",
    "    \"\"\"\n",
    "    Compute the eigenvalues and eigenvectors for the three stage\n",
    "    circuit describing the two lowest modes of the cavity + JJ\n",
    "    \"\"\"\n",
    "    if coupling == 'both':\n",
    "        Lsterm = 1. / Ls\n",
    "        Csterm = Cs\n",
    "    elif coupling == 'C':\n",
    "        Lsterm = 0\n",
    "        Csterm = Cs\n",
    "    elif coupling == 'L':\n",
    "        Lsterm = 1. / Ls\n",
    "        Csterm = 0\n",
    "    else:\n",
    "        raise ValueError(f'coupling ({coupling}) not recognized.')\n",
    "        \n",
    "    # Inductance matrix\n",
    "    LJtot = 1. / LJ + Lsterm\n",
    "    L11 = 1. / L[0] + LJtot\n",
    "    L22 = 1. / L[1] + LJtot\n",
    "    L44 = 1. / L[1] + Lsterm\n",
    "    Lmat = np.array([[L11,    -LJtot,     0,        0],\n",
    "                     [-LJtot,  L22,   -LJtot,       0],\n",
    "                     [0,     -LJtot,    L22, -Lsterm],\n",
    "                     [0,        0,     -Lsterm,    L44]])\n",
    "    \n",
    "    # Capacitance matrix\n",
    "    C11 = C[0] + Csterm\n",
    "    C22 = Csterm + CJ\n",
    "    C44 = C[1] + Csterm\n",
    "    Ctot = Csterm + CJ\n",
    "    Cmat = np.array([[C11,  -Ctot,    0,         0],\n",
    "                    [-Ctot,  C22,  -Ctot,        0],\n",
    "                    [0,     -Ctot,   C22,  -Csterm],\n",
    "                    [0,        0,   -Csterm,   C44]])\n",
    "    \n",
    "    # Solve the generalized eigenvalue problem\n",
    "    # A * x = l * B * x\n",
    "    # L^-1 * x - w^2 * C * x\n",
    "    evals, evecs = scipy.linalg.eig(Lmat, b=Cmat)\n",
    "    \n",
    "    # Print the L^-1 and C matrices\n",
    "    if debug:\n",
    "        print(f'L^-1:\\n{Lmat}')\n",
    "        print(f'C:\\n{Cmat}')\n",
    "    \n",
    "    return np.real(np.sqrt(evals)), evecs"
   ]
  },
  {
   "cell_type": "code",
   "execution_count": 4,
   "id": "14313dce-2bd9-43d7-a14b-21901b8ba92b",
   "metadata": {},
   "outputs": [],
   "source": [
    "L = np.array([10e-9, 10e-9])\n",
    "C = np.array([200e-15, 200e-15])\n",
    "Cs = 50e-15\n",
    "CJ = 2e-15\n",
    "LJ = 1e-9\n",
    "Ls = 4e-9\n",
    "ws, evs = two_cavity_one_coupler_series(L, C, Ls, Cs, LJ, CJ)\n",
    "# ws, evs = two_cavity_one_coupler(L, C, Lc, Cc, LJ)"
   ]
  },
  {
   "cell_type": "code",
   "execution_count": 5,
   "id": "887c1163-9ace-4eb2-9f15-a809272b72d3",
   "metadata": {},
   "outputs": [
    {
     "data": {
      "text/plain": [
       "array([25.39431618, 18.81225134, 18.81225134,  5.93569578])"
      ]
     },
     "execution_count": 5,
     "metadata": {},
     "output_type": "execute_result"
    }
   ],
   "source": [
    "ws / (2*np.pi*1e9)"
   ]
  },
  {
   "cell_type": "markdown",
   "id": "e615d566",
   "metadata": {},
   "source": [
    "## Plotting macros"
   ]
  },
  {
   "cell_type": "code",
   "execution_count": 6,
   "id": "22ed2a15",
   "metadata": {},
   "outputs": [],
   "source": [
    "def set_axes_fonts(ax, fsize):\n",
    "    \"\"\"\n",
    "    Set axes font sizes because it should be abstracted away\n",
    "    \"\"\"\n",
    "    for tick in ax.get_xticklabels():\n",
    "        tick.set_fontsize(fsize)\n",
    "    for tick in ax.get_yticklabels():\n",
    "        tick.set_fontsize(fsize)"
   ]
  },
  {
   "cell_type": "code",
   "execution_count": 7,
   "id": "314ae9a5",
   "metadata": {},
   "outputs": [],
   "source": [
    "def set_xaxis_rot(ax, angle=45):\n",
    "    \"\"\"\n",
    "    Rotate the x-axis labels\n",
    "    \"\"\"\n",
    "        \n",
    "    for tick in ax.get_xticklabels():\n",
    "        tick.set_rotation(angle)"
   ]
  },
  {
   "cell_type": "code",
   "execution_count": 8,
   "id": "801f6663",
   "metadata": {},
   "outputs": [],
   "source": [
    "def set_leg_outside(ax, fsize):\n",
    "    \"\"\"\n",
    "    Sets the legend location outside\n",
    "    \"\"\"\n",
    "    \n",
    "    # Shrink current axis by 20%\n",
    "    box = ax.get_position()\n",
    "    ax.set_position([box.x0, box.y0, box.width * 0.8, box.height])\n",
    "    \n",
    "    # Put a legend to the right of the current axis\n",
    "    hdls, legs = ax.get_legend_handles_labels()\n",
    "    leg = ax.legend(hdls, legs, loc='center left', bbox_to_anchor=(1, 0.5), \\\n",
    "                    fontsize=fsize, framealpha=0.)\n",
    "\n",
    "    return leg"
   ]
  },
  {
   "cell_type": "markdown",
   "id": "135e1c8a",
   "metadata": {},
   "source": [
    "## Inspect the eigenvalues and eigenvectors vs. $L_J$"
   ]
  },
  {
   "cell_type": "markdown",
   "id": "b0fb0495-b6b9-468e-befa-fdb13221af3d",
   "metadata": {},
   "source": [
    "### Eigenvectors vs. $\\phi$"
   ]
  },
  {
   "cell_type": "code",
   "execution_count": 19,
   "id": "c095a582",
   "metadata": {},
   "outputs": [],
   "source": [
    "# Start the figure\n",
    "fig, ax = plt.subplots(1, 2, figsize=(16, 4), tight_layout=True)\n",
    "fsize = 20; lsize = 16\n",
    "dstr = datetime.datetime.today().strftime('%y%m%d')\n",
    "\n",
    "L = np.array([10e-9, 10e-9])\n",
    "C = np.array([200e-15, 200e-15])\n",
    "Cc = 50e-15\n",
    "Lc = 4e-9\n",
    "# ws, evs = two_cavity_one_coupler(L, C, Lc, Cc, LJ)\n",
    "LJs = np.logspace(-2, 2, 5) * 1e-9\n",
    "\n",
    "# Compute the eigenvalues and eigenvectors on-the-fly\n",
    "for idx, LJ in enumerate(LJs):\n",
    "    evals, evecs = two_cavity_one_coupler(L, C, Lc, Cc, LJ)\n",
    "    for cidx in range(2):\n",
    "        ax[cidx].plot([1, 2],\n",
    "                     evecs[:, cidx], label=r'$L_J$ = %.2f nH' % (LJ / 1e-9))\n",
    "\n",
    "        ax[cidx].set_xlabel(r'$\\phi$', fontsize=fsize)\n",
    "        ax[cidx].set_ylabel(r'$\\xi_{%d}$' % (cidx + 1), fontsize=fsize)\n",
    "        set_axes_fonts(ax[cidx], fsize)\n",
    "        ax[cidx].set_ylim([-1, 1])\n",
    "        \n",
    "set_leg_outside(ax[1], lsize)\n",
    "fig.savefig(f'../figs/evecs_three_stage_{dstr}.pdf',\n",
    "           format='pdf')"
   ]
  },
  {
   "cell_type": "markdown",
   "id": "44b577b7-08aa-4b99-9a91-de028562620a",
   "metadata": {},
   "source": [
    "### Eigenvalues vs. $L_J$"
   ]
  },
  {
   "cell_type": "code",
   "execution_count": 10,
   "id": "e57b2b7c",
   "metadata": {
    "jupyter": {
     "source_hidden": true
    }
   },
   "outputs": [],
   "source": [
    "# Compute the eigenvalues\n",
    "L = np.array([10e-9, 10e-9])\n",
    "C = np.array([200e-15, 200e-15])\n",
    "Cc = 500e-15\n",
    "LJ = 1e-9\n",
    "Lc = 4e-9\n",
    "LJsfull = np.logspace(np.log10(0.1), np.log10(100), 25) * 1e-9\n",
    "evs = np.zeros([2, len(LJsfull)])\n",
    "for Lidx, LJ in enumerate(LJsfull):\n",
    "    evv, _ = two_cavity_one_coupler(L, C, Lc, Cc, LJ)\n",
    "    evs[:, Lidx] = np.sort(evv)\n",
    "    \n",
    "# Plot the eigenvalues\n",
    "fig_ev, ax_ev = plt.subplots(1, 1, tight_layout=True)\n",
    "for widx, w in enumerate(evs):\n",
    "    label = f'Mode-{widx+1}'\n",
    "    ax_ev.plot(LJsfull / 1e-9, w / (2*np.pi*1e9), 'o-', label=label)\n",
    "ax_ev.set_xlabel(r'$L_J$ [nH]', fontsize=fsize)\n",
    "ax_ev.set_ylabel(r'Eigenfrequencies [GHz]', fontsize=fsize)\n",
    "ax_ev.set_xscale('log')\n",
    "#ax_ev.set_yscale('log')\n",
    "# ax_ev.set_ylim([0.3 * fa, 1.1 * fb])\n",
    "# ax_ev.axhline(y=0, ls='--', color='k')\n",
    "# ax_ev.axvline(x=1, ls=':', color='k')\n",
    "# ax_ev.axhline(y=fa, ls='--', color='r')\n",
    "set_axes_fonts(ax_ev, fsize)\n",
    "set_leg_outside(ax_ev, lsize)\n",
    "fig_ev.savefig(f'../figs/evals_three_stage_{dstr}.pdf',\n",
    "              format='pdf')"
   ]
  },
  {
   "cell_type": "markdown",
   "id": "a00bd2ab-eb4c-4cfb-86cd-fae14779a413",
   "metadata": {},
   "source": [
    "## Plot the series model results"
   ]
  },
  {
   "cell_type": "markdown",
   "id": "e081e3cc-b6a5-4162-a80b-7255d0e86da2",
   "metadata": {},
   "source": [
    "### Capacitive and inductive coupling + sliders"
   ]
  },
  {
   "cell_type": "code",
   "execution_count": 11,
   "id": "7472ccef-bd6b-4a00-b813-2c82b985d251",
   "metadata": {},
   "outputs": [
    {
     "data": {
      "text/plain": [
       "0"
      ]
     },
     "execution_count": 11,
     "metadata": {},
     "output_type": "execute_result"
    }
   ],
   "source": [
    "%matplotlib notebook\n",
    "# run again\n",
    "%matplotlib notebook\n",
    "%matplotlib inline\n",
    "fsize = 20; lsize = 16\n",
    "from importlib import reload\n",
    "import matplotlib.pyplot as plt\n",
    "reload(plt)\n",
    "from matplotlib.widgets import Button, Slider\n",
    "\n",
    "fig, ax = plt.subplots(1, 1) #, tight_layout=True)\n",
    "fig.subplots_adjust(bottom=0.35)\n",
    "\n",
    "# Compute the eigenvalues\n",
    "L = np.array([10e-9, 10e-9])\n",
    "C = np.array([200e-15, 200e-15])\n",
    "Cs = 700e-15\n",
    "LJ = 1e-9\n",
    "Ls = 5e-9\n",
    "CJ = 2e-15\n",
    "coupling = 'both'\n",
    "LJsfull = np.logspace(np.log10(0.1), np.log10(100), 25) * 1e-9\n",
    "evs0 = np.zeros([len(LJsfull), 4])\n",
    "for Lidx, LJ in enumerate(LJsfull):\n",
    "    evv, _ = two_cavity_one_coupler_series(L, C, Ls, Cs, LJ, CJ,\n",
    "                                           coupling=coupling)\n",
    "    evs0[Lidx, :] = np.sort(evv)\n",
    "    evs = np.copy(evs0)\n",
    "lines = ax.plot(LJsfull / 1e-9, evs / (2*np.pi*1e9), 'o-')\n",
    "ax.set_xlabel(r'$L_J$ [nH]', fontsize=fsize)\n",
    "ax.set_ylabel(r'Eigenfrequencies [GHz]', fontsize=fsize)\n",
    "ax.set_xscale('log')\n",
    "set_axes_fonts(ax, fsize)\n",
    "\n",
    "# Position the sliders such that they are stacked vertically\n",
    "ax_L = fig.add_axes([0.25, 0.25, 0.65, 0.03])\n",
    "ax_C = fig.add_axes([0.25, 0.2, 0.65, 0.03])\n",
    "ax_Ls = fig.add_axes([0.25, 0.15, 0.65, 0.03])\n",
    "ax_Cs = fig.add_axes([0.25, 0.1, 0.65, 0.03])\n",
    "ax_CJ = fig.add_axes([0.25, 0.05, 0.65, 0.03])\n",
    "\n",
    "# create the sliders\n",
    "Lslider = Slider(\n",
    "    ax_L, r'$L_{1,2}$', 0.01e-9, 50e-9,\n",
    "    valinit=10e-9, valstep=0.01e-9,\n",
    "    color=\"blue\"\n",
    ")\n",
    "Cslider = Slider(\n",
    "    ax_C, r'$C_{1,2}$', 2e-15, 2000e-15,\n",
    "    valinit=200e-15, valstep=1e-15,\n",
    "    color=\"blue\"\n",
    ")\n",
    "Lsslider = Slider(\n",
    "    ax_Ls, r'$L_s$', 0.01e-9, 50e-9,\n",
    "    valinit=5e-9, valstep=0.01e-9,\n",
    "    color=\"blue\"\n",
    ")\n",
    "Csslider = Slider(\n",
    "    ax_Cs, r'$C_s$', 2e-15, 2000e-15,\n",
    "    valinit=700e-15, valstep=1e-15,\n",
    "    color=\"blue\"\n",
    ")\n",
    "CJslider = Slider(\n",
    "    ax_CJ, r'$C_J$', 1e-15, 20e-15,\n",
    "    valinit=2e-15, valstep=1e-15,\n",
    "    color=\"blue\"\n",
    ")\n",
    "\n",
    "def update(val):\n",
    "    for Lidx, LJ in enumerate(LJsfull):\n",
    "        evv, _ = two_cavity_one_coupler_series(Lslider.val, Cslider.val,\n",
    "                                               Lsslider.val, Csslider.val,\n",
    "                                               LJ, CJslider.val,\n",
    "                                               coupling=coupling)\n",
    "        evs[Lidx, :] = np.sort(evv)\n",
    "    for idx, line in enumerate(lines):\n",
    "        line.set_ydata(evv[:, idx])\n",
    "    fig.canvas.draw_idle()\n",
    "\n",
    "Lslider.on_changed(update)\n",
    "Cslider.on_changed(update)\n",
    "Lsslider.on_changed(update)\n",
    "Csslider.on_changed(update)\n",
    "CJslider.on_changed(update)\n",
    "\n",
    "ax_reset = fig.add_axes([0.8, 0.025, 0.1, 0.04])\n",
    "button = Button(ax_reset, 'Reset', hovercolor='0.975')\n",
    "\n",
    "def reset(event):\n",
    "    Lslider.reset()\n",
    "    Cslider.reset()\n",
    "    Lsslider.reset()\n",
    "    Csslider.reset()\n",
    "    CJslider.reset()\n",
    "    l.set_ydata(evs0)\n",
    "button.on_clicked(reset)"
   ]
  },
  {
   "cell_type": "code",
   "execution_count": 12,
   "id": "b2dca7e9-7260-4671-af25-253426de0b49",
   "metadata": {},
   "outputs": [
    {
     "data": {
      "text/plain": [
       "[<matplotlib.lines.Line2D at 0x2ba30841130>,\n",
       " <matplotlib.lines.Line2D at 0x2ba2df78560>,\n",
       " <matplotlib.lines.Line2D at 0x2ba30841220>,\n",
       " <matplotlib.lines.Line2D at 0x2ba308412e0>]"
      ]
     },
     "execution_count": 12,
     "metadata": {},
     "output_type": "execute_result"
    }
   ],
   "source": [
    "lines"
   ]
  },
  {
   "cell_type": "markdown",
   "id": "e6b04367-43e9-4da3-81dd-561ff215cc08",
   "metadata": {},
   "source": [
    "### Capacitive and inductive coupling"
   ]
  },
  {
   "cell_type": "code",
   "execution_count": 13,
   "id": "352f9ecf-023d-4320-87e6-a101e535aed2",
   "metadata": {},
   "outputs": [],
   "source": [
    "# Compute the eigenvalues\n",
    "L = np.array([10e-9, 10e-9])\n",
    "C = np.array([200e-15, 200e-15])\n",
    "Cs = 700e-15\n",
    "LJ = 1e-9\n",
    "Ls = 5e-9\n",
    "CJ = 2e-15\n",
    "coupling = 'both'\n",
    "LJsfull = np.logspace(np.log10(0.1), np.log10(100), 25) * 1e-9\n",
    "evs = np.zeros([4, len(LJsfull)])\n",
    "for Lidx, LJ in enumerate(LJsfull):\n",
    "    evv, _ = two_cavity_one_coupler_series(L, C, Ls, Cs, LJ, CJ,\n",
    "                                           coupling=coupling)\n",
    "    evs[:, Lidx] = np.sort(evv)\n",
    "    \n",
    "# Plot the eigenvalues\n",
    "fig_ev, ax_ev = plt.subplots(1, 1, tight_layout=True)\n",
    "for widx, w in enumerate(evs):\n",
    "    label = f'Mode-{widx+1}'\n",
    "    ax_ev.plot(LJsfull / 1e-9, w / (2*np.pi*1e9), 'o-', label=label)\n",
    "ax_ev.set_xlabel(r'$L_J$ [nH]', fontsize=fsize)\n",
    "ax_ev.set_ylabel(r'Eigenfrequencies [GHz]', fontsize=fsize)\n",
    "ax_ev.set_xscale('log')\n",
    "#ax_ev.set_yscale('log')\n",
    "# ax_ev.set_ylim([0.3 * fa, 1.1 * fb])\n",
    "# ax_ev.axhline(y=0, ls='--', color='k')\n",
    "# ax_ev.axvline(x=1, ls=':', color='k')\n",
    "# ax_ev.axhline(y=fa, ls='--', color='r')\n",
    "set_axes_fonts(ax_ev, fsize)\n",
    "set_leg_outside(ax_ev, lsize)\n",
    "fig_ev.savefig(f'../figs/evals_three_stage_{dstr}.pdf',\n",
    "              format='pdf')"
   ]
  },
  {
   "cell_type": "markdown",
   "id": "82c87739-4e7f-41c1-80df-ffc192b7b5ce",
   "metadata": {},
   "source": [
    "### Capactive coupling"
   ]
  },
  {
   "cell_type": "code",
   "execution_count": 14,
   "id": "9d81459f-8b1f-4e55-b958-bd9d06f960eb",
   "metadata": {},
   "outputs": [],
   "source": [
    "# Compute the eigenvalues\n",
    "L = np.array([10e-9, 10e-9])\n",
    "C = np.array([200e-15, 200e-15])\n",
    "Cs = 700e-15\n",
    "LJ = 1e-9\n",
    "Ls = 5e-9\n",
    "CJ = 2e-15\n",
    "coupling = 'C'\n",
    "LJsfull = np.logspace(np.log10(0.1), np.log10(100), 25) * 1e-9\n",
    "evs = np.zeros([4, len(LJsfull)])\n",
    "for Lidx, LJ in enumerate(LJsfull):\n",
    "    evv, _ = two_cavity_one_coupler_series(L, C, Ls, Cs, LJ, CJ,\n",
    "                                           coupling=coupling)\n",
    "    evs[:, Lidx] = np.sort(evv)\n",
    "    \n",
    "# Plot the eigenvalues\n",
    "fig_ev, ax_ev = plt.subplots(1, 1, tight_layout=True)\n",
    "for widx, w in enumerate(evs):\n",
    "    label = f'Mode-{widx+1}'\n",
    "    ax_ev.plot(LJsfull / 1e-9, w / (2*np.pi*1e9), 'o-', label=label)\n",
    "ax_ev.set_xlabel(r'$L_J$ [nH]', fontsize=fsize)\n",
    "ax_ev.set_ylabel(r'Eigenfrequencies [GHz]', fontsize=fsize)\n",
    "ax_ev.set_xscale('log')\n",
    "#ax_ev.set_yscale('log')\n",
    "# ax_ev.set_ylim([0.3 * fa, 1.1 * fb])\n",
    "# ax_ev.axhline(y=0, ls='--', color='k')\n",
    "# ax_ev.axvline(x=1, ls=':', color='k')\n",
    "# ax_ev.axhline(y=fa, ls='--', color='r')\n",
    "set_axes_fonts(ax_ev, fsize)\n",
    "set_leg_outside(ax_ev, lsize)\n",
    "fig_ev.savefig(f'../figs/evals_three_stage_{dstr}.pdf',\n",
    "              format='pdf')"
   ]
  },
  {
   "cell_type": "markdown",
   "id": "2e662adb-a9be-4a83-810d-e002bd557771",
   "metadata": {},
   "source": [
    "### Inductive coupling"
   ]
  },
  {
   "cell_type": "code",
   "execution_count": 15,
   "id": "3e423804-557f-4120-a8df-912050804520",
   "metadata": {},
   "outputs": [],
   "source": [
    "# Compute the eigenvalues\n",
    "L = np.array([10e-9, 10e-9])\n",
    "C = np.array([200e-15, 200e-15])\n",
    "Cs = 70e-15\n",
    "Ls = 3e-9\n",
    "CJ = 5e-15\n",
    "coupling = 'L'\n",
    "LJsfull = np.logspace(np.log10(0.1), np.log10(100), 25) * 1e-9\n",
    "# LJsfull = np.linspace(1, 20, 50) * 1e-9\n",
    "evs = np.zeros([4, len(LJsfull)])\n",
    "for Lidx, LJ in enumerate(LJsfull):\n",
    "    evv, _ = two_cavity_one_coupler_series(L, C, Ls, Cs, LJ, CJ,\n",
    "                                           coupling=coupling)\n",
    "    evs[:, Lidx] = np.sort(evv)\n",
    "    \n",
    "# Plot the eigenvalues\n",
    "fig_ev, ax_ev = plt.subplots(1, 1, tight_layout=True)\n",
    "for widx, w in enumerate(evs):\n",
    "    label = f'Mode-{widx+1}'\n",
    "    ax_ev.plot(LJsfull / 1e-9, w / (2*np.pi*1e9), 'o-', label=label)\n",
    "ax_ev.set_xlabel(r'$L_J$ [nH]', fontsize=fsize)\n",
    "ax_ev.set_ylabel(r'Eigenfrequencies [GHz]', fontsize=fsize)\n",
    "ax_ev.set_xscale('log')\n",
    "#ax_ev.set_yscale('log')\n",
    "ax_ev.set_ylim([-1, 20])\n",
    "# ax_ev.axhline(y=0, ls='--', color='k')\n",
    "# ax_ev.axvline(x=1, ls=':', color='k')\n",
    "# ax_ev.axhline(y=fa, ls='--', color='r')\n",
    "set_axes_fonts(ax_ev, fsize)\n",
    "set_leg_outside(ax_ev, lsize)\n",
    "fig_ev.savefig(f'../figs/evals_three_stage_{dstr}.pdf',\n",
    "              format='pdf')"
   ]
  },
  {
   "cell_type": "markdown",
   "id": "2afde12d-9b5f-4e07-aee5-fc6f327dc7e5",
   "metadata": {},
   "source": [
    "### Eigenvectors of series inductively coupled"
   ]
  },
  {
   "cell_type": "code",
   "execution_count": 18,
   "id": "a07487c9-94a1-40c4-8413-adaef566e848",
   "metadata": {},
   "outputs": [
    {
     "name": "stdout",
     "output_type": "stream",
     "text": [
      "wa, wb: [9.18881492 9.18881492]\n",
      "wc: [71.17625434 22.5079079   7.11762543]\n"
     ]
    },
    {
     "data": {
      "text/plain": [
       "<matplotlib.legend.Legend at 0x2ba33cc67b0>"
      ]
     },
     "execution_count": 18,
     "metadata": {},
     "output_type": "execute_result"
    }
   ],
   "source": [
    "# Start the figure\n",
    "fig, ax = plt.subplots(2, 4, figsize=(36, 10), tight_layout=True)\n",
    "fsize = 20; lsize = 16\n",
    "dstr = datetime.datetime.today().strftime('%y%m%d')\n",
    "\n",
    "L = np.array([10e-9, 10e-9])\n",
    "C = np.array([30e-15, 30e-15])\n",
    "wab = 1. / np.sqrt(L * C)\n",
    "print(f'wa, wb: {wab / (1e9 * 2*np.pi)}')\n",
    "Cc = 50e-15\n",
    "Lc = 4e-9\n",
    "# ws, evs = two_cavity_one_coupler(L, C, Lc, Cc, LJ)\n",
    "LJs = np.logspace(-1, 1, 3) * 1e-9\n",
    "wc = 1. / np.sqrt(LJs * Cc)\n",
    "print(f'wc: {wc / (1e9 * 2*np.pi)}')\n",
    "\n",
    "# Compute the eigenvalues and eigenvectors on-the-fly\n",
    "for Lidx, LJ in enumerate(LJs):\n",
    "    _, evecs = two_cavity_one_coupler_series(L, C, Ls, Cs, LJ, CJ,\n",
    "                                           coupling=coupling)\n",
    "    for cidx in range(4):\n",
    "        ax[0, cidx].plot([1, 2, 3, 4],\n",
    "                      np.real(evecs[:, cidx]), label=r'$L_J$ = %.2f nH' % (LJ / 1e-9))\n",
    "\n",
    "        ax[0, cidx].set_xlabel(r'$\\phi$', fontsize=fsize)\n",
    "        ax[0, cidx].set_ylabel(r'$\\Re\\{\\xi_{%d}\\}$' % (cidx + 1), fontsize=fsize)\n",
    "        set_axes_fonts(ax[0, cidx], fsize)\n",
    "        ax[0, cidx].set_ylim([-1, 1])\n",
    "        \n",
    "#     for cidx in range(4):\n",
    "#         ax[1, cidx].plot([1, 2, 3, 4],\n",
    "#                       np.imag(evecs[:, cidx]), label=r'$L_J$ = %.2f nH' % (LJ / 1e-9))\n",
    "# \n",
    "#         ax[1, cidx].set_xlabel('$\\phi$', fontsize=fsize)\n",
    "#         ax[1, cidx].set_ylabel(r'$\\Im\\{\\xi_{%d}\\}$' % (cidx + 1), fontsize=fsize)\n",
    "#         set_axes_fonts(ax[1, cidx], fsize)\n",
    "#         ax[1, cidx].set_ylim([-1, 1])\n",
    "\n",
    "set_leg_outside(ax[0, 3], lsize)\n",
    "\n",
    "# Plot the eigenvalues\n",
    "coupling = 'L'\n",
    "LJsfull = np.logspace(np.log10(0.1), np.log10(100), 25) * 1e-9\n",
    "# LJsfull = np.linspace(1, 20, 50) * 1e-9\n",
    "evs = np.zeros([4, len(LJsfull)])\n",
    "for Lidx, LJ in enumerate(LJsfull):\n",
    "    evv, _ = two_cavity_one_coupler_series(L, C, Ls, Cs, LJ, CJ,\n",
    "                                           coupling=coupling)\n",
    "    evs[:, Lidx] = np.sort(evv)\n",
    "    \n",
    "# Plot the eigenvalues\n",
    "for widx, w in enumerate(evs):\n",
    "    label = f'Mode-{widx+1}'\n",
    "    ax[1, 0].plot(LJsfull / 1e-9, w / (2*np.pi*1e9), 'o-', label=label)\n",
    "ax[1, 0].set_xlabel(r'$L_J$ [nH]', fontsize=fsize)\n",
    "ax[1, 0].set_ylabel(r'Eigenfrequencies [GHz]', fontsize=fsize)\n",
    "ax[1, 0].set_xscale('log')\n",
    "#ax_ev.set_yscale('log')\n",
    "ax[1, 0].set_ylim([-1, 20])\n",
    "# ax_ev.axhline(y=0, ls='--', color='k')\n",
    "# ax_ev.axvline(x=1, ls=':', color='k')\n",
    "# ax_ev.axhline(y=fa, ls='--', color='r')\n",
    "set_axes_fonts(ax[1, 0], fsize)\n",
    "set_leg_outside(ax[1, 3], lsize)"
   ]
  },
  {
   "cell_type": "code",
   "execution_count": null,
   "id": "e5ce51d3-5f73-47f2-af76-ed39ee778e52",
   "metadata": {},
   "outputs": [],
   "source": []
  },
  {
   "cell_type": "code",
   "execution_count": null,
   "id": "d71f1207-f04a-48f4-8fb1-fb9c3cd3bdd9",
   "metadata": {},
   "outputs": [],
   "source": []
  },
  {
   "cell_type": "code",
   "execution_count": 17,
   "id": "52bd58de",
   "metadata": {},
   "outputs": [],
   "source": [
    "# Compute the eigenvalues\n",
    "LJsfull = np.logspace(np.log10(0.1), np.log10(100), 25) * 1e-9\n",
    "evs = np.zeros([2, len(LJsfull)])\n",
    "for Lidx, LJ in enumerate(LJsfull):\n",
    "    evv, _ = two_cavity_one_coupler(L, C, Lc, Cc, LJ)\n",
    "    evs[:, Lidx] = np.sort(evv)\n",
    "    \n",
    "# Plot the eigenvalues\n",
    "fig_ev, ax_ev = plt.subplots(1, 1, tight_layout=True)\n",
    "ax_ev.plot(LJsfull / 1e-9, (evs[1] - evs[0]) / (1e6 * 2*np.pi), 'o-')\n",
    "ax_ev.set_xlabel(r'$L_J$ [nH]', fontsize=fsize)\n",
    "ax_ev.set_ylabel(r'Mode Splitting (1-2) [MHz]', fontsize=fsize)\n",
    "ax_ev.set_xscale('log')\n",
    "#ax_ev.set_yscale('log')\n",
    "# ax_ev.set_ylim([0, 10])\n",
    "set_axes_fonts(ax_ev, fsize)\n",
    "fig_ev.savefig(f'../figs/evals_three_stage_{dstr}.pdf',\n",
    "              format='pdf')"
   ]
  },
  {
   "cell_type": "code",
   "execution_count": null,
   "id": "e8991631-fccc-416c-8c99-cb5d40238955",
   "metadata": {},
   "outputs": [],
   "source": []
  }
 ],
 "metadata": {
  "kernelspec": {
   "display_name": "Python 3 (ipykernel)",
   "language": "python",
   "name": "python3"
  },
  "language_info": {
   "codemirror_mode": {
    "name": "ipython",
    "version": 3
   },
   "file_extension": ".py",
   "mimetype": "text/x-python",
   "name": "python",
   "nbconvert_exporter": "python",
   "pygments_lexer": "ipython3",
   "version": "3.12.7"
  }
 },
 "nbformat": 4,
 "nbformat_minor": 5
}
