{
 "cells": [
  {
   "cell_type": "code",
   "execution_count": 1,
   "metadata": {},
   "outputs": [
    {
     "name": "stderr",
     "output_type": "stream",
     "text": [
      "C:\\Users\\materise1\\AppData\\Local\\anaconda3\\envs\\tcav\\Lib\\site-packages\\pyepr_quantum-0.9.0-py3.12.egg\\pyEPR\\ansys.py:82: SyntaxWarning: invalid escape sequence '\\d'\n",
      "C:\\Users\\materise1\\AppData\\Local\\anaconda3\\envs\\tcav\\Lib\\site-packages\\pyepr_quantum-0.9.0-py3.12.egg\\pyEPR\\ansys.py:1583: SyntaxWarning: invalid escape sequence '\\$'\n",
      "C:\\Users\\materise1\\AppData\\Local\\anaconda3\\envs\\tcav\\Lib\\site-packages\\pyepr_quantum-0.9.0-py3.12.egg\\pyEPR\\ansys.py:82: SyntaxWarning: invalid escape sequence '\\d'\n",
      "C:\\Users\\materise1\\AppData\\Local\\anaconda3\\envs\\tcav\\Lib\\site-packages\\pyepr_quantum-0.9.0-py3.12.egg\\pyEPR\\ansys.py:1583: SyntaxWarning: invalid escape sequence '\\$'\n"
     ]
    }
   ],
   "source": [
    "'''\n",
    "Demos written and developed by: Andrew E. Oriani 2020 EMAIL: oriani@uchicago.edu\n",
    "\n",
    "'''\n",
    "from PyInventor import *\n",
    "import numpy as np\n",
    "from numpy import pi, cos, sin, sqrt, log\n",
    "import math\n",
    "import glob\n",
    "import time\n",
    "import datetime\n",
    "\n",
    "\n",
    "#Import plotting libraries for later\n",
    "import matplotlib\n",
    "from matplotlib import pyplot as plt\n",
    "%matplotlib inline\n",
    "\n",
    "from matplotlib import cm\n",
    "import matplotlib as mpl\n",
    "from matplotlib.colors import BoundaryNorm \n",
    "from matplotlib.ticker import MaxNLocator\n",
    "\n",
    "import pandas as pd\n",
    "\n",
    "import pyEPR\n",
    "from pyEPR import ansys as HFSS\n",
    "from pyEPR.core_distributed_analysis import CalcObject\n",
    "\n",
    "import scipy\n",
    "from scipy import constants as const\n",
    "import scipy.optimize\n",
    "import scipy.interpolate\n",
    "\n",
    "from pint import UnitRegistry\n",
    "ureg = UnitRegistry()\n",
    "Q = ureg.Quantity\n",
    "import os\n",
    "import re as regex\n",
    "\n",
    "# Field integrals code\n",
    "import sys\n",
    "sys.path.append('../python/src')\n",
    "import field_integrals as fint"
   ]
  },
  {
   "cell_type": "markdown",
   "metadata": {},
   "source": [
    "# Driven Modal"
   ]
  },
  {
   "cell_type": "code",
   "execution_count": 2,
   "metadata": {},
   "outputs": [
    {
     "name": "stdout",
     "output_type": "stream",
     "text": [
      "project_name: two_post_leaf_spring_gaps\n",
      "path: C:\\Users\\materise1\\tcav\\ipynbs\\HFSS\\two_post_leaf_spring_gaps.aedt\n",
      "project_name: two_post_leaf_spring_gaps\n",
      "path: C:\\Users\\materise1\\tcav\\ipynbs\\HFSS\\two_post_leaf_spring_gaps.aedt\n"
     ]
    }
   ],
   "source": [
    "'''\n",
    "Driven Modal Simulation Driver\n",
    "\n",
    "This sets up a standard eigenmode simulation without the qubit, just the bare cavity created above. It calculates\n",
    "the mode frequencies, loss (with boundary impedances set) and the electric and magnetic surface participation \n",
    "ratios (S_e, S_m)\n",
    "\n",
    "'''\n",
    "\n",
    "overwrite = False\n",
    "solution_type = 'driven_modal'\n",
    "ref_name = 'two_post_leaf_spring_gaps'\n",
    "project_name=f'{ref_name}'\n",
    "design_name=f'two_post_leaf_spring_jj_bbq'\n",
    "\n",
    "#use file location path:\n",
    "HFSS_path=os.getcwd()\n",
    "\n",
    "full_path=HFSS_path+'\\\\HFSS\\\\'+project_name+'.aedt'\n",
    "\n",
    "HFSS_app=HFSS.HfssApp()\n",
    "HFSS_desktop=HFSS_app.get_app_desktop()\n",
    "\n",
    "project=HFSS_desktop.open_project(full_path)\n",
    "\n",
    "if project==None:\n",
    "    project=HFSS_desktop.new_project()\n",
    "    project.save(full_path)\n",
    "    \n",
    "project.save(full_path)\n",
    "project.make_active()\n",
    "    \n",
    "if design_name in project.get_design_names():\n",
    "    if overwrite==True:\n",
    "        project.delete_design(design_name)\n",
    "        project.save()\n",
    "        \n",
    "        # Setup a driven modal design type\n",
    "        if solution_type == 'driven_modal':\n",
    "            EM_design=project.new_dm_design(design_name)\n",
    "        elif solution_type == 'eigenmode':\n",
    "            EM_design=project.new_em_design(design_name)\n",
    "        else:\n",
    "            raise ValueError(f'Solution type ({solution_type}) not recognized.')\n",
    "    else:\n",
    "        EM_design=project.get_design(design_name)\n",
    "        \n",
    "else:\n",
    "    if solution_type == 'driven_modal':\n",
    "        EM_design=project.new_dm_design(design_name)\n",
    "    elif solution_type == 'eigenmode':\n",
    "        EM_design=project.new_em_design(design_name)\n",
    "    else:\n",
    "        raise ValueError(f'Solution type ({solution_type}) not recognized.')\n",
    "        \n",
    "EM_design.make_active()\n",
    "model=HFSS.HfssModeler(EM_design)\n",
    "\n",
    "project=HFSS_desktop.open_project(full_path)\n",
    "\n",
    "if project==None:\n",
    "    project=HFSS_desktop.new_project()\n",
    "    project.save(full_path)\n",
    "    \n",
    "project.make_active()\n",
    "    \n",
    "if design_name in project.get_design_names():\n",
    "    if overwrite==True:\n",
    "        project.delete_design(design_name)\n",
    "        project.save()\n",
    "        EM_design=project.new_em_design(design_name)\n",
    "    else:\n",
    "        EM_design=project.get_design(design_name)\n",
    "        \n",
    "else:\n",
    "    EM_design=project.new_em_design(design_name)\n",
    "        \n",
    "EM_design.make_active()\n",
    "model=HFSS.HfssModeler(EM_design)"
   ]
  },
  {
   "cell_type": "markdown",
   "metadata": {},
   "source": [
    "## Interpolating sweep to identify resonances"
   ]
  },
  {
   "cell_type": "code",
   "execution_count": null,
   "metadata": {},
   "outputs": [],
   "source": [
    "f1 = 2; f2 = 15.; count = 20001\n",
    "\n",
    "# Define the sweep range\n",
    "DM_setup = None\n",
    "if not DM_setup:\n",
    "    DM_setup = EM_design.create_dm_setup()\n",
    "    "
   ]
  },
  {
   "cell_type": "code",
   "execution_count": null,
   "metadata": {},
   "outputs": [],
   "source": [
    "DM_setup.insert_sweep(f1, f2, count=count, save_fields=False, name='Interpolating_0', type='Interpolating')"
   ]
  },
  {
   "cell_type": "code",
   "execution_count": null,
   "metadata": {},
   "outputs": [],
   "source": [
    "DM_setup.solve()"
   ]
  },
  {
   "cell_type": "code",
   "execution_count": 2,
   "metadata": {},
   "outputs": [],
   "source": [
    "def set_axes_fonts(ax, fsize):\n",
    "    \"\"\"\n",
    "    Set axes font sizes because it should be abstracted away\n",
    "    \"\"\"\n",
    "    for tick in ax.get_xticklabels():\n",
    "        tick.set_fontsize(fsize)\n",
    "    for tick in ax.get_yticklabels():\n",
    "        tick.set_fontsize(fsize)\n",
    "\n",
    "def set_xaxis_rot(ax, angle=45):\n",
    "    \"\"\"\n",
    "    Rotate the x-axis labels\n",
    "    \"\"\"\n",
    "        \n",
    "    for tick in ax.get_xticklabels():\n",
    "        tick.set_rotation(angle)\n",
    "\n",
    "def set_leg_outside(ax, fsize):\n",
    "    \"\"\"\n",
    "    Sets the legend location outside\n",
    "    \"\"\"\n",
    "    \n",
    "    # Shrink current axis by 20%\n",
    "    box = ax.get_position()\n",
    "    ax.set_position([box.x0, box.y0, box.width * 0.8, box.height])\n",
    "    \n",
    "    # Put a legend to the right of the current axis\n",
    "    hdls, legs = ax.get_legend_handles_labels()\n",
    "    leg = ax.legend(hdls, legs, loc='center left', bbox_to_anchor=(1, 0.5), \\\n",
    "                    fontsize=fsize, framealpha=0.)\n",
    "\n",
    "    return leg"
   ]
  },
  {
   "cell_type": "code",
   "execution_count": 3,
   "metadata": {},
   "outputs": [],
   "source": [
    "def plot_2d_cmap(x, y, z, fname,                                                \n",
    "                 xstr='', ystr='',                                              \n",
    "                 tstr='', cbar_str='',                                          \n",
    "                 cmap=cm.viridis,\n",
    "                 xyscales={'x' : 'linear', 'y': 'linear'},\n",
    "                 interp_zeros=False,\n",
    "                interp_std_dev=10,\n",
    "                image_rot_angle=0,\n",
    "                xrot_angle=None,\n",
    "                norm_type='linear',\n",
    "                zref=None, \n",
    "                fsize=30,\n",
    "                tsize=36):\n",
    "    \"\"\"                                                                         \n",
    "    Plot 2D colormap data such that                                             \n",
    "                                                                                \n",
    "         -----------------------                                                \n",
    "         |                     |                                                \n",
    "         |                     |                                                \n",
    "    y    |          z          |                                                \n",
    "         |                     |                                                \n",
    "         |                     |                                                \n",
    "         -----------------------                                                \n",
    "                                                                                \n",
    "                    x                                                           \n",
    "                                                                                \n",
    "    Parameters:                                                                 \n",
    "    ----------                                                                  \n",
    "                                                                                \n",
    "    x, y:       independent variables                                           \n",
    "    z:          resulting data, z = z(x, y)                                     \n",
    "    fname:      output figure filename, relative path with file extension       \n",
    "    xstr:       x-axis label                                                    \n",
    "    ystr:       y-axis label                                                    \n",
    "    tstr:       title label                                                     \n",
    "    cbar_str:   lable for color bar                                             \n",
    "    cmap:       colormap to use on the 2D figure output                         \n",
    "                                                                                \n",
    "    \"\"\"\n",
    "    # Interpolate the data\n",
    "    if interp_zeros:\n",
    "        hot_pixels, z = fix_outlier_pixels(z, tolerance=interp_std_dev)\n",
    "    \n",
    "    # Setup the color map, normalizations, etc\n",
    "    if norm_type == 'linear':\n",
    "        norm = mpl.colors.Normalize(z.min(), z.max())\n",
    "    elif norm_type == 'log':\n",
    "        if zref:\n",
    "            norm = mpl.colors.LogNorm(min(zref), max(zref))\n",
    "        else:\n",
    "            norm = mpl.colors.Normalize(min(zref), max(zref))    \n",
    "    elif (norm_type == 'ref') and zref:\n",
    "        norm = mpl.colors.Normalize(min(zref), max(zref))\n",
    "    else:\n",
    "        raise ValueError(f'norm_type ({norm_type}) not recognized')                                         \n",
    "                                                                                \n",
    "    # Setup the figure and axes                                                 \n",
    "    fig, ax = plt.subplots(1, 1, figsize=(10, 8), tight_layout=True)\n",
    "    \n",
    "    # Set the scale bar and levels\n",
    "    if (norm_type == 'ref') and zref:\n",
    "        levels = MaxNLocator(nbins=20).tick_values(min(zref), max(zref))\n",
    "    else:\n",
    "        levels = MaxNLocator(nbins=20).tick_values(z.min(), z.max())\n",
    "    if image_rot_angle:\n",
    "        z = scipy.ndimage.rotate(z, image_rot_angle, reshape=True)\n",
    "    #plt1 = ax.imshow(z, cmap=cmap, norm=norm)\n",
    "    plt1 = ax.pcolormesh(x, y, z, cmap=cmap, norm=norm)\n",
    "    ax.set_xlabel(xstr, fontsize=fsize)                                         \n",
    "    ax.set_ylabel(ystr, fontsize=fsize)                                         \n",
    "    ax.set_title(tstr, fontsize=tsize)\n",
    "    \n",
    "    # Rotate the xlabels. Set both x and y labels to headers[1:]\n",
    "    ax.set_xscale(xyscales['x'])\n",
    "    ax.set_yscale(xyscales['y'])\n",
    "    if xrot_angle is not None:\n",
    "        set_xaxis_rot(ax, xrot_angle)\n",
    "                                                                                \n",
    "    # Set the axis tick labels to a reasonable size                             \n",
    "    set_axes_fonts(ax, fsize)                                                   \n",
    "                                                                                \n",
    "    # Set the color bar, offset the title slightly from top                     \n",
    "    cbar = fig.colorbar(plt1, ax=ax)                                            \n",
    "    cbar.ax.set_title(cbar_str, fontsize=fsize, y=1.025)                        \n",
    "    cbar.ax.tick_params(labelsize=fsize)                                        \n",
    "                                                                                \n",
    "    # Write the results to file\n",
    "    print(f'Writing {fname} ...')\n",
    "    fig.savefig(fname, format='pdf', transparent=True)                  "
   ]
  },
  {
   "cell_type": "markdown",
   "metadata": {},
   "source": [
    "### Get the interpolating sweep data to estimate resonance positions"
   ]
  },
  {
   "cell_type": "code",
   "execution_count": null,
   "metadata": {},
   "outputs": [],
   "source": [
    "fsweep_interp = HFSS.HfssFrequencySweep(DM_setup, 'Interpolating_0')\n",
    "\n",
    "report_im = fsweep_interp.create_report('Interpolating_0', expr='im(Y(LumpPort,LumpPort))')\n",
    "yim = report_im.get_arrays()"
   ]
  },
  {
   "cell_type": "code",
   "execution_count": null,
   "metadata": {},
   "outputs": [],
   "source": [
    "# Identify the zero crossings as resonances\n",
    "zero_xing_idxs = np.where(np.diff(np.sign(yim[1,:])) > 0)[0]\n",
    "resonances = yim[0,zero_xing_idxs]\n",
    "\n",
    "print(f'resonances: {resonances}')"
   ]
  },
  {
   "cell_type": "code",
   "execution_count": null,
   "metadata": {},
   "outputs": [],
   "source": [
    "# Plot the results, save the figure(s)\n",
    "fsize = 20\n",
    "fscale = 1e9\n",
    "#wp, Lp, Cp, Qp, fcpy, ycpy, yp, pl, pc, gD, chippp = \\\n",
    "#get_wp_Cp_Lp(fdata, ydata, LJ0=None, CJ0=None, fscale=1e9, use_Zq=False)\n",
    "%matplotlib inline\n",
    "fig, ax = plt.subplots(1, 1, tight_layout=True)\n",
    "ax.plot(yim[0,:], yim[1,:], '.-', label='Zero Crossings')\n",
    "ax.plot(resonances,\n",
    "        yim[1,zero_xing_idxs],\n",
    "        'o', label='Zero Crossings')\n",
    "# ax.set_xlim([5.28, 5.3])\n",
    "ax.set_ylim([-0.01, 0.01])\n",
    "ax.axhline(y=0, ls='--', color='k')\n",
    "# ax.plot(fdata, ydata.imag)\n",
    "set_xaxis_rot(ax, 45)\n",
    "ax.set_ylabel(r'Im $Y(\\omega)$', fontsize=fsize)\n",
    "ax.set_xlabel(r'Frequency [GHz]', fontsize=fsize)\n",
    "set_axes_fonts(ax, fsize)"
   ]
  },
  {
   "cell_type": "code",
   "execution_count": null,
   "metadata": {},
   "outputs": [],
   "source": [
    "resonances\n",
    "# [9.087715 9.66241 ]"
   ]
  },
  {
   "cell_type": "markdown",
   "metadata": {},
   "source": [
    "#### Bypass the interpolating sweep if frequencies already known"
   ]
  },
  {
   "cell_type": "code",
   "execution_count": null,
   "metadata": {},
   "outputs": [],
   "source": [
    "# resonances = np.array([ 6.0928,  6.1684,  6.1692,  6.2692,  7.3356,  7.3816,  7.4712,\n",
    "#        7.506 ,  9.3064,  9.3292,  9.588 ,  9.6076, 11.5804, 11.6684,\n",
    "#       11.7568, 11.95  , 12.604 , 12.6944, 12.8012, 12.8048])\n",
    "# resonances = np.array([ 6.0928,  6.1692,  6.2692,  7.3816,  7.4712,\n",
    "#        7.506 , 9.3292,  9.588 ,  9.6076, 11.5804, \n",
    "#       11.7568, 11.95, 12.6944, 12.8048])\n",
    "\n",
    "# Use half the minimum spacing between resonances as a the bandwidth\n",
    "#Nmodes = 10\n",
    "idxs = [0, 1]\n",
    "resonances = resonances[idxs]\n",
    "df = 0.8 * np.diff(np.hstack((f1, resonances, f2))).min()"
   ]
  },
  {
   "cell_type": "code",
   "execution_count": null,
   "metadata": {},
   "outputs": [],
   "source": [
    "df"
   ]
  },
  {
   "cell_type": "code",
   "execution_count": null,
   "metadata": {},
   "outputs": [],
   "source": [
    "resonances"
   ]
  },
  {
   "cell_type": "markdown",
   "metadata": {},
   "source": [
    "### Discrete sweep to resolve resonances"
   ]
  },
  {
   "cell_type": "code",
   "execution_count": null,
   "metadata": {},
   "outputs": [],
   "source": [
    "if solution_type == 'driven_modal':\n",
    "    # Setup the driven-modal simulation\n",
    "    if not DM_setup:\n",
    "        DM_setup = EM_design.create_dm_setup()\n",
    "    dd = datetime.datetime.today().strftime('%y%m%d')   \n",
    "    # Discrete count\n",
    "    count = 201\n",
    "    \n",
    "    ## This should resolve the issue of overlapping sweeps\n",
    "    ## We advance the left boundary by a small amount away\n",
    "    ## from the previous right boundary\n",
    "    dff = df / count\n",
    "    \n",
    "    # Identify resonances from interpolating sweep manually (for now)\n",
    "    ## Start at the first sweep frequency\n",
    "    f1r = f1\n",
    "    \n",
    "    # df  = 0.01 # 10 MHz window\n",
    "    # Iteratve over all resonances and shift the discrete\n",
    "    # sweep window from f1r to f2r\n",
    "    rlen = len(resonances)\n",
    "    fdata = np.array([])\n",
    "    ydata = np.array([])\n",
    "    for ridx, fr in enumerate(resonances):\n",
    "        try:\n",
    "            # First sweep from f1 to fr_j - df / 2\n",
    "            f2r = fr - df / 2\n",
    "            print(f'[{2*ridx} / {2*rlen}] Discrete sweep from {f1r} to {f2r} GHz ...')\n",
    "            DM_setup.insert_sweep(f1r, f2r,\n",
    "                                  count=count,\n",
    "                                  save_fields=True,\n",
    "                                  name=f'Discrete_Sweep_{2*ridx}',\n",
    "                                  type='Discrete')\n",
    "            DM_setup.solve()\n",
    "\n",
    "            # Get data from first sweep\n",
    "            print(f'Creating even reports ...')\n",
    "            fsweep = HFSS.HfssFrequencySweep(DM_setup, f'Discrete_Sweep_{2*ridx}')\n",
    "            report_re = fsweep.create_report(f'Discrete_Sweep_{2*ridx}', expr='re(Y(1,1))')\n",
    "            report_im = fsweep.create_report(f'Discrete_Sweep_{2*ridx}', expr='im(Y(1,1))')\n",
    "            yre = report_re.get_arrays()\n",
    "            yim = report_im.get_arrays()\n",
    "            fdata = np.hstack((fdata, yre[0,:]))\n",
    "            ydata = np.hstack((ydata, yre[1,:]+1j*yim[1,:]))    \n",
    "\n",
    "            # Backup data to file\n",
    "            print(f'Backing up even reports ...')\n",
    "            with open(f'../data/ydata_{dd}_sweep_{2*ridx}.csv', 'w') as fid:\n",
    "                fid.write('\\n'.join([f'{ff}, {yi}, {yr}'\\\n",
    "                                     for ff, yi, yr in zip(yre[0,:], yre[1,:], yim[1,:])]))\n",
    "\n",
    "            # Second sweep from fr_j - df / 2 to fr_j + df / 2\n",
    "            f1r = f2r + dff\n",
    "            f2r = fr + df / 2\n",
    "            print(f'[{2*ridx+1} / {2*rlen}] Discrete sweep from {f1r} to {f2r} GHz ...')\n",
    "            DM_setup.insert_sweep(f1r, f2r,\n",
    "                                  count=count,\n",
    "                                  save_fields=True,\n",
    "                                  name=f'Discrete_Sweep_{2*ridx+1}',\n",
    "                                  type='Discrete')\n",
    "            DM_setup.solve()\n",
    "\n",
    "            # Get data from first sweep\n",
    "            print(f'Creating odd reports ...')\n",
    "            fsweep = HFSS.HfssFrequencySweep(DM_setup, f'Discrete_Sweep_{2*ridx+1}')\n",
    "            report_re = fsweep.create_report(f'Discrete_Sweep_{2*ridx+1}', expr='re(Y(1,1))')\n",
    "            report_im = fsweep.create_report(f'Discrete_Sweep_{2*ridx+1}', expr='im(Y(1,1))')\n",
    "            yre = report_re.get_arrays()\n",
    "            yim = report_im.get_arrays()\n",
    "            fdata = np.hstack((fdata, yre[0,:]))\n",
    "            ydata = np.hstack((ydata, yre[1,:]+1j*yim[1,:]))    \n",
    "\n",
    "            # Backup data to file\n",
    "            print(f'Backing up even reports ...')\n",
    "            with open(f'../data/ydata_{dd}_sweep_{2*ridx+1}.csv', 'w') as fid:\n",
    "                fid.write('\\n'.join([f'{ff}, {yi}, {yr}'\\\n",
    "                                     for ff, yi, yr in zip(yre[0,:], yre[1,:], yim[1,:])]))\n",
    "\n",
    "            # Next sweep from fr_j + df / 2 to fr_j+1 - df / 2\n",
    "            f1r = f2r + dff\n",
    "    \n",
    "        except Exception as e:\n",
    "            print(f'Exception on run {ridx}:\\n{e}')\n",
    "            continue\n",
    "    \n",
    "    # Last frequency band from fr_j + df / 2 to f2\n",
    "    f2r = f2\n",
    "    print(f'[{2*rlen} / {2*rlen}] Discrete sweep from {f1r} to {f2r} GHz ...')\n",
    "    DM_setup.insert_sweep(f1r, f2r,\n",
    "                          count=count,\n",
    "                          save_fields=True,\n",
    "                          name=f'Discrete_Sweep_{2*rlen}',\n",
    "                          type='Discrete')\n",
    "    DM_setup.solve()\n",
    "    \n",
    "    # Get data from first sweep\n",
    "    print(f'Creating last report ...')\n",
    "    fsweep = HFSS.HfssFrequencySweep(DM_setup, f'Discrete_Sweep_{2*rlen}')\n",
    "    report_re = fsweep.create_report(f'Discrete_Sweep_{2*rlen}', expr='re(Y(1,1))')\n",
    "    report_im = fsweep.create_report(f'Discrete_Sweep_{2*rlen}', expr='im(Y(1,1))')\n",
    "    yre = report_re.get_arrays()\n",
    "    yim = report_im.get_arrays()\n",
    "    fdata = np.hstack((fdata, yre[0,:]))\n",
    "    ydata = np.hstack((ydata, yre[1,:]+1j*yim[1,:]))\n",
    "\n",
    "    # Backup data to file\n",
    "    print(f'Backing up even reports ...')\n",
    "    with open(f'../data/ydata_{dd}_sweep_{2*rlen}.csv', 'w') as fid:\n",
    "        fid.write('\\n'.join([f'{ff}, {yi}, {yr}'\\\n",
    "                             for ff, yi, yr in zip(yre[0,:], yre[1,:], yim[1,:])]))"
   ]
  },
  {
   "cell_type": "markdown",
   "metadata": {},
   "source": [
    "## --------------------------------------------------------"
   ]
  },
  {
   "cell_type": "markdown",
   "metadata": {},
   "source": [
    "### Zero crossings detector"
   ]
  },
  {
   "cell_type": "code",
   "execution_count": 4,
   "metadata": {},
   "outputs": [],
   "source": [
    "def get_zero_crossings(f : np.ndarray, y : np.ndarray, fscale : float = 1e9, filter_params : dict = None):\n",
    "    \"\"\"\n",
    "    Return the frequencies, admittances, and derivatives of y\n",
    "    at the locations of the zero crossings\n",
    "    \"\"\"\n",
    "    # Interpolate y\n",
    "    if filter_params is not None:\n",
    "        wsize = filter_params['wsize']\n",
    "        order = filter_params['order']\n",
    "        yfilt = y.real[0:filter_params['range']]\n",
    "        eps = filter_params['eps']\n",
    "        yrefilt = savitzky_golay_smoothing(yfilt+eps, wsize, order, deriv=0, rate=1)\n",
    "        yre = np.hstack((yrefilt, y.real[filter_params['range']:]+eps))\n",
    "        yre_int = scipy.interpolate.interp1d(f, yre)\n",
    "    else:\n",
    "        yre_int = scipy.interpolate.interp1d(f, y.real)\n",
    "    yim_int = scipy.interpolate.interp1d(f, y.imag)\n",
    "    yim = y.imag\n",
    "    \n",
    "    zero_xing_idxs = np.where(np.diff(np.sign(yim))>0)[0]\n",
    "    \n",
    "    wp = 2 * np.pi * f[zero_xing_idxs]\n",
    "    yp = yim[zero_xing_idxs]\n",
    "\n",
    "    # Attempt to refine search using bracketed root-finding\n",
    "    wpint = np.zeros(len(wp))\n",
    "    for ii, zidx in enumerate(zero_xing_idxs):\n",
    "        a = f[zidx]\n",
    "        b = f[zidx]\n",
    "        # print(f'a: {a/1e9} GHz')\n",
    "        # print(f'b: {b/1e9} GHz')\n",
    "        fa = 0.8 * yim_int(a)\n",
    "        fb = yim_int(b)\n",
    "        while (np.sign(fb) == np.sign(fa)):\n",
    "            b *= 1.0001\n",
    "            if b <= f.max():\n",
    "                fb = yim_int(b)\n",
    "            else:\n",
    "                b /= 1.0001\n",
    "                fb = yim_int(b)\n",
    "                break\n",
    "        # print(f'b: {b/1e9} GHz')\n",
    "        # print(f'fa: {fa}')\n",
    "        # print(f'fb: {fb}')\n",
    "        res = scipy.optimize.root_scalar(yim_int, bracket=[a, b], method='brentq')\n",
    "        wpint[ii] = 2 * np.pi * res.root\n",
    "    # print(f'wp: {wp/(2*np.pi*fscale)} GHz')\n",
    "    # print(f'wpint: {wpint/(2*np.pi*fscale)} GHz')\n",
    "        \n",
    "    # Compute the capacitances from the derivatives\n",
    "    yppim = np.gradient(y.imag, 2*np.pi*(f[1]-f[0])/fscale)/fscale\n",
    "    yppim_int = np.interp(wpint, 2*np.pi*f, yppim)\n",
    "    \n",
    "    return wpint, yre_int, yim_int, yppim_int"
   ]
  },
  {
   "cell_type": "markdown",
   "metadata": {},
   "source": [
    "## Smoothing routine for $\\mathrm{Re}\\{Y(\\omega_p)\\}$"
   ]
  },
  {
   "cell_type": "code",
   "execution_count": 5,
   "metadata": {},
   "outputs": [],
   "source": [
    "   def savitzky_golay_smoothing(y, window_size, order, deriv=0, rate=1):\n",
    "        \"\"\"\n",
    "        From: https://scipy.github.io/old-wiki/pages/Cookbook/SavitzkyGolay\n",
    "        \n",
    "        Smooth (and optionally differentiate) data with a Savitzky-Golay filter.\n",
    "        The Savitzky-Golay filter removes high frequency noise from data.\n",
    "        It has the advantage of preserving the original shape and\n",
    "        features of the signal better than other types of filtering\n",
    "        approaches, such as moving averages techniques.\n",
    "        Parameters\n",
    "        ----------\n",
    "        y : array_like, shape (N,)\n",
    "           the values of the time history of the signal.\n",
    "        window_size : int\n",
    "           the length of the window. Must be an odd integer number.\n",
    "        order : int\n",
    "           the order of the polynomial used in the filtering.\n",
    "           Must be less then `window_size` - 1.\n",
    "        deriv: int\n",
    "           the order of the derivative to compute (default = 0 means only smoothing)\n",
    "        Returns\n",
    "        -------\n",
    "        ys : ndarray, shape (N)\n",
    "           the smoothed signal (or it's n-th derivative).\n",
    "        Notes\n",
    "        -----\n",
    "        The Savitzky-Golay is a type of low-pass filter, particularly\n",
    "        suited for smoothing noisy data. The main idea behind this\n",
    "        approach is to make for each point a least-square fit with a\n",
    "        polynomial of high order over a odd-sized window centered at\n",
    "        the point.\n",
    "        Examples\n",
    "        --------\n",
    "        t = np.linspace(-4, 4, 500)\n",
    "        y = np.exp( -t**2 ) + np.random.normal(0, 0.05, t.shape)\n",
    "        ysg = savitzky_golay(y, window_size=31, order=4)\n",
    "        import matplotlib.pyplot as plt\n",
    "        plt.plot(t, y, label='Noisy signal')\n",
    "        plt.plot(t, np.exp(-t**2), 'k', lw=1.5, label='Original signal')\n",
    "        plt.plot(t, ysg, 'r', label='Filtered signal')\n",
    "        plt.legend()\n",
    "        plt.show()\n",
    "        References\n",
    "        ----------\n",
    "        .. [1] A. Savitzky, M. J. E. Golay, Smoothing and Differentiation of\n",
    "          Data by Simplified Least Squares Procedures. Analytical\n",
    "          Chemistry, 1964, 36 (8), pp 1627-1639.\n",
    "        .. [2] Numerical Recipes 3rd Edition: The Art of Scientific Computing\n",
    "          W.H. Press, S.A. Teukolsky, W.T. Vetterling, B.P. Flannery\n",
    "          Cambridge University Press ISBN-13: 9780521880688\n",
    "        \"\"\"\n",
    "        from math import factorial\n",
    "\n",
    "        try:\n",
    "            window_size = np.abs(int(window_size))\n",
    "            order = np.abs(int(order))\n",
    "        except ValueError:\n",
    "            raise ValueError(\"window_size and order have to be of type int\")\n",
    "        if window_size % 2 != 1 or window_size < 1:\n",
    "            raise TypeError(\"window_size size must be a positive odd number\")\n",
    "        if window_size < order + 2:\n",
    "            raise TypeError(\"window_size is too small for the polynomials order\")\n",
    "        order_range = range(order+1)\n",
    "        half_window = (window_size -1) // 2\n",
    "        # precompute coefficients\n",
    "        b = np.mat([[k**i for i in order_range] for k in range(-half_window, half_window+1)])\n",
    "        m = np.linalg.pinv(b).A[deriv] * rate**deriv * factorial(deriv)\n",
    "        # pad the signal at the extremes with\n",
    "        # values taken from the signal itself\n",
    "        firstvals = y[0] - np.abs( y[1:half_window+1][::-1] - y[0] )\n",
    "        lastvals = y[-1] + np.abs(y[-half_window-1:-1][::-1] - y[-1])\n",
    "        y = np.concatenate((firstvals, y, lastvals))\n",
    "        \n",
    "        return np.convolve( m[::-1], y, mode='valid')"
   ]
  },
  {
   "cell_type": "markdown",
   "metadata": {},
   "source": [
    "## Postprocessing, blackbox quantization"
   ]
  },
  {
   "cell_type": "code",
   "execution_count": 6,
   "metadata": {},
   "outputs": [],
   "source": [
    "def get_wp_Cp_Lp(f, y, LJ0=10e-9, CJ0=2e-15, fscale=1e9, use_Zq=False, GJ0=0,\n",
    "                filter_params=None):\n",
    "                # GJ0=7.748e-10):\n",
    "    \n",
    "    \"\"\"\n",
    "    Converts frequency-dependent imaginary parts\n",
    "    of the admittance data to poles,\n",
    "    capacitances, and inductances\n",
    "    \"\"\"\n",
    "    # Add the junction inductance and capacitance to the\n",
    "    # total admittance\n",
    "    # Compute the zero crossings\n",
    "    fcpy = np.copy(f * fscale)\n",
    "    ycpy = np.copy(np.complex128(y))\n",
    "    if LJ0:\n",
    "        ycpy += (1. / (1j * fcpy * 2 * np.pi * LJ0)) \\\n",
    "          + 1j * fcpy * 2 * np.pi * CJ0\n",
    "    if LJ0 and GJ0:\n",
    "        ycpy += (1. / (1j * fcpy * 2 * np.pi * LJ0)) \\\n",
    "             + 1j * fcpy * 2 * np.pi * CJ0 \\\n",
    "             + GJ0\n",
    "        \n",
    "    # Find the zero crossings\n",
    "    yim = ycpy.imag\n",
    "    wpint, yre_int, yim_int, yppim_int = get_zero_crossings(fcpy, ycpy, fscale=fscale,\n",
    "                                                            filter_params=filter_params)\n",
    "    \n",
    "    # Cp = 0.5 * np.abs(ypp.imag[zero_xing_idxs])\n",
    "    Cp = 0.5 * np.abs(yppim_int)\n",
    "    # Lp = 1. / (wp**2 * Cp)\n",
    "    Lp = 1. / (wpint**2 * Cp)\n",
    "    Zp = np.sqrt(Lp / Cp)\n",
    "    # zero_xing_idxs = np.where(np.diff(np.sign(yim))>0)[0]\n",
    "    # Rp = 1. / np.abs(np.real(ycpy[zero_xing_idxs]))\n",
    "    Rp = 1. / np.abs(yre_int(wpint/(2*np.pi)))\n",
    "    Qp = wpint * Rp * Cp\n",
    "    \n",
    "    # Physical constants\n",
    "    h    = 6.62607015e-34 \n",
    "    hbar = h / (2 * np.pi)\n",
    "    e    = 1.602176634e-19\n",
    "    Phi0 = h / (2 * e)\n",
    "    \n",
    "    # Compute Ej, Ec\n",
    "    if LJ0 and CJ0:\n",
    "        # Compute the Josephson inductive and charging energies\n",
    "        Ej = (Phi0 / (2 * np.pi))**2 / LJ0\n",
    "        Ec = e**2 / (2 * (sum(Cp)+CJ0))\n",
    "\n",
    "        # Compute inductive energies, EL\n",
    "        EL = 0.5 * Phi0**2 / Lp\n",
    "\n",
    "        # Compute the phase zero point fluctuations\n",
    "        GQ = 2 * e**2 / h\n",
    "        phip2 = 2 * np.pi * GQ * Zp\n",
    "\n",
    "        # Compute the participations\n",
    "        # p = phi2 * 2 * Ej / (hbar * wp)\n",
    "        pl = Lp / LJ0\n",
    "        pc = Cp / CJ0\n",
    "\n",
    "        # Compute the gs / Ds\n",
    "        Zq = np.sqrt(LJ0 / CJ0)\n",
    "        gD = np.sqrt(Zp / Zq)\n",
    "\n",
    "        # Compute the g's in units of Hz, divide by h to get v, Ej = hv\n",
    "        gpq = (2 * np.pi * GQ * Ej / 24.) * sum(phip2) * np.asarray([[\n",
    "            np.sqrt(Zpp * Zqq) / h for p, Zpp in enumerate(Zp)]\n",
    "                               for q, Zqq in enumerate(Zp) ])\n",
    "        gpq = gpq.reshape([len(gpq), len(gpq)])\n",
    "        \n",
    "        # Compute the chis, anharmonicities\n",
    "        # In units of Hz\n",
    "        chipp  = -Ec * gD**2 / h\n",
    "        chippp = np.asarray([-2 * np.sqrt(chipp[p] * chipp[q]) \n",
    "                             for p in range(len(chipp))\n",
    "                             for q in range(len(chipp))])\n",
    "        chippp = chippp.reshape([len(chipp), len(chipp)])\n",
    "\n",
    "        # return wp, Lp, Cp, Qp, fcpy, ycpy, yp, pl, pc, gpq, chippp\n",
    "        return wpint, Lp, Cp, Rp, Qp, fcpy, ycpy, yppim_int, pl, pc, gpq, chippp\n",
    "    \n",
    "    else:\n",
    "        # return wp, Lp, Cp, Qp, fcpy, ycpy, yp, None, None, None, None\n",
    "        return wpint, Lp, Cp, Rp, Qp, fcpy, ycpy, yppim_int, None, None, None, None"
   ]
  },
  {
   "cell_type": "markdown",
   "metadata": {},
   "source": [
    "## Load y-data from files if not-overwrite"
   ]
  },
  {
   "cell_type": "code",
   "execution_count": 7,
   "metadata": {},
   "outputs": [],
   "source": [
    "def load_ydata_from_sweeps(resonances):\n",
    "    fdata = np.array([])\n",
    "    ydata = np.array([], dtype=complex)\n",
    "\n",
    "    # Iterate over all discrete frequency sweeps\n",
    "    for i in range(2*len(resonances)+1):\n",
    "        report_re = fsweep_interp.create_report(f'Discrete_Sweep_{i}', expr='re(Y(LumpPort,LumpPort))')\n",
    "        report_im = fsweep_interp.create_report(f'Discrete_Sweep_{i}', expr='im(Y(LumpPort,LumpPort))')\n",
    "        yre = report_re.get_arrays()\n",
    "        yim = report_im.get_arrays()\n",
    "\n",
    "        fdata = np.hstack((fdata, yre[0,:]))\n",
    "        ydata = np.hstack((ydata, yre[1,:]+1j*yim[1,:]))\n",
    "    \n",
    "    return fdata, ydata"
   ]
  },
  {
   "cell_type": "code",
   "execution_count": 52,
   "metadata": {},
   "outputs": [],
   "source": [
    "def load_ydata_from_txt(filenames, delimiter=',',\n",
    "                        skip_header=1,\n",
    "                        re_im_order={'re' : 0, 'im' : 1}):\n",
    "    fdata = np.array([])\n",
    "    ydata = np.array([], dtype=float)\n",
    "    # Iterate over all discrete frequency sweeps\n",
    "    for fname in filenames:\n",
    "        print(f'Reading {fname} ...')\n",
    "        data = np.genfromtxt(fname, delimiter=delimiter, skip_header=skip_header).T\n",
    "        f   = data[0]\n",
    "        yre = data[re_im_order['re']+1]\n",
    "        yim = data[re_im_order['im']+1]\n",
    "\n",
    "        fdata = np.hstack((fdata, f))\n",
    "        ydata = np.hstack((ydata, yre + 1j*yim))\n",
    "    return fdata, ydata"
   ]
  },
  {
   "cell_type": "code",
   "execution_count": 44,
   "metadata": {
    "jupyter": {
     "source_hidden": true
    }
   },
   "outputs": [
    {
     "name": "stdout",
     "output_type": "stream",
     "text": [
      "Reading ../data/ydata_230314_sweep_0.csv ...\n"
     ]
    },
    {
     "ename": "FileNotFoundError",
     "evalue": "../data/ydata_230314_sweep_0.csv not found.",
     "output_type": "error",
     "traceback": [
      "\u001b[1;31m---------------------------------------------------------------------------\u001b[0m",
      "\u001b[1;31mFileNotFoundError\u001b[0m                         Traceback (most recent call last)",
      "Cell \u001b[1;32mIn[44], line 4\u001b[0m\n\u001b[0;32m      2\u001b[0m \u001b[38;5;28;01mfor\u001b[39;00m f \u001b[38;5;129;01min\u001b[39;00m [\u001b[38;5;124mf\u001b[39m\u001b[38;5;124m'\u001b[39m\u001b[38;5;124m../data/ydata_230326_sweep_\u001b[39m\u001b[38;5;132;01m{\u001b[39;00mi\u001b[38;5;132;01m}\u001b[39;00m\u001b[38;5;124m.csv\u001b[39m\u001b[38;5;124m'\u001b[39m \u001b[38;5;28;01mfor\u001b[39;00m i \u001b[38;5;129;01min\u001b[39;00m \u001b[38;5;28mrange\u001b[39m(\u001b[38;5;241m6\u001b[39m)]:\n\u001b[0;32m      3\u001b[0m     filenames\u001b[38;5;241m.\u001b[39mappend(f)\n\u001b[1;32m----> 4\u001b[0m fdata1, ydata1 \u001b[38;5;241m=\u001b[39m load_ydata_from_txt(filenames)\n",
      "Cell \u001b[1;32mIn[43], line 9\u001b[0m, in \u001b[0;36mload_ydata_from_txt\u001b[1;34m(filenames, delimiter, skip_header, re_im_order)\u001b[0m\n\u001b[0;32m      7\u001b[0m \u001b[38;5;28;01mfor\u001b[39;00m fname \u001b[38;5;129;01min\u001b[39;00m filenames:\n\u001b[0;32m      8\u001b[0m     \u001b[38;5;28mprint\u001b[39m(\u001b[38;5;124mf\u001b[39m\u001b[38;5;124m'\u001b[39m\u001b[38;5;124mReading \u001b[39m\u001b[38;5;132;01m{\u001b[39;00mfname\u001b[38;5;132;01m}\u001b[39;00m\u001b[38;5;124m ...\u001b[39m\u001b[38;5;124m'\u001b[39m)\n\u001b[1;32m----> 9\u001b[0m     data \u001b[38;5;241m=\u001b[39m np\u001b[38;5;241m.\u001b[39mgenfromtxt(fname, delimiter\u001b[38;5;241m=\u001b[39mdelimiter, skip_header\u001b[38;5;241m=\u001b[39mskip_header)\u001b[38;5;241m.\u001b[39mT\n\u001b[0;32m     10\u001b[0m     f   \u001b[38;5;241m=\u001b[39m data[\u001b[38;5;241m0\u001b[39m]\n\u001b[0;32m     11\u001b[0m     yre \u001b[38;5;241m=\u001b[39m data[re_im_order[\u001b[38;5;124m'\u001b[39m\u001b[38;5;124mre\u001b[39m\u001b[38;5;124m'\u001b[39m]\u001b[38;5;241m+\u001b[39m\u001b[38;5;241m1\u001b[39m]\n",
      "File \u001b[1;32m~\\AppData\\Local\\anaconda3\\envs\\tcav\\Lib\\site-packages\\numpy\\lib\\npyio.py:1980\u001b[0m, in \u001b[0;36mgenfromtxt\u001b[1;34m(fname, dtype, comments, delimiter, skip_header, skip_footer, converters, missing_values, filling_values, usecols, names, excludelist, deletechars, replace_space, autostrip, case_sensitive, defaultfmt, unpack, usemask, loose, invalid_raise, max_rows, encoding, ndmin, like)\u001b[0m\n\u001b[0;32m   1978\u001b[0m     fname \u001b[38;5;241m=\u001b[39m os_fspath(fname)\n\u001b[0;32m   1979\u001b[0m \u001b[38;5;28;01mif\u001b[39;00m \u001b[38;5;28misinstance\u001b[39m(fname, \u001b[38;5;28mstr\u001b[39m):\n\u001b[1;32m-> 1980\u001b[0m     fid \u001b[38;5;241m=\u001b[39m np\u001b[38;5;241m.\u001b[39mlib\u001b[38;5;241m.\u001b[39m_datasource\u001b[38;5;241m.\u001b[39mopen(fname, \u001b[38;5;124m'\u001b[39m\u001b[38;5;124mrt\u001b[39m\u001b[38;5;124m'\u001b[39m, encoding\u001b[38;5;241m=\u001b[39mencoding)\n\u001b[0;32m   1981\u001b[0m     fid_ctx \u001b[38;5;241m=\u001b[39m contextlib\u001b[38;5;241m.\u001b[39mclosing(fid)\n\u001b[0;32m   1982\u001b[0m \u001b[38;5;28;01melse\u001b[39;00m:\n",
      "File \u001b[1;32m~\\AppData\\Local\\anaconda3\\envs\\tcav\\Lib\\site-packages\\numpy\\lib\\_datasource.py:193\u001b[0m, in \u001b[0;36mopen\u001b[1;34m(path, mode, destpath, encoding, newline)\u001b[0m\n\u001b[0;32m    156\u001b[0m \u001b[38;5;250m\u001b[39m\u001b[38;5;124;03m\"\"\"\u001b[39;00m\n\u001b[0;32m    157\u001b[0m \u001b[38;5;124;03mOpen `path` with `mode` and return the file object.\u001b[39;00m\n\u001b[0;32m    158\u001b[0m \n\u001b[1;32m   (...)\u001b[0m\n\u001b[0;32m    189\u001b[0m \n\u001b[0;32m    190\u001b[0m \u001b[38;5;124;03m\"\"\"\u001b[39;00m\n\u001b[0;32m    192\u001b[0m ds \u001b[38;5;241m=\u001b[39m DataSource(destpath)\n\u001b[1;32m--> 193\u001b[0m \u001b[38;5;28;01mreturn\u001b[39;00m ds\u001b[38;5;241m.\u001b[39mopen(path, mode, encoding\u001b[38;5;241m=\u001b[39mencoding, newline\u001b[38;5;241m=\u001b[39mnewline)\n",
      "File \u001b[1;32m~\\AppData\\Local\\anaconda3\\envs\\tcav\\Lib\\site-packages\\numpy\\lib\\_datasource.py:533\u001b[0m, in \u001b[0;36mDataSource.open\u001b[1;34m(self, path, mode, encoding, newline)\u001b[0m\n\u001b[0;32m    530\u001b[0m     \u001b[38;5;28;01mreturn\u001b[39;00m _file_openers[ext](found, mode\u001b[38;5;241m=\u001b[39mmode,\n\u001b[0;32m    531\u001b[0m                               encoding\u001b[38;5;241m=\u001b[39mencoding, newline\u001b[38;5;241m=\u001b[39mnewline)\n\u001b[0;32m    532\u001b[0m \u001b[38;5;28;01melse\u001b[39;00m:\n\u001b[1;32m--> 533\u001b[0m     \u001b[38;5;28;01mraise\u001b[39;00m \u001b[38;5;167;01mFileNotFoundError\u001b[39;00m(\u001b[38;5;124mf\u001b[39m\u001b[38;5;124m\"\u001b[39m\u001b[38;5;132;01m{\u001b[39;00mpath\u001b[38;5;132;01m}\u001b[39;00m\u001b[38;5;124m not found.\u001b[39m\u001b[38;5;124m\"\u001b[39m)\n",
      "\u001b[1;31mFileNotFoundError\u001b[0m: ../data/ydata_230314_sweep_0.csv not found."
     ]
    }
   ],
   "source": [
    "filenames = [f'../data/ydata_230314_sweep_{i}.csv' for i in range(11)]\n",
    "for f in [f'../data/ydata_230326_sweep_{i}.csv' for i in range(6)]:\n",
    "    filenames.append(f)\n",
    "fdata1, ydata1 = load_ydata_from_txt(filenames)"
   ]
  },
  {
   "cell_type": "code",
   "execution_count": 53,
   "metadata": {},
   "outputs": [
    {
     "name": "stdout",
     "output_type": "stream",
     "text": [
      "Reading ../data/ydata_230925_sweep_0.csv ...\n",
      "Reading ../data/ydata_230925_sweep_1.csv ...\n",
      "Reading ../data/ydata_230925_sweep_2.csv ...\n",
      "Reading ../data/ydata_230925_sweep_3.csv ...\n",
      "Reading ../data/ydata_230925_sweep_4.csv ...\n",
      "Reading ../data/ydata_230925_sweep_5.csv ...\n",
      "Reading ../data/ydata_230925_sweep_6.csv ...\n",
      "Reading ../data/ydata_230925_sweep_0.csv ...\n"
     ]
    },
    {
     "ename": "FileNotFoundError",
     "evalue": "../data/ydata_230925_sweep_0.csv not found.",
     "output_type": "error",
     "traceback": [
      "\u001b[1;31m---------------------------------------------------------------------------\u001b[0m",
      "\u001b[1;31mFileNotFoundError\u001b[0m                         Traceback (most recent call last)",
      "Cell \u001b[1;32mIn[53], line 5\u001b[0m\n\u001b[0;32m      3\u001b[0m     \u001b[38;5;28mprint\u001b[39m(\u001b[38;5;124mf\u001b[39m\u001b[38;5;124m'\u001b[39m\u001b[38;5;124mReading \u001b[39m\u001b[38;5;132;01m{\u001b[39;00mf\u001b[38;5;132;01m}\u001b[39;00m\u001b[38;5;124m ...\u001b[39m\u001b[38;5;124m'\u001b[39m)\n\u001b[0;32m      4\u001b[0m     filenames\u001b[38;5;241m.\u001b[39mappend(f)\n\u001b[1;32m----> 5\u001b[0m fdata1, ydata1 \u001b[38;5;241m=\u001b[39m load_ydata_from_txt(filenames)\n",
      "Cell \u001b[1;32mIn[52], line 9\u001b[0m, in \u001b[0;36mload_ydata_from_txt\u001b[1;34m(filenames, delimiter, skip_header, re_im_order)\u001b[0m\n\u001b[0;32m      7\u001b[0m \u001b[38;5;28;01mfor\u001b[39;00m fname \u001b[38;5;129;01min\u001b[39;00m filenames:\n\u001b[0;32m      8\u001b[0m     \u001b[38;5;28mprint\u001b[39m(\u001b[38;5;124mf\u001b[39m\u001b[38;5;124m'\u001b[39m\u001b[38;5;124mReading \u001b[39m\u001b[38;5;132;01m{\u001b[39;00mfname\u001b[38;5;132;01m}\u001b[39;00m\u001b[38;5;124m ...\u001b[39m\u001b[38;5;124m'\u001b[39m)\n\u001b[1;32m----> 9\u001b[0m     data \u001b[38;5;241m=\u001b[39m np\u001b[38;5;241m.\u001b[39mgenfromtxt(fname, delimiter\u001b[38;5;241m=\u001b[39mdelimiter, skip_header\u001b[38;5;241m=\u001b[39mskip_header)\u001b[38;5;241m.\u001b[39mT\n\u001b[0;32m     10\u001b[0m     f   \u001b[38;5;241m=\u001b[39m data[\u001b[38;5;241m0\u001b[39m]\n\u001b[0;32m     11\u001b[0m     yre \u001b[38;5;241m=\u001b[39m data[re_im_order[\u001b[38;5;124m'\u001b[39m\u001b[38;5;124mre\u001b[39m\u001b[38;5;124m'\u001b[39m]\u001b[38;5;241m+\u001b[39m\u001b[38;5;241m1\u001b[39m]\n",
      "File \u001b[1;32m~\\AppData\\Local\\anaconda3\\envs\\tcav\\Lib\\site-packages\\numpy\\lib\\npyio.py:1980\u001b[0m, in \u001b[0;36mgenfromtxt\u001b[1;34m(fname, dtype, comments, delimiter, skip_header, skip_footer, converters, missing_values, filling_values, usecols, names, excludelist, deletechars, replace_space, autostrip, case_sensitive, defaultfmt, unpack, usemask, loose, invalid_raise, max_rows, encoding, ndmin, like)\u001b[0m\n\u001b[0;32m   1978\u001b[0m     fname \u001b[38;5;241m=\u001b[39m os_fspath(fname)\n\u001b[0;32m   1979\u001b[0m \u001b[38;5;28;01mif\u001b[39;00m \u001b[38;5;28misinstance\u001b[39m(fname, \u001b[38;5;28mstr\u001b[39m):\n\u001b[1;32m-> 1980\u001b[0m     fid \u001b[38;5;241m=\u001b[39m np\u001b[38;5;241m.\u001b[39mlib\u001b[38;5;241m.\u001b[39m_datasource\u001b[38;5;241m.\u001b[39mopen(fname, \u001b[38;5;124m'\u001b[39m\u001b[38;5;124mrt\u001b[39m\u001b[38;5;124m'\u001b[39m, encoding\u001b[38;5;241m=\u001b[39mencoding)\n\u001b[0;32m   1981\u001b[0m     fid_ctx \u001b[38;5;241m=\u001b[39m contextlib\u001b[38;5;241m.\u001b[39mclosing(fid)\n\u001b[0;32m   1982\u001b[0m \u001b[38;5;28;01melse\u001b[39;00m:\n",
      "File \u001b[1;32m~\\AppData\\Local\\anaconda3\\envs\\tcav\\Lib\\site-packages\\numpy\\lib\\_datasource.py:193\u001b[0m, in \u001b[0;36mopen\u001b[1;34m(path, mode, destpath, encoding, newline)\u001b[0m\n\u001b[0;32m    156\u001b[0m \u001b[38;5;250m\u001b[39m\u001b[38;5;124;03m\"\"\"\u001b[39;00m\n\u001b[0;32m    157\u001b[0m \u001b[38;5;124;03mOpen `path` with `mode` and return the file object.\u001b[39;00m\n\u001b[0;32m    158\u001b[0m \n\u001b[1;32m   (...)\u001b[0m\n\u001b[0;32m    189\u001b[0m \n\u001b[0;32m    190\u001b[0m \u001b[38;5;124;03m\"\"\"\u001b[39;00m\n\u001b[0;32m    192\u001b[0m ds \u001b[38;5;241m=\u001b[39m DataSource(destpath)\n\u001b[1;32m--> 193\u001b[0m \u001b[38;5;28;01mreturn\u001b[39;00m ds\u001b[38;5;241m.\u001b[39mopen(path, mode, encoding\u001b[38;5;241m=\u001b[39mencoding, newline\u001b[38;5;241m=\u001b[39mnewline)\n",
      "File \u001b[1;32m~\\AppData\\Local\\anaconda3\\envs\\tcav\\Lib\\site-packages\\numpy\\lib\\_datasource.py:533\u001b[0m, in \u001b[0;36mDataSource.open\u001b[1;34m(self, path, mode, encoding, newline)\u001b[0m\n\u001b[0;32m    530\u001b[0m     \u001b[38;5;28;01mreturn\u001b[39;00m _file_openers[ext](found, mode\u001b[38;5;241m=\u001b[39mmode,\n\u001b[0;32m    531\u001b[0m                               encoding\u001b[38;5;241m=\u001b[39mencoding, newline\u001b[38;5;241m=\u001b[39mnewline)\n\u001b[0;32m    532\u001b[0m \u001b[38;5;28;01melse\u001b[39;00m:\n\u001b[1;32m--> 533\u001b[0m     \u001b[38;5;28;01mraise\u001b[39;00m \u001b[38;5;167;01mFileNotFoundError\u001b[39;00m(\u001b[38;5;124mf\u001b[39m\u001b[38;5;124m\"\u001b[39m\u001b[38;5;132;01m{\u001b[39;00mpath\u001b[38;5;132;01m}\u001b[39;00m\u001b[38;5;124m not found.\u001b[39m\u001b[38;5;124m\"\u001b[39m)\n",
      "\u001b[1;31mFileNotFoundError\u001b[0m: ../data/ydata_230925_sweep_0.csv not found."
     ]
    }
   ],
   "source": [
    "filenames = []\n",
    "for f in [f'../data/ydata_230925_sweep_{i}.csv' for i in range(7)]:\n",
    "    print(f'Reading {f} ...')\n",
    "    filenames.append(f)\n",
    "fdata1, ydata1 = load_ydata_from_txt(filenames)"
   ]
  },
  {
   "cell_type": "code",
   "execution_count": 54,
   "metadata": {},
   "outputs": [
    {
     "name": "stdout",
     "output_type": "stream",
     "text": [
      "Reading ../data/ydata_micromachined_241111.csv ...\n"
     ]
    }
   ],
   "source": [
    "fdata, ydata = load_ydata_from_txt(['../data/ydata_micromachined_241111.csv'],\n",
    "                                  re_im_order={'re' : 1, 'im' : 0})"
   ]
  },
  {
   "cell_type": "code",
   "execution_count": 94,
   "metadata": {},
   "outputs": [],
   "source": [
    "def ragged_list_to_numpy_array(x):\n",
    "    '''\n",
    "    Converts a ragged list to numpy array\n",
    "    Works like zip by only using the shortest length\n",
    "    member\n",
    "    '''\n",
    "    # Try to naively convert to numpy\n",
    "    # Otherwise, inspect the lengths\n",
    "    try:\n",
    "        out = np.asarray(x)\n",
    "    except ValueError:\n",
    "        out = np.asarray([xx for xx in zip(*x)]).flatten()\n",
    "    finally:\n",
    "        return out"
   ]
  },
  {
   "cell_type": "code",
   "execution_count": 95,
   "metadata": {},
   "outputs": [
    {
     "data": {
      "text/plain": [
       "array([1, 3, 5, 6, 7])"
      ]
     },
     "execution_count": 95,
     "metadata": {},
     "output_type": "execute_result"
    }
   ],
   "source": [
    "a = [np.array([1, 2]), np.array([3, 4]), np.array([5]), np.array([6]), np.array([7, 8])]\n",
    "np.asarray([aa for aa in zip(*a)]).flatten()"
   ]
  },
  {
   "cell_type": "code",
   "execution_count": 96,
   "metadata": {},
   "outputs": [
    {
     "data": {
      "text/plain": [
       "array([5.77239345e+10, 5.76092316e+10, 5.75881700e+10, 5.75485174e+10,\n",
       "       5.75336690e+10])"
      ]
     },
     "execution_count": 96,
     "metadata": {},
     "output_type": "execute_result"
    }
   ],
   "source": [
    "c =  [np.array([5.77239345e+10]), np.array([5.76092316e+10, 5.76665563e+10]), \n",
    "      np.array([5.758817e+10]), np.array([5.75485174e+10]), np.array([5.7533669e+10])]\n",
    "ragged_list_to_numpy_array(c)"
   ]
  },
  {
   "cell_type": "markdown",
   "metadata": {},
   "source": [
    "# Iterate over all coupler offset values, fix LJ=10 nH"
   ]
  },
  {
   "cell_type": "code",
   "execution_count": 118,
   "metadata": {},
   "outputs": [],
   "source": [
    "def get_bbq_params(fdata, ydata, NLJ=25, Nmodes=6,\n",
    "                   LJ0=10e-9, LJ_spacing='log',\n",
    "                   filter_params=None, fscale=1e9,\n",
    "                   print_results=False, return_all=False):\n",
    "    wps = []\n",
    "    pcs = []\n",
    "    pls = []\n",
    "    gDs = []\n",
    "    Cps = []\n",
    "    Lps = []\n",
    "    Rps = []\n",
    "    Qps = []\n",
    "    chis = []\n",
    "    ys = []\n",
    "\n",
    "    # Whether or not to use the largest impedance mode\n",
    "    # as the junction mode in the calculations\n",
    "    use_Zq = False\n",
    "    \n",
    "    LJstart = 0.5e-9\n",
    "    LJstop = 100e-9\n",
    "    \n",
    "    if LJ_spacing == 'log':\n",
    "        LJs = np.logspace(np.log10(LJstart), np.log10(LJstop), NLJ)\n",
    "    elif LJ_spacing == 'linear':\n",
    "        LJs = np.linspace(LJstart, LJstop, NLJ)\n",
    "    else:\n",
    "        LJs = np.logspace(np.log10(LJstart), np.log10(LJstop), NLJ)\n",
    "    #for idx, x in enumerate(xdata):\n",
    "    if LJ0 is not None:\n",
    "        for LJ in LJs:\n",
    "            wpp, Lp, Cp, Rp, Qp, _, ycpy, yp, pl, pc, gD, chip \\\n",
    "            = get_wp_Cp_Lp(fdata, ydata, LJ0=LJ, fscale=fscale, use_Zq=use_Zq, \n",
    "                           filter_params=filter_params)\n",
    "            wps.append(np.sort(wpp[0:Nmodes]))\n",
    "            #wps.append(wpp[0:Nmodes])\n",
    "            pls.append(pl[0:Nmodes])\n",
    "            pcs.append(pc[0:Nmodes])\n",
    "            gDs.append(gD[0:Nmodes, 0:Nmodes])\n",
    "            Lps.append(Lp[0:Nmodes])\n",
    "            Cps.append(Cp[0:Nmodes])\n",
    "            Rps.append(Rp[0:Nmodes])\n",
    "            Qps.append(Qp[0:Nmodes])\n",
    "            chis.append(chip[0:Nmodes, 0:Nmodes])\n",
    "            ys.append(ycpy)\n",
    "            if print_results:\n",
    "                print(f'wps: {wps}')\n",
    "            # wps.append(wpp)\n",
    "            # print(f'LJ: {LJ}, wpp: {wpp}')\n",
    "    else:\n",
    "        wpp, Lp, Cp, Rp, Qp, _, ycpy, yp, pl, pc, gD, chip \\\n",
    "        = get_wp_Cp_Lp(fdata, ydata, LJ0=None, fscale=fscale, use_Zq=use_Zq,\n",
    "                      filter_params=filter_params)\n",
    "        wps.append(np.sort(wpp[0:Nmodes]))\n",
    "        #wps.append(wpp[0:Nmodes])\n",
    "        pls.append(pl)\n",
    "        pcs.append(pc)\n",
    "        gDs.append(gD)\n",
    "        Lps.append(Lp)\n",
    "        Cps.append(Cp)\n",
    "        Rps.append(Rp)\n",
    "        Qps.append(Qp)\n",
    "        chis.append(chip)\n",
    "        ys.append(ycpy)\n",
    "        if print_results:\n",
    "            print(f'wps: {wps}')\n",
    "            print(f'gDs: {gDs}')\n",
    "\n",
    "    wps = ragged_list_to_numpy_array(wps).T # np.asarray(wps).T\n",
    "    ys = np.asarray(ys)\n",
    "    \n",
    "    if return_all:\n",
    "        \n",
    "        pls  = np.asarray(pls).T\n",
    "        pcs  = np.asarray(pcs).T\n",
    "        gDs = np.asarray(gDs).T\n",
    "        Lps = np.asarray(Lps).T\n",
    "        Cps = np.asarray(Cps).T\n",
    "        Rps = np.asarray(Rps).T\n",
    "        Qps = np.asarray(Qps).T\n",
    "        chis = np.asarray(chis).T\n",
    "        \n",
    "    \n",
    "        return wps, pls, pcs, gDs, Lps, Cps, Rps, Qps, chis, LJs, ys\n",
    "\n",
    "    else:\n",
    "        return wps, LJs, ys"
   ]
  },
  {
   "cell_type": "code",
   "execution_count": 119,
   "metadata": {},
   "outputs": [],
   "source": [
    "wps0, LJs, y0s = get_bbq_params(fdata, ydata, \n",
    "                                Nmodes=2, LJ0=None,\n",
    "                               return_all=False)"
   ]
  },
  {
   "cell_type": "code",
   "execution_count": 120,
   "metadata": {},
   "outputs": [
    {
     "data": {
      "text/plain": [
       "array([[5.75316831e+10]])"
      ]
     },
     "execution_count": 120,
     "metadata": {},
     "output_type": "execute_result"
    }
   ],
   "source": [
    "wps0"
   ]
  },
  {
   "cell_type": "code",
   "execution_count": 121,
   "metadata": {},
   "outputs": [
    {
     "name": "stdout",
     "output_type": "stream",
     "text": [
      "wps: [array([5.77239345e+10])]\n",
      "wps: [array([5.77239345e+10]), array([5.76092316e+10, 5.76665563e+10])]\n",
      "wps: [array([5.77239345e+10]), array([5.76092316e+10, 5.76665563e+10]), array([5.758817e+10])]\n",
      "wps: [array([5.77239345e+10]), array([5.76092316e+10, 5.76665563e+10]), array([5.758817e+10]), array([5.75485174e+10])]\n",
      "wps: [array([5.77239345e+10]), array([5.76092316e+10, 5.76665563e+10]), array([5.758817e+10]), array([5.75485174e+10]), array([5.7533669e+10])]\n"
     ]
    }
   ],
   "source": [
    "wps1, LJs, ys = get_bbq_params(fdata, ydata, \n",
    "                                Nmodes=2, NLJ=5, LJ_spacing='log',\n",
    "                               filter_params=None,\n",
    "                               #filter_params={'wsize' : 19, \n",
    "                               #               'order' : 1, 'range' : 180,\n",
    "                               #               'eps' : 2e-11},\n",
    "                               print_results=True,\n",
    "                               return_all=False)"
   ]
  },
  {
   "cell_type": "code",
   "execution_count": 122,
   "metadata": {},
   "outputs": [
    {
     "name": "stdout",
     "output_type": "stream",
     "text": [
      "wps: [array([5.77239345e+10])]\n",
      "wps: [array([5.77239345e+10]), array([5.76092316e+10, 5.76665563e+10])]\n",
      "wps: [array([5.77239345e+10]), array([5.76092316e+10, 5.76665563e+10]), array([5.758817e+10])]\n",
      "wps: [array([5.77239345e+10]), array([5.76092316e+10, 5.76665563e+10]), array([5.758817e+10]), array([5.75485174e+10])]\n",
      "wps: [array([5.77239345e+10]), array([5.76092316e+10, 5.76665563e+10]), array([5.758817e+10]), array([5.75485174e+10]), array([5.7533669e+10])]\n"
     ]
    }
   ],
   "source": [
    "wps1, LJs, ys = get_bbq_params(fdata, ydata, \n",
    "                                Nmodes=2, NLJ=5, LJ_spacing='log',\n",
    "                               # filter_params=None,\n",
    "                               filter_params={'wsize' : 19, \n",
    "                                              'order' : 1, 'range' : 180,\n",
    "                                              'eps' : 2e-11},\n",
    "                               print_results=True,\n",
    "                              return_all=False)"
   ]
  },
  {
   "cell_type": "code",
   "execution_count": 123,
   "metadata": {},
   "outputs": [
    {
     "data": {
      "text/plain": [
       "(5, 361)"
      ]
     },
     "execution_count": 123,
     "metadata": {},
     "output_type": "execute_result"
    }
   ],
   "source": [
    "ys.shape"
   ]
  },
  {
   "cell_type": "code",
   "execution_count": 124,
   "metadata": {},
   "outputs": [
    {
     "data": {
      "text/plain": [
       "(1, 361)"
      ]
     },
     "execution_count": 124,
     "metadata": {},
     "output_type": "execute_result"
    }
   ],
   "source": [
    "y0s.shape"
   ]
  },
  {
   "cell_type": "code",
   "execution_count": 125,
   "metadata": {},
   "outputs": [
    {
     "data": {
      "image/png": "[encoded data removed]",
      "text/plain": [
       "<Figure size 640x480 with 1 Axes>"
      ]
     },
     "metadata": {},
     "output_type": "display_data"
    }
   ],
   "source": [
    "plt.plot(fdata, ydata.imag)\n",
    "plt.show()"
   ]
  },
  {
   "cell_type": "code",
   "execution_count": 126,
   "metadata": {},
   "outputs": [
    {
     "data": {
      "text/plain": [
       "(1, 361)"
      ]
     },
     "execution_count": 126,
     "metadata": {},
     "output_type": "execute_result"
    }
   ],
   "source": [
    "y0s.shape"
   ]
  },
  {
   "cell_type": "markdown",
   "metadata": {},
   "source": [
    "## Plot the admittance functions"
   ]
  },
  {
   "cell_type": "code",
   "execution_count": 127,
   "metadata": {
    "scrolled": true
   },
   "outputs": [
    {
     "data": {
      "image/png": "[encoded data removed]",
      "text/plain": [
       "<Figure size 640x480 with 2 Axes>"
      ]
     },
     "metadata": {},
     "output_type": "display_data"
    }
   ],
   "source": [
    "dstr = datetime.datetime.today().strftime('%y%m%d')\n",
    "lsize = 14\n",
    "fsize = 20\n",
    "cycle = plt.rcParams['axes.prop_cycle'].by_key()['color']\n",
    "clen = len(cycle)\n",
    "yim = y0s[0].imag\n",
    "zero_xing_idxs = np.where(np.diff(np.sign(yim))>0)[0]\n",
    "\n",
    "fig, ax = plt.subplots(1, 1, tight_layout=True)\n",
    "ax.plot(fdata, y0s[0].imag,\n",
    "        '-', color='tab:blue')\n",
    "\n",
    "wpj, yre_int, yim_int, ypp_zero_xings = get_zero_crossings(fdata * 1e9, y0s[0], fscale=1e9)\n",
    "\n",
    "ax.plot(wpj/(2*np.pi*1e9), yim_int(wpj/(2*np.pi)), ms=12, marker='*', ls='', color='tab:orange')\n",
    "ax2 = ax.twinx()\n",
    "ax2.plot(fdata, np.gradient(y0s[0], 2*np.pi*(fdata[1]-fdata[0])).imag/1e9,\n",
    "        '-', color='tab:red')\n",
    "ax.set_title(label=r'$Y,\\,L_J \\to \\infty$ nH', fontsize=fsize)\n",
    "ax.set_xlabel(r'$f$ [GHz]', fontsize=fsize)\n",
    "ax.set_ylabel(r'$\\mathrm{Im}\\{Y(\\omega)\\}$', fontsize=fsize)\n",
    "ax2.set_ylabel(r'$d\\mathrm{Im}\\{Y(\\omega)\\}/d\\omega$', fontsize=fsize)\n",
    "set_xaxis_rot(ax, 45)\n",
    "#ax.set_ylim([-0.5, 0.5])\n",
    "#ax2.set_ylim([-0.5e-9, 0.5e-9])\n",
    "set_axes_fonts(ax, fsize)\n",
    "set_axes_fonts(ax2, fsize)\n",
    "plt.show()"
   ]
  },
  {
   "cell_type": "code",
   "execution_count": 128,
   "metadata": {
    "scrolled": true
   },
   "outputs": [
    {
     "data": {
      "image/png": "[encoded data removed]",
      "text/plain": [
       "<Figure size 640x480 with 2 Axes>"
      ]
     },
     "metadata": {},
     "output_type": "display_data"
    },
    {
     "data": {
      "image/png": "[encoded data removed]",
      "text/plain": [
       "<Figure size 640x480 with 2 Axes>"
      ]
     },
     "metadata": {},
     "output_type": "display_data"
    },
    {
     "data": {
      "image/png": "[encoded data removed]",
      "text/plain": [
       "<Figure size 640x480 with 2 Axes>"
      ]
     },
     "metadata": {},
     "output_type": "display_data"
    },
    {
     "data": {
      "image/png": "[encoded data removed]",
      "text/plain": [
       "<Figure size 640x480 with 2 Axes>"
      ]
     },
     "metadata": {},
     "output_type": "display_data"
    },
    {
     "data": {
      "image/png": "[encoded data removed]",
      "text/plain": [
       "<Figure size 640x480 with 2 Axes>"
      ]
     },
     "metadata": {},
     "output_type": "display_data"
    }
   ],
   "source": [
    "for idx, ysj in enumerate(ys):\n",
    "    fig, ax = plt.subplots(1, 1, tight_layout=True)\n",
    "    ax.plot(fdata, ysj.imag,\n",
    "            '-', color='tab:blue')\n",
    "    ax2 = ax.twinx()\n",
    "    ax2.plot(fdata, np.gradient(ysj, 2*np.pi*(fdata[1]-fdata[0])).imag/1e9,\n",
    "            '-', color='tab:red')\n",
    "    wpj, yre_int, yim_int, ypp_zero_xings = get_zero_crossings(fdata * 1e9, ysj, fscale=1e9)\n",
    "    \n",
    "    # ax.plot(fdata[zero_xing_idxs], yim[zero_xing_idxs], ms=12, marker='*', ls='', color='tab:orange')\n",
    "    ax.plot(wpj/(2*np.pi*1e9), yim_int(wpj/(2*np.pi)), ms=12, marker='*', ls='', color='tab:orange')\n",
    "    ax.set_title(label=r'$Y,\\,L_J$ = %.2f nH' % (LJs[idx] / 1e-9), fontsize=fsize)\n",
    "    ax.set_xlabel(r'$f$ [GHz]', fontsize=fsize)\n",
    "    ax.set_ylabel(r'$\\mathrm{Im}\\{Y(\\omega)\\}$', fontsize=fsize)\n",
    "    ax2.set_ylabel(r'$d\\mathrm{Im}\\{Y(\\omega)\\}/d\\omega$', fontsize=fsize)\n",
    "    set_xaxis_rot(ax, 45)\n",
    " #   ax.set_ylim([-0.5, 0.5])\n",
    "  #  ax2.set_ylim([-0.5e-9, 0.5e-9])\n",
    "    set_axes_fonts(ax, fsize)\n",
    "    set_axes_fonts(ax2, fsize)\n",
    "    #leg = set_leg_outside(ax, lsize)\n",
    "    #leg = set_leg_outside(ax2, lsize)\n",
    "    # ax.set_xscale('log')\n",
    "plt.show()"
   ]
  },
  {
   "cell_type": "code",
   "execution_count": 129,
   "metadata": {},
   "outputs": [
    {
     "data": {
      "text/plain": [
       "(5, 361)"
      ]
     },
     "execution_count": 129,
     "metadata": {},
     "output_type": "execute_result"
    }
   ],
   "source": [
    "ys.shape"
   ]
  },
  {
   "cell_type": "code",
   "execution_count": 130,
   "metadata": {},
   "outputs": [
    {
     "data": {
      "text/plain": [
       "(5,)"
      ]
     },
     "execution_count": 130,
     "metadata": {},
     "output_type": "execute_result"
    }
   ],
   "source": [
    "LJs.shape"
   ]
  },
  {
   "cell_type": "code",
   "execution_count": 131,
   "metadata": {},
   "outputs": [
    {
     "data": {
      "text/plain": [
       "(array([57.53168309]),\n",
       " <scipy.interpolate._interpolate.interp1d at 0x1f38ba83c00>,\n",
       " <scipy.interpolate._interpolate.interp1d at 0x1f38ba66670>,\n",
       " array([0.02953925]))"
      ]
     },
     "execution_count": 131,
     "metadata": {},
     "output_type": "execute_result"
    }
   ],
   "source": [
    "get_zero_crossings(fdata, ydata, fscale=1)"
   ]
  },
  {
   "cell_type": "code",
   "execution_count": 132,
   "metadata": {},
   "outputs": [
    {
     "ename": "ValueError",
     "evalue": "setting an array element with a sequence. The requested array has an inhomogeneous shape after 1 dimensions. The detected shape was (5,) + inhomogeneous part.",
     "output_type": "error",
     "traceback": [
      "\u001b[1;31m---------------------------------------------------------------------------\u001b[0m",
      "\u001b[1;31mValueError\u001b[0m                                Traceback (most recent call last)",
      "Cell \u001b[1;32mIn[132], line 12\u001b[0m\n\u001b[0;32m     10\u001b[0m     yim \u001b[38;5;241m=\u001b[39m y\u001b[38;5;241m.\u001b[39mimag\n\u001b[0;32m     11\u001b[0m     yvals\u001b[38;5;241m.\u001b[39mappend(yim_int(wpj\u001b[38;5;241m/\u001b[39m(\u001b[38;5;241m2\u001b[39m\u001b[38;5;241m*\u001b[39mnp\u001b[38;5;241m.\u001b[39mpi)))\n\u001b[1;32m---> 12\u001b[0m yvals \u001b[38;5;241m=\u001b[39m np\u001b[38;5;241m.\u001b[39masarray(yvals)\u001b[38;5;241m.\u001b[39mT\n\u001b[0;32m     13\u001b[0m ax\u001b[38;5;241m.\u001b[39mset_ylabel(\u001b[38;5;124mr\u001b[39m\u001b[38;5;124m'\u001b[39m\u001b[38;5;124m$\u001b[39m\u001b[38;5;124m\\\u001b[39m\u001b[38;5;124mmathrm\u001b[39m\u001b[38;5;132;01m{Im}\u001b[39;00m\u001b[38;5;124m\\\u001b[39m\u001b[38;5;124m{\u001b[39m\u001b[38;5;124mY(\u001b[39m\u001b[38;5;124m\\\u001b[39m\u001b[38;5;124momega_p)\u001b[39m\u001b[38;5;124m\\\u001b[39m\u001b[38;5;124m}$\u001b[39m\u001b[38;5;124m'\u001b[39m)\n\u001b[0;32m     14\u001b[0m ax\u001b[38;5;241m.\u001b[39mset_xlabel(\u001b[38;5;124mr\u001b[39m\u001b[38;5;124m'\u001b[39m\u001b[38;5;124m$L_J$ [nH]\u001b[39m\u001b[38;5;124m'\u001b[39m)\n",
      "\u001b[1;31mValueError\u001b[0m: setting an array element with a sequence. The requested array has an inhomogeneous shape after 1 dimensions. The detected shape was (5,) + inhomogeneous part."
     ]
    }
   ],
   "source": [
    "dstr = datetime.datetime.today().strftime('%y%m%d')\n",
    "lsize = 14\n",
    "cycle = plt.rcParams['axes.prop_cycle'].by_key()['color']\n",
    "clen = len(cycle)\n",
    "fig, ax = plt.subplots(1, 1, tight_layout=True)\n",
    "yvals = []\n",
    "for idx, LJ in enumerate(LJs):\n",
    "    y = ys[idx]\n",
    "    wpj, yre_int, yim_int, ypp_zero_xings = get_zero_crossings(fdata * 1e9, y, fscale=1e9)\n",
    "    yim = y.imag\n",
    "    yvals.append(yim_int(wpj/(2*np.pi)))\n",
    "yvals = np.asarray(yvals).T\n",
    "ax.set_ylabel(r'$\\mathrm{Im}\\{Y(\\omega_p)\\}$')\n",
    "ax.set_xlabel(r'$L_J$ [nH]')\n",
    "#ax.set_ylim(-5e-15, 5e-15)\n",
    "for yidx, yv in enumerate(yvals):\n",
    "    ax.semilogx(LJs/1e-9, yv, 'o-', label=r'Mode-%d' % (yidx + 1))\n",
    "    # ax.plot(LJs/1e-9, yv, 'o-', label=r'Mode-%d' % (yidx + 1))\n",
    "set_leg_outside(ax, 10)\n",
    "plt.show()"
   ]
  },
  {
   "cell_type": "code",
   "execution_count": 20,
   "metadata": {},
   "outputs": [
    {
     "data": {
      "image/png": "[encoded data removed]",
      "text/plain": [
       "<Figure size 640x480 with 1 Axes>"
      ]
     },
     "metadata": {},
     "output_type": "display_data"
    }
   ],
   "source": [
    "dstr = datetime.datetime.today().strftime('%y%m%d')\n",
    "lsize = 14\n",
    "cycle = plt.rcParams['axes.prop_cycle'].by_key()['color']\n",
    "clen = len(cycle)\n",
    "fig, ax = plt.subplots(1, 1, tight_layout=True)\n",
    "dys = []\n",
    "for idx, LJ in enumerate(LJs):\n",
    "    y = ys[idx]\n",
    "    yim = y.imag\n",
    "    wpj, yre_int, yim_int, ypp_zero_xings = get_zero_crossings(fdata * 1e9, y, fscale=1e9)\n",
    "    # ygrad = np.gradient(y, fdata[1]-fdata[0]) / 1e9\n",
    "    # idxs = np.where(np.diff(np.sign(yim))>0)[0]\n",
    "    # dys.append(ygrad[idxs].imag)\n",
    "    dys.append(ypp_zero_xings)\n",
    "dys = np.asarray(dys).T\n",
    "ax.set_ylabel(r'$\\frac{d\\mathrm{Im}\\{Y(\\omega_p)\\}}{d\\omega}$')\n",
    "ax.set_xlabel(r'$L_J$ [nH]')\n",
    "for yidx, yv in enumerate(dys):\n",
    "    ax.semilogx(LJs/1e-9, yv, 'o-', label=r'Mode-%d' % (yidx + 1))\n",
    "    # ax.plot(LJs/1e-9, yv, 'o-', label=r'Mode-%d' % (yidx + 1))\n",
    "set_leg_outside(ax, 10)\n",
    "plt.show()"
   ]
  },
  {
   "cell_type": "markdown",
   "metadata": {},
   "source": [
    "## Slider of all admittances"
   ]
  },
  {
   "cell_type": "code",
   "execution_count": null,
   "metadata": {},
   "outputs": [],
   "source": [
    "%matplotlib notebook\n",
    "%matplotlib inline\n",
    "from importlib import reload\n",
    "import matplotlib.pyplot as plt\n",
    "reload(plt)\n",
    "from matplotlib.widgets import Button, Slider\n",
    "\n",
    "fig, ax = plt.subplots()\n",
    "fig.subplots_adjust(bottom=0.25)\n",
    "yim = y0s[0].imag\n",
    "\n",
    "wpj0, yre_int, y0im_int, ypp_zero_xings = get_zero_crossings(fdata * 1e9, y0s[0], fscale=1e9)\n",
    "\n",
    "l, = ax.plot(fdata, y0s[0].imag, lw=2, color='tab:blue', marker='o', ms=3)\n",
    "m, = ax.plot(wpj0/(2*np.pi*1e9), y0im_int(wpj0/(2*np.pi)),\n",
    "             marker='*', color='tab:orange', ls='', ms=12)\n",
    "ax.axhline(y=0, color='k', ls='--', alpha=0.5)\n",
    "ax.set_ylim(-0.1, 0.1)\n",
    "ax.set_ylabel(r'$\\mathrm{Im}\\{Y(\\omega)\\}$')\n",
    "ax.set_xlabel('f [GHz]')\n",
    "\n",
    "ax_bot = fig.add_axes([0.25, 0.1, 0.65, 0.03])\n",
    "\n",
    "# create the sliders\n",
    "samp = Slider(\n",
    "    ax_bot, r'$L_J$ [index]', 0, LJs.size,\n",
    "    valinit=20, valstep=list(range(LJs.size+1)),\n",
    "    color=\"blue\"\n",
    ")\n",
    "\n",
    "def update(val):\n",
    "    idx = samp.val\n",
    "    if np.isclose(idx, 0):\n",
    "        l.set_ydata(y0s[0].imag)\n",
    "        m.set_xdata(wpj0/(2*np.pi*1e9))\n",
    "        m.set_ydata(y0im_int(wpj0/(2*np.pi)))\n",
    "    else:\n",
    "        ax.set_title(r'$L_J = %.2f$ nH' % (LJs[idx] / 1e-9))\n",
    "        y = ys[idx-1]\n",
    "        wpj, yre_int, yim_int, ypp_zero_xings = get_zero_crossings(fdata * 1e9, y, fscale=1e9)\n",
    "        l.set_ydata(y.imag)\n",
    "        m.set_xdata(wpj/(2*np.pi*1e9))\n",
    "        m.set_ydata(yim_int(wpj/(2*np.pi)))\n",
    "    fig.canvas.draw_idle()\n",
    "\n",
    "samp.on_changed(update)\n",
    "\n",
    "ax_reset = fig.add_axes([0.8, 0.025, 0.1, 0.04])\n",
    "button = Button(ax_reset, 'Reset', hovercolor='0.975')\n",
    "\n",
    "def reset(event):\n",
    "    samp.reset()\n",
    "    ax.set_title(r'$L_J\\to\\infty$ nH')\n",
    "    l.set_ydata(y0s[0].imag)\n",
    "    m.set_xdata(wpj0/(2*np.pi*1e9))\n",
    "    m.set_ydata(y0im_int(wpj0/(2*np.pi)))\n",
    "button.on_clicked(reset)\n",
    "\n",
    "plt.show()"
   ]
  },
  {
   "cell_type": "markdown",
   "metadata": {},
   "source": [
    "## Slider of real admittances"
   ]
  },
  {
   "cell_type": "code",
   "execution_count": null,
   "metadata": {},
   "outputs": [],
   "source": [
    "from matplotlib.widgets import Button, Slider\n",
    "%matplotlib notebook\n",
    "%matplotlib inline\n",
    "\n",
    "fig, ax = plt.subplots()\n",
    "fig.subplots_adjust(bottom=0.25)\n",
    "yim = y0s[0].imag\n",
    "\n",
    "wpj0, y0re_int, y0im_int, ypp_zero_xings = get_zero_crossings(fdata * 1e9, y0s[0], fscale=1e9)\n",
    "\n",
    "l, = ax.plot(fdata, y0s[0].real, lw=2, color='tab:blue', marker='o', ms=3)\n",
    "m, = ax.plot(wpj0/(2*np.pi*1e9), y0re_int(wpj0/(2*np.pi)),\n",
    "             marker='*', color='tab:orange', ls='', ms=12)\n",
    "#ax.set_ylim(-0.5e-9, 0.5e-8)\n",
    "ax.set_ylabel(r'$\\mathrm{Re}\\{Y(\\omega)\\}$')\n",
    "ax.set_xlabel('f [GHz]')\n",
    "\n",
    "ax_bot = fig.add_axes([0.25, 0.1, 0.65, 0.03])\n",
    "\n",
    "# create the sliders\n",
    "samp = Slider(\n",
    "    ax_bot, r'$L_J$ [index]', 0, LJs.size,\n",
    "    valinit=20, valstep=list(range(LJs.size+1)),\n",
    "    color=\"blue\"\n",
    ")\n",
    "\n",
    "def update(val):\n",
    "    idx = samp.val\n",
    "    if np.isclose(idx, 0):\n",
    "        l.set_ydata(y0s[0].real)\n",
    "        m.set_xdata(wpj0/(2*np.pi*1e9))\n",
    "        m.set_ydata(y0re_int(wpj0/(2*np.pi)))\n",
    "    else:\n",
    "        ax.set_title(r'$L_J = %.2f$ nH' % (LJs[idx] / 1e-9))\n",
    "        y = ys[idx-1]\n",
    "        wpj, yre_int, yim_int, ypp_zero_xings = get_zero_crossings(fdata * 1e9, y, fscale=1e9)\n",
    "        l.set_ydata(y.real)\n",
    "        m.set_xdata(wpj/(2*np.pi*1e9))\n",
    "        m.set_ydata(yre_int(wpj/(2*np.pi)))\n",
    "    fig.canvas.draw_idle()\n",
    "\n",
    "samp.on_changed(update)\n",
    "\n",
    "ax_reset = fig.add_axes([0.8, 0.025, 0.1, 0.04])\n",
    "button = Button(ax_reset, 'Reset', hovercolor='0.975')\n",
    "\n",
    "def reset(event):\n",
    "    samp.reset()\n",
    "    ax.set_title(r'$L_J\\to\\infty$ nH')\n",
    "    l.set_ydata(y0s[0].real)\n",
    "    m.set_xdata(wpj0/(2*np.pi*1e9))\n",
    "    m.set_ydata(y0re_int(wpj0/(2*np.pi)))\n",
    "button.on_clicked(reset)\n",
    "\n",
    "plt.show()"
   ]
  },
  {
   "cell_type": "markdown",
   "metadata": {},
   "source": [
    "## Plot the modes of coupled structure"
   ]
  },
  {
   "cell_type": "code",
   "execution_count": null,
   "metadata": {},
   "outputs": [],
   "source": [
    "fig, ax = plt.subplots(1, 1, tight_layout=True)\n",
    "dstr = datetime.datetime.today().strftime('%y%m%d')\n",
    "lsize = 14\n",
    "fscale = 1e9\n",
    "cycle = plt.rcParams['axes.prop_cycle'].by_key()['color']\n",
    "clen = len(cycle)\n",
    "for idx, wppp in enumerate(wps1):\n",
    "    ax.plot(LJs/1e-9, wppp/(2*np.pi*fscale),\n",
    "            'o', label=r'Mode-%d' % (idx + 1),\n",
    "            color=cycle[idx%clen])\n",
    "    #ax.plot(LJs/1e-9, [wps0[idx]/(2*np.pi*fscale)]*len(LJs),\n",
    "    #        '--', color=cycle[idx%clen])\n",
    "ax.set_xlabel(r'$L_J$ [nH]', fontsize=fsize)\n",
    "ax.set_ylabel(r'Eigenfrequencies [GHz]', fontsize=fsize)\n",
    "set_xaxis_rot(ax, 45)\n",
    "#ax.plot(LJs/1e-9, fJ/fscale, '--', label='Coupler\\nMode\\n'+r'$(L_JC_J)^{-1/2}$',\n",
    "#       color=cycle[(idx+1)%clen])\n",
    "#ax.set_ylim([0, 20.])\n",
    "set_axes_fonts(ax, fsize)\n",
    "leg = set_leg_outside(ax, lsize)\n",
    "ax.set_xscale('log')\n",
    "fig.savefig(f'../figs/modes_term_bbq_inductive_planar_sapphire_{dstr}.pdf',\n",
    "             bbox_extra_artists=(leg, ), bbox_inches='tight',\n",
    "            transparent=True, format='pdf')"
   ]
  },
  {
   "cell_type": "markdown",
   "metadata": {},
   "source": [
    "## Plot the splittings of the lowest modes vs LJ"
   ]
  },
  {
   "cell_type": "code",
   "execution_count": null,
   "metadata": {},
   "outputs": [],
   "source": [
    "fig, ax = plt.subplots(1, 1, tight_layout=True)\n",
    "lsize = 14\n",
    "fscale2 = 1e6\n",
    "cycle = plt.rcParams['axes.prop_cycle'].by_key()['color']\n",
    "clen = len(cycle)\n",
    "ax.plot(LJs/1e-9, (wps1[1]-wps1[0])/(2*np.pi*fscale2),\n",
    "           'o-',\n",
    "            color=cycle[0%clen])\n",
    "# ax.plot(LJs/1e-9, np.ones(LJs.size) * dw/(fscale2), 'k--')\n",
    "ax.set_xlabel(r'$L_J$ [nH]', fontsize=fsize)\n",
    "ax.set_ylabel(r'Mode Splitting (1,2) [MHz]', fontsize=fsize)\n",
    "set_xaxis_rot(ax, 45)\n",
    "set_axes_fonts(ax, fsize)\n",
    "#ax.set_ylim([0, 150])\n",
    "#ax.set_xlim([0.5, 2.2])\n",
    "ax.set_xscale('log')\n",
    "fig.savefig(f'../figs/modes_splitting_term_bbq_inductive_planar_sapphire_{dstr}.pdf',\n",
    "            format='pdf')"
   ]
  },
  {
   "cell_type": "markdown",
   "metadata": {},
   "source": [
    "## Mode losses"
   ]
  },
  {
   "cell_type": "code",
   "execution_count": null,
   "metadata": {},
   "outputs": [],
   "source": [
    "fig, ax = plt.subplots(1, 1, tight_layout=True)\n",
    "lsize = 14\n",
    "cycle = plt.rcParams['axes.prop_cycle'].by_key()['color']\n",
    "clen = len(cycle)\n",
    "for idx, Q in enumerate(Qps1):\n",
    "    ax.plot(LJs/1e-9, 1./Q,\n",
    "            'o-', label=r'Mode-%d' % (idx + 1),\n",
    "            color=cycle[idx%clen])\n",
    "ax.plot(LJs/1e-9, 2e-8 * np.ones(len(LJs)),\n",
    "        'k--', label=r'$\\tan\\delta$')\n",
    "ax.set_xlabel(r'$L_J$ [nH]', fontsize=fsize)\n",
    "ax.set_ylabel(r'$Q_p^{-1}$', fontsize=fsize)\n",
    "set_xaxis_rot(ax, 45)\n",
    "set_axes_fonts(ax, fsize)\n",
    "set_leg_outside(ax, lsize)\n",
    "ax.set_xscale('log')\n",
    "ax.set_yscale('log')\n",
    "fig.savefig(f'../figs/mode_losses_no_filter.pdf', bbox_extra_artists=(leg, ), bbox_inches='tight',\n",
    "            transparent=True, format='pdf')"
   ]
  },
  {
   "cell_type": "code",
   "execution_count": null,
   "metadata": {},
   "outputs": [],
   "source": [
    "np.max(1./Qps1[0]) / np.min(1./Qps1[0])"
   ]
  },
  {
   "cell_type": "markdown",
   "metadata": {},
   "source": [
    "## Mode $T_1$'s"
   ]
  },
  {
   "cell_type": "code",
   "execution_count": null,
   "metadata": {},
   "outputs": [],
   "source": [
    "fig, ax = plt.subplots(1, 1, tight_layout=True)\n",
    "lsize = 14\n",
    "fscale2 = 1e6\n",
    "cycle = plt.rcParams['axes.prop_cycle'].by_key()['color']\n",
    "clen = len(cycle)\n",
    "for idx, Q in enumerate(Qps1):\n",
    "    ax.plot(LJs/1e-9, 1e6 * Q / wps1[idx],\n",
    "            'o-', label=r'Mode-%d' % (idx + 1),\n",
    "            color=cycle[idx%clen])\n",
    "ax.plot(LJs/1e-9, 100*np.ones(LJs.size), 'k:',\n",
    "        lw=2, label=r'100 $\\mu$s $T_1$')\n",
    "ax.set_xlabel(r'$L_J$ [nH]', fontsize=fsize)\n",
    "ax.set_ylabel(r'$T_1$ [$\\mu$s]', fontsize=fsize)\n",
    "# ax.plot(LJs/1e-9, np.ones(LJs.size) * dw/(fscale2), 'k--')\n",
    "set_xaxis_rot(ax, 45)\n",
    "set_axes_fonts(ax, fsize)\n",
    "set_leg_outside(ax, lsize)\n",
    "#ax.set_ylim([1e-2, 350])\n",
    "#ax.set_xlim([0.5, 2.2])\n",
    "ax.set_xscale('log')\n",
    "ax.set_yscale('log')\n",
    "fig.savefig(f'../figs/T1_modes_coupled_{dstr}.pdf',\n",
    "            format='pdf')"
   ]
  },
  {
   "cell_type": "markdown",
   "metadata": {},
   "source": [
    "## Black box results"
   ]
  },
  {
   "cell_type": "markdown",
   "metadata": {},
   "source": [
    "### $\\alpha_p$ and $\\chi_{pq}$"
   ]
  },
  {
   "cell_type": "code",
   "execution_count": null,
   "metadata": {},
   "outputs": [],
   "source": [
    "fig, ax = plt.subplots(1, 1, tight_layout=True)\n",
    "lsize = 14\n",
    "cycle = plt.rcParams['axes.prop_cycle'].by_key()['color']\n",
    "clen = len(cycle)\n",
    "Nmodes = 4\n",
    "fscale3 = 1e3\n",
    "for idx in range(Nmodes):\n",
    "    ax.plot(LJs/1e-9, 0.5 * np.abs(chis1[idx, idx, :]) / fscale3,\n",
    "            'o-', label=r'Mode-%d' % (idx + 1),\n",
    "            color=cycle[idx%clen])\n",
    "ax.set_xlabel(r'$L_J$ [nH]', fontsize=fsize)\n",
    "ax.set_ylabel(r'$|\\alpha_p|$ [kHz]', fontsize=fsize)\n",
    "set_xaxis_rot(ax, 45)\n",
    "set_axes_fonts(ax, fsize)\n",
    "set_leg_outside(ax, lsize)\n",
    "ax.set_xscale('log')\n",
    "ax.set_yscale('log')\n",
    "fig.savefig(f'../figs/mode_alpha_term_bbq_inductive_planar_sapphire_{dstr}.pdf', format='pdf')"
   ]
  },
  {
   "cell_type": "code",
   "execution_count": null,
   "metadata": {},
   "outputs": [],
   "source": [
    "# Chi, lower triangle\n",
    "chiT = np.array([np.triu(chis1[:,:,i]) for i in range(len(LJs))]).T\n",
    "gT = np.array([np.triu(gDs1[:,:,i]) for i in range(len(LJs))]).T\n",
    "NM = 2\n",
    "chiT[0:NM,0:NM,0]\n",
    "\n",
    "fig, ax = plt.subplots(1, 1, tight_layout=True)\n",
    "lsize = 14\n",
    "cycle = plt.rcParams['axes.prop_cycle'].by_key()['color']\n",
    "clen = len(cycle)\n",
    "NM = 2\n",
    "idx = 0\n",
    "for i in range(NM):\n",
    "    for j in range(NM):\n",
    "        if (i != j) and np.any(chiT[i, j, :] != 0.):\n",
    "            ax.plot(LJs/1e-9, np.abs(chiT[i, j, :]) / fscale3,\n",
    "                'o-', label=r'$\\chi_{%d,%d}$' % (i + 1, j + 1),\n",
    "                color=cycle[idx%clen])\n",
    "            idx += 1\n",
    "ax.set_xlabel(r'$L_J$ [nH]', fontsize=fsize)\n",
    "ax.set_ylabel(r'$|\\chi_{pq}|$ [kHz]', fontsize=fsize)\n",
    "set_xaxis_rot(ax, 45)\n",
    "set_axes_fonts(ax, fsize)\n",
    "set_leg_outside(ax, lsize)\n",
    "ax.set_xscale('log')\n",
    "ax.set_yscale('log')\n",
    "fig.savefig(f'../figs/mode_chi_term_bbq_inductive_planar_sapphire_{dstr}.pdf', format='pdf')"
   ]
  },
  {
   "cell_type": "code",
   "execution_count": null,
   "metadata": {},
   "outputs": [],
   "source": [
    "fig, ax = plt.subplots(1, 1, tight_layout=True)\n",
    "lsize = 14\n",
    "cycle = plt.rcParams['axes.prop_cycle'].by_key()['color']\n",
    "clen = len(cycle)\n",
    "NM = 2\n",
    "idx = 0\n",
    "for i in range(NM):\n",
    "    for j in range(NM):\n",
    "        if (i != j) and np.any(gT[i, j, :] != 0.):\n",
    "            ax.plot(LJs/1e-9, np.abs(gT[i, j, :]) / fscale3,\n",
    "                'o-', label=r'$g_{%d,%d}$' % (i + 1, j + 1),\n",
    "                color=cycle[idx%clen])\n",
    "            idx += 1\n",
    "ax.set_xlabel(r'$L_J$ [nH]', fontsize=fsize)\n",
    "ax.set_ylabel(r'$|g_{pq}|$ [kHz]', fontsize=fsize)\n",
    "set_xaxis_rot(ax, 45)\n",
    "set_axes_fonts(ax, fsize)\n",
    "set_leg_outside(ax, lsize)\n",
    "ax.set_xscale('log')\n",
    "ax.set_yscale('log')\n",
    "fig.savefig(f'../figs/mode_g_term_bbq_inductive_planar_sapphire_{dstr}.pdf', format='pdf')"
   ]
  },
  {
   "cell_type": "markdown",
   "metadata": {},
   "source": [
    "## Plot the circuit parameters"
   ]
  },
  {
   "cell_type": "code",
   "execution_count": null,
   "metadata": {},
   "outputs": [],
   "source": [
    "fig, ax = plt.subplots(1, 1, tight_layout=True)\n",
    "lsize = 14\n",
    "cycle = plt.rcParams['axes.prop_cycle'].by_key()['color']\n",
    "clen = len(cycle)\n",
    "Nmodes = 4\n",
    "fscale3 = 1e3\n",
    "# Lps1, Cps1, Qps1,\n",
    "for idx in range(Nmodes):\n",
    "    ax.plot(LJs/1e-9, Lps1[idx] / 1e-9,\n",
    "            'o-', label=r'Mode-%d' % (idx + 1),\n",
    "            color=cycle[idx%clen])\n",
    "ax.set_xlabel(r'$L_J$ [nH]', fontsize=fsize)\n",
    "ax.set_ylabel(r'$L_p$ [nH]', fontsize=fsize)\n",
    "set_xaxis_rot(ax, 45)\n",
    "set_axes_fonts(ax, fsize)\n",
    "set_leg_outside(ax, lsize)\n",
    "ax.set_xscale('log')\n",
    "ax.set_yscale('log')"
   ]
  },
  {
   "cell_type": "code",
   "execution_count": null,
   "metadata": {},
   "outputs": [],
   "source": [
    "fig, ax = plt.subplots(1, 1, tight_layout=True)\n",
    "lsize = 14\n",
    "cycle = plt.rcParams['axes.prop_cycle'].by_key()['color']\n",
    "clen = len(cycle)\n",
    "Nmodes = 4\n",
    "fscale3 = 1e3\n",
    "# Lps1, Cps1, Qps1,\n",
    "for idx in range(Nmodes):\n",
    "    ax.plot(LJs/1e-9, Cps1[idx] / 1e-15,\n",
    "            'o-', label=r'Mode-%d' % (idx + 1),\n",
    "            color=cycle[idx%clen])\n",
    "ax.set_xlabel(r'$L_J$ [nH]', fontsize=fsize)\n",
    "ax.set_ylabel(r'$C_p$ [fF]', fontsize=fsize)\n",
    "set_xaxis_rot(ax, 45)\n",
    "set_axes_fonts(ax, fsize)\n",
    "set_leg_outside(ax, lsize)\n",
    "ax.set_xscale('log')\n",
    "ax.set_yscale('log')"
   ]
  },
  {
   "cell_type": "code",
   "execution_count": null,
   "metadata": {},
   "outputs": [],
   "source": [
    "fig, ax = plt.subplots(1, 1, tight_layout=True)\n",
    "lsize = 14\n",
    "cycle = plt.rcParams['axes.prop_cycle'].by_key()['color']\n",
    "clen = len(cycle)\n",
    "Nmodes = 4\n",
    "fscale3 = 1e3\n",
    "# Lps1, Cps1, Qps1,\n",
    "for idx in range(Nmodes):\n",
    "    ax.plot(LJs/1e-9, Rps1[idx],\n",
    "            'o-', label=r'Mode-%d' % (idx + 1),\n",
    "            color=cycle[idx%clen])\n",
    "ax.set_xlabel(r'$L_J$ [nH]', fontsize=fsize)\n",
    "ax.set_ylabel(r'$R_p$ [$\\Omega$]', fontsize=fsize)\n",
    "set_xaxis_rot(ax, 45)\n",
    "#ax.set_ylim(1e8, 5e10)\n",
    "set_axes_fonts(ax, fsize)\n",
    "set_leg_outside(ax, lsize)\n",
    "ax.set_xscale('log')\n",
    "ax.set_yscale('log')"
   ]
  },
  {
   "cell_type": "code",
   "execution_count": null,
   "metadata": {},
   "outputs": [],
   "source": [
    "wsize = 19\n",
    "order = 1\n",
    "wrange = 175\n",
    "yresmooth = savitzky_golay_smoothing(ys[-1][0:wrange].real+2e-11, wsize, order)\n",
    "fig, ax = plt.subplots(1, 1, tight_layout=True)\n",
    "lsize = 14\n",
    "cycle = plt.rcParams['axes.prop_cycle'].by_key()['color']\n",
    "clen = len(cycle)\n",
    "Nmodes = 4\n",
    "ax.plot(fdata, (ys[-1].real+2e-11)/1e-10, color='tab:blue', marker='o', ls='', \n",
    "        label='Shifted\\nRaw Data')\n",
    "ax.plot(fdata[0:wrange], yresmooth/1e-10, color='tab:red',\n",
    "        label='Savitzky-Golay\\nSmoothed')\n",
    "#ax.set_ylim(-0.5, 3.0)\n",
    "#ax.set_xlim(0, 5.4)\n",
    "set_axes_fonts(ax, fsize)\n",
    "ax.set_ylabel(r'$\\mathrm{Re}\\{Y(\\omega)\\}\\times 10^{-10}\\,\\mathrm{S}$',\n",
    "              fontsize=fsize)\n",
    "ax.set_xlabel('Frequency [GHz]', fontsize=fsize)\n",
    "leg = set_leg_outside(ax, lsize)\n",
    "fig.savefig(f'../figs/savitzky_golay_smoothed_zoom_ReY.pdf',\n",
    "             bbox_extra_artists=(leg, ), bbox_inches='tight',\n",
    "            transparent=True, format='pdf')"
   ]
  },
  {
   "cell_type": "code",
   "execution_count": null,
   "metadata": {},
   "outputs": [],
   "source": [
    "wsize = 19\n",
    "order = 1\n",
    "wrange = 175\n",
    "yresmooth = savitzky_golay_smoothing(ys[-1][0:wrange].real+2e-11, wsize, order)\n",
    "fig, ax = plt.subplots(1, 1, figsize=(8,6), tight_layout=True)\n",
    "lsize = 14\n",
    "cycle = plt.rcParams['axes.prop_cycle'].by_key()['color']\n",
    "clen = len(cycle)\n",
    "Nmodes = 4\n",
    "ax.plot(fdata, ys[-1].real/1e-2, color='tab:gray', marker='o', ls='', \n",
    "        label='Raw Data', alpha=0.5)\n",
    "ax.plot(fdata, (ys[-1].real+2e-11)/1e-2, color='tab:blue', marker='d', ls='', \n",
    "        label='Shifted\\nRaw Data')\n",
    "ax.plot(fdata[0:wrange], yresmooth/1e-2, color='tab:red',\n",
    "        label='Savitzky-Golay\\nSmoothed')\n",
    "# Plot the zeros\n",
    "wpj, yre_int, yim_int, ypp_zero_xings = get_zero_crossings(fdata * 1e9, ys[-1], fscale=1e9)\n",
    "ax.plot(wpj/(2*np.pi*1e9), yre_int(wpj/(2*np.pi))/1e-2, ls='',\n",
    "       ms=10, marker='*', color='tab:orange',\n",
    "       label='Resonances')\n",
    "set_xaxis_rot(ax, 45)\n",
    "#ax.set_ylim(-0.5, 3.0)\n",
    "ax.set_ylim(-0.5, 3)\n",
    "set_axes_fonts(ax, fsize)\n",
    "ax.set_ylabel(r'$\\mathrm{Re}\\{Y(\\omega)\\}\\,[10^{-2}\\,\\mathrm{S}]$',\n",
    "              fontsize=fsize)\n",
    "ax.set_xlabel('Frequency [GHz]', fontsize=fsize)\n",
    "leg = set_leg_outside(ax, lsize)\n",
    "fig.savefig(f'../figs/savitzky_golay_smoothed_ReY.pdf',\n",
    "             bbox_extra_artists=(leg, ), bbox_inches='tight',\n",
    "            transparent=True, format='pdf')"
   ]
  },
  {
   "cell_type": "code",
   "execution_count": null,
   "metadata": {},
   "outputs": [],
   "source": [
    "wsize = 19\n",
    "order = 1\n",
    "wrange = 175\n",
    "yresmooth = savitzky_golay_smoothing(ys[-1][0:wrange].real+2e-11, wsize, order)\n",
    "fig, ax = plt.subplots(1, 1, figsize=(8, 6), tight_layout=True)\n",
    "lsize = 14\n",
    "cycle = plt.rcParams['axes.prop_cycle'].by_key()['color']\n",
    "clen = len(cycle)\n",
    "Nmodes = 4\n",
    "ax.plot(fdata, ys[-1].imag, color='tab:gray', marker='o', ls='', \n",
    "        label='Raw Data', alpha=0.5)\n",
    "ax.axhline(y=0, color='k', ls='--')\n",
    "# Plot the zeros\n",
    "wpj, yre_int, yim_int, ypp_zero_xings = get_zero_crossings(fdata * 1e9, ys[-1], fscale=1e9)\n",
    "ax.plot(wpj/(2*np.pi*1e9), yim_int(wpj/(2*np.pi)), ls='',\n",
    "       ms=10, marker='*', color='tab:orange',\n",
    "       label='Resonances')\n",
    "\n",
    "ax.set_ylim(-0.05, 0.05)\n",
    "# ax.set_xlim(0, 5.4)\n",
    "set_axes_fonts(ax, fsize)\n",
    "set_xaxis_rot(ax, 45)\n",
    "ax.set_ylabel(r'$\\mathrm{Im}\\{Y(\\omega)\\}\\,[\\mathrm{S}]$',\n",
    "              fontsize=fsize)\n",
    "ax.set_xlabel('Frequency [GHz]', fontsize=fsize)\n",
    "leg = set_leg_outside(ax, lsize)\n",
    "fig.savefig(f'../figs/yim_comparison.pdf',\n",
    "             bbox_extra_artists=(leg, ), bbox_inches='tight',\n",
    "            transparent=True, format='pdf')"
   ]
  },
  {
   "cell_type": "markdown",
   "metadata": {},
   "source": [
    "## Eigenmode Analysis"
   ]
  },
  {
   "cell_type": "markdown",
   "metadata": {},
   "source": [
    "### Load the data from file"
   ]
  },
  {
   "cell_type": "code",
   "execution_count": null,
   "metadata": {},
   "outputs": [],
   "source": [
    "wdata = np.genfromtxt('../data/two_post_coupler_modes_231030.csv', names=True, delimiter=',')\n",
    "wdata = np.genfromtxt('../data/two_post_coupler_modes_231121.csv', names=True, delimiter=',')\n",
    "wdata = np.genfromtxt('../data/two_post_coupler_modes_vacuum_231121.csv', names=True, delimiter=',')\n",
    "\n",
    "# Data for the open and short circuit cases\n",
    "wshort = np.asarray([7.06010, 8.00722, 9.07815, 9.07985])\n",
    "wopen = np.asarray([6.92575, 7.05794, 9.07463, 9.07722])\n",
    "\n",
    "print(f'{wdata.dtype}')\n",
    "LJs = wdata['LJ_nH']\n",
    "Nmodes = 4\n",
    "modes = np.array([wdata[f'reMode{mode:d}_'] for mode in range(1, Nmodes+1)])"
   ]
  },
  {
   "cell_type": "markdown",
   "metadata": {},
   "source": [
    "### Fit the mode that tunes to a simple circuit model"
   ]
  },
  {
   "cell_type": "code",
   "execution_count": null,
   "metadata": {},
   "outputs": [],
   "source": [
    "from scipy.optimize import curve_fit\n",
    "import uncertainties\n",
    "def fitmodes(LJ, L, C, w0):\n",
    "    return 1. / np.sqrt((L + LJ) * C) + w0\n",
    "\n",
    "popt, pcov = curve_fit(fitmodes, LJs * 1e-9, 2*np.pi*modes_to_fit, p0=(1e-9, 150e-15, 2*np.pi*7e9))\n",
    "errors = np.sqrt(np.diag(pcov))\n",
    "mode_fit = fitmodes(LJs*1e-9, *popt) / (2*np.pi)\n",
    "upper = fitmodes(LJs*1e-9, *(popt + 2 * errors)) / (2 * np.pi)\n",
    "lower = fitmodes(LJs*1e-9, *(popt - 2 * errors)) / (2 * np.pi)"
   ]
  },
  {
   "cell_type": "code",
   "execution_count": null,
   "metadata": {},
   "outputs": [],
   "source": [
    "L, C, w0 = popt\n",
    "1./np.sqrt(L * C * (2*np.pi)**2) / 1e9, w0 / (2 * np.pi * 1e9), L / 1e-9, C / 1e-12"
   ]
  },
  {
   "cell_type": "code",
   "execution_count": null,
   "metadata": {},
   "outputs": [],
   "source": [
    "def format_error_string(param_str, val, val_err, units=None):\n",
    "    \"\"\"\n",
    "    Formats the value, error and label with uncertainties\n",
    "    \"\"\"\n",
    "    round_sigfig = lambda x, n : round(x, n -\n",
    "    int(np.floor(np.log10(abs(x)))) - 1)\n",
    "\n",
    "    # Handle inf case\n",
    "    if np.isclose(val_err, np.inf) or np.isclose(val_err, 0, atol=1e-16):\n",
    "        val_err = np.inf\n",
    "        out_str = r'$%s: %.2g\\pm %g$' % (param_str, val, val_err)\n",
    "    else:\n",
    "        val_err = round_sigfig(val_err, 1)\n",
    "\n",
    "    ## Uncertainty objects\n",
    "    val_un = uncertainties.ufloat(val, val_err)\n",
    "\n",
    "    # Build a string with the results\n",
    "    latex_str = f'{val_un:L}'\n",
    "    out_str = r'$%s: %s$' % (param_str, latex_str)\n",
    "    \n",
    "    if units is not None:\n",
    "        out_str += ' %s' % units\n",
    "    \n",
    "    return out_str"
   ]
  },
  {
   "cell_type": "code",
   "execution_count": null,
   "metadata": {},
   "outputs": [],
   "source": [
    "fig, ax = plt.subplots(1, 1, tight_layout=True, figsize=(8, 6))\n",
    "dstr = datetime.datetime.today().strftime('%y%m%d')\n",
    "lsize = 14\n",
    "fscale = 1e9\n",
    "fsize = 20\n",
    "cycle = plt.rcParams['axes.prop_cycle'].by_key()['color']\n",
    "clen = len(cycle)\n",
    "mode_names = ['Mode-1 (Comm)', 'Mode-2 (Diff)', 'Mode-3', 'Mode-4']\n",
    "for idx, wppp in enumerate(modes):\n",
    "    ax.plot(LJs, wppp/(fscale),\n",
    "            'o', label=mode_names[idx],\n",
    "            color=cycle[idx%clen])\n",
    "    ax.plot([1e-2], wshort[idx], '*',\n",
    "           color=cycle[idx%clen])\n",
    "    ax.plot([1e3], wopen[idx], 'x',\n",
    "           color=cycle[idx%clen])\n",
    "    #ax.plot(LJs/1e-9, [wps0[idx]/(2*np.pi*fscale)]*len(LJs),\n",
    "    #        '--', color=cycle[idx%clen])\n",
    "\n",
    "# Best fit label\n",
    "wscale = 2*np.pi*1e9\n",
    "Lscale = 1e-9\n",
    "Cscale = 1e-12\n",
    "L_label = format_error_string(r'L', popt[0]/Lscale, errors[0]/Lscale, units='nH')\n",
    "C_label = format_error_string(r'C', popt[1]/Cscale, errors[1]/Cscale, units='pF')\n",
    "w0_label = format_error_string(r'\\omega_0\\,/\\,2\\pi',\n",
    "                               popt[2]/wscale, errors[2]/wscale, units='GHz')\n",
    "prelabel = r'$\\omega_0 + \\frac{1}{\\sqrt{(L+L_J)C}}$'\n",
    "label =  '\\n'.join([prelabel, L_label, C_label, w0_label])\n",
    "ax.plot(LJs, mode_fit/1e9, '-', color=cycle[1], label=label)\n",
    "ax.fill_between(LJs, lower/1e9, y2=upper/1e9, color=cycle[1], alpha=0.25)\n",
    "ax.set_xlabel(r'$L_J$ [nH]', fontsize=fsize)\n",
    "ax.set_ylabel(r'Eigenfrequencies [GHz]', fontsize=fsize)\n",
    "set_xaxis_rot(ax, 45)\n",
    "#ax.plot(LJs/1e-9, fJ/fscale, '--', label='Coupler\\nMode\\n'+r'$(L_JC_J)^{-1/2}$',\n",
    "#       color=cycle[(idx+1)%clen])\n",
    "ax.set_ylim([6., 9.52])\n",
    "set_axes_fonts(ax, fsize)\n",
    "# leg = ax.legend(loc=(0.05, 0.08), fontsize=12)\n",
    "# leg = ax.legend(loc='best', fontsize=12)\n",
    "leg = set_leg_outside(ax, 12)\n",
    "ax.set_xscale('log')\n",
    "#plt.grid(True, which='both')\n",
    "fig.savefig(f'../figs/modes_eigenmode_two_post_coupler_{dstr}.svg',\n",
    "             bbox_extra_artists=(leg, ), bbox_inches='tight',\n",
    "            transparent=True, format='svg')"
   ]
  },
  {
   "cell_type": "markdown",
   "metadata": {},
   "source": [
    "## Fully Coupled Structure Modes vs. $L_J$"
   ]
  },
  {
   "cell_type": "code",
   "execution_count": null,
   "metadata": {},
   "outputs": [],
   "source": [
    "wdata = np.genfromtxt('../data/modes_vs_LJ_fully_coupled_structure_lambda2_240326.csv', names=True, delimiter=',')\n",
    "# wdata = np.genfromtxt('../data/modes_vs_LJ_fully_coupled_structure_240319.csv', names=True, delimiter=',')\n",
    "Nmodes = 6\n",
    "modes = np.array([wdata[f'reMode{mode:d}_'] for mode in range(1, Nmodes+1)])\n",
    "LJs = wdata['LJ_nH']"
   ]
  },
  {
   "cell_type": "code",
   "execution_count": null,
   "metadata": {},
   "outputs": [],
   "source": [
    "fig, ax = plt.subplots(1, 1, tight_layout=True, figsize=(8, 6))\n",
    "dstr = datetime.datetime.today().strftime('%y%m%d')\n",
    "lsize = 14\n",
    "fscale = 1e9\n",
    "fsize = 20\n",
    "cycle = plt.rcParams['axes.prop_cycle'].by_key()['color']\n",
    "clen = len(cycle)\n",
    "mode_names = ['Mode-1 (left cav)', 'Mode-2 (right cav)',\n",
    "              'Mode-3 (Comm)', 'Mode-4 (Diff)',\n",
    "              'Mode-5 (center cylinder)', 'Mode-6 (center cylinder)']\n",
    "err = 0.02 * 1e-2\n",
    "for idx, wppp in enumerate(modes):\n",
    "    ax.errorbar(LJs, wppp/(fscale),\n",
    "                yerr=err * wppp/(fscale),\n",
    "            marker='o', label=mode_names[idx],\n",
    "            color=cycle[idx%clen],\n",
    "               capsize=5)\n",
    "ax.set_xlabel(r'$L_J$ [nH]', fontsize=fsize)\n",
    "ax.set_ylabel(r'Eigenfrequencies [GHz]', fontsize=fsize)\n",
    "set_xaxis_rot(ax, 45)\n",
    "# ax.set_ylim([4.8, 4.9])\n",
    "set_axes_fonts(ax, fsize)\n",
    "leg = set_leg_outside(ax, 12)\n",
    "ax.set_xscale('log')\n",
    "#plt.grid(True, which='both')\n",
    "fig.savefig(f'../figs/modes_eigenmode_two_post_coupler_full_structure_m21_{dstr}.svg',\n",
    "             bbox_extra_artists=(leg, ), bbox_inches='tight',\n",
    "            transparent=True, format='svg')"
   ]
  },
  {
   "cell_type": "code",
   "execution_count": null,
   "metadata": {},
   "outputs": [],
   "source": [
    "fig, ax = plt.subplots(1, 1, tight_layout=True, figsize=(8, 6))\n",
    "dstr = datetime.datetime.today().strftime('%y%m%d')\n",
    "lsize = 14\n",
    "fscale = 1e9\n",
    "cscale = 1e6\n",
    "fsize = 20\n",
    "cycle = plt.rcParams['axes.prop_cycle'].by_key()['color']\n",
    "clen = len(cycle)\n",
    "err = 0.05 * 1e-2\n",
    "mode_names = ['Mode-1 (left cav)', 'Mode-2 (right cav)',\n",
    "              'Mode-3 (Comm)', 'Mode-4 (Diff)',\n",
    "              'Mode-5 (center cylinder)', 'Mode-6 (center cylinder)']\n",
    "ax.errorbar(LJs, (modes[1]-modes[0])/(cscale),\n",
    "            yerr=err*np.sqrt(modes[1]**2 + modes[2]**2)/(cscale),\n",
    "            marker='o',capsize=5)\n",
    "ax.set_xlabel(r'$L_J$ [nH]', fontsize=fsize)\n",
    "ax.set_ylabel(r'Mode splitting (2-1) [MHz]', fontsize=fsize)\n",
    "set_xaxis_rot(ax, 45)\n",
    "# ax.set_ylim([4.8, 4.9])\n",
    "set_axes_fonts(ax, fsize)\n",
    "leg = set_leg_outside(ax, 12)\n",
    "ax.set_xscale('log')\n",
    "#plt.grid(True, which='both')\n",
    "fig.savefig(f'../figs/modes_eigenmode_two_post_coupler_full_structure_m21_{dstr}.svg',\n",
    "             bbox_extra_artists=(leg, ), bbox_inches='tight',\n",
    "            transparent=True, format='svg')"
   ]
  },
  {
   "cell_type": "markdown",
   "metadata": {},
   "source": [
    "## Fully coupled structure modes vs. cavity offset"
   ]
  },
  {
   "cell_type": "code",
   "execution_count": null,
   "metadata": {},
   "outputs": [],
   "source": [
    "wdata = np.genfromtxt('../data/modes_vs_cavity_offset_lambda2_structure_240326.csv', names=True, delimiter=',')\n",
    "# wdata = np.genfromtxt('../data/modes_vs_LJ_fully_coupled_structure_240319.csv', names=True, delimiter=',')\n",
    "Nmodes = 6\n",
    "modes = np.array([wdata[f'reMode{mode:d}_'] for mode in range(1, Nmodes+1)])\n",
    "x = wdata['ab_offset_mm']"
   ]
  },
  {
   "cell_type": "markdown",
   "metadata": {},
   "source": [
    "## Micromachined cavity, orientation 1"
   ]
  },
  {
   "cell_type": "code",
   "execution_count": null,
   "metadata": {},
   "outputs": [],
   "source": [
    "# wdata = np.genfromtxt('../data/mu_machined_b_actual_dimensions_modes_vs_ytunnel_240417.csv', names=True, delimiter=',')\n",
    "wdata = np.genfromtxt('../data/mu_machined_b_actual_dimensions_modes_vs_LJ_240430.csv', names=True, delimiter=',')\n",
    "wdata = np.genfromtxt('../data/mu_machined_a_actual_dimensions_modes_vs_LJ_240521.csv', names=True, delimiter=',')\n",
    "# wdata = np.genfromtxt('../data/mu_machined_b_actual_dimensions_modes_vs_hcav_240501.csv', names=True, delimiter=',')\n",
    "# wdata = np.genfromtxt('../data/modes_vs_LJ_fully_coupled_structure_240319.csv', names=True, delimiter=',')\n",
    "# wdata = np.genfromtxt('../data/mu_machined_b_actual_dimensions_modes_vs_hcav_LJ_240514.csv', names=True, delimiter=',')\n",
    "Nmodes = 8\n",
    "modes = np.array([wdata[f'reMode{mode:d}_'] for mode in range(1, Nmodes+1)])\n",
    "# x = wdata['ytunnel_mm']\n",
    "x = wdata['LJ_nH']\n",
    "# x = np.unique(wdata['hcav_mm'])\n",
    "# y = np.unique(wdata['LJ_nH'])"
   ]
  },
  {
   "cell_type": "code",
   "execution_count": null,
   "metadata": {},
   "outputs": [],
   "source": [
    "x"
   ]
  },
  {
   "cell_type": "code",
   "execution_count": null,
   "metadata": {},
   "outputs": [],
   "source": [
    "modes"
   ]
  },
  {
   "cell_type": "code",
   "execution_count": null,
   "metadata": {},
   "outputs": [],
   "source": [
    "modes3d = modes.reshape([Nmodes, y.size, x.size])"
   ]
  },
  {
   "cell_type": "code",
   "execution_count": null,
   "metadata": {},
   "outputs": [],
   "source": [
    "for i in range(Nmodes):\n",
    "    fname = f'mode_{i}_vs_hcav_LJ.pdf'\n",
    "    plot_2d_cmap(x,\n",
    "        y,\n",
    "        modes3d[i, :, :] / 1e9,\n",
    "        fname,\n",
    "        xstr=r'$h_{\\mathrm{cav}}$ [mm]',\n",
    "        ystr=r'$L_J$ [nH]',\n",
    "        tstr='',\n",
    "        cbar_str=f'Mode-{i+1}\\n[GHz]')\n"
   ]
  },
  {
   "cell_type": "code",
   "execution_count": null,
   "metadata": {},
   "outputs": [],
   "source": [
    "for i in range(Nmodes - 1):\n",
    "    fname = f'delta_{i+2}{i+1}_vs_hcav_LJ.pdf'\n",
    "    plot_2d_cmap(x,\n",
    "        y,\n",
    "        (modes3d[i+1, :, :] - modes3d[i, :, :]) / 1e6,\n",
    "        fname,\n",
    "        xstr=r'$h_{\\mathrm{cav}}$ [mm]',\n",
    "        ystr=r'$L_J$ [nH]',\n",
    "        tstr='',\n",
    "        cbar_str=r'$\\Delta_{%d%d}$' % (i+2, i+1) + '\\n[MHz]',\n",
    "        norm_type='linear',\n",
    "        zref=(np.min(modes3d[i+1,:,:]-modes3d[i,:,:]),\n",
    "                np.min(modes3d[i+1,:,:]-modes3d[i,:,:])))"
   ]
  },
  {
   "cell_type": "code",
   "execution_count": null,
   "metadata": {},
   "outputs": [],
   "source": [
    "x.shape"
   ]
  },
  {
   "cell_type": "code",
   "execution_count": null,
   "metadata": {},
   "outputs": [],
   "source": [
    "y.shape"
   ]
  },
  {
   "cell_type": "code",
   "execution_count": null,
   "metadata": {},
   "outputs": [],
   "source": [
    "wdata = np.genfromtxt('../data/mu_machined_b_actual_dimensions_modes_vs_LJ_240417.csv', names=True, delimiter=',')\n",
    "# wdata = np.genfromtxt('../data/modes_vs_LJ_fully_coupled_structure_240319.csv', names=True, delimiter=',')\n",
    "Nmodes = 8\n",
    "modes = np.array([wdata[f'reMode{mode:d}_'] for mode in range(1, Nmodes+1)])\n",
    "x = wdata['LJ_nH']"
   ]
  },
  {
   "cell_type": "code",
   "execution_count": null,
   "metadata": {},
   "outputs": [],
   "source": [
    "x"
   ]
  },
  {
   "cell_type": "code",
   "execution_count": null,
   "metadata": {},
   "outputs": [],
   "source": [
    "modes"
   ]
  },
  {
   "cell_type": "code",
   "execution_count": null,
   "metadata": {},
   "outputs": [],
   "source": [
    "fig, ax = plt.subplots(1, 1, tight_layout=True, figsize=(8, 6))\n",
    "dstr = datetime.datetime.today().strftime('%y%m%d')\n",
    "lsize = 14\n",
    "fscale = 1e9\n",
    "fsize = 20\n",
    "cycle = plt.rcParams['axes.prop_cycle'].by_key()['color']\n",
    "clen = len(cycle)\n",
    "#mode_names = ['Mode-1 (left cav)', 'Mode-2 (right cav)',\n",
    "#              'Mode-3 (Comm)', 'Mode-4 (Diff)',\n",
    "#              'Mode-5 (center cylinder)', 'Mode-6 (center cylinder)']\n",
    "err = 0.05 * 1e-2\n",
    "for idx, wppp in enumerate(modes):\n",
    "    ax.errorbar(x, wppp/(fscale),\n",
    "                yerr=err * wppp/(fscale),\n",
    "            marker='o', label=f'Mode-{idx+1}',#mode_names[idx],\n",
    "            color=cycle[idx%clen],\n",
    "               capsize=5)\n",
    "\n",
    "ax.set_xlabel(r'$h_{\\mathrm{cavity}}$ [mm]', fontsize=fsize)\n",
    "# ax.set_xlabel(r'$L_J$ [nH]', fontsize=fsize)\n",
    "# ax.set_xlabel(r'$y_{\\mathrm{tunnel}}$ [mm]', fontsize=fsize)\n",
    "ax.set_ylabel(r'Eigenfrequencies [GHz]', fontsize=fsize)\n",
    "set_xaxis_rot(ax, 45)\n",
    "# ax.set_xscale('log')\n",
    "# ax.set_yscale('log')\n",
    "#ax.set_ylim([9.2, 9.25])\n",
    "set_axes_fonts(ax, fsize)\n",
    "leg = set_leg_outside(ax, 12)\n",
    "#plt.grid(True, which='both')\n",
    "fig.savefig(f'../figs/modes_eigenmode_micromachined_{dstr}.svg',\n",
    "            bbox_extra_artists=(leg, ), bbox_inches='tight',\n",
    "            transparent=True, format='svg')"
   ]
  },
  {
   "cell_type": "code",
   "execution_count": null,
   "metadata": {},
   "outputs": [],
   "source": [
    "fig, ax = plt.subplots(1, 1, tight_layout=True, figsize=(8, 6))\n",
    "dstr = datetime.datetime.today().strftime('%y%m%d')\n",
    "lsize = 14\n",
    "fscale = 1e9\n",
    "fsize = 20\n",
    "cycle = plt.rcParams['axes.prop_cycle'].by_key()['color']\n",
    "clen = len(cycle)\n",
    "#mode_names = ['Mode-1 (left cav)', 'Mode-2 (right cav)',\n",
    "#              'Mode-3 (Comm)', 'Mode-4 (Diff)',\n",
    "#              'Mode-5 (center cylinder)', 'Mode-6 (center cylinder)']\n",
    "err = 0.005 * 1e-2\n",
    "for idx, wppp in enumerate(modes):\n",
    "    ax.errorbar(x, wppp/(fscale),\n",
    "                yerr=err * wppp/(fscale),\n",
    "            marker='o', label=f'Mode-{idx+1}', #mode_names[idx],\n",
    "            color=cycle[idx%clen],\n",
    "               capsize=5)\n",
    "ax.set_xlabel(r'$L_J$ [nH]', fontsize=fsize)\n",
    "ax.set_ylabel(r'Eigenfrequencies [GHz]', fontsize=fsize)\n",
    "set_xaxis_rot(ax, 45)\n",
    "ax.set_ylim([9.325, 9.36])\n",
    "set_axes_fonts(ax, fsize)\n",
    "leg = set_leg_outside(ax, 12)\n",
    "#plt.grid(True, which='both')\n",
    "fig.savefig(f'../figs/modes_eigenmode_two_post_coupler_full_structure_m21_{dstr}.svg',\n",
    "             bbox_extra_artists=(leg, ), bbox_inches='tight',\n",
    "            transparent=True, format='svg')"
   ]
  },
  {
   "cell_type": "code",
   "execution_count": null,
   "metadata": {},
   "outputs": [],
   "source": [
    "fig, ax = plt.subplots(1, 1, tight_layout=True, figsize=(8, 6))\n",
    "dstr = datetime.datetime.today().strftime('%y%m%d')\n",
    "lsize = 14\n",
    "fscale = 1e9\n",
    "cscale = 1e6\n",
    "fsize = 20\n",
    "cycle = plt.rcParams['axes.prop_cycle'].by_key()['color']\n",
    "clen = len(cycle)\n",
    "err = 0.005 * 1e-2\n",
    "mode_names = ['Mode-1 (left cav)', 'Mode-2 (right cav)',\n",
    "              'Mode-3 (Comm)', 'Mode-4 (Diff)',\n",
    "              'Mode-5 (center cylinder)', 'Mode-6 (center cylinder)']\n",
    "ax.errorbar(x, (modes[1]-modes[0])/(cscale),\n",
    "            yerr=err*np.sqrt(modes[1]**2 + modes[2]**2)/(cscale),\n",
    "            marker='o',capsize=5)\n",
    "ax.set_xlabel(r'$L_J$ [nH]', fontsize=fsize)\n",
    "ax.set_ylabel(r'Mode splitting (2-1) [MHz]', fontsize=fsize)\n",
    "set_xaxis_rot(ax, 45)\n",
    "# ax.set_ylim([4.8, 4.9])\n",
    "set_axes_fonts(ax, fsize)\n",
    "leg = set_leg_outside(ax, 12)\n",
    "#plt.grid(True, which='both')\n",
    "fig.savefig(f'../figs/modes_eigenmode_two_post_coupler_full_structure_m21_{dstr}.svg',\n",
    "             bbox_extra_artists=(leg, ), bbox_inches='tight',\n",
    "            transparent=True, format='svg')"
   ]
  },
  {
   "cell_type": "markdown",
   "metadata": {},
   "source": []
  },
  {
   "cell_type": "code",
   "execution_count": null,
   "metadata": {},
   "outputs": [],
   "source": [
    "# Best fit label\n",
    "wscale = 2*np.pi*1e9\n",
    "Lscale = 1e-9\n",
    "Cscale = 1e-12\n",
    "L_label = format_error_string(r'L', popt[0]/Lscale, errors[0]/Lscale, units='nH')\n",
    "C_label = format_error_string(r'C', popt[1]/Cscale, errors[1]/Cscale, units='pF')\n",
    "w0_label = format_error_string(r'\\omega_0\\,/\\,2\\pi',\n",
    "                               popt[2]/wscale, errors[2]/wscale, units='GHz')\n",
    "prelabel = r'$\\omega_0 + \\frac{1}{\\sqrt{(L+L_J)C}}$'\n",
    "label =  '\\n'.join([prelabel, L_label, C_label, w0_label])\n",
    "ax.plot(LJs, mode_fit/1e9, '-', color=cycle[1], label=label)\n",
    "ax.fill_between(LJs, lower/1e9, y2=upper/1e9, color=cycle[1], alpha=0.25)\n",
    "ax.set_xlabel(r'$L_J$ [nH]', fontsize=fsize)\n",
    "ax.set_ylabel(r'Eigenfrequencies [GHz]', fontsize=fsize)\n",
    "set_xaxis_rot(ax, 45)\n",
    "#ax.plot(LJs/1e-9, fJ/fscale, '--', label='Coupler\\nMode\\n'+r'$(L_JC_J)^{-1/2}$',\n",
    "#       color=cycle[(idx+1)%clen])\n",
    "ax.set_ylim([6., 9.52])\n",
    "set_axes_fonts(ax, fsize)\n",
    "# leg = ax.legend(loc=(0.05, 0.08), fontsize=12)\n",
    "# leg = ax.legend(loc='best', fontsize=12)\n",
    "leg = set_leg_outside(ax, 12)\n",
    "ax.set_xscale('log')\n",
    "#plt.grid(True, which='both')\n",
    "fig.savefig(f'../figs/modes_eigenmode_two_post_coupler_{dstr}.svg',\n",
    "             bbox_extra_artists=(leg, ), bbox_inches='tight',\n",
    "            transparent=True, format='svg')"
   ]
  },
  {
   "cell_type": "markdown",
   "metadata": {},
   "source": [
    "## Fit Jens's circuit model"
   ]
  },
  {
   "cell_type": "code",
   "execution_count": null,
   "metadata": {},
   "outputs": [],
   "source": [
    "!pip install uncertainties"
   ]
  },
  {
   "cell_type": "code",
   "execution_count": null,
   "metadata": {},
   "outputs": [],
   "source": [
    "\"\"\"\n",
    "\n",
    "Circuit model with inductance to ground and parallel, residual inductance\n",
    "with the LJ, i.e. parasitic inductive coupling at LJ->infinity,0\n",
    "\n",
    "         2                2                 2                2                 2              2                                          2                2                 2                2                 2              2                          2                                                                   2                      2\n",
    "-4 c12 l1  lg lj - 2 cg l1  lg lj - 4 c12 l1  lg lp - 2 cg l1  lg lp - 2 c12 l1  lj lp - cg l1  lj lp - 2 cj l1 lg lj lp + Sqrt[(4 c12 l1  lg lj + 2 cg l1  lg lj + 4 c12 l1  lg lp + 2 cg l1  lg lp + 2 c12 l1  lj lp + cg l1  lj lp + 2 cj l1 lg lj lp)  - 4 (-2 l1 lg lj - 2 l1 lg lp - l1 lj lp + lg lj lp) (-4 c12 cj l1  lg lj lp - 2 cg cj l1  lg lj lp)]\n",
    "----------------------------------------------------------------------------------------------------------------------------------------------------------------------------------------------------------------------------------------------------------------------------------------------------------------------------------------------------------------\n",
    "                                                                                                                                                                      2                      2\n",
    "                                                                                                                                                       2 (-4 c12 cj l1  lg lj lp - 2 cg cj l1  lg lj lp) \n",
    "\n",
    "\n",
    "              2                2                 2                2                 2              2                          2                                                                   2                      2\n",
    "Sqrt[(4 c12 l1  lg lj + 2 cg l1  lg lj + 4 c12 l1  lg lp + 2 cg l1  lg lp + 2 c12 l1  lj lp + cg l1  lj lp + 2 cj l1 lg lj lp)  - 4 (-2 l1 lg lj - 2 l1 lg lp - l1 lj lp + lg lj lp) (-4 c12 cj l1  lg lj lp - 2 cg cj l1  lg lj lp)]\n",
    "-------------------------------------------------------------------------------------------------------------------------------------------------------------------------------------------------------------------------------------\n",
    "                                                                                                                                                                      2                      2\n",
    "\n",
    "\n",
    "\"\"\"                                        \n",
    "import numpy as np\n",
    "import matplotlib.pyplot as plt\n",
    "from scipy.optimize import curve_fit\n",
    "import uncertainties\n",
    "import datetime\n",
    "def fitmodesnickyao(LJ, Cg, CJ, C12, Lg, L1, Lp):\n",
    "    # Numerators\n",
    "    num1 = -4 * C12 * L1**2 * Lg * LJ\n",
    "    num2 = -2 * Cg * L1**2 * Lg * LJ\n",
    "    num3 = -4 * C12 * L1**2 * Lg * Lp\n",
    "    num4 = -2 * C12 * L1**2 * LJ * Lp\n",
    "    num4 = -Cg * L1**2 * LJ * Lp\n",
    "    num5 = -2 * CJ * L1 * Lg * LJ * Lp\n",
    "\n",
    "    # Square root terms\n",
    "    sq1 = 4 * C12 * L1**2  * Lg * LJ\n",
    "    sq2 = 2 * Cg * L1**2 * Lg * LJ\n",
    "    sq3 = 4 * C12 * L1**2 * Lg * Lp\n",
    "    sq4 = 2 * Cg * L1**2 * Lg * Lp\n",
    "    sq5 = 2 * C12 * L1*2 * LJ * Lp\n",
    "    sq6 = Cg * L1**2 * LJ * Lp\n",
    "    sq6 = 2 * CJ * L1 * Lg * LJ * Lp\n",
    "    sq7 = (sq1 + sq2 + sq3 + sq4 + sq5 + sq6)**2\n",
    "    sq81 = - 4 * (-2 * L1 * Lg * LJ - 2 * L1 * Lg * Lp - L1 * LJ * Lp + Lg * LJ * Lp)\n",
    "    sq82 = -4 * C12 * CJ * L1**2 * Lg * LJ * Lp - 2 * Cg * CJ * L1**2 * Lg * LJ * Lp\n",
    "    sq8 = sq81 * sq82\n",
    "    num6 = np.sqrt(sq7 + sq8)\n",
    "\n",
    "    # All numerator terms\n",
    "    num = num1 + num2 + num3 + num4 + num5 + num6\n",
    "\n",
    "    # Denominator\n",
    "    denom =  2 * (-4 * C12 * CJ * L1 **2 * Lg * LJ * Lp - 2 * Cg * CJ * L1**2  * Lg * LJ * Lp)\n",
    "    \n",
    "    return num / denom\n",
    "    \n",
    "modes_to_fit = np.hstack((modes[1][:-2], modes[0][-2:]))\n",
    "# popt, pcov = curve_fit(fitmodes, LJs * 1e-9, 2*np.pi*modes[1], p0=(0.789e-9, 0.017e-9, 0.026e-9, 0.001e-9),\n",
    "#                      bounds=((0,0,0,0), (np.inf, np.inf, np.inf, np.inf)))"
   ]
  },
  {
   "cell_type": "code",
   "execution_count": null,
   "metadata": {},
   "outputs": [],
   "source": [
    "\"\"\"\n",
    "\n",
    "                                                                                                             2                         2\n",
    "4 c12 l1 + 2 cg l1 + 2 c12 lj + 2 cg lj + 2 cj lj - Sqrt[(-4 c12 l1 - 2 cg l1 - 2 c12 lj - 2 cg lj - 2 cj lj)  - 8 (2 c12 cg l1 lj + cg  l1 lj + 4 c12 cj l1 lj + 2 cg cj l1 lj)]\n",
    "---------------------------------------------------------------------------------------------------------------------------------------------------------------------------------\n",
    "                                                                               2\n",
    "                                                         2 (2 c12 cg l1 lj + cg  l1 lj + 4 c12 cj l1 lj + 2 cg cj l1 lj) \n",
    "                                                                                                     \n",
    "\"\"\"\n",
    "import numpy as np\n",
    "import matplotlib.pyplot as plt\n",
    "from scipy.optimize import curve_fit\n",
    "import uncertainties\n",
    "import datetime\n",
    "def fitmodesjens(LJ, L, C, Cg, Cm):\n",
    "    num1 = 2 * (C + Cg) * L + 2 * (Cm + Cg) * LJ\n",
    "    num2 = - np.sqrt((-2 * (C + Cg) * L - 2 * (Cg + Cm) * LJ )**2 \n",
    "                     - 8 * (2 * C * Cg * L * LJ + Cg**2 * L * LJ + 2 * (C + Cg) * Cm * L * LJ))\n",
    "    denom = 2 * (2 * C * Cg * L * LJ + Cg**2 * L * LJ + 2 * (C + Cg) * Cm * L * LJ)\n",
    "    return (num1 + num2) / denom\n",
    "\n",
    "def fitmodesnick(Lj, L1, Cg, C12, Cj):\n",
    "    num1 = 4 * C12 * L1 + 2 * Cg * L1 + 2 * C12 * Lj + 2 * Cg * Lj + 2 * Cj * Lj\n",
    "    num2 = np.sqrt((-4 * C12 * L1 - 2 * Cg * L1 - 2 * C12 * Lj - 2 * Cg * Lj - 2 * Cj * Lj)**2 - 8 * (2 * C12 * Cg * L1 * Lj + Cg**2  * L1 * Lj + 4 * C12 * Cj * L1 * Lj + 2 * Cg * Cj * L1 * Lj))\n",
    "    denom = 2 * (2 * C12 * Cg * L1 * Lj + Cg**2 * L1 * Lj + 4 * C12 * Cj * L1 * Lj + 2 * Cg * Cj * L1 * Lj)\n",
    "    return (num1 + num2) / denom \n",
    "\n",
    "modes_to_fit = np.hstack((modes[1][:-2], modes[0][-2:]))\n",
    "# popt, pcov = curve_fit(fitmodes, LJs * 1e-9, 2*np.pi*modes[1], p0=(0.789e-9, 0.017e-9, 0.026e-9, 0.001e-9),\n",
    "#                      bounds=((0,0,0,0), (np.inf, np.inf, np.inf, np.inf)))"
   ]
  },
  {
   "cell_type": "code",
   "execution_count": null,
   "metadata": {},
   "outputs": [],
   "source": [
    "modes_to_fit.size"
   ]
  },
  {
   "cell_type": "code",
   "execution_count": null,
   "metadata": {},
   "outputs": [],
   "source": [
    "LJs.size"
   ]
  },
  {
   "cell_type": "code",
   "execution_count": null,
   "metadata": {},
   "outputs": [],
   "source": [
    "# Fit the model with inductance to ground and parallel inductance\n",
    "# LJ, Cg, CJ, C12, Lg, L1, Lp [nH, nF]\n",
    "#   , 0.005, 0.01, 0.01, 0.58, 0.68, 0.7\n",
    "p0 = (0.005e-9, 0.01e-9, 0.01e-9, 0.58e-9, 0.68e-9, 0.7e-9)\n",
    "popt, pcov = curve_fit(fitmodesnickyao, LJs * 1e-9, 2*np.pi*modes_to_fit, p0=p0,\n",
    "                     bounds=((0, 0, 0, 0, 0, 0), (np.inf, np.inf, np.inf, np.inf, np.inf, np.inf)))\n",
    "errors = np.sqrt(np.diag(pcov))"
   ]
  },
  {
   "cell_type": "code",
   "execution_count": null,
   "metadata": {},
   "outputs": [],
   "source": [
    "mode_fit = fitmodesnickyao(LJs*1e-9, *popt) / (2*np.pi)\n",
    "upper = fitmodesnickyao(LJs*1e-9, *(popt + 2 * errors)) / (2 * np.pi)\n",
    "lower = fitmodesnickyao(LJs*1e-9, *(popt - 2 * errors)) / (2 * np.pi)"
   ]
  },
  {
   "cell_type": "code",
   "execution_count": null,
   "metadata": {},
   "outputs": [],
   "source": [
    "popt"
   ]
  },
  {
   "cell_type": "code",
   "execution_count": null,
   "metadata": {},
   "outputs": [],
   "source": [
    "errors"
   ]
  },
  {
   "cell_type": "code",
   "execution_count": null,
   "metadata": {},
   "outputs": [],
   "source": [
    "fig, ax = plt.subplots(1, 1, tight_layout=True, figsize=(8, 6))\n",
    "dstr = datetime.datetime.today().strftime('%y%m%d')\n",
    "lsize = 14\n",
    "fscale = 1e9\n",
    "fsize = 20\n",
    "cycle = plt.rcParams['axes.prop_cycle'].by_key()['color']\n",
    "clen = len(cycle)\n",
    "mode_names = ['Mode-1 (Comm)', 'Mode-2 (Diff)', 'Mode-3', 'Mode-4']\n",
    "for idx, wppp in enumerate(modes):\n",
    "    ax.plot(LJs, wppp/(fscale),\n",
    "            'o', label=mode_names[idx],\n",
    "            color=cycle[idx%clen])\n",
    "    ax.plot([1e-2], wshort[idx], '*',\n",
    "           color=cycle[idx%clen])\n",
    "    ax.plot([1e3], wopen[idx], 'x',\n",
    "           color=cycle[idx%clen])\n",
    "    #ax.plot(LJs/1e-9, [wps0[idx]/(2*np.pi*fscale)]*len(LJs),\n",
    "    #        '--', color=cycle[idx%clen])\n",
    "\n",
    "# Best fit label\n",
    "wscale = 2*np.pi*1e9\n",
    "Lscale = 1e-9\n",
    "Cscale = 1e-9\n",
    "L_label = format_error_string(r'L', popt[0]/Lscale, errors[0]/Lscale, units='nH')\n",
    "C_label = format_error_string(r'C', popt[1]/Cscale, errors[1]/Cscale, units='nF')\n",
    "Cm_label = format_error_string(r'C_m', popt[3]/Cscale, errors[3]/Cscale, units='nF')\n",
    "Cg_label = format_error_string(r'C_g', popt[2]/Cscale, errors[2]/Cscale, units='nF')\n",
    "label =  '\\n'.join([L_label, C_label, Cm_label, Cg_label])\n",
    "ax.plot(LJs, mode_fit/1e9, '-', color=cycle[1], label=label)\n",
    "ax.fill_between(LJs, lower/1e9, y2=upper/1e9, color=cycle[1], alpha=0.25)\n",
    "ax.set_xlabel(r'$L_J$ [nH]', fontsize=fsize)\n",
    "ax.set_ylabel(r'Eigenfrequencies [GHz]', fontsize=fsize)\n",
    "set_xaxis_rot(ax, 45)\n",
    "# ax.plot(LJs/1e-9, fJ/fscale, '--', label='Coupler\\nMode\\n'+r'$(L_JC_J)^{-1/2}$',\n",
    "#       color=cycle[(idx+1)%clen])\n",
    "ax.set_ylim([6.5, 9])\n",
    "set_axes_fonts(ax, fsize)\n",
    "# leg = ax.legend(loc=(0.05, 0.08), fontsize=12)\n",
    "# leg = ax.legend(loc='best', fontsize=12)\n",
    "leg = set_leg_outside(ax, 12)\n",
    "ax.set_xscale('log')\n",
    "#plt.grid(True, which='both')\n",
    "fig.savefig(f'../figs/modes_eigenmode_two_post_coupler_{dstr}.svg',\n",
    "             bbox_extra_artists=(leg, ), bbox_inches='tight',\n",
    "            transparent=True, format='svg')"
   ]
  },
  {
   "cell_type": "markdown",
   "metadata": {},
   "source": [
    "### Plot the $y_{\\mathrm{seam}}$"
   ]
  },
  {
   "cell_type": "code",
   "execution_count": null,
   "metadata": {},
   "outputs": [],
   "source": [
    "ydata = np.genfromtxt('../data/two_post_coupler_yseam_no_mu0w_231122.csv', names=True, delimiter=',')\n",
    "ydata.dtype"
   ]
  },
  {
   "cell_type": "code",
   "execution_count": null,
   "metadata": {},
   "outputs": [],
   "source": [
    "fig, ax = plt.subplots(1, 1, tight_layout=True)\n",
    "ax.loglog(pdata['LJ_nH'], ydata['yseam_'] / (2 * modes[1] * sc.mu_0 * np.pi), 'o')\n",
    "ax.set_xlabel(r'$L_J$ [nH]', fontsize=fsize)\n",
    "ax.set_ylabel(r'$y_{\\mathrm{seam}}$ [S/m]', fontsize=fsize)\n",
    "set_xaxis_rot(ax, 45)\n",
    "# ax.set_ylim(1e8, None)\n",
    "#ax.plot(LJs/1e-9, fJ/fscale, '--', label='Coupler\\nMode\\n'+r'$(L_JC_J)^{-1/2}$',\n",
    "#       color=cycle[(idx+1)%clen])\n",
    "#ax.set_ylim([0, 20.])\n",
    "set_axes_fonts(ax, fsize)\n",
    "# leg = set_leg_outside(ax, 18)\n",
    "ax.set_xscale('log')\n",
    "# plt.grid(True, which='both')\n",
    "fig.savefig(f'../figs/yseam_eigenmode_two_post_coupler_{dstr}.svg',\n",
    "             transparent=True, format='svg')"
   ]
  },
  {
   "cell_type": "markdown",
   "metadata": {},
   "source": [
    "## Plot the participations"
   ]
  },
  {
   "cell_type": "code",
   "execution_count": null,
   "metadata": {},
   "outputs": [],
   "source": [
    "pdata = np.genfromtxt('../data/two_post_coupler_pe_surf_sub_231122.csv', names=True, delimiter=',')\n",
    "\n",
    "fig, ax = plt.subplots(1, 1, tight_layout=True)\n",
    "ax.loglog(pdata['LJ_nH'], pdata['pe_sub_'], 'o-', label=r'$p_{e,\\mathrm{sub}}$')\n",
    "ax.loglog(pdata['LJ_nH'], pdata['pe_surf_'], 'o-', label=r'$p_{e,\\mathrm{surf}}$')\n",
    "ax.set_xlabel(r'$L_J$ [nH]', fontsize=fsize)\n",
    "ax.set_ylabel(r'$p_e$', fontsize=fsize)\n",
    "set_xaxis_rot(ax, 45)\n",
    "# ax.set_ylim(1e8, None)\n",
    "#ax.plot(LJs/1e-9, fJ/fscale, '--', label='Coupler\\nMode\\n'+r'$(L_JC_J)^{-1/2}$',\n",
    "#       color=cycle[(idx+1)%clen])\n",
    "#ax.set_ylim([0, 20.])\n",
    "set_axes_fonts(ax, fsize)\n",
    "leg = ax.legend(loc='best', fontsize=lsize)\n",
    "# leg = set_leg_outside(ax, 18)\n",
    "ax.set_xscale('log')\n",
    "# plt.grid(True, which='both')\n",
    "fig.savefig(f'../figs/pe_eigenmode_two_post_coupler_{dstr}.svg',\n",
    "             bbox_extra_artists=(leg, ), bbox_inches='tight',\n",
    "            transparent=True, format='svg')"
   ]
  },
  {
   "cell_type": "code",
   "execution_count": null,
   "metadata": {},
   "outputs": [],
   "source": [
    "pdata = np.genfromtxt('../data/two_post_coupler_pm_pads_walls_231122.csv', names=True, delimiter=',')\n",
    "pdata.dtype"
   ]
  },
  {
   "cell_type": "code",
   "execution_count": null,
   "metadata": {},
   "outputs": [],
   "source": [
    "fig, ax = plt.subplots(1, 1, tight_layout=True)\n",
    "ax.loglog(pdata['LJ_nH'], pdata['pm_cav_walls_'], 'o-', label=r'$p_{m,\\mathrm{walls}}$')\n",
    "ax.loglog(pdata['LJ_nH'], pdata['pm_pads_'], 'o-', label=r'$p_{m,\\mathrm{pads}}$')\n",
    "ax.set_xlabel(r'$L_J$ [nH]', fontsize=fsize)\n",
    "ax.set_ylabel(r'$p_m$', fontsize=fsize)\n",
    "set_xaxis_rot(ax, 45)\n",
    "# ax.set_ylim(1e8, None)\n",
    "#ax.plot(LJs/1e-9, fJ/fscale, '--', label='Coupler\\nMode\\n'+r'$(L_JC_J)^{-1/2}$',\n",
    "#       color=cycle[(idx+1)%clen])\n",
    "#ax.set_ylim([0, 20.])\n",
    "set_axes_fonts(ax, fsize)\n",
    "leg = ax.legend(loc='best', fontsize=lsize)\n",
    "# leg = set_leg_outside(ax, 18)\n",
    "ax.set_xscale('log')\n",
    "# plt.grid(True, which='both')\n",
    "fig.savefig(f'../figs/pm_eigenmode_two_post_coupler_{dstr}.svg',\n",
    "             bbox_extra_artists=(leg, ), bbox_inches='tight',\n",
    "            transparent=True, format='svg')"
   ]
  },
  {
   "cell_type": "markdown",
   "metadata": {},
   "source": [
    "## Plot the $Q_i$ vs. $L_J$"
   ]
  },
  {
   "cell_type": "markdown",
   "metadata": {},
   "source": [
    "### Load the data from file"
   ]
  },
  {
   "cell_type": "code",
   "execution_count": null,
   "metadata": {},
   "outputs": [],
   "source": [
    "qdata = np.genfromtxt('../data/two_post_coupler_qs_231030.csv', names=True, delimiter=',')\n",
    "qdata = np.genfromtxt('../data/two_post_coupler_qs_231121.csv', names=True, delimiter=',')\n",
    "qdata = np.genfromtxt('../data/two_post_coupler_qs_vacuum_231121.csv', names=True, delimiter=',')\n",
    "\n",
    "print(f'{qdata.dtype}')\n",
    "\n",
    "LJs = qdata['LJ_nH']\n",
    "Nmodes = 2\n",
    "qmodes = np.array([qdata[f'Q{mode:d}_'] for mode in range(1, Nmodes+1)])"
   ]
  },
  {
   "cell_type": "code",
   "execution_count": null,
   "metadata": {},
   "outputs": [],
   "source": [
    "fig, ax = plt.subplots(1, 1, tight_layout=True, figsize=(6, 6))\n",
    "dstr = datetime.datetime.today().strftime('%y%m%d')\n",
    "lsize = 18\n",
    "fscale = 1e9\n",
    "fsize = 20\n",
    "cycle = plt.rcParams['axes.prop_cycle'].by_key()['color']\n",
    "clen = len(cycle)\n",
    "mode_names = ['Mode-1 (Comm)', 'Mode-2 (Diff)', 'Mode-3', 'Mode-4']\n",
    "for idx, wppp in enumerate(qmodes):\n",
    "    ax.loglog(LJs, wppp,\n",
    "            'o-', label=mode_names[idx],\n",
    "            color=cycle[idx%clen])\n",
    "\n",
    "ax.set_xlabel(r'$L_J$ [nH]', fontsize=fsize)\n",
    "ax.set_ylabel(r'Mode $Q_i$', fontsize=fsize)\n",
    "set_xaxis_rot(ax, 45)\n",
    "# ax.set_ylim(1e8, None)\n",
    "#ax.plot(LJs/1e-9, fJ/fscale, '--', label='Coupler\\nMode\\n'+r'$(L_JC_J)^{-1/2}$',\n",
    "#       color=cycle[(idx+1)%clen])\n",
    "#ax.set_ylim([0, 20.])\n",
    "set_axes_fonts(ax, fsize)\n",
    "leg = ax.legend(loc='best', fontsize=lsize)\n",
    "# leg = set_leg_outside(ax, 18)\n",
    "ax.set_xscale('log')\n",
    "# plt.grid(True, which='both')\n",
    "fig.savefig(f'../figs/qs_eigenmode_two_post_coupler_{dstr}.svg',\n",
    "             bbox_extra_artists=(leg, ), bbox_inches='tight',\n",
    "            transparent=True, format='svg')"
   ]
  },
  {
   "cell_type": "markdown",
   "metadata": {},
   "source": [
    "## Mode splitting vs. post separation"
   ]
  },
  {
   "cell_type": "code",
   "execution_count": null,
   "metadata": {},
   "outputs": [],
   "source": [
    "fig, ax = plt.subplots(1, 1, tight_layout=True, figsize=(6, 6))\n",
    "dstr = datetime.datetime.today().strftime('%y%m%d')\n",
    "lsize = 18\n",
    "fscale = 1e9\n",
    "fsize = 20\n",
    "cycle = plt.rcParams['axes.prop_cycle'].by_key()['color']\n",
    "clen = len(cycle)\n",
    "\n",
    "# Post separation data\n",
    "xlabel = 'Post Separation [mm]'\n",
    "deltas_ps = np.asarray([340., 212., 196., 255., 239.])\n",
    "post_seps = np.linspace(0.75, 5.75, 5)\n",
    "\n",
    "yseams_seps = np.asarray([1.957334512,\n",
    "1.980068209,\n",
    "1.012265518,\n",
    "1.503079857,\n",
    "0.604830884,\n",
    "1.327395002,\n",
    "0.830540921,\n",
    "2.732099731,\n",
    "16.39099088,\n",
    "9.976445499\n",
    "])\n",
    "yseams_min_seps = yseams_seps[0::2]\n",
    "yseams_max_seps = yseams_seps[1::2]\n",
    "deltas_dp = np.asarray([34., 138., 172., 212., 283., 376.])\n",
    "dposts = np.linspace(1, 6, 6)\n",
    "\n",
    "ax.errorbar(post_seps, deltas_ps, yerr=deltas_ps * 0.05 / 100,\n",
    "            capsize=5, color='tab:blue', marker='o', ms=10, ls='-')\n",
    "ax.scatter(post_seps[1], deltas_ps[1], edgecolors='tab:blue',\n",
    "           facecolors='None', marker='o', s=300, lw=2)\n",
    "\n",
    "ax2 = ax.twinx()\n",
    "ax2.plot(post_seps, yseams_max_seps, color='tab:red', marker='s', ms=10, ls='-',\n",
    "        label=r'$\\max\\, y_{\\mathrm{seam}}$')\n",
    "ax2.set_ylabel(r'$\\max\\left[y_{\\mathrm{seam}}\\right]$ [S/m]', fontsize=fsize)\n",
    "# leg = ax2.legend(loc='best', fontsize=lsize)\n",
    "set_axes_fonts(ax2, fsize)\n",
    "# ax2.set_yscale('log')\n",
    "#            capsize=5, color='tab:red', marker='o', ms=10, ls='-')\n",
    "#ax2.set_xlabel('Post Diameter [mm]', fontsize=fsize)\n",
    "ax.set_xlabel(xlabel, fontsize=fsize)\n",
    "ax.set_ylabel(r'Differential Mode Splitting [MHz]', fontsize=fsize)\n",
    "set_xaxis_rot(ax, 45)\n",
    "#ax.plot(LJs/1e-9, fJ/fscale, '--', label='Coupler\\nMode\\n'+r'$(L_JC_J)^{-1/2}$',\n",
    "#       color=cycle[(idx+1)%clen])\n",
    "#ax.set_ylim([0, 20.])\n",
    "set_axes_fonts(ax, fsize)\n",
    "ax.set_ylim([25., 450.])\n",
    "ax2.set_ylim([0.1, 7.])\n",
    "\n",
    "# plt.grid(True, which='both')\n",
    "if leg is not None:\n",
    "    fig.savefig(f'../figs/post_sep_delta_two_post_coupler_{dstr}.svg',\n",
    "                bbox_extra_artists=(leg, ), bbox_inches='tight',\n",
    "                transparent=True, format='svg')\n",
    "else:\n",
    "    fig.savefig(f'../figs/post_sep_delta_two_post_coupler_{dstr}.svg',\n",
    "                 bbox_inches='tight', transparent=True, format='svg')"
   ]
  },
  {
   "cell_type": "code",
   "execution_count": null,
   "metadata": {},
   "outputs": [],
   "source": [
    "fig, ax = plt.subplots(1, 1, tight_layout=True, figsize=(6, 6))\n",
    "dstr = datetime.datetime.today().strftime('%y%m%d')\n",
    "lsize = 18\n",
    "fscale = 1e9\n",
    "fsize = 20\n",
    "cycle = plt.rcParams['axes.prop_cycle'].by_key()['color']\n",
    "clen = len(cycle)\n",
    "\n",
    "# Post separation data\n",
    "deltas_ps = np.asarray([340., 212., 196., 255., 239.])\n",
    "post_seps = np.linspace(0.75, 5.75, 5)\n",
    "\n",
    "deltas_dp = np.asarray([34., 138., 172., 212., 283., 376.])\n",
    "dposts = np.linspace(1, 6, 6)\n",
    "\n",
    "ax.errorbar(dposts, deltas_dp, yerr=deltas_dp * 0.05 / 100,\n",
    "           capsize=5, color='tab:blue', marker='o', ms=10, ls='-')\n",
    "ax.scatter(dposts[3], deltas_dp[3], edgecolors='tab:blue',\n",
    "           facecolors='None', marker='o', s=300, lw=2)\n",
    "\n",
    "yseams_dp_min = np.asarray([0.002862601,\n",
    "                    0.62557865, \n",
    "                    0.834349602,\n",
    "                    1.012265518,\n",
    "                    1.600438087,\n",
    "                    1.628560307])\n",
    "yseams_dp_max = np.asarray([0.818889995,\n",
    "                    1.027935155,\n",
    "                    1.479921889,\n",
    "                    1.503079857,\n",
    "                    1.838773553,\n",
    "                    1.828948252])\n",
    "\n",
    "print(f'yseams_min_dp.size: {yseams_min_dp.size}')\n",
    "print(f'yseams_max_dp.size: {yseams_max_dp.size}')\n",
    "\n",
    "ax2 = ax.twinx()\n",
    "ax2.plot(dposts, yseams_max_dp, color='tab:red', marker='s', ms=10, ls='-',\n",
    "         label=r'$\\min\\, y_{\\mathrm{seam}}$')\n",
    "ax2.scatter(dposts[3], yseams_max_dp[3], edgecolors='tab:red',\n",
    "           facecolors='None', marker='s', s=300, lw=2)\n",
    "# ax2.plot(dposts, yseams_max_dp, color='tab:red', marker='d', ms=10, ls='-',\n",
    "#        label=r'$\\max\\, y_{\\mathrm{seam}}$')\n",
    "ax2.set_ylabel(r'$\\max\\left[y_{\\mathrm{seam}}\\right]$ [S/m]', fontsize=fsize)\n",
    "#leg = ax2.legend(loc='best', fontsize=lsize)\n",
    "set_axes_fonts(ax2, fsize)\n",
    "# ax2.set_yscale('log')\n",
    "\n",
    "ax.set_xlabel('Post Diameter [mm]', fontsize=fsize)\n",
    "ax.set_ylabel(r'Differential Mode Splitting [MHz]', fontsize=fsize)\n",
    "set_xaxis_rot(ax, 45)\n",
    "#ax.plot(LJs/1e-9, fJ/fscale, '--', label='Coupler\\nMode\\n'+r'$(L_JC_J)^{-1/2}$',\n",
    "#       color=cycle[(idx+1)%clen])\n",
    "#ax.set_ylim([0, 20.])\n",
    "ax.set_ylim([25., 450.])\n",
    "ax2.set_ylim([0.1, 7.])\n",
    "set_axes_fonts(ax, fsize)\n",
    "set_axes_fonts(ax2, fsize)\n",
    "leg = None # ax.legend(loc='best', fontsize=lsize)\n",
    "# leg = set_leg_outside(ax, 18)\n",
    "# ax.set_xscale('log')\n",
    "#plt.grid(True, which='both')\n",
    "if leg is not None:\n",
    "    fig.savefig(f'../figs/post_d_delta_two_post_coupler_{dstr}.svg',\n",
    "                bbox_extra_artists=(leg, ), bbox_inches='tight',\n",
    "                transparent=True, format='svg')\n",
    "else:\n",
    "    fig.savefig(f'../figs/post_d_delta_two_post_coupler_{dstr}.svg',\n",
    "                 bbox_inches='tight', transparent=True, format='svg')"
   ]
  },
  {
   "cell_type": "code",
   "execution_count": null,
   "metadata": {},
   "outputs": [],
   "source": [
    "fig, ax = plt.subplots(1, 1, tight_layout=True, figsize=(6, 6))\n",
    "dstr = datetime.datetime.today().strftime('%y%m%d')\n",
    "lsize = 18\n",
    "fscale = 1e9\n",
    "fsize = 20\n",
    "cycle = plt.rcParams['axes.prop_cycle'].by_key()['color']\n",
    "clen = len(cycle)\n",
    "\n",
    "# Post separation data\n",
    "deltas_wp = np.asarray([212., 301., 382., 442.])\n",
    "wp = np.linspace(0.5, 3.5, 4)\n",
    "\n",
    "yseams_max_wp = np.asarray([1.503079857,1.870735261,\n",
    "                            3.107628624, 6.498295868])\n",
    "yseams_min_wp = np.asarray([1.012265518, 0.87952378,\n",
    "                            1.13733311, 3.263239464])\n",
    "\n",
    "\n",
    "ax.errorbar(wp, deltas_wp, yerr=deltas_wp * 0.05 / 100,\n",
    "            capsize=5, color='tab:blue', marker='o', ms=10, ls='-')\n",
    "ax.scatter(wp[0], deltas_wp[0], edgecolors='tab:blue',\n",
    "           facecolors='None', marker='o', s=300, lw=2)\n",
    "ax.set_xlabel('Pad Width [mm]', fontsize=fsize)\n",
    "ax.set_ylabel(r'Differential Mode Splitting [MHz]', fontsize=fsize)\n",
    "set_xaxis_rot(ax, 45)\n",
    "\n",
    "ax2 = ax.twinx()\n",
    "ax2.plot(wp, yseams_max_wp, color='tab:red', marker='s', ms=10, ls='-')\n",
    "ax2.scatter(wp[0], yseams_max_wp[0], edgecolors='tab:red',\n",
    "           facecolors='None', marker='s', s=300, lw=2)\n",
    "ax2.set_ylabel(r'$\\max\\,\\left[y_{\\mathrm{seam}}\\right]$ [S/m]', fontsize=fsize)\n",
    "set_axes_fonts(ax2, fsize)\n",
    "\n",
    "#ax.plot(LJs/1e-9, fJ/fscale, '--', label='Coupler\\nMode\\n'+r'$(L_JC_J)^{-1/2}$',\n",
    "#       color=cycle[(idx+1)%clen])\n",
    "ax.set_ylim([25., 450.])\n",
    "ax2.set_ylim([0.1, 7.])\n",
    "set_axes_fonts(ax, fsize)\n",
    "set_axes_fonts(ax2, fsize)\n",
    "leg = None # ax.legend(loc='best', fontsize=lsize)\n",
    "# leg = set_leg_outside(ax, 18)\n",
    "# ax.set_xscale('log')\n",
    "#plt.grid(True, which='both')\n",
    "if leg is not None:\n",
    "    fig.savefig(f'../figs/wpad_delta_two_post_coupler_{dstr}.svg',\n",
    "                bbox_extra_artists=(leg, ), bbox_inches='tight',\n",
    "                transparent=True, format='svg')\n",
    "else:\n",
    "    fig.savefig(f'../figs/wpad_delta_two_post_coupler_{dstr}.svg',\n",
    "                 bbox_inches='tight', transparent=True, format='svg')"
   ]
  },
  {
   "cell_type": "code",
   "execution_count": null,
   "metadata": {},
   "outputs": [],
   "source": []
  }
 ],
 "metadata": {
  "kernelspec": {
   "display_name": "Python 3 (ipykernel)",
   "language": "python",
   "name": "python3"
  },
  "language_info": {
   "codemirror_mode": {
    "name": "ipython",
    "version": 3
   },
   "file_extension": ".py",
   "mimetype": "text/x-python",
   "name": "python",
   "nbconvert_exporter": "python",
   "pygments_lexer": "ipython3",
   "version": "3.12.7"
  }
 },
 "nbformat": 4,
 "nbformat_minor": 4
}
