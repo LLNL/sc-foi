{
 "cells": [
  {
   "cell_type": "code",
   "execution_count": 1,
   "metadata": {},
   "outputs": [
    {
     "ename": "error",
     "evalue": "unpack requires a buffer of 8 bytes",
     "output_type": "error",
     "traceback": [
      "\u001b[1;31m---------------------------------------------------------------------------\u001b[0m",
      "\u001b[1;31merror\u001b[0m                                     Traceback (most recent call last)",
      "Cell \u001b[1;32mIn[1], line 19\u001b[0m\n\u001b[0;32m     15\u001b[0m \u001b[38;5;28;01mfrom\u001b[39;00m \u001b[38;5;21;01mmatplotlib\u001b[39;00m \u001b[38;5;28;01mimport\u001b[39;00m pyplot \u001b[38;5;28;01mas\u001b[39;00m plt\n\u001b[0;32m     17\u001b[0m \u001b[38;5;28;01mimport\u001b[39;00m \u001b[38;5;21;01mpandas\u001b[39;00m \u001b[38;5;28;01mas\u001b[39;00m \u001b[38;5;21;01mpd\u001b[39;00m\n\u001b[1;32m---> 19\u001b[0m \u001b[38;5;28;01mimport\u001b[39;00m \u001b[38;5;21;01mpyEPR\u001b[39;00m\n\u001b[0;32m     20\u001b[0m \u001b[38;5;28;01mfrom\u001b[39;00m \u001b[38;5;21;01mpyEPR\u001b[39;00m \u001b[38;5;28;01mimport\u001b[39;00m ansys \u001b[38;5;28;01mas\u001b[39;00m HFSS\n\u001b[0;32m     21\u001b[0m \u001b[38;5;28;01mfrom\u001b[39;00m \u001b[38;5;21;01mpyEPR\u001b[39;00m\u001b[38;5;21;01m.\u001b[39;00m\u001b[38;5;21;01mcore_distributed_analysis\u001b[39;00m \u001b[38;5;28;01mimport\u001b[39;00m CalcObject\n",
      "File \u001b[1;32m<frozen importlib._bootstrap>:1007\u001b[0m, in \u001b[0;36m_find_and_load\u001b[1;34m(name, import_)\u001b[0m\n",
      "File \u001b[1;32m<frozen importlib._bootstrap>:986\u001b[0m, in \u001b[0;36m_find_and_load_unlocked\u001b[1;34m(name, import_)\u001b[0m\n",
      "File \u001b[1;32m<frozen importlib._bootstrap>:664\u001b[0m, in \u001b[0;36m_load_unlocked\u001b[1;34m(spec)\u001b[0m\n",
      "File \u001b[1;32m<frozen importlib._bootstrap>:627\u001b[0m, in \u001b[0;36m_load_backward_compatible\u001b[1;34m(spec)\u001b[0m\n",
      "File \u001b[1;32m<frozen zipimport>:259\u001b[0m, in \u001b[0;36mload_module\u001b[1;34m(self, fullname)\u001b[0m\n",
      "File \u001b[1;32m~\\.conda\\envs\\cavities\\lib\\site-packages\\pyepr-0.8-py3.9.egg\\pyEPR\\__init__.py:130\u001b[0m\n\u001b[0;32m    126\u001b[0m         logger\u001b[38;5;241m.\u001b[39mwarning(\u001b[38;5;124m\"\u001b[39m\u001b[38;5;124mIMPORT WARNING: `pandas` python package not found. \u001b[39m\u001b[38;5;132;01m%s\u001b[39;00m\u001b[38;5;124m\"\u001b[39m,\n\u001b[0;32m    127\u001b[0m                        config\u001b[38;5;241m.\u001b[39minternal\u001b[38;5;241m.\u001b[39merror_msg_missing_import)\n\u001b[0;32m    129\u001b[0m \u001b[38;5;28;01mtry\u001b[39;00m:\n\u001b[1;32m--> 130\u001b[0m     \u001b[38;5;28;01mimport\u001b[39;00m \u001b[38;5;21;01mezdxf\u001b[39;00m \u001b[38;5;28;01mas\u001b[39;00m \u001b[38;5;21;01mdxf\u001b[39;00m\n\u001b[0;32m    131\u001b[0m     \u001b[38;5;28;01mdel\u001b[39;00m dxf\n\u001b[0;32m    132\u001b[0m \u001b[38;5;28;01mexcept\u001b[39;00m (\u001b[38;5;167;01mImportError\u001b[39;00m, \u001b[38;5;167;01mModuleNotFoundError\u001b[39;00m):\n",
      "File \u001b[1;32m~\\.conda\\envs\\cavities\\lib\\site-packages\\ezdxf-1.1.0b1-py3.9.egg\\ezdxf\\__init__.py:26\u001b[0m\n\u001b[0;32m     24\u001b[0m \u001b[38;5;28;01mfrom\u001b[39;00m \u001b[38;5;21;01mezdxf\u001b[39;00m\u001b[38;5;21;01m.\u001b[39;00m\u001b[38;5;21;01mlldxf\u001b[39;00m \u001b[38;5;28;01mimport\u001b[39;00m const\n\u001b[0;32m     25\u001b[0m \u001b[38;5;28;01mfrom\u001b[39;00m \u001b[38;5;21;01mezdxf\u001b[39;00m\u001b[38;5;21;01m.\u001b[39;00m\u001b[38;5;21;01mlldxf\u001b[39;00m\u001b[38;5;21;01m.\u001b[39;00m\u001b[38;5;21;01mvalidator\u001b[39;00m \u001b[38;5;28;01mimport\u001b[39;00m is_dxf_file, is_dxf_stream\n\u001b[1;32m---> 26\u001b[0m \u001b[38;5;28;01mfrom\u001b[39;00m \u001b[38;5;21;01mezdxf\u001b[39;00m\u001b[38;5;21;01m.\u001b[39;00m\u001b[38;5;21;01mfilemanagement\u001b[39;00m \u001b[38;5;28;01mimport\u001b[39;00m readzip, new, read, readfile, decode_base64\n\u001b[0;32m     27\u001b[0m \u001b[38;5;28;01mfrom\u001b[39;00m \u001b[38;5;21;01mezdxf\u001b[39;00m\u001b[38;5;21;01m.\u001b[39;00m\u001b[38;5;21;01mtools\u001b[39;00m\u001b[38;5;21;01m.\u001b[39;00m\u001b[38;5;21;01mstandards\u001b[39;00m \u001b[38;5;28;01mimport\u001b[39;00m (\n\u001b[0;32m     28\u001b[0m     setup_linetypes,\n\u001b[0;32m     29\u001b[0m     setup_styles,\n\u001b[0;32m     30\u001b[0m     setup_dimstyles,\n\u001b[0;32m     31\u001b[0m     setup_dimstyle,\n\u001b[0;32m     32\u001b[0m )\n\u001b[0;32m     33\u001b[0m \u001b[38;5;28;01mfrom\u001b[39;00m \u001b[38;5;21;01mezdxf\u001b[39;00m\u001b[38;5;21;01m.\u001b[39;00m\u001b[38;5;21;01mtools\u001b[39;00m \u001b[38;5;28;01mimport\u001b[39;00m pattern\n",
      "File \u001b[1;32m~\\.conda\\envs\\cavities\\lib\\site-packages\\ezdxf-1.1.0b1-py3.9.egg\\ezdxf\\filemanagement.py:9\u001b[0m\n\u001b[0;32m      6\u001b[0m \u001b[38;5;28;01mimport\u001b[39;00m \u001b[38;5;21;01mio\u001b[39;00m\n\u001b[0;32m      7\u001b[0m \u001b[38;5;28;01mimport\u001b[39;00m \u001b[38;5;21;01mpathlib\u001b[39;00m\n\u001b[1;32m----> 9\u001b[0m \u001b[38;5;28;01mfrom\u001b[39;00m \u001b[38;5;21;01mezdxf\u001b[39;00m\u001b[38;5;21;01m.\u001b[39;00m\u001b[38;5;21;01mtools\u001b[39;00m\u001b[38;5;21;01m.\u001b[39;00m\u001b[38;5;21;01mstandards\u001b[39;00m \u001b[38;5;28;01mimport\u001b[39;00m setup_drawing\n\u001b[0;32m     10\u001b[0m \u001b[38;5;28;01mfrom\u001b[39;00m \u001b[38;5;21;01mezdxf\u001b[39;00m\u001b[38;5;21;01m.\u001b[39;00m\u001b[38;5;21;01mlldxf\u001b[39;00m\u001b[38;5;21;01m.\u001b[39;00m\u001b[38;5;21;01mconst\u001b[39;00m \u001b[38;5;28;01mimport\u001b[39;00m DXF2013\n\u001b[0;32m     11\u001b[0m \u001b[38;5;28;01mfrom\u001b[39;00m \u001b[38;5;21;01mezdxf\u001b[39;00m\u001b[38;5;21;01m.\u001b[39;00m\u001b[38;5;21;01mdocument\u001b[39;00m \u001b[38;5;28;01mimport\u001b[39;00m Drawing\n",
      "File \u001b[1;32m~\\.conda\\envs\\cavities\\lib\\site-packages\\ezdxf-1.1.0b1-py3.9.egg\\ezdxf\\tools\\standards.py:8\u001b[0m\n\u001b[0;32m      6\u001b[0m \u001b[38;5;28;01mfrom\u001b[39;00m \u001b[38;5;21;01mezdxf\u001b[39;00m \u001b[38;5;28;01mimport\u001b[39;00m const\n\u001b[0;32m      7\u001b[0m \u001b[38;5;28;01mfrom\u001b[39;00m \u001b[38;5;21;01mezdxf\u001b[39;00m\u001b[38;5;21;01m.\u001b[39;00m\u001b[38;5;21;01m_options\u001b[39;00m \u001b[38;5;28;01mimport\u001b[39;00m options\n\u001b[1;32m----> 8\u001b[0m \u001b[38;5;28;01mfrom\u001b[39;00m \u001b[38;5;21;01mezdxf\u001b[39;00m\u001b[38;5;21;01m.\u001b[39;00m\u001b[38;5;21;01mrender\u001b[39;00m\u001b[38;5;21;01m.\u001b[39;00m\u001b[38;5;21;01marrows\u001b[39;00m \u001b[38;5;28;01mimport\u001b[39;00m ARROWS\n\u001b[0;32m      9\u001b[0m \u001b[38;5;28;01mfrom\u001b[39;00m \u001b[38;5;21;01mezdxf\u001b[39;00m\u001b[38;5;21;01m.\u001b[39;00m\u001b[38;5;21;01mlldxf\u001b[39;00m\u001b[38;5;21;01m.\u001b[39;00m\u001b[38;5;21;01mtypes\u001b[39;00m \u001b[38;5;28;01mimport\u001b[39;00m DXFTag\n\u001b[0;32m     10\u001b[0m \u001b[38;5;28;01mfrom\u001b[39;00m \u001b[38;5;21;01mezdxf\u001b[39;00m\u001b[38;5;21;01m.\u001b[39;00m\u001b[38;5;21;01mlldxf\u001b[39;00m\u001b[38;5;21;01m.\u001b[39;00m\u001b[38;5;21;01mtags\u001b[39;00m \u001b[38;5;28;01mimport\u001b[39;00m Tags\n",
      "File \u001b[1;32m~\\.conda\\envs\\cavities\\lib\\site-packages\\ezdxf-1.1.0b1-py3.9.egg\\ezdxf\\render\\__init__.py:20\u001b[0m\n\u001b[0;32m      6\u001b[0m \u001b[38;5;28;01mfrom\u001b[39;00m \u001b[38;5;21;01m.\u001b[39;00m\u001b[38;5;21;01mmesh\u001b[39;00m \u001b[38;5;28;01mimport\u001b[39;00m (\n\u001b[0;32m      7\u001b[0m     MeshBuilder,\n\u001b[0;32m      8\u001b[0m     MeshVertexMerger,\n\u001b[1;32m   (...)\u001b[0m\n\u001b[0;32m     17\u001b[0m     DegeneratedPathError,\n\u001b[0;32m     18\u001b[0m )\n\u001b[0;32m     19\u001b[0m \u001b[38;5;28;01mfrom\u001b[39;00m \u001b[38;5;21;01m.\u001b[39;00m\u001b[38;5;21;01mtrace\u001b[39;00m \u001b[38;5;28;01mimport\u001b[39;00m TraceBuilder\n\u001b[1;32m---> 20\u001b[0m \u001b[38;5;28;01mfrom\u001b[39;00m \u001b[38;5;21;01m.\u001b[39;00m\u001b[38;5;21;01mmleader\u001b[39;00m \u001b[38;5;28;01mimport\u001b[39;00m (\n\u001b[0;32m     21\u001b[0m     MultiLeaderBuilder,\n\u001b[0;32m     22\u001b[0m     MultiLeaderMTextBuilder,\n\u001b[0;32m     23\u001b[0m     MultiLeaderBlockBuilder,\n\u001b[0;32m     24\u001b[0m     ConnectionSide,\n\u001b[0;32m     25\u001b[0m     HorizontalConnection,\n\u001b[0;32m     26\u001b[0m     VerticalConnection,\n\u001b[0;32m     27\u001b[0m     LeaderType,\n\u001b[0;32m     28\u001b[0m     TextAlignment,\n\u001b[0;32m     29\u001b[0m     BlockAlignment,\n\u001b[0;32m     30\u001b[0m )\n",
      "File \u001b[1;32m~\\.conda\\envs\\cavities\\lib\\site-packages\\ezdxf-1.1.0b1-py3.9.egg\\ezdxf\\render\\mleader.py:39\u001b[0m\n\u001b[0;32m     37\u001b[0m \u001b[38;5;28;01mfrom\u001b[39;00m \u001b[38;5;21;01mezdxf\u001b[39;00m\u001b[38;5;21;01m.\u001b[39;00m\u001b[38;5;21;01mproxygraphic\u001b[39;00m \u001b[38;5;28;01mimport\u001b[39;00m ProxyGraphic\n\u001b[0;32m     38\u001b[0m \u001b[38;5;28;01mfrom\u001b[39;00m \u001b[38;5;21;01mezdxf\u001b[39;00m\u001b[38;5;21;01m.\u001b[39;00m\u001b[38;5;21;01mrender\u001b[39;00m\u001b[38;5;21;01m.\u001b[39;00m\u001b[38;5;21;01marrows\u001b[39;00m \u001b[38;5;28;01mimport\u001b[39;00m ARROWS, arrow_length\n\u001b[1;32m---> 39\u001b[0m \u001b[38;5;28;01mfrom\u001b[39;00m \u001b[38;5;21;01mezdxf\u001b[39;00m\u001b[38;5;21;01m.\u001b[39;00m\u001b[38;5;21;01mtools\u001b[39;00m \u001b[38;5;28;01mimport\u001b[39;00m text_size, text \u001b[38;5;28;01mas\u001b[39;00m text_tools\n\u001b[0;32m     40\u001b[0m \u001b[38;5;28;01mfrom\u001b[39;00m \u001b[38;5;21;01mezdxf\u001b[39;00m\u001b[38;5;21;01m.\u001b[39;00m\u001b[38;5;21;01mentities\u001b[39;00m\u001b[38;5;21;01m.\u001b[39;00m\u001b[38;5;21;01mmleader\u001b[39;00m \u001b[38;5;28;01mimport\u001b[39;00m (\n\u001b[0;32m     41\u001b[0m     AttribData,\n\u001b[0;32m     42\u001b[0m     BlockData,\n\u001b[1;32m   (...)\u001b[0m\n\u001b[0;32m     49\u001b[0m     acdb_mleader_style,\n\u001b[0;32m     50\u001b[0m )\n\u001b[0;32m     52\u001b[0m \u001b[38;5;28;01mif\u001b[39;00m TYPE_CHECKING:\n",
      "File \u001b[1;32m~\\.conda\\envs\\cavities\\lib\\site-packages\\ezdxf-1.1.0b1-py3.9.egg\\ezdxf\\tools\\text_size.py:9\u001b[0m\n\u001b[0;32m      7\u001b[0m \u001b[38;5;28;01mfrom\u001b[39;00m \u001b[38;5;21;01mezdxf\u001b[39;00m\u001b[38;5;21;01m.\u001b[39;00m\u001b[38;5;21;01mmath\u001b[39;00m \u001b[38;5;28;01mimport\u001b[39;00m Matrix44, Vec2\n\u001b[0;32m      8\u001b[0m \u001b[38;5;28;01mfrom\u001b[39;00m \u001b[38;5;21;01mezdxf\u001b[39;00m\u001b[38;5;21;01m.\u001b[39;00m\u001b[38;5;21;01mentities\u001b[39;00m \u001b[38;5;28;01mimport\u001b[39;00m Text, MText, get_font_name\n\u001b[1;32m----> 9\u001b[0m \u001b[38;5;28;01mfrom\u001b[39;00m \u001b[38;5;21;01mezdxf\u001b[39;00m\u001b[38;5;21;01m.\u001b[39;00m\u001b[38;5;21;01mfonts\u001b[39;00m \u001b[38;5;28;01mimport\u001b[39;00m fonts\n\u001b[0;32m     10\u001b[0m \u001b[38;5;28;01mfrom\u001b[39;00m \u001b[38;5;21;01mezdxf\u001b[39;00m\u001b[38;5;21;01m.\u001b[39;00m\u001b[38;5;21;01mtools\u001b[39;00m \u001b[38;5;28;01mimport\u001b[39;00m text_layout \u001b[38;5;28;01mas\u001b[39;00m tl\n\u001b[0;32m     11\u001b[0m \u001b[38;5;28;01mfrom\u001b[39;00m \u001b[38;5;21;01mezdxf\u001b[39;00m\u001b[38;5;21;01m.\u001b[39;00m\u001b[38;5;21;01mtools\u001b[39;00m\u001b[38;5;21;01m.\u001b[39;00m\u001b[38;5;21;01mtext\u001b[39;00m \u001b[38;5;28;01mimport\u001b[39;00m MTextContext\n",
      "File \u001b[1;32m~\\.conda\\envs\\cavities\\lib\\site-packages\\ezdxf-1.1.0b1-py3.9.egg\\ezdxf\\fonts\\fonts.py:650\u001b[0m\n\u001b[0;32m    646\u001b[0m                 font_face \u001b[38;5;241m=\u001b[39m get_font_face(ttf)\n\u001b[0;32m    647\u001b[0m     \u001b[38;5;28;01mreturn\u001b[39;00m font_face\n\u001b[1;32m--> 650\u001b[0m \u001b[43m_load_font_manager\u001b[49m\u001b[43m(\u001b[49m\u001b[43m)\u001b[49m\n",
      "File \u001b[1;32m~\\.conda\\envs\\cavities\\lib\\site-packages\\ezdxf-1.1.0b1-py3.9.egg\\ezdxf\\fonts\\fonts.py:282\u001b[0m, in \u001b[0;36m_load_font_manager\u001b[1;34m()\u001b[0m\n\u001b[0;32m    280\u001b[0m     \u001b[38;5;28;01mexcept\u001b[39;00m \u001b[38;5;167;01mIOError\u001b[39;00m \u001b[38;5;28;01mas\u001b[39;00m e:\n\u001b[0;32m    281\u001b[0m         logger\u001b[38;5;241m.\u001b[39minfo(\u001b[38;5;124mf\u001b[39m\u001b[38;5;124m\"\u001b[39m\u001b[38;5;124mError loading cache file: \u001b[39m\u001b[38;5;132;01m{\u001b[39;00m\u001b[38;5;28mstr\u001b[39m(e)\u001b[38;5;132;01m}\u001b[39;00m\u001b[38;5;124m\"\u001b[39m)\n\u001b[1;32m--> 282\u001b[0m \u001b[43mbuild_font_manager_cache\u001b[49m\u001b[43m(\u001b[49m\u001b[43mfm_path\u001b[49m\u001b[43m)\u001b[49m\n",
      "File \u001b[1;32m~\\.conda\\envs\\cavities\\lib\\site-packages\\ezdxf-1.1.0b1-py3.9.egg\\ezdxf\\fonts\\fonts.py:310\u001b[0m, in \u001b[0;36mbuild_font_manager_cache\u001b[1;34m(path)\u001b[0m\n\u001b[0;32m    309\u001b[0m \u001b[38;5;28;01mdef\u001b[39;00m \u001b[38;5;21mbuild_font_manager_cache\u001b[39m(path: pathlib\u001b[38;5;241m.\u001b[39mPath) \u001b[38;5;241m-\u001b[39m\u001b[38;5;241m>\u001b[39m \u001b[38;5;28;01mNone\u001b[39;00m:\n\u001b[1;32m--> 310\u001b[0m     \u001b[43mfont_manager\u001b[49m\u001b[38;5;241;43m.\u001b[39;49m\u001b[43mbuild\u001b[49m\u001b[43m(\u001b[49m\u001b[43m)\u001b[49m\n\u001b[0;32m    311\u001b[0m     s \u001b[38;5;241m=\u001b[39m font_manager\u001b[38;5;241m.\u001b[39mdumps()\n\u001b[0;32m    312\u001b[0m     \u001b[38;5;28;01mif\u001b[39;00m \u001b[38;5;129;01mnot\u001b[39;00m path\u001b[38;5;241m.\u001b[39mparent\u001b[38;5;241m.\u001b[39mexists():\n",
      "File \u001b[1;32m~\\.conda\\envs\\cavities\\lib\\site-packages\\ezdxf-1.1.0b1-py3.9.egg\\ezdxf\\fonts\\font_manager.py:361\u001b[0m, in \u001b[0;36mFontManager.build\u001b[1;34m(self, folders)\u001b[0m\n\u001b[0;32m    359\u001b[0m \u001b[38;5;28;01melse\u001b[39;00m:\n\u001b[0;32m    360\u001b[0m     dirs \u001b[38;5;241m=\u001b[39m FONT_DIRECTORIES\u001b[38;5;241m.\u001b[39mget(\u001b[38;5;28mself\u001b[39m\u001b[38;5;241m.\u001b[39mplatform, LINUX_FONT_DIRS)\n\u001b[1;32m--> 361\u001b[0m \u001b[38;5;28;43mself\u001b[39;49m\u001b[38;5;241;43m.\u001b[39;49m\u001b[43mscan_all\u001b[49m\u001b[43m(\u001b[49m\u001b[43mdirs\u001b[49m\u001b[43m \u001b[49m\u001b[38;5;241;43m+\u001b[39;49m\u001b[43m \u001b[49m\u001b[38;5;28;43mlist\u001b[39;49m\u001b[43m(\u001b[49m\u001b[43moptions\u001b[49m\u001b[38;5;241;43m.\u001b[39;49m\u001b[43msupport_dirs\u001b[49m\u001b[43m)\u001b[49m\u001b[43m)\u001b[49m\n",
      "File \u001b[1;32m~\\.conda\\envs\\cavities\\lib\\site-packages\\ezdxf-1.1.0b1-py3.9.egg\\ezdxf\\fonts\\font_manager.py:366\u001b[0m, in \u001b[0;36mFontManager.scan_all\u001b[1;34m(self, folders)\u001b[0m\n\u001b[0;32m    364\u001b[0m \u001b[38;5;28;01mfor\u001b[39;00m folder \u001b[38;5;129;01min\u001b[39;00m folders:\n\u001b[0;32m    365\u001b[0m     folder \u001b[38;5;241m=\u001b[39m folder\u001b[38;5;241m.\u001b[39mstrip(\u001b[38;5;124m\"\u001b[39m\u001b[38;5;124m'\u001b[39m\u001b[38;5;130;01m\\\"\u001b[39;00m\u001b[38;5;124m\"\u001b[39m)  \u001b[38;5;66;03m# strip quotes\u001b[39;00m\n\u001b[1;32m--> 366\u001b[0m     \u001b[38;5;28;43mself\u001b[39;49m\u001b[38;5;241;43m.\u001b[39;49m\u001b[43mscan_folder\u001b[49m\u001b[43m(\u001b[49m\u001b[43mPath\u001b[49m\u001b[43m(\u001b[49m\u001b[43mfolder\u001b[49m\u001b[43m)\u001b[49m\u001b[38;5;241;43m.\u001b[39;49m\u001b[43mexpanduser\u001b[49m\u001b[43m(\u001b[49m\u001b[43m)\u001b[49m\u001b[43m)\u001b[49m\n",
      "File \u001b[1;32m~\\.conda\\envs\\cavities\\lib\\site-packages\\ezdxf-1.1.0b1-py3.9.egg\\ezdxf\\fonts\\font_manager.py:377\u001b[0m, in \u001b[0;36mFontManager.scan_folder\u001b[1;34m(self, folder)\u001b[0m\n\u001b[0;32m    375\u001b[0m ext \u001b[38;5;241m=\u001b[39m file\u001b[38;5;241m.\u001b[39msuffix\u001b[38;5;241m.\u001b[39mlower()\n\u001b[0;32m    376\u001b[0m \u001b[38;5;28;01mif\u001b[39;00m ext \u001b[38;5;129;01min\u001b[39;00m SUPPORTED_TTF_TYPES:\n\u001b[1;32m--> 377\u001b[0m     font_face \u001b[38;5;241m=\u001b[39m \u001b[43mget_ttf_font_face\u001b[49m\u001b[43m(\u001b[49m\u001b[43mfile\u001b[49m\u001b[43m)\u001b[49m\n\u001b[0;32m    378\u001b[0m     \u001b[38;5;28mself\u001b[39m\u001b[38;5;241m.\u001b[39m_font_cache\u001b[38;5;241m.\u001b[39madd_entry(file, font_face)\n\u001b[0;32m    379\u001b[0m \u001b[38;5;28;01melif\u001b[39;00m ext \u001b[38;5;129;01min\u001b[39;00m SUPPORTED_SHAPE_FILES:\n",
      "File \u001b[1;32m~\\.conda\\envs\\cavities\\lib\\site-packages\\ezdxf-1.1.0b1-py3.9.egg\\ezdxf\\fonts\\font_manager.py:412\u001b[0m, in \u001b[0;36mget_ttf_font_face\u001b[1;34m(font_path)\u001b[0m\n\u001b[0;32m    410\u001b[0m     \u001b[38;5;28;01mif\u001b[39;00m family \u001b[38;5;129;01mand\u001b[39;00m style:\n\u001b[0;32m    411\u001b[0m         \u001b[38;5;28;01mbreak\u001b[39;00m\n\u001b[1;32m--> 412\u001b[0m os2_table \u001b[38;5;241m=\u001b[39m \u001b[43mttf\u001b[49m\u001b[43m[\u001b[49m\u001b[38;5;124;43m\"\u001b[39;49m\u001b[38;5;124;43mOS/2\u001b[39;49m\u001b[38;5;124;43m\"\u001b[39;49m\u001b[43m]\u001b[49m\n\u001b[0;32m    413\u001b[0m weight \u001b[38;5;241m=\u001b[39m os2_table\u001b[38;5;241m.\u001b[39musWeightClass\n\u001b[0;32m    414\u001b[0m width \u001b[38;5;241m=\u001b[39m os2_table\u001b[38;5;241m.\u001b[39musWidthClass\n",
      "File \u001b[1;32m~\\.conda\\envs\\cavities\\lib\\site-packages\\fontTools\\ttLib\\ttFont.py:378\u001b[0m, in \u001b[0;36mTTFont.__getitem__\u001b[1;34m(self, tag)\u001b[0m\n\u001b[0;32m    376\u001b[0m \t\u001b[38;5;28mself\u001b[39m\u001b[38;5;241m.\u001b[39mtables[tag] \u001b[38;5;241m=\u001b[39m table\n\u001b[0;32m    377\u001b[0m \u001b[38;5;28;01melif\u001b[39;00m \u001b[38;5;28mself\u001b[39m\u001b[38;5;241m.\u001b[39mreader \u001b[38;5;129;01mis\u001b[39;00m \u001b[38;5;129;01mnot\u001b[39;00m \u001b[38;5;28;01mNone\u001b[39;00m:\n\u001b[1;32m--> 378\u001b[0m \ttable \u001b[38;5;241m=\u001b[39m \u001b[38;5;28;43mself\u001b[39;49m\u001b[38;5;241;43m.\u001b[39;49m\u001b[43m_readTable\u001b[49m\u001b[43m(\u001b[49m\u001b[43mtag\u001b[49m\u001b[43m)\u001b[49m\n\u001b[0;32m    379\u001b[0m \u001b[38;5;28;01melse\u001b[39;00m:\n\u001b[0;32m    380\u001b[0m \t\u001b[38;5;28;01mraise\u001b[39;00m \u001b[38;5;167;01mKeyError\u001b[39;00m(\u001b[38;5;124m\"\u001b[39m\u001b[38;5;124m'\u001b[39m\u001b[38;5;132;01m%s\u001b[39;00m\u001b[38;5;124m'\u001b[39m\u001b[38;5;124m table not found\u001b[39m\u001b[38;5;124m\"\u001b[39m \u001b[38;5;241m%\u001b[39m tag)\n",
      "File \u001b[1;32m~\\.conda\\envs\\cavities\\lib\\site-packages\\fontTools\\ttLib\\ttFont.py:395\u001b[0m, in \u001b[0;36mTTFont._readTable\u001b[1;34m(self, tag)\u001b[0m\n\u001b[0;32m    393\u001b[0m log\u001b[38;5;241m.\u001b[39mdebug(\u001b[38;5;124m\"\u001b[39m\u001b[38;5;124mDecompiling \u001b[39m\u001b[38;5;124m'\u001b[39m\u001b[38;5;132;01m%s\u001b[39;00m\u001b[38;5;124m'\u001b[39m\u001b[38;5;124m table\u001b[39m\u001b[38;5;124m\"\u001b[39m, tag)\n\u001b[0;32m    394\u001b[0m \u001b[38;5;28;01mtry\u001b[39;00m:\n\u001b[1;32m--> 395\u001b[0m \t\u001b[43mtable\u001b[49m\u001b[38;5;241;43m.\u001b[39;49m\u001b[43mdecompile\u001b[49m\u001b[43m(\u001b[49m\u001b[43mdata\u001b[49m\u001b[43m,\u001b[49m\u001b[43m \u001b[49m\u001b[38;5;28;43mself\u001b[39;49m\u001b[43m)\u001b[49m\n\u001b[0;32m    396\u001b[0m \u001b[38;5;28;01mexcept\u001b[39;00m \u001b[38;5;167;01mException\u001b[39;00m:\n\u001b[0;32m    397\u001b[0m \t\u001b[38;5;28;01mif\u001b[39;00m \u001b[38;5;129;01mnot\u001b[39;00m \u001b[38;5;28mself\u001b[39m\u001b[38;5;241m.\u001b[39mignoreDecompileErrors:\n",
      "File \u001b[1;32m~\\.conda\\envs\\cavities\\lib\\site-packages\\fontTools\\ttLib\\tables\\O_S_2f_2.py:111\u001b[0m, in \u001b[0;36mtable_O_S_2f_2.decompile\u001b[1;34m(self, data, ttFont)\u001b[0m\n\u001b[0;32m    108\u001b[0m dummy, data \u001b[38;5;241m=\u001b[39m sstruct\u001b[38;5;241m.\u001b[39munpack2(OS2_format_0, data, \u001b[38;5;28mself\u001b[39m)\n\u001b[0;32m    110\u001b[0m \u001b[38;5;28;01mif\u001b[39;00m \u001b[38;5;28mself\u001b[39m\u001b[38;5;241m.\u001b[39mversion \u001b[38;5;241m==\u001b[39m \u001b[38;5;241m1\u001b[39m:\n\u001b[1;32m--> 111\u001b[0m \tdummy, data \u001b[38;5;241m=\u001b[39m \u001b[43msstruct\u001b[49m\u001b[38;5;241;43m.\u001b[39;49m\u001b[43munpack2\u001b[49m\u001b[43m(\u001b[49m\u001b[43mOS2_format_1_addition\u001b[49m\u001b[43m,\u001b[49m\u001b[43m \u001b[49m\u001b[43mdata\u001b[49m\u001b[43m,\u001b[49m\u001b[43m \u001b[49m\u001b[38;5;28;43mself\u001b[39;49m\u001b[43m)\u001b[49m\n\u001b[0;32m    112\u001b[0m \u001b[38;5;28;01melif\u001b[39;00m \u001b[38;5;28mself\u001b[39m\u001b[38;5;241m.\u001b[39mversion \u001b[38;5;129;01min\u001b[39;00m (\u001b[38;5;241m2\u001b[39m, \u001b[38;5;241m3\u001b[39m, \u001b[38;5;241m4\u001b[39m):\n\u001b[0;32m    113\u001b[0m \tdummy, data \u001b[38;5;241m=\u001b[39m sstruct\u001b[38;5;241m.\u001b[39munpack2(OS2_format_2_addition, data, \u001b[38;5;28mself\u001b[39m)\n",
      "File \u001b[1;32m~\\.conda\\envs\\cavities\\lib\\site-packages\\fontTools\\misc\\sstruct.py:103\u001b[0m, in \u001b[0;36munpack2\u001b[1;34m(fmt, data, obj)\u001b[0m\n\u001b[0;32m    101\u001b[0m \u001b[38;5;28;01mdef\u001b[39;00m \u001b[38;5;21munpack2\u001b[39m(fmt, data, obj\u001b[38;5;241m=\u001b[39m\u001b[38;5;28;01mNone\u001b[39;00m):\n\u001b[0;32m    102\u001b[0m \tlength \u001b[38;5;241m=\u001b[39m calcsize(fmt)\n\u001b[1;32m--> 103\u001b[0m \t\u001b[38;5;28;01mreturn\u001b[39;00m \u001b[43munpack\u001b[49m\u001b[43m(\u001b[49m\u001b[43mfmt\u001b[49m\u001b[43m,\u001b[49m\u001b[43m \u001b[49m\u001b[43mdata\u001b[49m\u001b[43m[\u001b[49m\u001b[43m:\u001b[49m\u001b[43mlength\u001b[49m\u001b[43m]\u001b[49m\u001b[43m,\u001b[49m\u001b[43m \u001b[49m\u001b[43mobj\u001b[49m\u001b[43m)\u001b[49m, data[length:]\n",
      "File \u001b[1;32m~\\.conda\\envs\\cavities\\lib\\site-packages\\fontTools\\misc\\sstruct.py:86\u001b[0m, in \u001b[0;36munpack\u001b[1;34m(fmt, data, obj)\u001b[0m\n\u001b[0;32m     84\u001b[0m \u001b[38;5;28;01melse\u001b[39;00m:\n\u001b[0;32m     85\u001b[0m \td \u001b[38;5;241m=\u001b[39m obj\u001b[38;5;241m.\u001b[39m\u001b[38;5;18m__dict__\u001b[39m\n\u001b[1;32m---> 86\u001b[0m elements \u001b[38;5;241m=\u001b[39m \u001b[43mstruct\u001b[49m\u001b[38;5;241;43m.\u001b[39;49m\u001b[43munpack\u001b[49m\u001b[43m(\u001b[49m\u001b[43mformatstring\u001b[49m\u001b[43m,\u001b[49m\u001b[43m \u001b[49m\u001b[43mdata\u001b[49m\u001b[43m)\u001b[49m\n\u001b[0;32m     87\u001b[0m \u001b[38;5;28;01mfor\u001b[39;00m i \u001b[38;5;129;01min\u001b[39;00m \u001b[38;5;28mrange\u001b[39m(\u001b[38;5;28mlen\u001b[39m(names)):\n\u001b[0;32m     88\u001b[0m \tname \u001b[38;5;241m=\u001b[39m names[i]\n",
      "\u001b[1;31merror\u001b[0m: unpack requires a buffer of 8 bytes"
     ]
    }
   ],
   "source": [
    "'''\n",
    "Demos written and developed by: Andrew E. Oriani 2020 EMAIL: oriani@uchicago.edu\n",
    "\n",
    "'''\n",
    "from PyInventor import *\n",
    "import numpy as np\n",
    "from numpy import pi, cos, sin, sqrt, log\n",
    "import math\n",
    "import glob\n",
    "import time\n",
    "import datetime\n",
    "\n",
    "#Import plotting libraries for later\n",
    "import matplotlib\n",
    "from matplotlib import pyplot as plt\n",
    "\n",
    "import pandas as pd\n",
    "\n",
    "import pyEPR\n",
    "from pyEPR import ansys as HFSS\n",
    "from pyEPR.core_distributed_analysis import CalcObject\n",
    "\n",
    "import scipy\n",
    "from scipy import constants as const\n",
    "\n",
    "from pint import UnitRegistry\n",
    "ureg = UnitRegistry()\n",
    "Q = ureg.Quantity\n",
    "import os\n",
    "import re as regex\n",
    "\n",
    "# Field integrals code\n",
    "import sys\n",
    "sys.path.append('../python/src')\n",
    "import field_integrals as fint"
   ]
  },
  {
   "cell_type": "code",
   "execution_count": 265,
   "metadata": {},
   "outputs": [],
   "source": [
    "'''\n",
    "Some code for frequency estimation\n",
    "'''\n",
    "\n",
    "class unique_element:\n",
    "    def __init__(self,value,occurrences):\n",
    "        self.value = value\n",
    "        self.occurrences = occurrences\n",
    "        \n",
    "def perm_unique(elements):\n",
    "    eset=set(elements)\n",
    "    listunique = [unique_element(i,elements.count(i)) for i in eset]\n",
    "    u=len(elements)\n",
    "    return perm_unique_helper(listunique,[0]*u,u-1)\n",
    "\n",
    "def perm_unique_helper(listunique,result_list,d):\n",
    "    if d < 0:\n",
    "        yield tuple(result_list)\n",
    "    else:\n",
    "        for i in listunique:\n",
    "            if i.occurrences > 0:\n",
    "                result_list[d]=i.value\n",
    "                i.occurrences-=1\n",
    "                for g in  perm_unique_helper(listunique,result_list,d-1):\n",
    "                    yield g\n",
    "                i.occurrences+=1\n",
    "\n",
    "def TE_mode_sort(mode_num=1):\n",
    "    '''\n",
    "    This calculates allowable nml values for the TE modes of the resonator. Uses above functions\n",
    "    '''\n",
    "    \n",
    "    permutes=[[1,0,1],[1,0,2],[1,0,3],[1,0,4],[1,0,5],[2,0,2],[2,0,3],[2,0,4],[2,0,5],[3,0,3],[3,0,4],[3,0,5]]\n",
    "    nml=[]\n",
    "    for i in range(len(permutes)):\n",
    "        perms=np.array(list(perm_unique(permutes[i])))\n",
    "        for vals in perms:\n",
    "            if vals[0]!=0 and vals[1]==0 and vals[2]!=0:\n",
    "                nml.append(list(vals))\n",
    "            else:\n",
    "                pass\n",
    "    nml=np.array(nml)\n",
    "    i_sort=np.argsort(nml[:,0])\n",
    "    return nml[i_sort][0:mode_num]\n",
    "\n",
    "\n",
    "def freq_rect(a,b,c, modes=1, unit='metric'):\n",
    "    '''\n",
    "    Calculate the lowest n-mode frequencies for a rectangular cavity of a,b,c dimensions where b is the smallest dim\n",
    "    '''\n",
    "    if unit=='metric':\n",
    "        a=a/1000.\n",
    "        b=b/1000.\n",
    "        c=c/1000.\n",
    "    elif unit=='imperial':\n",
    "        a=a*.0254\n",
    "        b=b*.0254\n",
    "        c=c*.0254\n",
    "    else:\n",
    "        raise Exception('ERROR: Unit must be metric or imperial')\n",
    "    \n",
    "    eps=const.epsilon_0\n",
    "    mu=const.mu_0\n",
    "    c_speed=const.c\n",
    "    nml_array=TE_mode_sort(10)\n",
    "    f=[]\n",
    "\n",
    "    for vals in nml_array:\n",
    "        n=vals[0]\n",
    "        m=vals[1]\n",
    "        l=vals[2]\n",
    "        f.append(((c_speed)/(2*pi))*sqrt((n*pi/a)**2+(m*pi/b)**2+(l*pi/c)**2))\n",
    "    f=np.array(f)\n",
    "    f_sort=np.argsort(f)\n",
    "    return f[f_sort][0:modes], nml_array[f_sort]\n",
    "\n",
    "def get_c_dim(f,a,b, unit='metric'):\n",
    "    '''\n",
    "    Estimates the second long dimension based on a target frequency and the other two dimensions. Works only for the \n",
    "    fundamental mode\n",
    "    '''\n",
    "    brentq=scipy.optimize.brentq\n",
    "    f_intercept=lambda c:freq_rect(a,b,c,1, unit)[0][0]-f\n",
    "    c=brentq(f_intercept, min([10*a, b]), max([10*a, b]))\n",
    "\n",
    "    return c\n",
    "\n",
    "def round_dim(dim, frac):\n",
    "    val=frac*math.ceil(dim/frac)+frac\n",
    "    if (val-dim)/2<frac:\n",
    "        val=val+.25\n",
    "    else:\n",
    "        pass\n",
    "    return val\n",
    "\n",
    "def check_path(path):\n",
    "    check=glob.glob(path)\n",
    "    if check==[]:\n",
    "        return False\n",
    "    else:\n",
    "        return True\n",
    "\n",
    "def cap_sigma(cmat, units='fF'):\n",
    "    cmat=Q(cmat, units).to('F').magnitude\n",
    "    c11=abs(cmat[0,0])-abs(cmat[0,1])\n",
    "    c22=abs(cmat[1,1])-abs(cmat[1,0])\n",
    "    c12=abs(cmat[0,1])/2+abs(cmat[1,0])/2\n",
    "    return (c12+(c11*c22)/(c11+c22))\n",
    "\n",
    "def C_to_Ec(cmat, cap_units='fF'):\n",
    "    csig=cap_sigma(cmat, cap_units)\n",
    "    print (csig)\n",
    "    return const.e**2/(2*(csig))/const.h\n",
    "\n",
    "def C_to_Ec(cmat, cap_units='fF'):\n",
    "    csig=cap_sigma(cmat, cap_units)\n",
    "    return const.e**2/(2*(csig))/const.h\n",
    "\n",
    "def Ec_to_C(Ec):\n",
    "    Ec = Ec*const.h\n",
    "    return const.e**2/(2*Ec)\n",
    "\n",
    "def L_from_nu_and_C(nu,C):\n",
    "    return (1/nu**2/4/np.pi**2/C)"
   ]
  },
  {
   "cell_type": "markdown",
   "metadata": {},
   "source": [
    "# PyInventor and cavity design:\n",
    "The following shows a basic example of how to setup and compile an Inventor design using the PyInventor designs. To learn more about PyInventor and see various examples of how PyInventor can be used for cavity design please refer to: https://github.com/AndrewOriani/PyInventor and the tutorial and demo notebooks contained within.\n"
   ]
  },
  {
   "cell_type": "code",
   "execution_count": 266,
   "metadata": {},
   "outputs": [],
   "source": [
    "def single_pan_pipe(target_freq, hole_spacing=0.2375,\n",
    "                   hole_dia=0.1875, H_stock=2.25,\n",
    "                    evan_length=0.5,\n",
    "                   units='imperial',\n",
    "                   fname='single_pan_pipe.ipt'):\n",
    "    \"\"\"\n",
    "    Creates a single mode pan-pipe cavity with inventor\n",
    "    \"\"\"\n",
    "    # Start at the origin\n",
    "    stock_origin=(0,0)\n",
    "\n",
    "    #calculate cavity height allowed by stock\n",
    "    H_cav=H_stock-2*evan_length\n",
    "\n",
    "    #calculate what you want the length of t he cavity to be for  the proper fundamental frequency\n",
    "    L_cav=get_c_dim(target_freq, H_cav, hole_dia, units)\n",
    "\n",
    "    #set the maximum number of holes, call them top\n",
    "    num_holes_top=round((L_cav-hole_dia)/hole_spacing)+1\n",
    "\n",
    "    #number of bottom holes\n",
    "    num_holes_bot=num_holes_top-1\n",
    "\n",
    "    #recalculate frequency now that holes are set\n",
    "    eff_cav_L=(num_holes_top-1)*hole_spacing+hole_dia\n",
    "    H_cav=get_c_dim(target_freq, eff_cav_L, hole_dia, units)\n",
    "\n",
    "    # calculate stock length for the given cavity length needed\n",
    "    # rounds length to nearest designated fraction\n",
    "    L_stock=round_dim(L_cav, .25)\n",
    "    W_stock=round_dim(hole_dia, .125)\n",
    "\n",
    "    #start inventor and close all inventor objects\n",
    "    com_obj().close_all_parts()\n",
    "\n",
    "    #set it to overwrite file every time the part is instantiated (REMEMBER TO PUT SAVE AT THE BOTTOM!)\n",
    "    overwrite=True\n",
    "\n",
    "    # path='Z:\\\\Andrew Oriani\\\\CQED 3D Resonators\\\\Multimode Manipulate Cavity\\\\3D MM V3'\n",
    "\n",
    "    #for demo set the path to path='' to save in current working directory\n",
    "    path=os.getcwd() + '\\\\Inventor Files\\\\'\n",
    "\n",
    "    #setup part \n",
    "    part=iPart(path=path, prefix=fname, units=units, overwrite=overwrite)\n",
    "\n",
    "    #set view as shaded with edges\n",
    "    part.set_visual_style(shaded=True, edges=True, hidden_edges=True)\n",
    "\n",
    "    #set starting workplane\n",
    "    lower_wp=part.add_workplane(plane='xy')\n",
    "\n",
    "    #attach a sketch to the workplane\n",
    "    sketch_1=part.new_sketch(lower_wp)\n",
    "\n",
    "    #set upper workplane\n",
    "    upper_wp=part.add_workplane(plane='xy', offset=H_stock)\n",
    "\n",
    "    #attach a sketch to the upper workplane\n",
    "    sketch_2=part.new_sketch(upper_wp)\n",
    "\n",
    "    #create stock base associated with sketch 1. The structuire object keeps track of position\n",
    "    stock_base=structure(part, sketch_1, start=stock_origin)\n",
    "\n",
    "    stock_base.add_line(L_stock, 180)\n",
    "    stock_base.add_line(W_stock, 90)\n",
    "    stock_base.add_line(L_stock, 0)\n",
    "    stock_base.add_line(W_stock, 270)\n",
    "\n",
    "    #structure identifier\n",
    "    base_shape=stock_base.draw_path(close_path=True)\n",
    "\n",
    "    #extrude base shape. It is important to set the object collection (obj_collection) to the specific polygon shape we created\n",
    "    base_extrusion=part.extrude(sketch_1, thickness=H_stock, obj_collection=base_shape, direction='positive', operation='join')\n",
    "\n",
    "    #fits whole cavity in frame\n",
    "    part.view.Fit()\n",
    "\n",
    "    #hole starting coordinate\n",
    "    hole_start=(-(L_stock-L_cav+hole_dia)/2, W_stock/2)\n",
    "\n",
    "    #structure identifier\n",
    "    cav_holes_top=structure(part, sketch_1, start=hole_start)\n",
    "    cav_holes_bot=structure(part, sketch_2, start=(hole_start[0]-hole_spacing/2, hole_start[1]))\n",
    "\n",
    "    #set total hole distance for top holes\n",
    "    hole_dist_top=hole_spacing*(num_holes_top-1)\n",
    "    hole_dist_bot=hole_spacing*(num_holes_bot-1)\n",
    "\n",
    "    #start drawing points for top holes\n",
    "    cav_holes_top.add_point_line(distance=hole_dist_top , direction=180, num_points=num_holes_top)   \n",
    "    top_holes_pos=cav_holes_top.get_pts()[0]\n",
    "\n",
    "    #create top holes by just putting in the list of positions. It will automatically make an object collection\n",
    "    hole_depth=H_cav+evan_length\n",
    "    part.new_hole(sketch=sketch_1, pos=top_holes_pos, dia=hole_dia, depth=hole_depth, direction='negative', FlatBottom=False, BottomTipAngle=None)\n",
    "\n",
    "    #start drawing holes for bottom points\n",
    "    cav_holes_bot.add_point_line(distance=hole_dist_bot , direction=180, num_points=num_holes_bot)   \n",
    "    bot_holes_pos=cav_holes_bot.get_pts()[0]\n",
    "\n",
    "    #create bottom holes\n",
    "    part.new_hole(sketch=sketch_2, pos=bot_holes_pos, dia=hole_dia, depth=hole_depth, direction='positive', FlatBottom=False, BottomTipAngle=None)\n",
    "\n",
    "    part.view.GoHome()\n",
    "\n",
    "    #Save document \n",
    "    part.save()\n",
    "\n",
    "    #save copy as stp file for export to HFSS\n",
    "    path=part.save_copy_as(copy_name=fname.split('.')[0]+'.stp' );\n",
    "\n",
    "    print('Estimated TE_101 mode frequency: %.3e'%target_freq)\n",
    "    \n",
    "    return L_stock, W_stock, H_stock, bot_holes_pos, top_holes_pos"
   ]
  },
  {
   "cell_type": "code",
   "execution_count": 267,
   "metadata": {},
   "outputs": [
    {
     "name": "stdout",
     "output_type": "stream",
     "text": [
      "Attempting to open Inventor with GetActiveObject ...\n",
      "Attempting to open Inventor with Dispatch ...\n",
      "Attempting to open Inventor with GetActiveObject ...\n",
      "Attempting to open Inventor with Dispatch ...\n",
      "File successfully copied as: Z:\\tcav\\ipynbs\\Inventor Files\\\\00035_flute_cavity_6p375_GHz.stp\n",
      "Estimated TE_101 mode frequency: 6.375e+09\n",
      "Attempting to open Inventor with GetActiveObject ...\n",
      "Attempting to open Inventor with Dispatch ...\n",
      "Attempting to open Inventor with GetActiveObject ...\n",
      "Attempting to open Inventor with Dispatch ...\n",
      "File successfully copied as: Z:\\tcav\\ipynbs\\Inventor Files\\\\00036_flute_cavity_6p375_GHz.stp\n",
      "Estimated TE_101 mode frequency: 6.375e+09\n"
     ]
    }
   ],
   "source": [
    "# Two calls to pan-pipe design\n",
    "# L_stock, W_stock, H_stock, bot_holes_pos, top_holes_pos \\\n",
    "# = single_pan_pipe(target_freq=7.375e9, fname='flute_cavity_7p375_GHz.ipt')\n",
    "# L_stock2, W_stock2, H_stock2, bot_holes_pos2, top_holes_pos2 \\\n",
    "# = single_pan_pipe(target_freq=7.375e9, fname='flute_cavity_7p375_GHz.ipt')\n",
    "L_stock, W_stock, H_stock, bot_holes_pos, top_holes_pos \\\n",
    "= single_pan_pipe(target_freq=6.375e9, fname='flute_cavity_6p375_GHz.ipt')\n",
    "L_stock2, W_stock2, H_stock2, bot_holes_pos2, top_holes_pos2 \\\n",
    "= single_pan_pipe(target_freq=6.375e9, fname='flute_cavity_6p375_GHz.ipt')"
   ]
  },
  {
   "cell_type": "markdown",
   "metadata": {},
   "source": [
    "# Eigenmode:\n",
    "\n",
    "<img src=\"Pictures/Cavity Eigenmode.png\" alt=\"drawing\" width=\"400\">\n",
    "\n",
    "Determines first 5 eigenmode frequencies in absence of any qubit. This demonstration also calculates S_e and S_m (electric and magnetic field participation of the cavity modes) for the first (TE_101) mode."
   ]
  },
  {
   "cell_type": "code",
   "execution_count": 290,
   "metadata": {},
   "outputs": [
    {
     "name": "stdout",
     "output_type": "stream",
     "text": [
      "flute_cavity_6p375_GHz.stp exists: ['Z:\\\\tcav\\\\ipynbs\\\\Inventor Files\\\\flute_cavity_6p375_GHz.stp']\n",
      "flute_cavity_7p475_GHz.stp exists: ['Z:\\\\tcav\\\\ipynbs\\\\Inventor Files\\\\flute_cavity_7p375_GHz.stp']\n",
      "project_name: planar_pads_l_coupled_three_cavities_ndegen_driven_230418\n",
      "path: Z:\\tcav\\ipynbs\\HFSS\\planar_pads_l_coupled_three_cavities_ndegen_driven_230418.aedt\n",
      "project_name: planar_pads_l_coupled_three_cavities_ndegen_driven_230418\n",
      "path: Z:\\tcav\\ipynbs\\HFSS\\planar_pads_l_coupled_three_cavities_ndegen_driven_230418.aedt\n"
     ]
    }
   ],
   "source": [
    "'''\n",
    "HFSS eigenmode simulation Creation:\n",
    "\n",
    "This sets up a standard eigenmode simulation without the qubit, just the bare cavity created above. It calculates\n",
    "the mode frequencies, loss (with boundary impedances set) and the electric and magnetic surface participation \n",
    "ratios (S_e, S_m)\n",
    "\n",
    "'''\n",
    "path = 'Z:\\\\tcav\\\\ipynbs\\\\Inventor Files\\\\'\n",
    "project_name='Flute_Test_EM'\n",
    "design_name='Pan_pipe_Test'\n",
    "\n",
    "\n",
    "\n",
    "stp_exists = glob.glob(path+'flute_cavity_6p375_GHz.stp')\n",
    "print(f'flute_cavity_6p375_GHz.stp exists: {stp_exists}')\n",
    "stp_exists = glob.glob(path+'flute_cavity_7p375_GHz.stp')\n",
    "print(f'flute_cavity_7p475_GHz.stp exists: {stp_exists}')\n",
    "\n",
    "# Project and HFSS design names for the bare waveguide model\n",
    "dd = datetime.datetime.today().strftime('%y%m%d')\n",
    "dd = '230418'\n",
    "# solution_type = 'eigenmode'\n",
    "\n",
    "solution_type = 'driven_modal'\n",
    "overwrite=True\n",
    "overwrite = False\n",
    "ref_name = 'planar_pads_l_coupled_three_cavities_ndegen_driven'\n",
    "# ref_name = 'planar_pads_l_coupled_three_cavities_degen'\n",
    "project_name=f'{ref_name}_{dd}'\n",
    "design_name=f'{ref_name}_hfss_design_{dd}'\n",
    "\n",
    "\n",
    "#use file location path:\n",
    "HFSS_path=os.getcwd()\n",
    "\n",
    "full_path=HFSS_path+'\\\\HFSS\\\\'+project_name+'.aedt'\n",
    "\n",
    "HFSS_app=HFSS.HfssApp()\n",
    "HFSS_desktop=HFSS_app.get_app_desktop()\n",
    "\n",
    "project=HFSS_desktop.open_project(full_path)\n",
    "\n",
    "if project==None:\n",
    "    project=HFSS_desktop.new_project()\n",
    "    project.save(full_path)\n",
    "    \n",
    "project.save(full_path)\n",
    "project.make_active()\n",
    "    \n",
    "if design_name in project.get_design_names():\n",
    "    if overwrite==True:\n",
    "        project.delete_design(design_name)\n",
    "        project.save()\n",
    "        \n",
    "        # Setup a driven modal design type\n",
    "        if solution_type == 'driven_modal':\n",
    "            EM_design=project.new_dm_design(design_name)\n",
    "        elif solution_type == 'eigenmode':\n",
    "            EM_design=project.new_em_design(design_name)\n",
    "        else:\n",
    "            raise ValueError(f'Solution type ({solution_type}) not recognized.')\n",
    "    else:\n",
    "        EM_design=project.get_design(design_name)\n",
    "        \n",
    "else:\n",
    "    if solution_type == 'driven_modal':\n",
    "        EM_design=project.new_dm_design(design_name)\n",
    "    elif solution_type == 'eigenmode':\n",
    "        EM_design=project.new_em_design(design_name)\n",
    "    else:\n",
    "        raise ValueError(f'Solution type ({solution_type}) not recognized.')\n",
    "        \n",
    "EM_design.make_active()\n",
    "model=HFSS.HfssModeler(EM_design)\n",
    "\n",
    "project=HFSS_desktop.open_project(full_path)\n",
    "\n",
    "if project==None:\n",
    "    project=HFSS_desktop.new_project()\n",
    "    project.save(full_path)\n",
    "    \n",
    "project.make_active()\n",
    "    \n",
    "if design_name in project.get_design_names():\n",
    "    if overwrite==True:\n",
    "        project.delete_design(design_name)\n",
    "        project.save()\n",
    "        EM_design=project.new_em_design(design_name)\n",
    "    else:\n",
    "        EM_design=project.get_design(design_name)\n",
    "        \n",
    "else:\n",
    "    EM_design=project.new_em_design(design_name)\n",
    "        \n",
    "EM_design.make_active()\n",
    "model=HFSS.HfssModeler(EM_design)"
   ]
  },
  {
   "cell_type": "code",
   "execution_count": 269,
   "metadata": {},
   "outputs": [
    {
     "name": "stdout",
     "output_type": "stream",
     "text": [
      "Attempting to open Inventor with GetActiveObject ...\n",
      "Attempting to open Inventor with Dispatch ...\n",
      "Attempting to open Inventor with GetActiveObject ...\n",
      "Attempting to open Inventor with Dispatch ...\n",
      "File successfully copied as: Z:\\tcav\\ipynbs\\Inventor Files\\\\00037_flute_cavity_6p375_GHz.stp\n",
      "Estimated TE_101 mode frequency: 6.375e+09\n",
      "Attempting to open Inventor with GetActiveObject ...\n",
      "Attempting to open Inventor with Dispatch ...\n",
      "Attempting to open Inventor with GetActiveObject ...\n",
      "Attempting to open Inventor with Dispatch ...\n",
      "File successfully copied as: Z:\\tcav\\ipynbs\\Inventor Files\\\\00038_flute_cavity_6p375_GHz.stp\n",
      "Estimated TE_101 mode frequency: 6.375e+09\n"
     ]
    }
   ],
   "source": [
    "if overwrite:\n",
    "    # Two calls to pan-pipe design\n",
    "    # L_stock, W_stock, H_stock, bot_holes_pos, top_holes_pos \\\n",
    "    # = single_pan_pipe(target_freq=7.375e9, fname='flute_cavity_7p375_GHz.ipt')\n",
    "    # L_stock2, W_stock2, H_stock2, bot_holes_pos2, top_holes_pos2 \\\n",
    "    # = single_pan_pipe(target_freq=7.375e9, fname='flute_cavity_7p375_GHz.ipt')\n",
    "    L_stock, W_stock, H_stock, bot_holes_pos, top_holes_pos \\\n",
    "    = single_pan_pipe(target_freq=6.375e9, fname='flute_cavity_6p375_GHz.ipt')\n",
    "    L_stock2, W_stock2, H_stock2, bot_holes_pos2, top_holes_pos2 \\\n",
    "    = single_pan_pipe(target_freq=6.375e9, fname='flute_cavity_6p375_GHz.ipt')\n",
    "\n",
    "    # Stock subtraction for cavity 1\n",
    "    model.import_3D_obj(path+'flute_cavity_6p375_GHz.stp')\n",
    "    Stock_L=EM_design.set_variable('Stock_L', '%.3fin'%(-L_stock))\n",
    "    Stock_W=EM_design.set_variable('Stock_W', '%.3fin'%(W_stock))\n",
    "    Stock_H=EM_design.set_variable('Stock_H', '%.3fin'%(H_stock))\n",
    "\n",
    "    cav_dims=[Stock_L, Stock_W, Stock_H]\n",
    "\n",
    "    box=model.draw_box_corner([0,0,0], cav_dims, name='cavity1')\n",
    "    objs=model.get_object_names()\n",
    "    obj_name=model.subtract(blank_name=objs[1], tool_names=[objs[0]])\n",
    "\n",
    "    # Stock subtraction for cavity 2\n",
    "    # model.import_3D_obj(path+'flute_cavity_6p575_GHz.stp')\n",
    "    model.import_3D_obj(path+'flute_cavity_6p375_GHz.stp')\n",
    "    Stock_L2=EM_design.set_variable('Stock_L2', '%.3fin'%(-L_stock2))\n",
    "    Stock_W2=EM_design.set_variable('Stock_W2', '%.3fin'%(W_stock2))\n",
    "    Stock_H2=EM_design.set_variable('Stock_H2', '%.3fin'%(H_stock2))\n",
    "\n",
    "    cav_dims2=[Stock_L2, Stock_W2, Stock_H2]\n",
    "\n",
    "    box2=model.draw_box_corner([0,0,0], cav_dims2, name='cavity2')\n",
    "    obj_name2=model.subtract(blank_name='cavity2', tool_names=['Solid1_1'])\n",
    "\n",
    "    # Cavity 1 impedance boundary conditions\n",
    "    bot_hole_fid=[]\n",
    "    for locs in bot_holes_pos:\n",
    "        loc=['%.4fin'%locs[0], '%.4fin'%locs[1], Stock_H]\n",
    "        fid=model.get_face_id_by_pos(obj_name, pos=loc)\n",
    "        bot_hole_fid.append(fid)\n",
    "\n",
    "    top_hole_fid=[]\n",
    "    for locs in top_holes_pos:\n",
    "        loc=['%.4fin'%locs[0], '%.4fin'%locs[1], '%.4fin'%0]\n",
    "        fid=model.get_face_id_by_pos(obj_name, pos=loc)\n",
    "        top_hole_fid.append(fid)\n",
    "\n",
    "    top_imped=model.assign_impedance(377, 0, obj_name, \n",
    "                                     top_hole_fid, name='Top_Imped')\n",
    "    bot_imped=model.assign_impedance(377, 0, obj_name,\n",
    "                                     bot_hole_fid, name='Bot_Imped')\n",
    "\n",
    "    # Cavity 2 impedance boundary conditions\n",
    "    bot_hole_fid=[]\n",
    "    for locs in bot_holes_pos2:\n",
    "        loc=['%.4fin'%locs[0], '%.4fin'%locs[1], Stock_H]\n",
    "        fid=model.get_face_id_by_pos(obj_name2, pos=loc)\n",
    "        bot_hole_fid.append(fid)\n",
    "\n",
    "    top_hole_fid=[]\n",
    "    for locs in top_holes_pos2:\n",
    "        loc=['%.4fin'%locs[0], '%.4fin'%locs[1], '%.4fin'%0]\n",
    "        fid=model.get_face_id_by_pos(obj_name2, pos=loc)\n",
    "        top_hole_fid.append(fid)\n",
    "\n",
    "    top_imped=model.assign_impedance(377, 0, obj_name, \n",
    "                                     top_hole_fid, name='Top_Imped2')\n",
    "    bot_imped=model.assign_impedance(377, 0, obj_name,\n",
    "                                     bot_hole_fid, name='Bot_Imped2')\n",
    "\n",
    "    # Move cavity #2 along a vector\n",
    "    intomm = 25.4\n",
    "    x_offset_mm = 2.5\n",
    "    xoffset = EM_design.set_variable('x_offset', f'{x_offset_mm:.3f}mm')\n",
    "    xcorr_val = 8.99687247\n",
    "    # xcorr = EM_design.set_variable('xoff_corr', f'{xcorr_val:.10f}mm')\n",
    "    # xchip_start = EM_design.set_variable('xchip_start', '37.889434mm')\n",
    "    xcorr = EM_design.set_variable('xoff_corr', '7.904534763mm')\n",
    "    xchip_start = EM_design.set_variable('xchip_start', '42.82948mm')\n",
    "    vec = [-(xoffset-xcorr)-xchip_start, #+offset_correction,\n",
    "           0, 0]\n",
    "    obj2_name = model.translate('cavity2', vec)\n",
    "\n",
    "    # Chip setup\n",
    "    cpl_width = EM_design.set_variable('cpl_width', f'{2.2:.3f}mm')\n",
    "    l_chip = EM_design.set_variable('l_chip', '20mm')\n",
    "    h_chip = EM_design.set_variable('h_chip', '5mm')\n",
    "    t_chip = EM_design.set_variable('t_chip', '450um')\n",
    "    chip_dims = [t_chip, l_chip+cpl_width, h_chip]\n",
    "\n",
    "    # XXX: This is hard-coded, calculate this later\n",
    "    chip_loc = [-xchip_start - xoffset/2,\n",
    "                Stock_W/2 + l_chip / 2,\n",
    "                Stock_H/2]\n",
    "\n",
    "    # Edit sapphire material properties\n",
    "    params = {'dielectric_loss_tangent' : 2e-8}\n",
    "    project.edit_material(params, 'sapphire')\n",
    "    chip = model.draw_box_center(chip_loc, chip_dims,\n",
    "                                material='sapphire', name='chip')\n",
    "\n",
    "    # Coupler cavity setup\n",
    "    cpl_loc = [-xoffset/2 - xchip_start,\n",
    "                Stock_W/2,\n",
    "                Stock_H/2]\n",
    "    cpl_dims = [1.5*xoffset, cpl_width, Stock_H/4]\n",
    "    coupler = model.draw_box_center(cpl_loc, cpl_dims, name='coupler')\n",
    "\n",
    "    # Subtractions and unions\n",
    "    cavity_cpl = model.unite([obj_name, obj_name2, coupler])\n",
    "    cavity_cpl = model.subtract(cavity_cpl, [chip], keep_originals=True)"
   ]
  },
  {
   "cell_type": "markdown",
   "metadata": {},
   "source": [
    "## Pad & junction positions"
   ]
  },
  {
   "cell_type": "code",
   "execution_count": 270,
   "metadata": {},
   "outputs": [],
   "source": [
    "# Junction and pads\n",
    "# Planar pads\n",
    "l_junc = EM_design.set_variable('l_junc', '50um')\n",
    "w_junc = EM_design.set_variable('w_junc', '10um')\n",
    "pad_w = 10 * w_junc\n",
    "pad_dims = [cpl_dims[1]/2 - l_junc/2, pad_w]\n",
    "\n",
    "pad1_loc = [-xchip_start - xoffset/2 - t_chip/2,\n",
    "            Stock_W/2 - pad_dims[0]/2 - l_junc/2,\n",
    "            Stock_H/2]\n",
    "pad2_loc = [-xchip_start - xoffset/2 - t_chip/2,\n",
    "            Stock_W/2 + pad_dims[0]/2 + l_junc/2,\n",
    "            Stock_H/2]\n",
    "\n",
    "# Pad geometry\n",
    "pad1 = model.draw_rect_center(pos=pad1_loc, x_size=0,\n",
    "                          y_size=pad_dims[0],\n",
    "                          z_size = pad_dims[1],\n",
    "                          name='pad1')\n",
    "pad2 = model.draw_rect_center(pos=pad2_loc, x_size=0,\n",
    "                          y_size=pad_dims[0],\n",
    "                          z_size = pad_dims[1],\n",
    "                          name='pad2')\n",
    "\n",
    "# Pad PEC assignment\n",
    "model.assign_perfect_E([pad1, pad2], name='junction_pads')\n",
    "\n",
    "# Meshing the pads, junction, coupler walls\n",
    "model.mesh_length('pads', ['pad1', 'pad2'], max_length=f'10um')"
   ]
  },
  {
   "cell_type": "markdown",
   "metadata": {},
   "source": [
    "## Assign the junction to be a lumped port"
   ]
  },
  {
   "cell_type": "code",
   "execution_count": 271,
   "metadata": {},
   "outputs": [],
   "source": [
    "solution_type = 'driven_modal'\n",
    "if solution_type == 'driven_modal':\n",
    "    junc_loc = [-xchip_start - xoffset/2 - t_chip/2,\n",
    "            Stock_W/2,\n",
    "            Stock_H/2]\n",
    "    jj=model.draw_rect_center(pos=junc_loc, x_size=0,\n",
    "                              y_size=l_junc,\n",
    "                              z_size = w_junc, name='jj')\n",
    "\n",
    "    # Junction inductance assignment\n",
    "    Lj_val = 0.1\n",
    "    L_jj=EM_design.set_variable('Lj_1', '%.3fnH' % Lj_val)\n",
    "    jj_line=model.draw_polyline(jj.make_center_line(axis='Y'), \n",
    "                                    closed=False, name='jj_line')\n",
    "    jj.make_lumped_port('Y', z0=1e6)\n",
    "    model.mesh_length('jj_mesh', ['jj'], max_length='1um')"
   ]
  },
  {
   "cell_type": "markdown",
   "metadata": {},
   "source": [
    "## Interpolating sweep to identify resonances"
   ]
  },
  {
   "cell_type": "code",
   "execution_count": 291,
   "metadata": {},
   "outputs": [],
   "source": [
    "f1 = 5.5; f2 = 13.; count = 20001\n",
    "\n",
    "# Define the sweep range\n",
    "DM_setup = None\n",
    "if not DM_setup:\n",
    "    DM_setup = EM_design.create_dm_setup()\n",
    "    "
   ]
  },
  {
   "cell_type": "code",
   "execution_count": 292,
   "metadata": {},
   "outputs": [
    {
     "data": {
      "text/plain": [
       "<pyEPR.ansys.HfssDMSetup at 0x180cec101f0>"
      ]
     },
     "execution_count": 292,
     "metadata": {},
     "output_type": "execute_result"
    }
   ],
   "source": [
    "DM_setup"
   ]
  },
  {
   "cell_type": "code",
   "execution_count": 296,
   "metadata": {},
   "outputs": [
    {
     "data": {
      "text/plain": [
       "0"
      ]
     },
     "execution_count": 296,
     "metadata": {},
     "output_type": "execute_result"
    }
   ],
   "source": [
    "DM_setup.insert_sweep(f1, f2,\n",
    "                      count=count,\n",
    "                      save_fields=True,\n",
    "                      name=f'Interpolating_0',\n",
    "                      type='Interpolating')\n",
    "\n",
    "DM_setup.solve()"
   ]
  },
  {
   "cell_type": "code",
   "execution_count": 297,
   "metadata": {},
   "outputs": [],
   "source": [
    "def set_axes_fonts(ax, fsize):\n",
    "    \"\"\"\n",
    "    Set axes font sizes because it should be abstracted away\n",
    "    \"\"\"\n",
    "    for tick in ax.get_xticklabels():\n",
    "        tick.set_fontsize(fsize)\n",
    "    for tick in ax.get_yticklabels():\n",
    "        tick.set_fontsize(fsize)\n",
    "\n",
    "def set_xaxis_rot(ax, angle=45):\n",
    "    \"\"\"\n",
    "    Rotate the x-axis labels\n",
    "    \"\"\"\n",
    "        \n",
    "    for tick in ax.get_xticklabels():\n",
    "        tick.set_rotation(angle)\n",
    "\n",
    "def set_leg_outside(ax, fsize):\n",
    "    \"\"\"\n",
    "    Sets the legend location outside\n",
    "    \"\"\"\n",
    "    \n",
    "    # Shrink current axis by 20%\n",
    "    box = ax.get_position()\n",
    "    ax.set_position([box.x0, box.y0, box.width * 0.8, box.height])\n",
    "    \n",
    "    # Put a legend to the right of the current axis\n",
    "    hdls, legs = ax.get_legend_handles_labels()\n",
    "    leg = ax.legend(hdls, legs, loc='center left', bbox_to_anchor=(1, 0.5), \\\n",
    "                    fontsize=fsize, framealpha=0.)\n",
    "\n",
    "    return leg"
   ]
  },
  {
   "cell_type": "markdown",
   "metadata": {},
   "source": [
    "### Get the interpolating sweep data to estimate resonance positions"
   ]
  },
  {
   "cell_type": "code",
   "execution_count": 298,
   "metadata": {},
   "outputs": [
    {
     "name": "stdout",
     "output_type": "stream",
     "text": [
      "resonances: [ 5.7925    8.156125  9.25375   9.6325    9.781    10.28875  10.83475\n",
      " 11.866375 12.00625 ]\n"
     ]
    }
   ],
   "source": [
    "fsweep_interp = HFSS.HfssFrequencySweep(DM_setup, 'Interpolating_0')\n",
    "\n",
    "report_im = fsweep_interp.create_report('Interpolating_0', expr='im(Y(LumpPort,LumpPort))')\n",
    "yim = report_im.get_arrays()\n",
    "\n",
    "# Identify the zero crossings as resonances\n",
    "zero_xing_idxs = np.where(np.diff(np.sign(yim[1,:])) > 0)[0]\n",
    "resonances = yim[0,zero_xing_idxs]\n",
    "\n",
    "print(f'resonances: {resonances}')"
   ]
  },
  {
   "cell_type": "code",
   "execution_count": 299,
   "metadata": {},
   "outputs": [
    {
     "data": {
      "image/png": "[encoded data removed]",
      "text/plain": [
       "<Figure size 640x480 with 1 Axes>"
      ]
     },
     "metadata": {},
     "output_type": "display_data"
    }
   ],
   "source": [
    "# Plot the results, save the figure(s)\n",
    "fsize = 20\n",
    "fscale = 1e9\n",
    "#wp, Lp, Cp, Qp, fcpy, ycpy, yp, pl, pc, gD, chippp = \\\n",
    "#get_wp_Cp_Lp(fdata, ydata, LJ0=None, CJ0=None, fscale=1e9, use_Zq=False)\n",
    "\n",
    "fig, ax = plt.subplots(1, 1, tight_layout=True)\n",
    "ax.plot(yim[0,:], yim[1,:], '-', label='Zero Crossings')\n",
    "ax.plot(resonances,\n",
    "        yim[1,zero_xing_idxs],\n",
    "        'o', label='Zero Crossings')\n",
    "# ax.set_xlim([5.8, 6.1])\n",
    "ax.set_ylim([-0.1, 0.1])\n",
    "ax.axhline(y=0, ls='--', color='k')\n",
    "# ax.plot(fdata, ydata.imag)\n",
    "set_xaxis_rot(ax, 45)\n",
    "ax.set_ylabel(r'Im $Y(\\omega)$', fontsize=fsize)\n",
    "ax.set_xlabel(r'Frequency [GHz]', fontsize=fsize)\n",
    "set_axes_fonts(ax, fsize)"
   ]
  },
  {
   "cell_type": "code",
   "execution_count": 300,
   "metadata": {},
   "outputs": [
    {
     "data": {
      "text/plain": [
       "array([ 5.7925  ,  8.156125,  9.25375 ,  9.6325  ,  9.781   , 10.28875 ,\n",
       "       10.83475 , 11.866375, 12.00625 ])"
      ]
     },
     "execution_count": 300,
     "metadata": {},
     "output_type": "execute_result"
    }
   ],
   "source": [
    "resonances"
   ]
  },
  {
   "cell_type": "markdown",
   "metadata": {},
   "source": [
    "#### Bypass the interpolating sweep if frequencies already known"
   ]
  },
  {
   "cell_type": "code",
   "execution_count": 301,
   "metadata": {},
   "outputs": [],
   "source": [
    "# resonances = np.array([ 6.0928,  6.1684,  6.1692,  6.2692,  7.3356,  7.3816,  7.4712,\n",
    "#        7.506 ,  9.3064,  9.3292,  9.588 ,  9.6076, 11.5804, 11.6684,\n",
    "#       11.7568, 11.95  , 12.604 , 12.6944, 12.8012, 12.8048])\n",
    "# resonances = np.array([ 6.0928,  6.1692,  6.2692,  7.3816,  7.4712,\n",
    "#        7.506 , 9.3292,  9.588 ,  9.6076, 11.5804, \n",
    "#       11.7568, 11.95, 12.6944, 12.8048])\n",
    "\n",
    "# Use half the minimum spacing between resonances as a the bandwidth\n",
    "Nmodes = 8\n",
    "resonances = resonances[0:Nmodes]\n",
    "df = 0.8 * np.diff(np.hstack((f1, resonances, f2))).min()"
   ]
  },
  {
   "cell_type": "code",
   "execution_count": 302,
   "metadata": {},
   "outputs": [
    {
     "data": {
      "text/plain": [
       "0.11880000000000024"
      ]
     },
     "execution_count": 302,
     "metadata": {},
     "output_type": "execute_result"
    }
   ],
   "source": [
    "df"
   ]
  },
  {
   "cell_type": "markdown",
   "metadata": {},
   "source": [
    "### Discrete sweep to resolve resonances"
   ]
  },
  {
   "cell_type": "code",
   "execution_count": 303,
   "metadata": {},
   "outputs": [
    {
     "name": "stdout",
     "output_type": "stream",
     "text": [
      "[0 / 16] Discrete sweep from 5.5 to 5.7331 GHz ...\n",
      "Creating even reports ...\n",
      "Backing up even reports ...\n",
      "[1 / 16] Discrete sweep from 5.733105939703015 to 5.8519000000000005 GHz ...\n"
     ]
    },
    {
     "ename": "KeyboardInterrupt",
     "evalue": "",
     "output_type": "error",
     "traceback": [
      "\u001b[1;31m---------------------------------------------------------------------------\u001b[0m",
      "\u001b[1;31mKeyboardInterrupt\u001b[0m                         Traceback (most recent call last)",
      "Cell \u001b[1;32mIn[303], line 62\u001b[0m\n\u001b[0;32m     56\u001b[0m \u001b[38;5;28mprint\u001b[39m(\u001b[38;5;124mf\u001b[39m\u001b[38;5;124m'\u001b[39m\u001b[38;5;124m[\u001b[39m\u001b[38;5;132;01m{\u001b[39;00m\u001b[38;5;241m2\u001b[39m\u001b[38;5;241m*\u001b[39mridx\u001b[38;5;241m+\u001b[39m\u001b[38;5;241m1\u001b[39m\u001b[38;5;132;01m}\u001b[39;00m\u001b[38;5;124m / \u001b[39m\u001b[38;5;132;01m{\u001b[39;00m\u001b[38;5;241m2\u001b[39m\u001b[38;5;241m*\u001b[39mrlen\u001b[38;5;132;01m}\u001b[39;00m\u001b[38;5;124m] Discrete sweep from \u001b[39m\u001b[38;5;132;01m{\u001b[39;00mf1r\u001b[38;5;132;01m}\u001b[39;00m\u001b[38;5;124m to \u001b[39m\u001b[38;5;132;01m{\u001b[39;00mf2r\u001b[38;5;132;01m}\u001b[39;00m\u001b[38;5;124m GHz ...\u001b[39m\u001b[38;5;124m'\u001b[39m)\n\u001b[0;32m     57\u001b[0m DM_setup\u001b[38;5;241m.\u001b[39minsert_sweep(f1r, f2r,\n\u001b[0;32m     58\u001b[0m                       count\u001b[38;5;241m=\u001b[39mcount2,\n\u001b[0;32m     59\u001b[0m                       save_fields\u001b[38;5;241m=\u001b[39m\u001b[38;5;28;01mTrue\u001b[39;00m,\n\u001b[0;32m     60\u001b[0m                       name\u001b[38;5;241m=\u001b[39m\u001b[38;5;124mf\u001b[39m\u001b[38;5;124m'\u001b[39m\u001b[38;5;124mDiscrete_Sweep_\u001b[39m\u001b[38;5;132;01m{\u001b[39;00m\u001b[38;5;241m2\u001b[39m\u001b[38;5;241m*\u001b[39mridx\u001b[38;5;241m+\u001b[39m\u001b[38;5;241m1\u001b[39m\u001b[38;5;132;01m}\u001b[39;00m\u001b[38;5;124m'\u001b[39m,\n\u001b[0;32m     61\u001b[0m                       \u001b[38;5;28mtype\u001b[39m\u001b[38;5;241m=\u001b[39m\u001b[38;5;124m'\u001b[39m\u001b[38;5;124mDiscrete\u001b[39m\u001b[38;5;124m'\u001b[39m)\n\u001b[1;32m---> 62\u001b[0m \u001b[43mDM_setup\u001b[49m\u001b[38;5;241;43m.\u001b[39;49m\u001b[43msolve\u001b[49m\u001b[43m(\u001b[49m\u001b[43m)\u001b[49m\n\u001b[0;32m     64\u001b[0m \u001b[38;5;66;03m# Get data from first sweep\u001b[39;00m\n\u001b[0;32m     65\u001b[0m \u001b[38;5;28mprint\u001b[39m(\u001b[38;5;124mf\u001b[39m\u001b[38;5;124m'\u001b[39m\u001b[38;5;124mCreating odd reports ...\u001b[39m\u001b[38;5;124m'\u001b[39m)\n",
      "File \u001b[1;32m~\\.conda\\envs\\py39\\lib\\site-packages\\pyepr-0.8-py3.9.egg\\pyEPR\\ansys.py:1205\u001b[0m, in \u001b[0;36mHfssSetup.solve\u001b[1;34m(self, name)\u001b[0m\n\u001b[0;32m   1203\u001b[0m \u001b[38;5;28;01mif\u001b[39;00m name \u001b[38;5;129;01mis\u001b[39;00m \u001b[38;5;28;01mNone\u001b[39;00m:\n\u001b[0;32m   1204\u001b[0m     name \u001b[38;5;241m=\u001b[39m \u001b[38;5;28mself\u001b[39m\u001b[38;5;241m.\u001b[39mname\n\u001b[1;32m-> 1205\u001b[0m \u001b[38;5;28;01mreturn\u001b[39;00m \u001b[38;5;28;43mself\u001b[39;49m\u001b[38;5;241;43m.\u001b[39;49m\u001b[43mparent\u001b[49m\u001b[38;5;241;43m.\u001b[39;49m\u001b[43m_design\u001b[49m\u001b[38;5;241;43m.\u001b[39;49m\u001b[43mSolve\u001b[49m\u001b[43m(\u001b[49m\u001b[43mname\u001b[49m\u001b[43m)\u001b[49m\n",
      "File \u001b[1;32m<COMObject GetDesign>:2\u001b[0m, in \u001b[0;36mSolve\u001b[1;34m(self, simulationNames)\u001b[0m\n",
      "\u001b[1;31mKeyboardInterrupt\u001b[0m: "
     ]
    }
   ],
   "source": [
    "if solution_type == 'driven_modal':\n",
    "    # Setup the driven-modal simulation\n",
    "    if not DM_setup:\n",
    "        DM_setup = EM_design.create_dm_setup()\n",
    "        \n",
    "    # Discrete count\n",
    "    count2 = 201\n",
    "    count1 = 51\n",
    "    \n",
    "    ## This should resolve the issue of overlapping sweeps\n",
    "    ## We advance the left boundary by a small amount away\n",
    "    ## from the previous right boundary\n",
    "    dff = df / count\n",
    "    \n",
    "    # Identify resonances from interpolating sweep manually (for now)\n",
    "    ## Start at the first sweep frequency\n",
    "    f1r = f1\n",
    "    \n",
    "    # df  = 0.01 # 10 MHz window\n",
    "    # Iteratve over all resonances and shift the discrete\n",
    "    # sweep window from f1r to f2r\n",
    "    rlen = len(resonances)\n",
    "    fdata = np.array([])\n",
    "    ydata = np.array([])\n",
    "    for ridx, fr in enumerate(resonances):\n",
    "        try:\n",
    "            # First sweep from f1 to fr_j - df / 2\n",
    "            f2r = fr - df / 2\n",
    "            print(f'[{2*ridx} / {2*rlen}] Discrete sweep from {f1r} to {f2r} GHz ...')\n",
    "            DM_setup.insert_sweep(f1r, f2r,\n",
    "                                  count=count1,\n",
    "                                  save_fields=True,\n",
    "                                  name=f'Discrete_Sweep_{2*ridx}',\n",
    "                                  type='Discrete')\n",
    "            DM_setup.solve()\n",
    "\n",
    "            # Get data from first sweep\n",
    "            print(f'Creating even reports ...')\n",
    "            fsweep = HFSS.HfssFrequencySweep(DM_setup, f'Discrete_Sweep_{2*ridx}')\n",
    "            report_re = fsweep.create_report(f'Discrete_Sweep_{2*ridx}', expr='re(Y(LumpPort,LumpPort))')\n",
    "            report_im = fsweep.create_report(f'Discrete_Sweep_{2*ridx}', expr='im(Y(LumpPort,LumpPort))')\n",
    "            yre = report_re.get_arrays()\n",
    "            yim = report_im.get_arrays()\n",
    "            fdata = np.hstack((fdata, yre[0,:]))\n",
    "            ydata = np.hstack((ydata, yre[1,:]+1j*yim[1,:]))    \n",
    "\n",
    "            # Backup data to file\n",
    "            print(f'Backing up even reports ...')\n",
    "            with open(f'../data/ydata_{dd}_sweep_{2*ridx}.csv', 'w') as fid:\n",
    "                fid.write('\\n'.join([f'{ff}, {yi}, {yr}'\\\n",
    "                                     for ff, yi, yr in zip(yre[0,:], yre[1,:], yim[1,:])]))\n",
    "\n",
    "            # Second sweep from fr_j - df / 2 to fr_j + df / 2\n",
    "            f1r = f2r + dff\n",
    "            f2r = fr + df / 2\n",
    "            print(f'[{2*ridx+1} / {2*rlen}] Discrete sweep from {f1r} to {f2r} GHz ...')\n",
    "            DM_setup.insert_sweep(f1r, f2r,\n",
    "                                  count=count2,\n",
    "                                  save_fields=True,\n",
    "                                  name=f'Discrete_Sweep_{2*ridx+1}',\n",
    "                                  type='Discrete')\n",
    "            DM_setup.solve()\n",
    "\n",
    "            # Get data from first sweep\n",
    "            print(f'Creating odd reports ...')\n",
    "            fsweep = HFSS.HfssFrequencySweep(DM_setup, f'Discrete_Sweep_{2*ridx+1}')\n",
    "            report_re = fsweep.create_report(f'Discrete_Sweep_{2*ridx+1}', expr='re(Y(LumpPort,LumpPort))')\n",
    "            report_im = fsweep.create_report(f'Discrete_Sweep_{2*ridx+1}', expr='im(Y(LumpPort,LumpPort))')\n",
    "            yre = report_re.get_arrays()\n",
    "            yim = report_im.get_arrays()\n",
    "            fdata = np.hstack((fdata, yre[0,:]))\n",
    "            ydata = np.hstack((ydata, yre[1,:]+1j*yim[1,:]))    \n",
    "\n",
    "            # Backup data to file\n",
    "            print(f'Backing up even reports ...')\n",
    "            with open(f'../data/ydata_{dd}_sweep_{2*ridx+1}.csv', 'w') as fid:\n",
    "                fid.write('\\n'.join([f'{ff}, {yi}, {yr}'\\\n",
    "                                     for ff, yi, yr in zip(yre[0,:], yre[1,:], yim[1,:])]))\n",
    "\n",
    "            # Next sweep from fr_j + df / 2 to fr_j+1 - df / 2\n",
    "            f1r = f2r + dff\n",
    "    \n",
    "        except Exception as e:\n",
    "            print(f'Exception on run {ridx}:\\n{e}')\n",
    "            continue\n",
    "    \n",
    "    # Last frequency band from fr_j + df / 2 to f2\n",
    "    f2r = f2\n",
    "    print(f'[{2*rlen} / {2*rlen}] Discrete sweep from {f1r} to {f2r} GHz ...')\n",
    "    DM_setup.insert_sweep(f1r, f2r,\n",
    "                          count=count,\n",
    "                          save_fields=True,\n",
    "                          name=f'Discrete_Sweep_{2*rlen}',\n",
    "                          type='Discrete')\n",
    "    DM_setup.solve()\n",
    "    \n",
    "    # Get data from first sweep\n",
    "    print(f'Creating last report ...')\n",
    "    fsweep = HFSS.HfssFrequencySweep(DM_setup, f'Discrete_Sweep_{2*rlen}')\n",
    "    report_re = fsweep.create_report(f'Discrete_Sweep_{2*rlen}', expr='re(Y(LumpPort,LumpPort))')\n",
    "    report_im = fsweep.create_report(f'Discrete_Sweep_{2*rlen}', expr='im(Y(LumpPort,LumpPort))')\n",
    "    yre = report_re.get_arrays()\n",
    "    yim = report_im.get_arrays()\n",
    "    fdata = np.hstack((fdata, yre[0,:]))\n",
    "    ydata = np.hstack((ydata, yre[1,:]+1j*yim[1,:]))\n",
    "\n",
    "    # Backup data to file\n",
    "    print(f'Backing up even reports ...')\n",
    "    with open(f'../data/ydata_{dd}_sweep_{2*rlen}.csv', 'w') as fid:\n",
    "        fid.write('\\n'.join([f'{ff}, {yi}, {yr}'\\\n",
    "                             for ff, yi, yr in zip(yre[0,:], yre[1,:], yim[1,:])]))"
   ]
  },
  {
   "cell_type": "markdown",
   "metadata": {},
   "source": [
    "## --------------------------------------------------------"
   ]
  },
  {
   "cell_type": "markdown",
   "metadata": {},
   "source": [
    "## Postprocessing, blackbox quantization"
   ]
  },
  {
   "cell_type": "code",
   "execution_count": null,
   "metadata": {},
   "outputs": [],
   "source": [
    "def get_wp_Cp_Lp(f, y, LJ0=10e-9, CJ0=2e-15, fscale=1e9, use_Zq=False,\n",
    "                GJ0=7.748e-10):\n",
    "    \"\"\"\n",
    "    Converts frequency-dependent imaginary parts\n",
    "    of the admittance data to poles,\n",
    "    capacitances, and inductances\n",
    "    \"\"\"\n",
    "    # Add the junction inductance and capacitance to the\n",
    "    # total admittance\n",
    "    # Compute the zero crossings\n",
    "    fcpy = np.copy(f * fscale)\n",
    "    ycpy = np.copy(np.complex128(y))\n",
    "    if LJ0:\n",
    "        ycpy += (1. / (1j * fcpy * 2 * np.pi * LJ0)) \\\n",
    "          + 1j * fcpy * 2 * np.pi * CJ0\n",
    "    if LJ0 and GJ0:\n",
    "        ycpy += (1. / (1j * fcpy * 2 * np.pi * LJ0)) \\\n",
    "             + 1j * fcpy * 2 * np.pi * CJ0 \\\n",
    "             + GJ0\n",
    "    yim = ycpy.imag\n",
    "    zero_xing_idxs = np.where(np.diff(np.sign(yim))>0)[0]\n",
    "    wp = 2 * np.pi * fcpy[zero_xing_idxs]\n",
    "    yp = yim[zero_xing_idxs]\n",
    "\n",
    "    # Compute the capacitances from the derivatives\n",
    "    ypp = np.gradient(ycpy, 2*np.pi*(fcpy[1]-fcpy[0]))\n",
    "    Cp = 0.5 * np.abs(ypp.imag[zero_xing_idxs])\n",
    "    Lp = 1. / (wp**2 * Cp)\n",
    "    Zp = np.sqrt(Lp / Cp)\n",
    "    Rp = 1. / np.abs(np.real(ycpy[zero_xing_idxs]))\n",
    "    Qp = wp * Rp * Cp\n",
    "    \n",
    "    # Physical constants\n",
    "    h    = 6.62607015e-34 \n",
    "    hbar = h / (2 * np.pi)\n",
    "    e    = 1.602176634e-19\n",
    "    Phi0 = h / (2 * e)\n",
    "    \n",
    "    # Compute Ej, Ec\n",
    "    if LJ0 and CJ0:\n",
    "        # Compute the Josephson inductive and charging energies\n",
    "        Ej = (Phi0 / (2 * np.pi))**2 / LJ0\n",
    "        Ec = e**2 / (2 * (sum(Cp)+CJ0))\n",
    "\n",
    "        # Compute inductive energies, EL\n",
    "        EL = 0.5 * Phi0**2 / Lp\n",
    "\n",
    "        # Compute the phase zero point fluctuations\n",
    "        GQ = 2 * e**2 / h\n",
    "        phip2 = 2 * np.pi * GQ * Zp\n",
    "\n",
    "        # Compute the participations\n",
    "        # p = phi2 * 2 * Ej / (hbar * wp)\n",
    "        pl = Lp / LJ0\n",
    "        pc = Cp / CJ0\n",
    "\n",
    "        # Compute the gs / Ds\n",
    "        Zq = np.sqrt(LJ0 / CJ0)\n",
    "        gD = np.sqrt(Zp / Zq)\n",
    "\n",
    "        # Compute the g's in units of Hz, divide by h to get v, Ej = hv\n",
    "        gpq = (2 * np.pi * GQ * Ej / 24.) * sum(phip2) * np.asarray([[\n",
    "            np.sqrt(Zpp * Zqq) / h for p, Zpp in enumerate(Zp)]\n",
    "                               for q, Zqq in enumerate(Zp) ])\n",
    "        gpq = gpq.reshape([len(gpq), len(gpq)])\n",
    "        \n",
    "        # Compute the chis, anharmonicities\n",
    "        # In units of Hz\n",
    "        chipp  = -Ec * gD**2 / h\n",
    "        chippp = np.asarray([-2 * np.sqrt(chipp[p] * chipp[q]) \n",
    "                             for p in range(len(chipp))\n",
    "                             for q in range(len(chipp))])\n",
    "        chippp = chippp.reshape([len(chipp), len(chipp)])\n",
    "\n",
    "        return wp, Lp, Cp, Qp, fcpy, ycpy, yp, pl, pc, gpq, chippp\n",
    "    \n",
    "    else:\n",
    "        return wp, Lp, Cp, Qp, fcpy, ycpy, yp, None, None, None, None"
   ]
  },
  {
   "cell_type": "markdown",
   "metadata": {},
   "source": [
    "## Load y-data from files if not-overwrite"
   ]
  },
  {
   "cell_type": "code",
   "execution_count": 109,
   "metadata": {},
   "outputs": [],
   "source": [
    "def load_ydata_from_sweeps(resonances):\n",
    "    fdata = np.array([])\n",
    "    ydata = np.array([], dtype=complex)\n",
    "\n",
    "    # Iterate over all discrete frequency sweeps\n",
    "    for i in range(2*len(resonances)+1):\n",
    "        report_re = fsweep_interp.create_report(f'Discrete_Sweep_{i}', expr='re(Y(LumpPort,LumpPort))')\n",
    "        report_im = fsweep_interp.create_report(f'Discrete_Sweep_{i}', expr='im(Y(LumpPort,LumpPort))')\n",
    "        yre = report_re.get_arrays()\n",
    "        yim = report_im.get_arrays()\n",
    "\n",
    "        fdata = np.hstack((fdata, yre[0,:]))\n",
    "        ydata = np.hstack((ydata, yre[1,:]+1j*yim[1,:]))\n",
    "    \n",
    "    return fdata, ydata"
   ]
  },
  {
   "cell_type": "code",
   "execution_count": 110,
   "metadata": {},
   "outputs": [],
   "source": [
    "def load_ydata_from_txt(filenames, delimiter=','):\n",
    "    fdata = np.array([])\n",
    "    ydata = np.array([], dtype=complex)\n",
    "    # Iterate over all discrete frequency sweeps\n",
    "    for fname in filenames:\n",
    "        print(f'Reading {fname} ...')\n",
    "        data = np.genfromtxt(fname, delimiter=delimiter).T\n",
    "        f   = data[0]\n",
    "        yre = data[1]\n",
    "        yim = data[2]\n",
    "\n",
    "        fdata = np.hstack((fdata, f))\n",
    "        ydata = np.hstack((ydata, yre + 1j*yim))\n",
    "    return fdata, ydata"
   ]
  },
  {
   "cell_type": "code",
   "execution_count": 111,
   "metadata": {},
   "outputs": [],
   "source": [
    "if not overwrite:\n",
    "    res_in = np.zeros(21)\n",
    "    fdata, ydata = load_ydata_from_files(res_in)"
   ]
  },
  {
   "cell_type": "code",
   "execution_count": 112,
   "metadata": {},
   "outputs": [
    {
     "name": "stdout",
     "output_type": "stream",
     "text": [
      "Reading ../data/ydata_230314_sweep_0.csv ...\n",
      "Reading ../data/ydata_230314_sweep_1.csv ...\n",
      "Reading ../data/ydata_230314_sweep_2.csv ...\n",
      "Reading ../data/ydata_230314_sweep_3.csv ...\n",
      "Reading ../data/ydata_230314_sweep_4.csv ...\n",
      "Reading ../data/ydata_230314_sweep_5.csv ...\n",
      "Reading ../data/ydata_230314_sweep_6.csv ...\n",
      "Reading ../data/ydata_230314_sweep_7.csv ...\n",
      "Reading ../data/ydata_230314_sweep_8.csv ...\n",
      "Reading ../data/ydata_230314_sweep_9.csv ...\n",
      "Reading ../data/ydata_230314_sweep_10.csv ...\n",
      "Reading ../data/ydata_230326_sweep_0.csv ...\n",
      "Reading ../data/ydata_230326_sweep_1.csv ...\n",
      "Reading ../data/ydata_230326_sweep_2.csv ...\n",
      "Reading ../data/ydata_230326_sweep_3.csv ...\n",
      "Reading ../data/ydata_230326_sweep_4.csv ...\n",
      "Reading ../data/ydata_230326_sweep_5.csv ...\n"
     ]
    }
   ],
   "source": [
    "filenames = [f'../data/ydata_230314_sweep_{i}.csv' for i in range(11)]\n",
    "for f in [f'../data/ydata_230326_sweep_{i}.csv' for i in range(6)]:\n",
    "    filenames.append(f)\n",
    "fdata1, ydata1 = load_ydata_from_txt(filenames)"
   ]
  },
  {
   "cell_type": "code",
   "execution_count": 113,
   "metadata": {},
   "outputs": [
    {
     "data": {
      "text/plain": [
       "array([5.58642455e-11-0.0080452j , 5.58840052e-11-0.00803864j,\n",
       "       5.59117269e-11-0.00803322j, ..., 1.28151996e-10+0.00073737j,\n",
       "       1.28264702e-10+0.00074581j, 1.28390467e-10+0.00075435j])"
      ]
     },
     "execution_count": 113,
     "metadata": {},
     "output_type": "execute_result"
    }
   ],
   "source": [
    "ydata1"
   ]
  },
  {
   "cell_type": "code",
   "execution_count": 114,
   "metadata": {},
   "outputs": [
    {
     "data": {
      "text/plain": [
       "array([5.5       , 5.50185093, 5.50370185, ..., 8.97986726, 8.98051363,\n",
       "       8.98116   ])"
      ]
     },
     "execution_count": 114,
     "metadata": {},
     "output_type": "execute_result"
    }
   ],
   "source": [
    "fdata1"
   ]
  },
  {
   "cell_type": "code",
   "execution_count": 67,
   "metadata": {},
   "outputs": [
    {
     "data": {
      "text/plain": [
       "4221"
      ]
     },
     "execution_count": 67,
     "metadata": {},
     "output_type": "execute_result"
    }
   ],
   "source": [
    "fdata.size"
   ]
  },
  {
   "cell_type": "code",
   "execution_count": 68,
   "metadata": {},
   "outputs": [
    {
     "data": {
      "text/plain": [
       "4221"
      ]
     },
     "execution_count": 68,
     "metadata": {},
     "output_type": "execute_result"
    }
   ],
   "source": [
    "ydata.size"
   ]
  },
  {
   "cell_type": "markdown",
   "metadata": {},
   "source": [
    "## Plot the zero crossings"
   ]
  },
  {
   "cell_type": "code",
   "execution_count": null,
   "metadata": {},
   "outputs": [],
   "source": [
    "# Plot the results, save the figure(s)\n",
    "fsize = 20\n",
    "fscale = 1e9\n",
    "dstr = datetime.datetime.today().strftime('%y%m%d')\n",
    "wp, Lp, Cp, Qp, fcpy, ycpy, yp, pl, pc, gD, chippp = \\\n",
    "get_wp_Cp_Lp(fdata, ydata, LJ0=100e-9, CJ0=2e-15, fscale=1e9, use_Zq=False)\n",
    "\n",
    "fig, ax = plt.subplots(1, 1, tight_layout=True)\n",
    "ax.plot(fdata, ydata.imag)\n",
    "ax.plot(wp/(2*np.pi*fscale), yp.imag, 'o', label='Zero Crossings')\n",
    "ax.set_ylabel(r'Im $Y(\\omega)$', fontsize=fsize)\n",
    "ax.set_xlabel(r'Frequency [GHz]', fontsize=fsize)\n",
    "set_axes_fonts(ax, fsize)\n",
    "set_xaxis_rot(ax, 45.)\n",
    "ax.set_xlim([None, 10])\n",
    "#ax.set_xlim([5.88, 5.95])\n",
    "ax.set_ylim([-0.01, 0.01])\n",
    "ax.axhline(y=0, color='k', ls='--')\n",
    "fig.savefig(f'../figs/zeros_term_bbq_inductive_50um_15mm_{dstr}.pdf', format='pdf')"
   ]
  },
  {
   "cell_type": "markdown",
   "metadata": {},
   "source": [
    "## Iterate over all coupler offset values, fix LJ=10 nH"
   ]
  },
  {
   "cell_type": "code",
   "execution_count": null,
   "metadata": {},
   "outputs": [],
   "source": [
    "def get_bbq_params(fdata, ydata, NLJ=25, Nmodes=6, LJvals=[0.1e-9, 100e-9]):\n",
    "    wps = []\n",
    "    pcs = []\n",
    "    pls = []\n",
    "    gDs = []\n",
    "    Cps = []\n",
    "    Lps = []\n",
    "    Qps = []\n",
    "    chis = []\n",
    "\n",
    "    # Whether or not to use the largest impedance mode\n",
    "    # as the junction mode in the calculations\n",
    "    use_Zq = False\n",
    "    print_results = True\n",
    "\n",
    "    LJs = np.logspace(np.log10(LJvals[0]), np.log10(LJvals[1]), NLJ)\n",
    "    #for idx, x in enumerate(xdata):\n",
    "    for LJ in LJs:\n",
    "        wpp, Lp, Cp, Qp, _, _, _, pl, pc, gD, chip \\\n",
    "        = get_wp_Cp_Lp(fdata, ydata, LJ0=LJ, fscale=fscale, use_Zq=use_Zq)\n",
    "        wps.append(np.sort(wpp[0:Nmodes]))\n",
    "        #wps.append(wpp[0:Nmodes])\n",
    "        pls.append(pl[0:Nmodes])\n",
    "        pcs.append(pc[0:Nmodes])\n",
    "        gDs.append(gD[0:Nmodes, 0:Nmodes])\n",
    "        Lps.append(Lp[0:Nmodes])\n",
    "        Cps.append(Cp[0:Nmodes])\n",
    "        Qps.append(Qp[0:Nmodes])\n",
    "        chis.append(chip[0:Nmodes, 0:Nmodes])\n",
    "        if print_results:\n",
    "            print(f'wps: {wps}')\n",
    "        # wps.append(wpp)\n",
    "        # print(f'LJ: {LJ}, wpp: {wpp}')\n",
    "    wps = np.asarray(wps).T\n",
    "    pls  = np.asarray(pls).T\n",
    "    pcs  = np.asarray(pls).T\n",
    "    gDs = np.asarray(gDs).T\n",
    "    Lps = np.asarray(Lps).T\n",
    "    Cps = np.asarray(Cps).T\n",
    "    Qps = np.asarray(Qps).T\n",
    "    chis = np.asarray(chis).T\n",
    "\n",
    "    return wps, pls, pcs, gDs, Lps, Cps, Qps, chis"
   ]
  },
  {
   "cell_type": "code",
   "execution_count": null,
   "metadata": {},
   "outputs": [],
   "source": [
    "wp0,_ , _, _, _, _, _, _, _, _, _ = get_wp_Cp_Lp(fdata, ydata, fscale=fscale, LJ0=None)"
   ]
  },
  {
   "cell_type": "code",
   "execution_count": null,
   "metadata": {},
   "outputs": [],
   "source": [
    "wps1, pls1, pcs1, gDs1, Lps1, Cps1, Qps1, chis1 = get_bbq_params(fdata, ydata, Nmodes=4, LJvals=[1e-9,100e-9])"
   ]
  },
  {
   "cell_type": "code",
   "execution_count": null,
   "metadata": {},
   "outputs": [],
   "source": [
    "wps1[2]"
   ]
  },
  {
   "cell_type": "code",
   "execution_count": null,
   "metadata": {},
   "outputs": [],
   "source": [
    "wps1[:, 0]"
   ]
  },
  {
   "cell_type": "code",
   "execution_count": null,
   "metadata": {},
   "outputs": [],
   "source": [
    "wps1[:, -1]"
   ]
  },
  {
   "cell_type": "code",
   "execution_count": null,
   "metadata": {},
   "outputs": [],
   "source": [
    "wps1_sort = np.sort(wps1, axis=0)\n",
    "wps1_sort"
   ]
  },
  {
   "cell_type": "markdown",
   "metadata": {},
   "source": [
    "## Plot the modes of coupled structure"
   ]
  },
  {
   "cell_type": "code",
   "execution_count": null,
   "metadata": {},
   "outputs": [],
   "source": [
    "fig, ax = plt.subplots(1, 1, tight_layout=True)\n",
    "dstr = datetime.datetime.today().strftime('%y%m%d')\n",
    "lsize = 14\n",
    "cycle = plt.rcParams['axes.prop_cycle'].by_key()['color']\n",
    "clen = len(cycle)\n",
    "NLJ = 25\n",
    "LJs = np.logspace(np.log10(1e-9), np.log10(100e-9), NLJ)\n",
    "for idx, wppp in enumerate(wps1):\n",
    "    ax.plot(LJs/1e-9, wppp/(2*np.pi*fscale),\n",
    "            'o', label=r'Mode-%d' % (idx + 1),\n",
    "            color=cycle[idx%clen])\n",
    "    ax.plot(LJs/1e-9, [wp0[idx]/(2*np.pi*fscale)] * len(LJs),\n",
    "            '--', color=cycle[idx%clen])\n",
    "ax.set_xlabel(r'$L_J$ [nH]', fontsize=fsize)\n",
    "ax.set_ylabel(r'Eigenfrequencies [GHz]', fontsize=fsize)\n",
    "set_xaxis_rot(ax, 45)\n",
    "# ax.set_ylim([7.165, 7.2])\n",
    "set_axes_fonts(ax, fsize)\n",
    "leg = set_leg_outside(ax, lsize)\n",
    "ax.set_xscale('log')\n",
    "fig.savefig(f'../figs/modes_term_bbq_inductive_planar_sapphire_{dstr}.pdf',\n",
    "             bbox_extra_artists=(leg, ), bbox_inches='tight',\n",
    "            transparent=True, format='pdf')"
   ]
  },
  {
   "cell_type": "markdown",
   "metadata": {},
   "source": [
    "## Plot the splittings of the lowest modes vs LJ"
   ]
  },
  {
   "cell_type": "code",
   "execution_count": null,
   "metadata": {},
   "outputs": [],
   "source": [
    "fig, ax = plt.subplots(1, 1, tight_layout=True)\n",
    "lsize = 14\n",
    "fscale2 = 1e6\n",
    "cycle = plt.rcParams['axes.prop_cycle'].by_key()['color']\n",
    "clen = len(cycle)\n",
    "ax.plot(LJs/1e-9, (wps1[1]-wps1[0])/(2*np.pi*fscale2),\n",
    "           'o-',\n",
    "            color=cycle[0%clen])\n",
    "# ax.plot(LJs/1e-9, np.ones(LJs.size) * dw/(fscale2), 'k--')\n",
    "ax.set_xlabel(r'$L_J$ [nH]', fontsize=fsize)\n",
    "ax.set_ylabel(r'Mode Splitting (1,2) [MHz]', fontsize=fsize)\n",
    "set_xaxis_rot(ax, 45)\n",
    "set_axes_fonts(ax, fsize)\n",
    "#ax.set_ylim([0, 150])\n",
    "#ax.set_xlim([0.5, 2.2])\n",
    "ax.set_xscale('log')\n",
    "fig.savefig(f'../figs/modes_splitting_term_bbq_inductive_planar_sapphire_{dstr}.pdf',\n",
    "            format='pdf')"
   ]
  },
  {
   "cell_type": "markdown",
   "metadata": {},
   "source": [
    "## Mode losses"
   ]
  },
  {
   "cell_type": "code",
   "execution_count": null,
   "metadata": {},
   "outputs": [],
   "source": [
    "fig, ax = plt.subplots(1, 1, tight_layout=True)\n",
    "lsize = 14\n",
    "cycle = plt.rcParams['axes.prop_cycle'].by_key()['color']\n",
    "clen = len(cycle)\n",
    "for idx, Q in enumerate(Qps1):\n",
    "    ax.plot(LJs/1e-9, 1./Q,\n",
    "            'o-', label=r'Mode-%d' % (idx + 1),\n",
    "            color=cycle[idx%clen])\n",
    "ax.set_xlabel(r'$L_J$ [nH]', fontsize=fsize)\n",
    "ax.set_ylabel(r'$Q_p^{-1}$', fontsize=fsize)\n",
    "set_xaxis_rot(ax, 45)\n",
    "set_axes_fonts(ax, fsize)\n",
    "set_leg_outside(ax, lsize)\n",
    "ax.set_xscale('log')\n",
    "ax.set_yscale('log')\n",
    "fig.savefig(f'../figs/mode_losses_term_bbq_inductive_planar_sapphire_{dstr}.pdf', format='pdf')"
   ]
  },
  {
   "cell_type": "markdown",
   "metadata": {},
   "source": [
    "## Mode $T_1$'s"
   ]
  },
  {
   "cell_type": "code",
   "execution_count": null,
   "metadata": {},
   "outputs": [],
   "source": [
    "fig, ax = plt.subplots(1, 1, tight_layout=True)\n",
    "lsize = 14\n",
    "fscale2 = 1e6\n",
    "cycle = plt.rcParams['axes.prop_cycle'].by_key()['color']\n",
    "clen = len(cycle)\n",
    "for idx, Q in enumerate(Qps1):\n",
    "    ax.plot(LJs/1e-9, 1e6 * Q / wps1[idx],\n",
    "            'o-', label=r'Mode-%d' % (idx + 1),\n",
    "            color=cycle[idx%clen])\n",
    "ax.plot(LJs/1e-9, 100*np.ones(LJs.size), 'k:',\n",
    "        lw=2, label=r'100 $\\mu$s $T_1$')\n",
    "ax.set_xlabel(r'$L_J$ [nH]', fontsize=fsize)\n",
    "ax.set_ylabel(r'$T_1$ [$\\mu$s]', fontsize=fsize)\n",
    "# ax.plot(LJs/1e-9, np.ones(LJs.size) * dw/(fscale2), 'k--')\n",
    "set_xaxis_rot(ax, 45)\n",
    "set_axes_fonts(ax, fsize)\n",
    "set_leg_outside(ax, lsize)\n",
    "#ax.set_ylim([1e-2, 350])\n",
    "#ax.set_xlim([0.5, 2.2])\n",
    "ax.set_xscale('log')\n",
    "ax.set_yscale('log')\n",
    "fig.savefig(f'../figs/T1_modes_coupled_{dstr}.pdf',\n",
    "            format='pdf')"
   ]
  },
  {
   "cell_type": "markdown",
   "metadata": {},
   "source": [
    "## Black box results"
   ]
  },
  {
   "cell_type": "markdown",
   "metadata": {},
   "source": [
    "### $\\alpha_p$ and $\\chi_{pq}$"
   ]
  },
  {
   "cell_type": "code",
   "execution_count": null,
   "metadata": {},
   "outputs": [],
   "source": [
    "fig, ax = plt.subplots(1, 1, tight_layout=True)\n",
    "lsize = 14\n",
    "cycle = plt.rcParams['axes.prop_cycle'].by_key()['color']\n",
    "clen = len(cycle)\n",
    "Nmodes = 4\n",
    "fscale3 = 1e3\n",
    "for idx in range(Nmodes):\n",
    "    ax.plot(LJs/1e-9, 0.5 * np.abs(chis1[idx, idx, :]) / fscale3,\n",
    "            'o-', label=r'Mode-%d' % (idx + 1),\n",
    "            color=cycle[idx%clen])\n",
    "ax.set_xlabel(r'$L_J$ [nH]', fontsize=fsize)\n",
    "ax.set_ylabel(r'$|\\alpha_p|$ [kHz]', fontsize=fsize)\n",
    "set_xaxis_rot(ax, 45)\n",
    "set_axes_fonts(ax, fsize)\n",
    "set_leg_outside(ax, lsize)\n",
    "ax.set_xscale('log')\n",
    "ax.set_yscale('log')\n",
    "fig.savefig(f'../figs/mode_alpha_term_bbq_inductive_planar_sapphire_{dstr}.pdf', format='pdf')"
   ]
  },
  {
   "cell_type": "code",
   "execution_count": 242,
   "metadata": {},
   "outputs": [
    {
     "data": {
      "image/png": "[encoded data removed]",
      "text/plain": [
       "<Figure size 640x480 with 1 Axes>"
      ]
     },
     "metadata": {},
     "output_type": "display_data"
    }
   ],
   "source": [
    "# Chi, lower triangle\n",
    "chiT = np.array([np.triu(chis1[:,:,i]) for i in range(len(LJs))]).T\n",
    "gT = np.array([np.triu(gDs1[:,:,i]) for i in range(len(LJs))]).T\n",
    "NM = 4\n",
    "chiT[0:NM,0:NM,0]\n",
    "\n",
    "fig, ax = plt.subplots(1, 1, tight_layout=True)\n",
    "lsize = 14\n",
    "cycle = plt.rcParams['axes.prop_cycle'].by_key()['color']\n",
    "clen = len(cycle)\n",
    "NM = 4\n",
    "idx = 0\n",
    "for i in range(NM):\n",
    "    for j in range(NM):\n",
    "        if (i != j) and np.any(chiT[i, j, :] != 0.):\n",
    "            ax.plot(LJs/1e-9, np.abs(chiT[i, j, :]) / fscale3,\n",
    "                'o-', label=r'$\\chi_{%d,%d}$' % (i + 1, j + 1),\n",
    "                color=cycle[idx%clen])\n",
    "            idx += 1\n",
    "ax.set_xlabel(r'$L_J$ [nH]', fontsize=fsize)\n",
    "ax.set_ylabel(r'$|\\chi_{pq}|$ [kHz]', fontsize=fsize)\n",
    "set_xaxis_rot(ax, 45)\n",
    "set_axes_fonts(ax, fsize)\n",
    "set_leg_outside(ax, lsize)\n",
    "ax.set_xscale('log')\n",
    "ax.set_yscale('log')\n",
    "fig.savefig(f'../figs/mode_chi_term_bbq_inductive_planar_sapphire_{dstr}.pdf', format='pdf')"
   ]
  },
  {
   "cell_type": "code",
   "execution_count": 190,
   "metadata": {},
   "outputs": [
    {
     "data": {
      "image/png": "[encoded data removed]",
      "text/plain": [
       "<Figure size 640x480 with 1 Axes>"
      ]
     },
     "metadata": {},
     "output_type": "display_data"
    }
   ],
   "source": [
    "fig, ax = plt.subplots(1, 1, tight_layout=True)\n",
    "lsize = 14\n",
    "cycle = plt.rcParams['axes.prop_cycle'].by_key()['color']\n",
    "clen = len(cycle)\n",
    "NM = 4\n",
    "idx = 0\n",
    "for i in range(NM):\n",
    "    for j in range(NM):\n",
    "        if (i != j) and np.any(gT[i, j, :] != 0.):\n",
    "            ax.plot(LJs/1e-9, np.abs(gT[i, j, :]) / fscale2,\n",
    "                'o-', label=r'$g_{%d,%d}$' % (i + 1, j + 1),\n",
    "                color=cycle[idx%clen])\n",
    "            idx += 1\n",
    "ax.set_xlabel(r'$L_J$ [nH]', fontsize=fsize)\n",
    "ax.set_ylabel(r'$|g_{pq}|$ [MHz]', fontsize=fsize)\n",
    "set_xaxis_rot(ax, 45)\n",
    "set_axes_fonts(ax, fsize)\n",
    "set_leg_outside(ax, lsize)\n",
    "ax.set_xscale('log')\n",
    "ax.set_yscale('log')\n",
    "fig.savefig(f'../figs/mode_g_term_bbq_inductive_planar_sapphire_{dstr}.pdf', format='pdf')"
   ]
  },
  {
   "cell_type": "code",
   "execution_count": null,
   "metadata": {},
   "outputs": [],
   "source": []
  }
 ],
 "metadata": {
  "kernelspec": {
   "display_name": "Python 3 (ipykernel)",
   "language": "python",
   "name": "python3"
  },
  "language_info": {
   "codemirror_mode": {
    "name": "ipython",
    "version": 3
   },
   "file_extension": ".py",
   "mimetype": "text/x-python",
   "name": "python",
   "nbconvert_exporter": "python",
   "pygments_lexer": "ipython3",
   "version": "3.9.16"
  }
 },
 "nbformat": 4,
 "nbformat_minor": 4
}
