{
 "cells": [
  {
   "cell_type": "code",
   "execution_count": 1,
   "metadata": {},
   "outputs": [],
   "source": [
    "'''\n",
    "Demos written and developed by: Andrew E. Oriani 2020 EMAIL: oriani@uchicago.edu\n",
    "\n",
    "'''\n",
    "from PyInventor import *\n",
    "import numpy as np\n",
    "from numpy import pi, cos, sin, sqrt, log\n",
    "import math\n",
    "import glob\n",
    "import time\n",
    "import datetime\n",
    "\n",
    "#Import plotting libraries for later\n",
    "import matplotlib\n",
    "from matplotlib import pyplot as plt\n",
    "\n",
    "from matplotlib import cm\n",
    "import matplotlib as mpl\n",
    "from matplotlib.colors import BoundaryNorm \n",
    "from matplotlib.ticker import MaxNLocator\n",
    "\n",
    "import pandas as pd\n",
    "\n",
    "import pyEPR\n",
    "from pyEPR import ansys as HFSS\n",
    "from pyEPR.core_distributed_analysis import CalcObject\n",
    "\n",
    "import scipy\n",
    "from scipy import constants as const\n",
    "\n",
    "from pint import UnitRegistry\n",
    "ureg = UnitRegistry()\n",
    "Q = ureg.Quantity\n",
    "import os\n",
    "import re as regex\n",
    "\n",
    "# Field integrals code\n",
    "import sys\n",
    "sys.path.append('../python/src')\n",
    "import field_integrals as fint"
   ]
  },
  {
   "cell_type": "markdown",
   "metadata": {},
   "source": [
    "# Eigenmode:\n",
    "\n",
    "<img src=\"Pictures/Cavity Eigenmode.png\" alt=\"drawing\" width=\"400\">\n",
    "\n",
    "Determines first 5 eigenmode frequencies in absence of any qubit. This demonstration also calculates S_e and S_m (electric and magnetic field participation of the cavity modes) for the first (TE_101) mode."
   ]
  },
  {
   "cell_type": "code",
   "execution_count": 2,
   "metadata": {},
   "outputs": [
    {
     "name": "stdout",
     "output_type": "stream",
     "text": [
      "project_name: two_post_coupler_eigenmode\n",
      "path: C:\\Users\\materise1\\tcav\\ipynbs\\HFSS\\two_post_coupler_eigenmode.aedt\n",
      "project_name: two_post_coupler_eigenmode\n",
      "path: C:\\Users\\materise1\\tcav\\ipynbs\\HFSS\\two_post_coupler_eigenmode.aedt\n"
     ]
    }
   ],
   "source": [
    "'''\n",
    "HFSS eigenmode simulation Creation:\n",
    "\n",
    "This sets up a standard eigenmode simulation without the qubit, just the bare cavity created above. It calculates\n",
    "the mode frequencies, loss (with boundary impedances set) and the electric and magnetic surface participation \n",
    "ratios (S_e, S_m)\n",
    "\n",
    "'''\n",
    "# Project and HFSS design names for the bare waveguide model\n",
    "dd = datetime.datetime.today().strftime('%y%m%d')\n",
    "# dd = '230418'\n",
    "solution_type = 'eigenmode'\n",
    "\n",
    "# solution_type = 'driven_modal'\n",
    "overwrite = False\n",
    "ref_name = 'coax_cavity_underneath_substrate_230131'\n",
    "ref_name = 'two_post_coupler_eigenmode'\n",
    "# ref_name = 'planar_pads_l_coupled_three_cavities_degen'\n",
    "project_name=f'{ref_name}'\n",
    "design_name=f'coupler_only_jj'\n",
    "\n",
    "\n",
    "#use file location path:\n",
    "HFSS_path=os.getcwd()\n",
    "\n",
    "full_path=HFSS_path+'\\\\HFSS\\\\'+project_name+'.aedt'\n",
    "\n",
    "HFSS_app=HFSS.HfssApp()\n",
    "HFSS_desktop=HFSS_app.get_app_desktop()\n",
    "\n",
    "project=HFSS_desktop.open_project(full_path)\n",
    "\n",
    "if project==None:\n",
    "    project=HFSS_desktop.new_project()\n",
    "    project.save(full_path)\n",
    "    \n",
    "project.save(full_path)\n",
    "project.make_active()\n",
    "    \n",
    "if design_name in project.get_design_names():\n",
    "    if overwrite==True:\n",
    "        project.delete_design(design_name)\n",
    "        project.save()\n",
    "        \n",
    "        # Setup a driven modal design type\n",
    "        if solution_type == 'driven_modal':\n",
    "            EM_design=project.new_dm_design(design_name)\n",
    "        elif solution_type == 'eigenmode':\n",
    "            EM_design=project.new_em_design(design_name)\n",
    "        else:\n",
    "            raise ValueError(f'Solution type ({solution_type}) not recognized.')\n",
    "    else:\n",
    "        EM_design=project.get_design(design_name)\n",
    "        \n",
    "else:\n",
    "    if solution_type == 'driven_modal':\n",
    "        EM_design=project.new_dm_design(design_name)\n",
    "    elif solution_type == 'eigenmode':\n",
    "        EM_design=project.new_em_design(design_name)\n",
    "    else:\n",
    "        raise ValueError(f'Solution type ({solution_type}) not recognized.')\n",
    "        \n",
    "EM_design.make_active()\n",
    "model=HFSS.HfssModeler(EM_design)\n",
    "\n",
    "project=HFSS_desktop.open_project(full_path)\n",
    "\n",
    "if project==None:\n",
    "    project=HFSS_desktop.new_project()\n",
    "    project.save(full_path)\n",
    "    \n",
    "project.make_active()\n",
    "    \n",
    "if design_name in project.get_design_names():\n",
    "    if overwrite==True:\n",
    "        project.delete_design(design_name)\n",
    "        project.save()\n",
    "        EM_design=project.new_em_design(design_name)\n",
    "    else:\n",
    "        EM_design=project.get_design(design_name)\n",
    "        \n",
    "else:\n",
    "    EM_design=project.new_em_design(design_name)\n",
    "        \n",
    "EM_design.make_active()\n",
    "model=HFSS.HfssModeler(EM_design)"
   ]
  },
  {
   "cell_type": "markdown",
   "metadata": {},
   "source": [
    "### Eigenmode simulation and $L_J$ sweep"
   ]
  },
  {
   "cell_type": "code",
   "execution_count": null,
   "metadata": {},
   "outputs": [],
   "source": [
    "#setup the analysis and optimetrics\n",
    "opti_setup = HFSS.Optimetrics(EM_design)\n",
    "\n",
    "#set the optimetrics step size and number of steps\n",
    "step = .2\n",
    "num_step = 1\n",
    "\n",
    "sweep_type = 'decade'\n",
    "\n",
    "#create optimetrics setup\n",
    "# swp_var = L_jj\n",
    "# swp_var_unit = 'nH'\n",
    "# swp_var = xoffset\n",
    "# swp_var_unit = 'mm'\n",
    "start = 0.1e-9\n",
    "stop = 100e-9\n",
    "dstep = 3\n",
    "num_step = int(np.round((stop-start)/dstep) + 1)\n",
    "num_step = 3\n",
    "\n",
    "tstamp = datetime.datetime.today().strftime('%y%m%d_%H_%M_%S')\n",
    "if sweep_type == 'decade':\n",
    "    opti_setup.create_setup(variable=swp_var,\n",
    "                        swp_type= 'decade',\n",
    "                        swp_params=('%.2f%s'%(start, swp_var_unit),\n",
    "                                    '%.2f%s'%(stop, swp_var_unit), \n",
    "                                    str(num_step)),\n",
    "                        name=f'{swp_var}_Sweep_{tstamp}',\n",
    "                        save_fields=True,\n",
    "                        solve_with_copied_mesh_only=False,\n",
    "                        copy_mesh=False)\n",
    "elif sweep_type == 'linear':\n",
    "    opti_setup.create_setup(variable=swp_var,\n",
    "                        swp_type= 'linear_step',\n",
    "                        swp_params=('%.2f%s'%(start, swp_var_unit),\n",
    "                                    '%.2f%s'%(stop, swp_var_unit), \n",
    "                                    '%.2f%s' \\\n",
    "                                    % (((stop - start) / num_step),\n",
    "                                       swp_var_unit)),\n",
    "                        name=f'{swp_var}_Sweep_{tstamp}',\n",
    "                        save_fields=True,\n",
    "                        solve_with_copied_mesh_only=False,\n",
    "                        copy_mesh=False)\n",
    "else:\n",
    "    raise ValueError(f'sweep_type ({sweep_type}) unrecognized.')\n",
    "            \n",
    "#solve it\n",
    "opti_setup.solve_setup(f'{swp_var}_Sweep_{tstamp}')\n",
    "\n",
    "#save project\n",
    "project.save()"
   ]
  },
  {
   "cell_type": "code",
   "execution_count": null,
   "metadata": {},
   "outputs": [],
   "source": [
    "def set_axes_fonts(ax, fsize):\n",
    "    \"\"\"\n",
    "    Set axes font sizes because it should be abstracted away\n",
    "    \"\"\"\n",
    "    for tick in ax.get_xticklabels():\n",
    "        tick.set_fontsize(fsize)\n",
    "    for tick in ax.get_yticklabels():\n",
    "        tick.set_fontsize(fsize)\n",
    "\n",
    "def set_xaxis_rot(ax, angle=45):\n",
    "    \"\"\"\n",
    "    Rotate the x-axis labels\n",
    "    \"\"\"\n",
    "        \n",
    "    for tick in ax.get_xticklabels():\n",
    "        tick.set_rotation(angle)\n",
    "\n",
    "def set_leg_outside(ax, fsize):\n",
    "    \"\"\"\n",
    "    Sets the legend location outside\n",
    "    \"\"\"\n",
    "    \n",
    "    # Shrink current axis by 20%\n",
    "    box = ax.get_position()\n",
    "    ax.set_position([box.x0, box.y0, box.width * 0.8, box.height])\n",
    "    \n",
    "    # Put a legend to the right of the current axis\n",
    "    hdls, legs = ax.get_legend_handles_labels()\n",
    "    leg = ax.legend(hdls, legs, loc='center left', bbox_to_anchor=(1, 0.5), \\\n",
    "                    fontsize=fsize, framealpha=0.)\n",
    "\n",
    "    return leg"
   ]
  },
  {
   "cell_type": "code",
   "execution_count": null,
   "metadata": {},
   "outputs": [],
   "source": [
    "def plot_2d_cmap(x, y, z, fname,                                                \n",
    "                 xstr='', ystr='',                                              \n",
    "                 tstr='', cbar_str='',                                          \n",
    "                 cmap=cm.inferno,\n",
    "                 xyscales={'x' : 'linear', 'y': 'linear'},\n",
    "                 interp_zeros=False,\n",
    "                interp_std_dev=10,\n",
    "                image_rot_angle=0,\n",
    "                norm_type='linear',\n",
    "                zref=None, \n",
    "                fsize=30,\n",
    "                tsize=36):\n",
    "    \"\"\"                                                                         \n",
    "    Plot 2D colormap data such that                                             \n",
    "                                                                                \n",
    "         -----------------------                                                \n",
    "         |                     |                                                \n",
    "         |                     |                                                \n",
    "    y    |          z          |                                                \n",
    "         |                     |                                                \n",
    "         |                     |                                                \n",
    "         -----------------------                                                \n",
    "                                                                                \n",
    "                    x                                                           \n",
    "                                                                                \n",
    "    Parameters:                                                                 \n",
    "    ----------                                                                  \n",
    "                                                                                \n",
    "    x, y:       independent variables                                           \n",
    "    z:          resulting data, z = z(x, y)                                     \n",
    "    fname:      output figure filename, relative path with file extension       \n",
    "    xstr:       x-axis label                                                    \n",
    "    ystr:       y-axis label                                                    \n",
    "    tstr:       title label                                                     \n",
    "    cbar_str:   lable for color bar                                             \n",
    "    cmap:       colormap to use on the 2D figure output                         \n",
    "                                                                                \n",
    "    \"\"\"\n",
    "    # Interpolate the data\n",
    "    if interp_zeros:\n",
    "        hot_pixels, z = fix_outlier_pixels(z, tolerance=interp_std_dev)\n",
    "    \n",
    "    # Setup the color map, normalizations, etc\n",
    "    if norm_type == 'linear':\n",
    "        norm = mpl.colors.Normalize(z.min(), z.max())\n",
    "    elif norm_type == 'log':\n",
    "        if zref:\n",
    "            norm = mpl.colors.LogNorm(min(zref), max(zref))\n",
    "        else:\n",
    "            norm = mpl.colors.Normalize(min(zref), max(zref))    \n",
    "    elif (norm_type == 'ref') and zref:\n",
    "        norm = mpl.colors.Normalize(min(zref), max(zref))\n",
    "    else:\n",
    "        raise ValueError(f'norm_type ({norm_type}) not recognized')                                         \n",
    "                                                                                \n",
    "    # Setup the figure and axes                                                 \n",
    "    fig, ax = plt.subplots(1, 1, figsize=(10, 8), tight_layout=True)\n",
    "    \n",
    "    # Set the scale bar and levels\n",
    "    if (norm_type == 'ref') and zref:\n",
    "        levels = MaxNLocator(nbins=20).tick_values(min(zref), max(zref))\n",
    "    else:\n",
    "        levels = MaxNLocator(nbins=20).tick_values(z.min(), z.max())\n",
    "    if image_rot_angle:\n",
    "        z = scipy.ndimage.rotate(z, image_rot_angle, reshape=True)\n",
    "    #plt1 = ax.imshow(z, cmap=cmap, norm=norm)\n",
    "    plt1 = ax.pcolormesh(x, y, z, cmap=cmap, norm=norm)\n",
    "    ax.set_xlabel(xstr, fontsize=fsize)                                         \n",
    "    ax.set_ylabel(ystr, fontsize=fsize)                                         \n",
    "    ax.set_title(tstr, fontsize=tsize)\n",
    "    \n",
    "    # Rotate the xlabels. Set both x and y labels to headers[1:]\n",
    "    ax.set_xscale(xyscales['x'])\n",
    "    ax.set_yscale(xyscales['y'])\n",
    "    # set_xaxis_rot(ax, 45)\n",
    "                                                                                \n",
    "    # Set the axis tick labels to a reasonable size                             \n",
    "    set_axes_fonts(ax, fsize)                                                   \n",
    "                                                                                \n",
    "    # Set the color bar, offset the title slightly from top                     \n",
    "    cbar = fig.colorbar(plt1, ax=ax)                                            \n",
    "    cbar.ax.set_title(cbar_str, fontsize=fsize, y=1.025)                        \n",
    "    cbar.ax.tick_params(labelsize=fsize)                                        \n",
    "                                                                                \n",
    "    # Write the results to file\n",
    "    print(f'Writing {fname} ...')\n",
    "    fig.savefig(fname, format='pdf', transparent=True)                  "
   ]
  },
  {
   "cell_type": "markdown",
   "metadata": {},
   "source": [
    "## Read the electric field data to perform the integrals"
   ]
  },
  {
   "cell_type": "code",
   "execution_count": null,
   "metadata": {},
   "outputs": [],
   "source": [
    "# Setup the pyEPR project\n",
    "Nmodes = 2\n",
    "pinfo = pyEPR.ProjectInfo(HFSS_path+'\\\\HFSS',  \n",
    "                         project_name,\n",
    "                         design_name)\n",
    "# Setup for EPR anaylsis\n",
    "eprh = pyEPR.DistributedAnalysis(pinfo)\n",
    "\n",
    "# Read off the inductances and x-offsets from the variations\n",
    "variations = eprh.solutions.list_variations()\n",
    "Ljstrs = []; Lj_vals = []\n",
    "#xoffstrs = []; xoff_vals = []\n",
    "for v in variations:\n",
    "    Ljstrs.append(regex.findall('LJ=\\'(.*?nH)', v)[0].replace('.', 'p'))\n",
    "    Lj_vals.append(float(regex.findall('LJ=\\'(.*?)nH', v)[0]))\n",
    " #   xoffstrs.append(regex.findall('x_offset=\\'(.*?mm)', v)[0].replace('.', 'p'))\n",
    " #   xoff_vals.append(regex.findall('x_offset=\\'(.*?mm)', v)[0])"
   ]
  },
  {
   "cell_type": "code",
   "execution_count": null,
   "metadata": {},
   "outputs": [],
   "source": [
    "Lj_sort_idxs = np.argsort(Lj_vals)\n",
    "Lj_vals = np.unique(np.asarray(Lj_vals)[Lj_sort_idxs])\n",
    "Ljstrs = np.asarray(Ljstrs)[Lj_sort_idxs]"
   ]
  },
  {
   "cell_type": "code",
   "execution_count": null,
   "metadata": {},
   "outputs": [],
   "source": [
    "Lj_sort_idxs"
   ]
  },
  {
   "cell_type": "code",
   "execution_count": null,
   "metadata": {},
   "outputs": [],
   "source": [
    "Lj_vals"
   ]
  },
  {
   "cell_type": "code",
   "execution_count": null,
   "metadata": {},
   "outputs": [],
   "source": [
    "Ljstrs"
   ]
  },
  {
   "cell_type": "code",
   "execution_count": null,
   "metadata": {},
   "outputs": [],
   "source": [
    "vstrs = [f'LJ{l}' for l in Ljstrs]"
   ]
  },
  {
   "cell_type": "code",
   "execution_count": null,
   "metadata": {},
   "outputs": [],
   "source": [
    "vstrs"
   ]
  },
  {
   "cell_type": "code",
   "execution_count": null,
   "metadata": {},
   "outputs": [],
   "source": [
    "vars_sorted = np.asarray(eprh.variations)[Lj_sort_idxs]"
   ]
  },
  {
   "cell_type": "code",
   "execution_count": null,
   "metadata": {},
   "outputs": [],
   "source": [
    "[eprh._get_lv(v) for v in vars_sorted]"
   ]
  },
  {
   "cell_type": "markdown",
   "metadata": {},
   "source": [
    "## Need to manually create Vector_E plot in GUI first\n",
    "* TODO: Create a new field plot, then export the field data with ansys.py"
   ]
  },
  {
   "cell_type": "code",
   "execution_count": null,
   "metadata": {},
   "outputs": [],
   "source": [
    "# Build a string for each variation to label the output files\n",
    "Nmodes = 2\n",
    "for idx, v in enumerate(vars_sorted):\n",
    "    # Set the variation\n",
    "    eprh.set_variation(v)\n",
    "    lv = eprh._get_lv(v)\n",
    "    print(f'Variation: {vstrs[idx]}')\n",
    "    for kp in range(Nmodes):\n",
    "        # Set the solution to mode kp\n",
    "        eprh.solutions.set_mode(kp+1)\n",
    "        # time.sleep(0.5)\n",
    "        print(f'Mode-{kp+1}')\n",
    "        des = EM_design._design\n",
    "        omod = des.GetModule('FieldsReporter')\n",
    "        omod.ExportFieldPlot(\"Vector_E1\", False, f\"Z:\\\\tcav\\\\data\\\\efields_two_post_cpl_only_mode_{kp+1}_{vstrs[idx]}.aedtplt\")\n",
    "print('Finished writing field data to file.')"
   ]
  },
  {
   "cell_type": "markdown",
   "metadata": {},
   "source": [
    "## Need to manually create Vector_H (90 degrees phase) plot in GUI first"
   ]
  },
  {
   "cell_type": "code",
   "execution_count": null,
   "metadata": {},
   "outputs": [],
   "source": [
    "# Build a string for each variation to label the output files\n",
    "Nmodes = 2\n",
    "for idx, v in enumerate(vars_sorted):\n",
    "    # Set the variation\n",
    "    eprh.set_variation(v)\n",
    "    lv = eprh._get_lv(v)\n",
    "    print(f'Variation: {vstrs[idx]}')\n",
    "    for kp in range(Nmodes):\n",
    "        # Set the solution to mode kp\n",
    "        eprh.solutions.set_mode(kp+1)\n",
    "        # time.sleep(0.5)\n",
    "        print(f'Mode-{kp+1}')\n",
    "        des = EM_design._design\n",
    "        omod = des.GetModule('FieldsReporter')\n",
    "        omod.ExportFieldPlot(\"Vector_H1\", False, f\"Z:\\\\tcav\\\\data\\\\hfields_two_post_cpl_only_mode_{kp+1}_{vstrs[idx]}.aedtplt\")\n",
    "print('Finished writing field data to file.')"
   ]
  },
  {
   "cell_type": "markdown",
   "metadata": {},
   "source": [
    "## Need to manually create Vector_Jsurf1 (90 degrees phase) plot in GUI first"
   ]
  },
  {
   "cell_type": "code",
   "execution_count": null,
   "metadata": {},
   "outputs": [],
   "source": [
    "# Build a string for each variation to label the output files\n",
    "Nmodes = 2\n",
    "for idx, v in enumerate(vars_sorted):\n",
    "    # Set the variation\n",
    "    eprh.set_variation(v)\n",
    "    lv = eprh._get_lv(v)\n",
    "    print(f'Variation: {vstrs[idx]}')\n",
    "    for kp in range(Nmodes):\n",
    "        # Set the solution to mode kp\n",
    "        eprh.solutions.set_mode(kp+1)\n",
    "        # time.sleep(0.5)\n",
    "        print(f'Mode-{kp+1}')\n",
    "        des = EM_design._design\n",
    "        omod = des.GetModule('FieldsReporter')\n",
    "        omod.ExportFieldPlot(\"Vector_Jsurf1\", False, f\"Z:\\\\tcav\\\\data\\\\jfields_two_post_cpl_only_mode_{kp+1}_{vstrs[idx]}.aedtplt\")\n",
    "print('Finished writing field data to file.')"
   ]
  },
  {
   "cell_type": "markdown",
   "metadata": {},
   "source": [
    "## Get the currents from pyEPR"
   ]
  },
  {
   "cell_type": "code",
   "execution_count": null,
   "metadata": {},
   "outputs": [],
   "source": [
    "Ikkp = np.zeros([len(vars_sorted), len(vars_sorted), Nmodes, Nmodes])\n",
    "jj_area = (50e-6)**2\n",
    "for k in range(Nmodes):\n",
    "    for kp in range(Nmodes):\n",
    "        for idx, v in enumerate(vars_sorted):\n",
    "            for idx0, v0 in enumerate(vars_sorted):\n",
    "                # Set the solution to mode k\n",
    "                eprh.solutions.set_mode(k+1)\n",
    "                calc = CalcObject([], eprh.setup)\n",
    "                calc = calc.getQty('Jsurf').mag().integrate_surf(name ='jj')\n",
    "                \n",
    "                # Set the variation to v\n",
    "                eprh.set_variation(v)\n",
    "                lv = eprh._get_lv(v)\n",
    "                Ik = calc.evaluate(lv=lv, phase=90.) / jj_area\n",
    "                \n",
    "                # Set the solution to mode kp\n",
    "                eprh.solutions.set_mode(kp+1)\n",
    "                calc = CalcObject([], eprh.setup)\n",
    "                calc = calc.getQty('Jsurf').mag().integrate_surf(name ='jj')\n",
    "                \n",
    "                # Set the variation to v0\n",
    "                eprh.set_variation(v0)\n",
    "                lv0 = eprh._get_lv(v0)\n",
    "                Ikp = calc.evaluate(lv=lv0, phase=90.) / jj_area\n",
    "            \n",
    "                print(f'(k, kp): ({k+1}, {kp+1}), (LJ, LJ0): ({v}, {v0})')\n",
    "                Ikkp[idx, idx0, k, kp] = Ik * Ikp "
   ]
  },
  {
   "cell_type": "code",
   "execution_count": null,
   "metadata": {},
   "outputs": [],
   "source": [
    "Ikkp[:, :, 0, 0].shape"
   ]
  },
  {
   "cell_type": "code",
   "execution_count": null,
   "metadata": {},
   "outputs": [],
   "source": [
    "from importlib import reload\n",
    "reload(fint)"
   ]
  },
  {
   "cell_type": "code",
   "execution_count": null,
   "metadata": {},
   "outputs": [],
   "source": [
    "# Single point of entry inputs to class\n",
    "Nmodes = 2\n",
    "modes = np.linspace(1, Nmodes, Nmodes, dtype=int)\n",
    "print(f'modes: {modes}')\n",
    "# LJs = np.asarray([0.1, 1., 10., 100.])\n",
    "# LJstrs = ['0p1', '1', '10']\n",
    "\n",
    "# Instantiate the class object\n",
    "data_path = f'../data'\n",
    "myfields = fint.FieldIntegrals(Lj_vals, Ljstrs,\n",
    "                               modes, data_path, debug=True,\n",
    "                               has_updated_fields=True,\n",
    "                               has_normalized_fields=False,\n",
    "                               normalize_fields=True,\n",
    "                               drop_max_field=1,\n",
    "                               filename_format = f'jfields_two_post_cpl_only_mode_%d_LJ%s.aedtplt',\n",
    "                               timeout_limit=30.)\n",
    "abscissa, efields = myfields.load_fields(return_fields=True)\n",
    "keys = list(efields.keys())\n",
    "\n",
    "Ckkp = myfields.overlap_matrix_points(fname=None, cidxs=[0, 1],\n",
    "                                      drop_points=1,#'../data/Akkp_nondegenerate_flutes_{dd}.csv',\n",
    "                                      return_matrix=True)"
   ]
  },
  {
   "cell_type": "code",
   "execution_count": null,
   "metadata": {},
   "outputs": [],
   "source": [
    "# Single point of entry inputs to class\n",
    "Nmodes = 2\n",
    "modes = np.linspace(1, Nmodes, Nmodes, dtype=int)\n",
    "print(f'modes: {modes}')\n",
    "# LJs = np.asarray([0.1, 1., 10., 100.])\n",
    "# LJstrs = ['0p1', '1', '10']\n",
    "\n",
    "# Instantiate the class object\n",
    "data_path = f'../data'\n",
    "myfields = fint.FieldIntegrals(Lj_vals, Ljstrs,\n",
    "                               modes, data_path, debug=True,\n",
    "                               has_updated_fields=True,\n",
    "                               has_normalized_fields=False,\n",
    "                               normalize_fields=True,\n",
    "                               drop_max_field=1,\n",
    "                               filename_format = f'hfields_two_post_cpl_only_mode_%d_LJ%s.aedtplt',\n",
    "                               timeout_limit=30.)\n",
    "abscissa, efields = myfields.load_fields(return_fields=True)\n",
    "keys = list(efields.keys())\n",
    "\n",
    "Bkkp = myfields.overlap_matrix_points(fname=None, cidxs=[0, 1],\n",
    "                                      drop_points=1,#'../data/Akkp_nondegenerate_flutes_{dd}.csv',\n",
    "                                      return_matrix=True)"
   ]
  },
  {
   "cell_type": "code",
   "execution_count": null,
   "metadata": {},
   "outputs": [],
   "source": [
    "Ckkp"
   ]
  },
  {
   "cell_type": "code",
   "execution_count": null,
   "metadata": {},
   "outputs": [],
   "source": [
    "a = np.reshape([1,2], [1, 2]); b = np.reshape([3, 4], [1, 2]); c = np.reshape([5, 6], [1, 2])"
   ]
  },
  {
   "cell_type": "code",
   "execution_count": null,
   "metadata": {},
   "outputs": [],
   "source": [
    "np.hstack((np.vstack((a, b, c)), np.ones((3, 1))))"
   ]
  },
  {
   "cell_type": "code",
   "execution_count": null,
   "metadata": {},
   "outputs": [],
   "source": [
    "Bkkp"
   ]
  },
  {
   "cell_type": "markdown",
   "metadata": {},
   "source": [
    "## Call the field integral code"
   ]
  },
  {
   "cell_type": "code",
   "execution_count": null,
   "metadata": {},
   "outputs": [],
   "source": [
    "# Single point of entry inputs to class\n",
    "Nmodes = 2\n",
    "modes = np.linspace(1, Nmodes, Nmodes, dtype=int)\n",
    "print(f'modes: {modes}')\n",
    "# LJs = np.asarray([0.1, 1., 10., 100.])\n",
    "# LJstrs = ['0p1', '1', '10']\n",
    "\n",
    "# Instantiate the class object\n",
    "data_path = f'../data'\n",
    "myfields = fint.FieldIntegrals(Lj_vals, Ljstrs,\n",
    "                               modes, data_path, debug=True,\n",
    "                               has_updated_fields=True,\n",
    "                               has_normalized_fields=False,\n",
    "                               normalize_fields=True,\n",
    "                               drop_max_field=1,\n",
    "                               filename_format = f'efields_two_post_cpl_only_mode_%d_LJ%s.aedtplt',\n",
    "                               timeout_limit=30.)\n",
    "abscissa, efields = myfields.load_fields(return_fields=True)\n",
    "keys = list(efields.keys())\n",
    "\n",
    "Akkp = myfields.overlap_matrix_points(fname=None, cidxs=[0, 1],\n",
    "                                      drop_points=1,#'../data/Akkp_nondegenerate_flutes_{dd}.csv',\n",
    "                                      return_matrix=True)"
   ]
  },
  {
   "cell_type": "code",
   "execution_count": null,
   "metadata": {},
   "outputs": [],
   "source": [
    "len(Akkp)"
   ]
  },
  {
   "cell_type": "code",
   "execution_count": null,
   "metadata": {},
   "outputs": [],
   "source": [
    "Akkpcopy = Akkp.copy()"
   ]
  },
  {
   "cell_type": "markdown",
   "metadata": {},
   "source": [
    "## Repair the $A_{kk'}$ and $B_{kk'}$ matrices"
   ]
  },
  {
   "cell_type": "code",
   "execution_count": null,
   "metadata": {},
   "outputs": [],
   "source": [
    "A34 = np.zeros([len(Lj_vals), len(Lj_vals)])\n",
    "A43 = np.zeros([len(Lj_vals), len(Lj_vals)])\n",
    "\n",
    "for k in range(Nmodes):\n",
    "    for kp in range(Nmodes):\n",
    "        for idx in range(len(Lj_vals)):\n",
    "            for idx0 in range(len(Lj_vals)):\n",
    "                if k != kp:\n",
    "                    key34 = f'kkp{k}_{kp}_LJLJp_{Ljstrs[idx]}_{Ljstrs[idx0]}'\n",
    "                    key43 = f'kkp{kp}_{k}_LJLJp_{Ljstrs[idx]}_{Ljstrs[idx0]}'\n",
    "                    A34[idx, idx0] = Akkpcopy[key34]\n",
    "                    A43[idx, idx0] = Akkpcopy[key43]\n",
    "                    Akkp[key34] = (A34[idx, idx0] - A43[idx, idx0]) / 2\n",
    "                    Akkp[key43] = (A43[idx, idx0] - A34[idx, idx0]) / 2"
   ]
  },
  {
   "cell_type": "code",
   "execution_count": null,
   "metadata": {},
   "outputs": [],
   "source": [
    "Akkpcopy[key43]"
   ]
  },
  {
   "cell_type": "code",
   "execution_count": null,
   "metadata": {},
   "outputs": [],
   "source": [
    "Akkpcopy['kkp3_4_LJLJp_100nH_100nH']"
   ]
  },
  {
   "cell_type": "code",
   "execution_count": null,
   "metadata": {},
   "outputs": [],
   "source": [
    "ww, qq = eprh.solutions.eigenmodes()"
   ]
  },
  {
   "cell_type": "code",
   "execution_count": null,
   "metadata": {},
   "outputs": [],
   "source": [
    "ww"
   ]
  },
  {
   "cell_type": "code",
   "execution_count": null,
   "metadata": {},
   "outputs": [],
   "source": [
    "qq"
   ]
  },
  {
   "cell_type": "markdown",
   "metadata": {},
   "source": [
    "## Get the eigenmode frequencies and losses\n",
    "* Note that frequencies are in GHz here"
   ]
  },
  {
   "cell_type": "code",
   "execution_count": null,
   "metadata": {},
   "outputs": [],
   "source": [
    "wk = {}; Qk = {};\n",
    "vstrs = [f'LJ{l}' for l in Ljstrs]\n",
    "for idx, v in enumerate(eprh.variations):\n",
    "    # Set the variation\n",
    "    eprh.set_variation(v)\n",
    "    lv = eprh._get_lv(v)\n",
    "    print(f'Eigenmodes for variation {vstrs[idx]} ...')\n",
    "    ww, qq = eprh.solutions.eigenmodes(lv=lv)\n",
    "    key = f'{vstrs[idx]}'\n",
    "    wk.update({key : ww})\n",
    "    Qk.update({key : [ww1/qq1 for ww1, qq1 in zip(ww, qq)]})"
   ]
  },
  {
   "cell_type": "code",
   "execution_count": null,
   "metadata": {},
   "outputs": [],
   "source": [
    "wk"
   ]
  },
  {
   "cell_type": "code",
   "execution_count": null,
   "metadata": {},
   "outputs": [],
   "source": [
    "Qk"
   ]
  },
  {
   "cell_type": "code",
   "execution_count": null,
   "metadata": {},
   "outputs": [],
   "source": [
    "LJ_dict = dict({k : v for k, v in zip(Ljstrs, Lj_vals)})"
   ]
  },
  {
   "cell_type": "code",
   "execution_count": null,
   "metadata": {},
   "outputs": [],
   "source": [
    "LJ_dict"
   ]
  },
  {
   "cell_type": "markdown",
   "metadata": {},
   "source": [
    "## Plot the modes vs. inductances"
   ]
  },
  {
   "cell_type": "code",
   "execution_count": null,
   "metadata": {},
   "outputs": [],
   "source": [
    "fig, ax = plt.subplots(1, 1, tight_layout=True)\n",
    "dstr = datetime.datetime.today().strftime('%y%m%d')\n",
    "fsize = 20\n",
    "lsize = 14\n",
    "cycle = plt.rcParams['axes.prop_cycle'].by_key()['color']\n",
    "clen = len(cycle)\n",
    "idx_start = 4\n",
    "Nmodes = 2\n",
    "for k in range(Nmodes):\n",
    "    wppp = np.array([wk[f'LJ{key}'][k] for key in Ljstrs])\n",
    "    ax.plot(Lj_vals, wppp,\n",
    "            'o-', label=r'Mode-%d' % (k + 1),\n",
    "            color=cycle[k%clen])\n",
    "    #ax.plot(LJs/1e-9, [wp0[idx]/(2*np.pi*fscale)] * len(LJs),\n",
    "    #        '--', color=cycle[idx%clen])\n",
    "ax.set_xlabel(r'$L_J$ [nH]', fontsize=fsize)\n",
    "ax.set_ylabel(r'Eigenfrequencies [GHz]', fontsize=fsize)\n",
    "set_xaxis_rot(ax, 45)\n",
    "#ax.set_ylim([5.88, 5.95])\n",
    "set_axes_fonts(ax, fsize)\n",
    "leg = set_leg_outside(ax, lsize)\n",
    "ax.set_xscale('log')\n",
    "fig.savefig(f'../figs/modes_bare_remesh2_nondegen_{dstr}.pdf', \n",
    "            format='pdf', bbox_extra_artists=(leg, ), bbox_inches='tight',\n",
    "           transparent=True)"
   ]
  },
  {
   "cell_type": "markdown",
   "metadata": {},
   "source": [
    "## Q of the modes"
   ]
  },
  {
   "cell_type": "code",
   "execution_count": null,
   "metadata": {},
   "outputs": [],
   "source": [
    "fig, ax = plt.subplots(1, 1, tight_layout=True)\n",
    "lsize = 14\n",
    "fscale = 1e9\n",
    "fscale2 = 1e6\n",
    "cycle = plt.rcParams['axes.prop_cycle'].by_key()['color']\n",
    "clen = len(cycle)\n",
    "T1trans = 100\n",
    "for k in range(Nmodes):\n",
    "    Q = np.array([Qk[f'LJ{key}'][k] for key in Ljstrs])\n",
    "    wppp = 2*np.pi*np.array([wk[f'LJ{key}'][k] for key in Ljstrs])*fscale\n",
    "    T1tot = T1nom * T1trans / (T1nom + T1trans)\n",
    "    ax.plot(Lj_vals, Q,\n",
    "            'o-', label=r'Mode-%d' % (k + 1),\n",
    "            color=cycle[k%clen])\n",
    "ax.set_xlabel(r'$L_J$ [nH]', fontsize=fsize)\n",
    "ax.set_ylabel(r'$Q$', fontsize=fsize)\n",
    "# ax.plot(LJs/1e-9, np.ones(LJs.size) * dw/(fscale2), 'k--')\n",
    "set_xaxis_rot(ax, 45)\n",
    "set_axes_fonts(ax, fsize)\n",
    "set_leg_outside(ax, lsize)\n",
    "#ax.set_ylim([1e-2, 350])\n",
    "#ax.set_xlim([0.5, 2.2])\n",
    "ax.set_xscale('log')\n",
    "ax.set_yscale('log')\n",
    "fig.savefig(f'../figs/T1_modes_coupled_remesh2_eigenmode_{dstr}.pdf',\n",
    "            format='pdf')"
   ]
  },
  {
   "cell_type": "markdown",
   "metadata": {},
   "source": [
    "# Plot the eigenmode $T_1$ values"
   ]
  },
  {
   "cell_type": "code",
   "execution_count": null,
   "metadata": {},
   "outputs": [],
   "source": [
    "fig, ax = plt.subplots(1, 1, tight_layout=True)\n",
    "lsize = 14\n",
    "fscale = 1e9\n",
    "fscale2 = 1e6\n",
    "cycle = plt.rcParams['axes.prop_cycle'].by_key()['color']\n",
    "clen = len(cycle)\n",
    "T1trans = 100\n",
    "for k in range(Nmodes):\n",
    "    Q = np.array([Qk[f'LJ{key}'][k] for key in Ljstrs])\n",
    "    wppp = 2*np.pi*np.array([wk[f'LJ{key}'][k] for key in Ljstrs])*fscale\n",
    "    T1nom = 1e6 * Q / wppp\n",
    "    T1tot = T1nom * T1trans / (T1nom + T1trans)\n",
    "    ax.plot(Lj_vals, T1nom,\n",
    "            'o-', label=r'Mode-%d' % (k + 1),\n",
    "            color=cycle[k%clen])\n",
    "ax.set_xlabel(r'$L_J$ [nH]', fontsize=fsize)\n",
    "ax.set_ylabel(r'$T_1$ [$\\mu$s]', fontsize=fsize)\n",
    "# ax.plot(LJs/1e-9, np.ones(LJs.size) * dw/(fscale2), 'k--')\n",
    "set_xaxis_rot(ax, 45)\n",
    "set_axes_fonts(ax, fsize)\n",
    "set_leg_outside(ax, lsize)\n",
    "#ax.set_ylim([1e-2, 350])\n",
    "#ax.set_xlim([0.5, 2.2])\n",
    "ax.set_xscale('log')\n",
    "ax.set_yscale('log')\n",
    "fig.savefig(f'../figs/T1_modes_coupled_remesh2_eigenmode_{dstr}.pdf',\n",
    "            format='pdf')"
   ]
  },
  {
   "cell_type": "markdown",
   "metadata": {},
   "source": [
    "## Compute the $g_{kk'}$ and $\\widetilde{\\omega}_{k}$ from $A_{kk'}$"
   ]
  },
  {
   "cell_type": "code",
   "execution_count": null,
   "metadata": {},
   "outputs": [],
   "source": [
    "\"\"\"\n",
    "Compute the couplings from Akk, wk values\n",
    "\"\"\"\n",
    "# Iterate over all modes and inductances\n",
    "gkk = {}\n",
    "idx_start = 2; idx_stop = -1\n",
    "Nmodes = 4\n",
    "for k in range(Nmodes):\n",
    "    for kp in range(Nmodes):\n",
    "        for idx, LJ in enumerate(Lj_vals):\n",
    "            \n",
    "            # Outside sqrt(wk wk') factor\n",
    "            wkey = f'LJ{Ljstrs[idx]}'\n",
    "            wkwkp = np.sqrt(wk[wkey][k] * wk[wkey][kp])\n",
    "            \n",
    "            for idx0, LJ0 in enumerate(Lj_vals):\n",
    "                \n",
    "                # Key to index gkk'\n",
    "                gkey = f'kkp{k+1}_{kp+1}_LJLJp_{Ljstrs[idx]}_{Ljstrs[idx0]}'\n",
    "                Akkpsum = 0\n",
    "                print(f'Computing g at {gkey}, wkwkp: {wkwkp:.2e} ...')\n",
    "                for kpp in range(Nmodes):\n",
    "                    key = f'kkp{kpp+1}_{k+1}_LJLJp_{Ljstrs[idx]}_{Ljstrs[idx0]}'\n",
    "                    keyp = f'kkp{kpp+1}_{kp+1}_LJLJp_{Ljstrs[idx]}_{Ljstrs[idx0]}'\n",
    "                    Akppk = Akkp[key]\n",
    "                    Akppkp = Akkp[keyp]\n",
    "                    Akkpsum += Akppk * Akppkp\n",
    "\n",
    "                # Store the results\n",
    "                if (k != kp):\n",
    "                    gkk.update({gkey : wkwkp * Akkpsum})"
   ]
  },
  {
   "cell_type": "code",
   "execution_count": null,
   "metadata": {},
   "outputs": [],
   "source": [
    "'kkp1_1_LJLJp_0p10000000000000001nH_0p10000000000000001nH' in gkk.keys()"
   ]
  },
  {
   "cell_type": "markdown",
   "metadata": {},
   "source": [
    "### Collect the results as a matrix"
   ]
  },
  {
   "cell_type": "code",
   "execution_count": null,
   "metadata": {},
   "outputs": [],
   "source": [
    "gkk_matrix = np.zeros([Nmodes, Nmodes, len(Lj_vals), len(Lj_vals)])\n",
    "for k in range(Nmodes):\n",
    "    for kp in range(Nmodes):\n",
    "        for idx, LJ in enumerate(Lj_vals):\n",
    "            for idx0, LJ0 in enumerate(Lj_vals):\n",
    "                if k != kp:\n",
    "                    gkey = f'kkp{k+1}_{kp+1}_LJLJp_{Ljstrs[idx]}_{Ljstrs[idx0]}'\n",
    "                    gkk_matrix[k, kp, idx, idx0] = gkk[gkey]"
   ]
  },
  {
   "cell_type": "code",
   "execution_count": null,
   "metadata": {},
   "outputs": [],
   "source": [
    "gkk_matrix"
   ]
  },
  {
   "cell_type": "code",
   "execution_count": null,
   "metadata": {},
   "outputs": [],
   "source": [
    "\"\"\"\n",
    "Compute the couplings from Akk, wk values\n",
    "\"\"\"\n",
    "# Iterate over all modes and inductances\n",
    "wkt = {}\n",
    "idx_start = 2; idx_stop = -1\n",
    "Nmodes = 4\n",
    "for k in range(Nmodes):\n",
    "    for idx, LJ in enumerate(Lj_vals):\n",
    "\n",
    "        # Outside wk factor\n",
    "        wkey = f'LJ{Ljstrs[idx]}'\n",
    "        wkp = wk[wkey][k]\n",
    "\n",
    "        for idx0, LJ0 in enumerate(Lj_vals):\n",
    "\n",
    "            # Key to index gkk'\n",
    "            wwkey = f'kkp{k+1}_LJLJp_{Ljstrs[idx]}_{Ljstrs[idx0]}'\n",
    "            Akkpsum = 0\n",
    "            # print(f'Computing wkp at {wwkey}, wkwkp: {wkp:.2e} ...')\n",
    "            for kpp in range(Nmodes):\n",
    "                key = f'kkp{kpp+1}_{k+1}_LJLJp_{Ljstrs[idx]}_{Ljstrs[idx0]}'\n",
    "                Akppk = Akkp[key]\n",
    "                Akkpsum += Akppk**2\n",
    "\n",
    "            # Store the results\n",
    "            wkt.update({wwkey : wkp * Akkpsum})"
   ]
  },
  {
   "cell_type": "code",
   "execution_count": null,
   "metadata": {},
   "outputs": [],
   "source": [
    "len(wkt)"
   ]
  },
  {
   "cell_type": "code",
   "execution_count": null,
   "metadata": {},
   "outputs": [],
   "source": [
    "wkt_matrix = np.zeros([Nmodes, len(Lj_vals), len(Lj_vals)])"
   ]
  },
  {
   "cell_type": "markdown",
   "metadata": {},
   "source": [
    "## Compute the $\\widetilde{\\omega}_k(L_J, L_{J_0})$ matrix"
   ]
  },
  {
   "cell_type": "code",
   "execution_count": null,
   "metadata": {},
   "outputs": [],
   "source": [
    "for k in range(Nmodes):\n",
    "    for idx, LJ in enumerate(Lj_vals):\n",
    "        for idx0, LJ0 in enumerate(Lj_vals):\n",
    "            wwkkey = f'kkp{k+1}_LJLJp_{Ljstrs[idx]}_{Ljstrs[idx0]}'\n",
    "            wkt_matrix[k, idx, idx0] = wkt[wwkkey]"
   ]
  },
  {
   "cell_type": "markdown",
   "metadata": {},
   "source": [
    "### Sort the frequencies for each $(L_J, L_{J_0})$ pair"
   ]
  },
  {
   "cell_type": "code",
   "execution_count": null,
   "metadata": {},
   "outputs": [],
   "source": [
    "wkt_matrix_sorted = np.sort(wkt_matrix, axis=0)\n",
    "wkt_sort_idx = np.argsort(wkt_matrix, axis=0)\n",
    "\n",
    "gkk_sort_idx = wkt_sort_idx[np.newaxis, :, :, :]"
   ]
  },
  {
   "cell_type": "code",
   "execution_count": null,
   "metadata": {},
   "outputs": [],
   "source": [
    "gkk_sort_idx.shape"
   ]
  },
  {
   "cell_type": "code",
   "execution_count": null,
   "metadata": {},
   "outputs": [],
   "source": [
    "gkk_matrix_sorted = gkk_matrix[gkk_sort_idx]"
   ]
  },
  {
   "cell_type": "code",
   "execution_count": null,
   "metadata": {},
   "outputs": [],
   "source": [
    "gkk_matrix_sorted.shape"
   ]
  },
  {
   "cell_type": "markdown",
   "metadata": {},
   "source": [
    "## Plot the sorted $\\widetilde{\\omega}_k(L_J, L_{J_0})$ values"
   ]
  },
  {
   "cell_type": "code",
   "execution_count": null,
   "metadata": {},
   "outputs": [],
   "source": [
    "cycle = plt.rcParams['axes.prop_cycle'].by_key()['color']\n",
    "clen = len(cycle)\n",
    "\n",
    "for idx_fixed in range(len(Lj_vals)):\n",
    "    print(f'LJ0-{idx_fixed} ...')\n",
    "    fig, ax = plt.subplots(1, 1, tight_layout=True)\n",
    "    for k in range(Nmodes):\n",
    "        ax.plot(Lj_vals, wkt_matrix_sorted[k, :, idx_fixed],\n",
    "            'o-', label=r'Mode-%d' % (k + 1),\n",
    "            color=cycle[k%clen])\n",
    "    ax.set_xlabel(r'$L_J$ [nH]', fontsize=fsize)\n",
    "    ax.set_ylabel(r'$\\widetilde{\\omega}/2\\pi$ [GHz]', fontsize=fsize)\n",
    "    set_xaxis_rot(ax, 45)\n",
    "    set_axes_fonts(ax, fsize)\n",
    "    leg = set_leg_outside(ax, lsize)\n",
    "    ax.set_xscale('log')\n",
    "    fig.savefig(f'../figs/modes_eigenmode_remesh2_modified_LJ0_{Ljstrs[idx_fixed]}_{dstr}.pdf', \n",
    "                format='pdf', bbox_extra_artists=(leg, ), bbox_inches='tight',\n",
    "               transparent=True)"
   ]
  },
  {
   "cell_type": "code",
   "execution_count": null,
   "metadata": {},
   "outputs": [],
   "source": [
    "'kkp1_LJLJp_0p10000000000000001nH_56p234132519034901nH' in wkt.keys()"
   ]
  },
  {
   "cell_type": "markdown",
   "metadata": {},
   "source": [
    "## Plot $g_{k_1,k_2}$ vs. $L_J, L_{J_0}$"
   ]
  },
  {
   "cell_type": "code",
   "execution_count": null,
   "metadata": {},
   "outputs": [],
   "source": [
    "gmax = np.max(np.array(list(gkk.values()))) * 1e3\n",
    "gmin = np.min(np.array(list(gkk.values()))) * 1e3"
   ]
  },
  {
   "cell_type": "code",
   "execution_count": null,
   "metadata": {},
   "outputs": [],
   "source": [
    "gmax"
   ]
  },
  {
   "cell_type": "code",
   "execution_count": null,
   "metadata": {},
   "outputs": [],
   "source": [
    "gmin"
   ]
  },
  {
   "cell_type": "code",
   "execution_count": null,
   "metadata": {},
   "outputs": [],
   "source": [
    "#plot_2d_cmap(ydata/ymax,\n",
    "#    zdata/zmax,\n",
    "for k1 in [1,2,3,4]:\n",
    "    for k2 in [1, 2, 3, 4]:\n",
    "        if k1 != k2:\n",
    "            gkk12 = np.array([[gkk[f'kkp{k1}_{k2}_LJLJp_{Ljstrs[idx]}_{Ljstrs[idx0]}'] \\\n",
    "                               for idx in range(len(Lj_vals))] \\\n",
    "                               for idx0 in range(len(Lj_vals))])*1e3\n",
    "            plot_2d_cmap(# LJs/1e-9,\n",
    "                #Lj_vals[idx_start:idx_stop],\n",
    "                #Lj_vals[idx_start:idx_stop],\n",
    "                Lj_vals,\n",
    "                Lj_vals,\n",
    "                gkk12,\n",
    "                # gkk_matrix_sorted[k1, k2, :, :],\n",
    "                f'../figs/g{k1}_{k2}_remesh2_sorted_vs_LJLJ0_{dd}.pdf',\n",
    "                xstr=r'$L_{J_0}$ [nH]',\n",
    "                ystr=r'$L_{J}$ [nH]',\n",
    "                tstr='',\n",
    "                xyscales={'x' : 'log', 'y' : 'log'},\n",
    "                cbar_str=r'$g_{%d%d}$ [MHz]' % (k1, k2),\n",
    "                interp_zeros=False,\n",
    "                interp_std_dev=3,\n",
    "                image_rot_angle=0,\n",
    "                norm_type='ref',\n",
    "                zref=[gmin, gmax],\n",
    "                fsize=40,\n",
    "                tsize=46)"
   ]
  },
  {
   "cell_type": "markdown",
   "metadata": {},
   "source": [
    "## Plot $B_{k_1,k_2}(L_{J}, L_{J_0})$ vs. $L_J, L_{J_0}$"
   ]
  },
  {
   "cell_type": "code",
   "execution_count": null,
   "metadata": {},
   "outputs": [],
   "source": [
    "# Amax = np.max(list(Akkp.values()))\n",
    "# Amin = np.min(list(Akkp.values()))\n",
    "\n",
    "Bmax = np.max(np.abs(list(Bkkp.values())))\n",
    "Bmin = np.min(np.abs(list(Bkkp.values())))"
   ]
  },
  {
   "cell_type": "code",
   "execution_count": null,
   "metadata": {},
   "outputs": [],
   "source": [
    "Ljstrs"
   ]
  },
  {
   "cell_type": "code",
   "execution_count": null,
   "metadata": {},
   "outputs": [],
   "source": [
    "Bmin, Bmax"
   ]
  },
  {
   "cell_type": "code",
   "execution_count": null,
   "metadata": {},
   "outputs": [],
   "source": [
    "Amax"
   ]
  },
  {
   "cell_type": "code",
   "execution_count": null,
   "metadata": {},
   "outputs": [],
   "source": [
    "Amin"
   ]
  },
  {
   "cell_type": "code",
   "execution_count": null,
   "metadata": {},
   "outputs": [],
   "source": [
    "for k1 in range(1, Nmodes+1):\n",
    "    for k2 in range(1, Nmodes+1):\n",
    "\n",
    "        Akk12 = np.array([[Bkkp[f'kkp{k1}_{k2}_LJLJp_{Ljstrs[idx]}_{Ljstrs[idx0]}'] \\\n",
    "                           for idx in range(len(Lj_vals))] \\\n",
    "                           for idx0 in range(len(Lj_vals))])\n",
    "        \n",
    "        \n",
    "        plot_2d_cmap(\n",
    "            Lj_vals,\n",
    "            Lj_vals,\n",
    "            np.abs(Akk12),\n",
    "            f'../figs/B{k1}_{k2}_two_post_coupler_only_vs_LJLJ0_{dd}.pdf',\n",
    "            xstr=r'$L_{J_0}$ [nH]',\n",
    "            ystr=r'$L_{J}$ [nH]',\n",
    "            tstr='',\n",
    "            cmap=cm.viridis,\n",
    "            xyscales={'x' : 'log', 'y' : 'log'},\n",
    "            cbar_str=r'$|B_{%d%d}|$' % (k1, k2),\n",
    "            interp_zeros=False,\n",
    "            interp_std_dev=3,\n",
    "            image_rot_angle=0,\n",
    "            norm_type='log',\n",
    "            zref=[Bmin, Bmax],\n",
    "            fsize=40,\n",
    "            tsize=46)"
   ]
  },
  {
   "cell_type": "code",
   "execution_count": null,
   "metadata": {},
   "outputs": [],
   "source": [
    "Amax = np.max(np.abs(list(Akkp.values())))\n",
    "Amin = np.min(np.abs(list(Akkp.values())))\n",
    "for k1 in range(1, Nmodes+1):\n",
    "    for k2 in range(1, Nmodes+1):\n",
    "\n",
    "        Akk12 = np.array([[Akkp[f'kkp{k1}_{k2}_LJLJp_{Ljstrs[idx]}_{Ljstrs[idx0]}'] \\\n",
    "                           for idx in range(len(Lj_vals))] \\\n",
    "                           for idx0 in range(len(Lj_vals))])\n",
    "        \n",
    "        \n",
    "        plot_2d_cmap(\n",
    "            Lj_vals,\n",
    "            Lj_vals,\n",
    "            np.abs(Akk12),\n",
    "            f'../figs/A{k1}_{k2}_two_post_coupler_only_vs_LJLJ0_{dd}.pdf',\n",
    "            xstr=r'$L_{J_0}$ [nH]',\n",
    "            ystr=r'$L_{J}$ [nH]',\n",
    "            tstr='',\n",
    "            cmap=cm.viridis,\n",
    "            xyscales={'x' : 'log', 'y' : 'log'},\n",
    "            cbar_str=r'$|A_{%d%d}|$' % (k1, k2),\n",
    "            interp_zeros=False,\n",
    "            interp_std_dev=3,\n",
    "            image_rot_angle=0,\n",
    "            norm_type='log',\n",
    "            zref=[Amin, Amax],\n",
    "            fsize=40,\n",
    "            tsize=46)"
   ]
  },
  {
   "cell_type": "code",
   "execution_count": null,
   "metadata": {},
   "outputs": [],
   "source": [
    "Imax = np.max(np.abs(Ikkp))\n",
    "Imin = np.min(np.abs(Ikkp))\n",
    "for k1 in range(Nmodes):\n",
    "    for k2 in range(Nmodes):\n",
    "\n",
    "        Akk12 = Ikkp[:, :, k1, k2]\n",
    "        \n",
    "        plot_2d_cmap(\n",
    "            Lj_vals,\n",
    "            Lj_vals,\n",
    "            np.abs(Akk12),\n",
    "            f'../figs/I{k1}_{k2}_two_post_coupler_only_vs_LJLJ0_{dd}.pdf',\n",
    "            xstr=r'$L_{J_0}$ [nH]',\n",
    "            ystr=r'$L_{J}$ [nH]',\n",
    "            tstr='',\n",
    "            cmap=cm.viridis,\n",
    "            xyscales={'x' : 'log', 'y' : 'log'},\n",
    "            cbar_str=r'$|I_{%d}I_{%d}|$' % (k1+1, k2+1),\n",
    "            interp_zeros=False,\n",
    "            interp_std_dev=3,\n",
    "            image_rot_angle=0,\n",
    "            norm_type='log',\n",
    "            zref=[Imin, Imax],\n",
    "            fsize=40,\n",
    "            tsize=46)\n",
    "        "
   ]
  },
  {
   "cell_type": "code",
   "execution_count": null,
   "metadata": {},
   "outputs": [],
   "source": [
    "wmax = np.max(np.array(list(wkt.values())))\n",
    "wmin = np.min(np.array(list(wkt.values())))\n",
    "\n",
    "wmax\n",
    "\n",
    "wmin\n",
    "\n",
    "#plot_2d_cmap(ydata/ymax,\n",
    "#    zdata/zmax,\n",
    "# for k1 in [1,2,3,4]:\n",
    "for k1 in range(Nmodes):\n",
    "        # wkk12 = np.array([[wkt[f'kkp{k1}_LJLJp_{Ljstrs[idx]}_{Ljstrs[idx0]}'] \\\n",
    "        #                   for idx in range(len(Lj_vals))] \\\n",
    "        #                   for idx0 in range(len(Lj_vals))])\n",
    "        plot_2d_cmap(# LJs/1e-9,\n",
    "            Lj_vals,\n",
    "            Lj_vals,\n",
    "            #wkk12,\n",
    "            wkt_matrix_sorted[k1, :, :],\n",
    "            # f'../figs/w_{k1}_vs_LJLJ0_{dd}.pdf',\n",
    "            f'../figs/w_{k1+1}_remesh2_sorted_vs_LJLJ0_{dd}.pdf',\n",
    "            xstr=r'$L_{J_0}$ [nH]',\n",
    "            ystr=r'$L_{J}$ [nH]',\n",
    "            tstr='',\n",
    "            xyscales={'x' : 'log', 'y' : 'log'},\n",
    "            cbar_str=r'$\\omega_{%d}$ [GHz]' % (k1),\n",
    "            interp_zeros=False,\n",
    "            interp_std_dev=3,\n",
    "            image_rot_angle=0,\n",
    "            norm_type='ref',\n",
    "            zref=[wmin, wmax],\n",
    "            fsize=40,\n",
    "            tsize=46)\n",
    "\n",
    "## Compute the derivatives to estimate the driven coupling strengths\n",
    "\n",
    "dLJ = 1 # 10 nH as a possible driving point\n",
    "for k1 in [1,2,3,4]:\n",
    "    for k2 in [1, 2, 3, 4]:\n",
    "        if k1 != k2:\n",
    "            gkk12 = np.array([[gkk[f'kkp{k1}_{k2}_LJLJp_{Ljstrs[idx]}_{Ljstrs[idx0]}'] \\\n",
    "                               for idx in range(len(Lj_vals))] \\\n",
    "                               for idx0 in range(len(Lj_vals))])\n",
    "            gkk12_grad = np.array([np.gradient(gkk12[:, j], Lj_vals) for j in range(len(Lj_vals))])\n",
    "            epskk = gkk12_grad * dLJ * 1e3\n",
    "            # Write the results to file\n",
    "            plot_2d_cmap(# LJs/1e-9,\n",
    "            Lj_vals,\n",
    "            Lj_vals,\n",
    "            epskk,\n",
    "            f'../figs/eps_{k1}_{k2}_remesh2_vs_LJLJ0_{dd}.pdf',\n",
    "            xstr=r'$L_{J_0}$ [nH]',\n",
    "            ystr=r'$L_{J}$ [nH]',\n",
    "            tstr='',\n",
    "            xyscales={'x' : 'log', 'y' : 'log'},\n",
    "            cbar_str=r'$\\epsilon_{g_{%d %d}}$ [MHz]' % (k1, k2),\n",
    "            interp_zeros=False,\n",
    "            interp_std_dev=3,\n",
    "            image_rot_angle=0,\n",
    "            norm_type='ref',\n",
    "            zref=[gmin, gmax],\n",
    "            fsize=40,\n",
    "            tsize=46)\n",
    "\n",
    "## Plot $g_{12}$ for a fixed $L_{J_0}$\n",
    "\n",
    "LJidx0 = 0\n",
    "dLJ = 10 # 10 nH as a possible driving point\n",
    "k1 = 1; k2 = 2\n",
    "\n",
    "fig, ax = plt.subplots(1, 1, tight_layout=True)\n",
    "dstr = datetime.datetime.today().strftime('%y%m%d')\n",
    "fsize = 20\n",
    "lsize = 14\n",
    "cycle = plt.rcParams['axes.prop_cycle'].by_key()['color']\n",
    "clen = len(cycle)\n",
    "idx_start = 4\n",
    "cidx = 0\n",
    "for idx0 in [8, 10, 12, 14]:\n",
    "    gkk12 = np.array([gkk[f'kkp{k1}_{k2}_LJLJp_{Ljstrs[idx]}_{Ljstrs[LJidx0]}'] \\\n",
    "                               for idx in range(len(Lj_vals))])\n",
    "    gkk12_grad = np.gradient(gkk12, Lj_vals)\n",
    "    epskk = gkk12_grad * Lj_vals[idx0] * 1e3\n",
    "    ax.plot(Lj_vals, epskk / 2,\n",
    "        'o-', color=cycle[cidx%clen],\n",
    "           label=r'$\\delta L_{J}$ = %.2f nH' % Lj_vals[idx0])\n",
    "    cidx += 1\n",
    "\n",
    "ax.axhline(y=0, color='k', ls='--')\n",
    "ax.set_title(r'$L_{J_0} = %.2f$ nH' % Lj_vals[LJidx0],\n",
    "             fontsize=fsize)\n",
    "ax.set_xlabel(r'$L_J$ [nH]', fontsize=fsize)\n",
    "ax.set_ylabel(r'$\\frac{1}{2}\\epsilon_{g_{%d%d}}$ [MHz]' % (k1, k2), fontsize=fsize)\n",
    "set_xaxis_rot(ax, 45)\n",
    "#ax.set_ylim([-0.5, 1.5])\n",
    "set_axes_fonts(ax, fsize)\n",
    "ax.set_xscale('log')\n",
    "leg = set_leg_outside(ax, lsize)\n",
    "fig.savefig(f'../figs/epsg_{k1}{k2}_bbq_1_10_100nH_remesh2_{dstr}.pdf', \n",
    "            bbox_extra_artists=(leg, ), bbox_inches='tight',\n",
    "            format='pdf', transparent=True)"
   ]
  },
  {
   "cell_type": "markdown",
   "metadata": {},
   "source": [
    "### Get the interpolating sweep data to estimate resonance positions"
   ]
  },
  {
   "cell_type": "code",
   "execution_count": null,
   "metadata": {},
   "outputs": [],
   "source": [
    "fsweep_interp = HFSS.HfssFrequencySweep(DM_setup, 'Interpolating_0')\n",
    "\n",
    "report_im = fsweep_interp.create_report('Interpolating_0', expr='im(Y(1,1))')\n",
    "yim = report_im.get_arrays()\n",
    "\n",
    "# Identify the zero crossings as resonances\n",
    "zero_xing_idxs = np.where(np.diff(np.sign(yim[1,:])) > 0)[0]\n",
    "resonances = yim[0,zero_xing_idxs]\n",
    "\n",
    "print(f'resonances: {resonances}')"
   ]
  },
  {
   "cell_type": "code",
   "execution_count": null,
   "metadata": {},
   "outputs": [],
   "source": [
    "# Plot the results, save the figure(s)\n",
    "fsize = 20\n",
    "fscale = 1e9\n",
    "#wp, Lp, Cp, Qp, fcpy, ycpy, yp, pl, pc, gD, chippp = \\\n",
    "#get_wp_Cp_Lp(fdata, ydata, LJ0=None, CJ0=None, fscale=1e9, use_Zq=False)\n",
    "\n",
    "fig, ax = plt.subplots(1, 1, tight_layout=True)\n",
    "ax.plot(yim[0,:], yim[1,:], '-', label='Zero Crossings')\n",
    "ax.plot(resonances,\n",
    "        yim[1,zero_xing_idxs],\n",
    "        'o', label='Zero Crossings')\n",
    "# ax.set_xlim([5.8, 6.1])\n",
    "ax.set_ylim([-0.1, 0.1])\n",
    "ax.axhline(y=0, ls='--', color='k')\n",
    "# ax.plot(fdata, ydata.imag)\n",
    "set_xaxis_rot(ax, 45)\n",
    "ax.set_ylabel(r'Im $Y(\\omega)$', fontsize=fsize)\n",
    "ax.set_xlabel(r'Frequency [GHz]', fontsize=fsize)\n",
    "set_axes_fonts(ax, fsize)"
   ]
  },
  {
   "cell_type": "code",
   "execution_count": null,
   "metadata": {},
   "outputs": [],
   "source": [
    "resonances"
   ]
  },
  {
   "cell_type": "markdown",
   "metadata": {},
   "source": [
    "#### Bypass the interpolating sweep if frequencies already known"
   ]
  },
  {
   "cell_type": "code",
   "execution_count": null,
   "metadata": {},
   "outputs": [],
   "source": [
    "# resonances = np.array([ 6.0928,  6.1684,  6.1692,  6.2692,  7.3356,  7.3816,  7.4712,\n",
    "#        7.506 ,  9.3064,  9.3292,  9.588 ,  9.6076, 11.5804, 11.6684,\n",
    "#       11.7568, 11.95  , 12.604 , 12.6944, 12.8012, 12.8048])\n",
    "# resonances = np.array([ 6.0928,  6.1692,  6.2692,  7.3816,  7.4712,\n",
    "#        7.506 , 9.3292,  9.588 ,  9.6076, 11.5804, \n",
    "#       11.7568, 11.95, 12.6944, 12.8048])\n",
    "\n",
    "# Use half the minimum spacing between resonances as a the bandwidth\n",
    "Nmodes = 10\n",
    "# resonances = resonances[0:Nmodes]\n",
    "df = 0.8 * np.diff(np.hstack((f1, resonances, f2))).min()"
   ]
  },
  {
   "cell_type": "code",
   "execution_count": null,
   "metadata": {},
   "outputs": [],
   "source": [
    "df"
   ]
  },
  {
   "cell_type": "markdown",
   "metadata": {},
   "source": [
    "### Discrete sweep to resolve resonances"
   ]
  },
  {
   "cell_type": "code",
   "execution_count": null,
   "metadata": {},
   "outputs": [],
   "source": [
    "if solution_type == 'driven_modal':\n",
    "    # Setup the driven-modal simulation\n",
    "    if not DM_setup:\n",
    "        DM_setup = EM_design.create_dm_setup()\n",
    "        \n",
    "    # Discrete count\n",
    "    count2 = 201\n",
    "    count1 = 51\n",
    "    \n",
    "    ## This should resolve the issue of overlapping sweeps\n",
    "    ## We advance the left boundary by a small amount away\n",
    "    ## from the previous right boundary\n",
    "    dff = df / count\n",
    "    \n",
    "    # Identify resonances from interpolating sweep manually (for now)\n",
    "    ## Start at the first sweep frequency\n",
    "    f1r = f1\n",
    "    \n",
    "    # df  = 0.01 # 10 MHz window\n",
    "    # Iteratve over all resonances and shift the discrete\n",
    "    # sweep window from f1r to f2r\n",
    "    rlen = len(resonances)\n",
    "    fdata = np.array([])\n",
    "    ydata = np.array([])\n",
    "    for ridx, fr in enumerate(resonances):\n",
    "        try:\n",
    "            # First sweep from f1 to fr_j - df / 2\n",
    "            f2r = fr - df / 2\n",
    "            print(f'[{2*ridx} / {2*rlen}] Discrete sweep from {f1r} to {f2r} GHz ...')\n",
    "            DM_setup.insert_sweep(f1r, f2r,\n",
    "                                  count=count1,\n",
    "                                  save_fields=True,\n",
    "                                  name=f'Discrete_Sweep_{2*ridx}',\n",
    "                                  type='Discrete')\n",
    "            DM_setup.solve()\n",
    "\n",
    "            # Get data from first sweep\n",
    "            print(f'Creating even reports ...')\n",
    "            fsweep = HFSS.HfssFrequencySweep(DM_setup, f'Discrete_Sweep_{2*ridx}')\n",
    "            # report_re = fsweep.create_report(f'Discrete_Sweep_{2*ridx}', expr='re(Y(LumpPort,LumpPort))')\n",
    "            # report_im = fsweep.create_report(f'Discrete_Sweep_{2*ridx}', expr='im(Y(LumpPort,LumpPort))')\n",
    "            report_re = fsweep.create_report(f'Discrete_Sweep_{2*ridx}', expr='re(Y(1, 1))')\n",
    "            report_im = fsweep.create_report(f'Discrete_Sweep_{2*ridx}', expr='im(Y(1, 1))')\n",
    "            yre = report_re.get_arrays()\n",
    "            yim = report_im.get_arrays()\n",
    "            fdata = np.hstack((fdata, yre[0,:]))\n",
    "            ydata = np.hstack((ydata, yre[1,:]+1j*yim[1,:]))    \n",
    "\n",
    "            # Backup data to file\n",
    "            print(f'Backing up even reports ...')\n",
    "            with open(f'../data/ydata_{dd}_sweep_{2*ridx}.csv', 'w') as fid:\n",
    "                fid.write('\\n'.join([f'{ff}, {yi}, {yr}'\\\n",
    "                                     for ff, yi, yr in zip(yre[0,:], yre[1,:], yim[1,:])]))\n",
    "\n",
    "            # Second sweep from fr_j - df / 2 to fr_j + df / 2\n",
    "            f1r = f2r + dff\n",
    "            f2r = fr + df / 2\n",
    "            print(f'[{2*ridx+1} / {2*rlen}] Discrete sweep from {f1r} to {f2r} GHz ...')\n",
    "            DM_setup.insert_sweep(f1r, f2r,\n",
    "                                  count=count2,\n",
    "                                  save_fields=True,\n",
    "                                  name=f'Discrete_Sweep_{2*ridx+1}',\n",
    "                                  type='Discrete')\n",
    "            DM_setup.solve()\n",
    "\n",
    "            # Get data from first sweep\n",
    "            print(f'Creating odd reports ...')\n",
    "            fsweep = HFSS.HfssFrequencySweep(DM_setup, f'Discrete_Sweep_{2*ridx+1}')\n",
    "            # report_re = fsweep.create_report(f'Discrete_Sweep_{2*ridx+1}', expr='re(Y(LumpPort,LumpPort))')\n",
    "            # report_im = fsweep.create_report(f'Discrete_Sweep_{2*ridx+1}', expr='im(Y(LumpPort,LumpPort))')\n",
    "            report_re = fsweep.create_report(f'Discrete_Sweep_{2*ridx+1}', expr='re(Y(1, 1))')\n",
    "            report_im = fsweep.create_report(f'Discrete_Sweep_{2*ridx+1}', expr='im(Y(1, 1))')\n",
    "            yre = report_re.get_arrays()\n",
    "            yim = report_im.get_arrays()\n",
    "            fdata = np.hstack((fdata, yre[0,:]))\n",
    "            ydata = np.hstack((ydata, yre[1,:]+1j*yim[1,:]))    \n",
    "\n",
    "            # Backup data to file\n",
    "            print(f'Backing up even reports ...')\n",
    "            with open(f'../data/ydata_{dd}_sweep_{2*ridx+1}.csv', 'w') as fid:\n",
    "                fid.write('\\n'.join([f'{ff}, {yi}, {yr}'\\\n",
    "                                     for ff, yi, yr in zip(yre[0,:], yre[1,:], yim[1,:])]))\n",
    "\n",
    "            # Next sweep from fr_j + df / 2 to fr_j+1 - df / 2\n",
    "            f1r = f2r + dff\n",
    "    \n",
    "        except Exception as e:\n",
    "            print(f'Exception on run {ridx}:\\n{e}')\n",
    "            continue\n",
    "    \n",
    "    # Last frequency band from fr_j + df / 2 to f2\n",
    "    f2r = f2\n",
    "    print(f'[{2*rlen} / {2*rlen}] Discrete sweep from {f1r} to {f2r} GHz ...')\n",
    "    DM_setup.insert_sweep(f1r, f2r,\n",
    "                          count=count1,\n",
    "                          save_fields=True,\n",
    "                          name=f'Discrete_Sweep_{2*rlen}',\n",
    "                          type='Discrete')\n",
    "    DM_setup.solve()\n",
    "    \n",
    "    # Get data from first sweep\n",
    "    print(f'Creating last report ...')\n",
    "    fsweep = HFSS.HfssFrequencySweep(DM_setup, f'Discrete_Sweep_{2*rlen}')\n",
    "    # report_re = fsweep.create_report(f'Discrete_Sweep_{2*rlen}', expr='re(Y(LumpPort,LumpPort))')\n",
    "    # report_im = fsweep.create_report(f'Discrete_Sweep_{2*rlen}', expr='im(Y(LumpPort,LumpPort))')\n",
    "    report_re = fsweep.create_report(f'Discrete_Sweep_{2*rlen}', expr='re(Y(1, 1))')\n",
    "    report_im = fsweep.create_report(f'Discrete_Sweep_{2*rlen}', expr='im(Y(1, 1))')\n",
    "    yre = report_re.get_arrays()\n",
    "    yim = report_im.get_arrays()\n",
    "    fdata = np.hstack((fdata, yre[0,:]))\n",
    "    ydata = np.hstack((ydata, yre[1,:]+1j*yim[1,:]))\n",
    "\n",
    "    # Backup data to file\n",
    "    print(f'Backing up even reports ...')\n",
    "    with open(f'../data/ydata_{dd}_sweep_{2*rlen}.csv', 'w') as fid:\n",
    "        fid.write('\\n'.join([f'{ff}, {yi}, {yr}'\\\n",
    "                             for ff, yi, yr in zip(yre[0,:], yre[1,:], yim[1,:])]))"
   ]
  },
  {
   "cell_type": "markdown",
   "metadata": {},
   "source": [
    "## --------------------------------------------------------"
   ]
  },
  {
   "cell_type": "markdown",
   "metadata": {},
   "source": [
    "## Postprocessing, blackbox quantization"
   ]
  },
  {
   "cell_type": "code",
   "execution_count": null,
   "metadata": {},
   "outputs": [],
   "source": [
    "def get_wp_Cp_Lp(f, y, LJ0=10e-9, CJ0=2e-15, fscale=1e9, use_Zq=False,\n",
    "                GJ0=7.748e-10):\n",
    "    \"\"\"\n",
    "    Converts frequency-dependent imaginary parts\n",
    "    of the admittance data to poles,\n",
    "    capacitances, and inductances\n",
    "    \"\"\"\n",
    "    # Add the junction inductance and capacitance to the\n",
    "    # total admittance\n",
    "    # Compute the zero crossings\n",
    "    fcpy = np.copy(f * fscale)\n",
    "    ycpy = np.copy(np.complex128(y))\n",
    "    if LJ0:\n",
    "        ycpy += (1. / (1j * fcpy * 2 * np.pi * LJ0)) \\\n",
    "          + 1j * fcpy * 2 * np.pi * CJ0\n",
    "    if LJ0 and GJ0:\n",
    "        ycpy += (1. / (1j * fcpy * 2 * np.pi * LJ0)) \\\n",
    "             + 1j * fcpy * 2 * np.pi * CJ0 \\\n",
    "             + GJ0\n",
    "    yim = ycpy.imag\n",
    "    zero_xing_idxs = np.where(np.diff(np.sign(yim))>0)[0]\n",
    "    wp = 2 * np.pi * fcpy[zero_xing_idxs]\n",
    "    yp = yim[zero_xing_idxs]\n",
    "\n",
    "    # Compute the capacitances from the derivatives\n",
    "    ypp = np.gradient(ycpy, 2*np.pi*(fcpy[1]-fcpy[0]))\n",
    "    Cp = 0.5 * np.abs(ypp.imag[zero_xing_idxs])\n",
    "    Lp = 1. / (wp**2 * Cp)\n",
    "    Zp = np.sqrt(Lp / Cp)\n",
    "    Rp = 1. / np.abs(np.real(ycpy[zero_xing_idxs]))\n",
    "    Qp = wp * Rp * Cp\n",
    "    \n",
    "    # Physical constants\n",
    "    h    = 6.62607015e-34 \n",
    "    hbar = h / (2 * np.pi)\n",
    "    e    = 1.602176634e-19\n",
    "    Phi0 = h / (2 * e)\n",
    "    \n",
    "    # Compute Ej, Ec\n",
    "    if LJ0 and CJ0:\n",
    "        # Compute the Josephson inductive and charging energies\n",
    "        Ej = (Phi0 / (2 * np.pi))**2 / LJ0\n",
    "        Ec = e**2 / (2 * (sum(Cp)+CJ0))\n",
    "\n",
    "        # Compute inductive energies, EL\n",
    "        EL = 0.5 * Phi0**2 / Lp\n",
    "\n",
    "        # Compute the phase zero point fluctuations\n",
    "        GQ = 2 * e**2 / h\n",
    "        phip2 = 2 * np.pi * GQ * Zp\n",
    "\n",
    "        # Compute the participations\n",
    "        # p = phi2 * 2 * Ej / (hbar * wp)\n",
    "        pl = Lp / LJ0\n",
    "        pc = Cp / CJ0\n",
    "\n",
    "        # Compute the gs / Ds\n",
    "        Zq = np.sqrt(LJ0 / CJ0)\n",
    "        gD = np.sqrt(Zp / Zq)\n",
    "\n",
    "        # Compute the g's in units of Hz, divide by h to get v, Ej = hv\n",
    "        gpq = (2 * np.pi * GQ * Ej / 24.) * sum(phip2) * np.asarray([[\n",
    "            np.sqrt(Zpp * Zqq) / h for p, Zpp in enumerate(Zp)]\n",
    "                               for q, Zqq in enumerate(Zp) ])\n",
    "        gpq = gpq.reshape([len(gpq), len(gpq)])\n",
    "        \n",
    "        # Compute the chis, anharmonicities\n",
    "        # In units of Hz\n",
    "        chipp  = -Ec * gD**2 / h\n",
    "        chippp = np.asarray([-2 * np.sqrt(chipp[p] * chipp[q]) \n",
    "                             for p in range(len(chipp))\n",
    "                             for q in range(len(chipp))])\n",
    "        chippp = chippp.reshape([len(chipp), len(chipp)])\n",
    "\n",
    "        return wp, Lp, Cp, Qp, fcpy, ycpy, yp, pl, pc, gpq, chippp\n",
    "    \n",
    "    else:\n",
    "        return wp, Lp, Cp, Qp, fcpy, ycpy, yp, None, None, None, None"
   ]
  },
  {
   "cell_type": "code",
   "execution_count": null,
   "metadata": {},
   "outputs": [],
   "source": [
    "def FtoMHz(C):\n",
    "    \"\"\"\n",
    "    Converts Farads to MHz\n",
    "    \"\"\"\n",
    "    MHz  = 1e6\n",
    "    h    = 6.62607015e-34 \n",
    "    e    = 1.602176634e-19\n",
    "    Ec   = e**2 / (2 * C)\n",
    "    return Ec / h / MHz"
   ]
  },
  {
   "cell_type": "code",
   "execution_count": null,
   "metadata": {},
   "outputs": [],
   "source": [
    "def HtoGHz(L):\n",
    "    \"\"\"\n",
    "    Converts Henrys to GHz\n",
    "    \"\"\"\n",
    "    GHz  = 1e9\n",
    "    h    = 6.62607015e-34 \n",
    "    e    = 1.602176634e-19\n",
    "    Phi0 = h / (2 * e)\n",
    "    EJ   = (Phi0 / (2 * np.pi))**2 / L\n",
    "    return EJ / h / GHz"
   ]
  },
  {
   "cell_type": "markdown",
   "metadata": {},
   "source": [
    "## Load y-data from files if not-overwrite"
   ]
  },
  {
   "cell_type": "code",
   "execution_count": null,
   "metadata": {},
   "outputs": [],
   "source": [
    "def load_ydata_from_sweeps(resonances):\n",
    "    fdata = np.array([])\n",
    "    ydata = np.array([], dtype=complex)\n",
    "\n",
    "    # Iterate over all discrete frequency sweeps\n",
    "    for i in range(2*len(resonances)+1):\n",
    "        report_re = fsweep_interp.create_report(f'Discrete_Sweep_{i}', expr='re(Y(LumpPort,LumpPort))')\n",
    "        report_im = fsweep_interp.create_report(f'Discrete_Sweep_{i}', expr='im(Y(LumpPort,LumpPort))')\n",
    "        yre = report_re.get_arrays()\n",
    "        yim = report_im.get_arrays()\n",
    "\n",
    "        fdata = np.hstack((fdata, yre[0,:]))\n",
    "        ydata = np.hstack((ydata, yre[1,:]+1j*yim[1,:]))\n",
    "    \n",
    "    return fdata, ydata"
   ]
  },
  {
   "cell_type": "code",
   "execution_count": null,
   "metadata": {},
   "outputs": [],
   "source": [
    "def load_ydata_from_txt(filenames, delimiter=','):\n",
    "    fdata = np.array([])\n",
    "    ydata = np.array([], dtype=complex)\n",
    "    # Iterate over all discrete frequency sweeps\n",
    "    for fname in filenames:\n",
    "        print(f'Reading {fname} ...')\n",
    "        data = np.genfromtxt(fname, delimiter=delimiter).T\n",
    "        f   = data[0]\n",
    "        yre = data[1]\n",
    "        yim = data[2]\n",
    "\n",
    "        fdata = np.hstack((fdata, f))\n",
    "        ydata = np.hstack((ydata, yre + 1j*yim))\n",
    "    return fdata, ydata"
   ]
  },
  {
   "cell_type": "code",
   "execution_count": null,
   "metadata": {},
   "outputs": [],
   "source": [
    "if not overwrite:\n",
    "    res_in = np.zeros(21)\n",
    "    fdata, ydata = load_ydata_from_files(res_in)"
   ]
  },
  {
   "cell_type": "code",
   "execution_count": null,
   "metadata": {},
   "outputs": [],
   "source": [
    "filenames = [f'../data/ydata_230418_sweep_{i}.csv' for i in range(3)]\n",
    "#for f in [f'../data/ydata_230326_sweep_{i}.csv' for i in range(3)]:\n",
    "#    filenames.append(f)\n",
    "fdata1, ydata1 = load_ydata_from_txt(filenames)"
   ]
  },
  {
   "cell_type": "code",
   "execution_count": null,
   "metadata": {},
   "outputs": [],
   "source": [
    "ydata1"
   ]
  },
  {
   "cell_type": "code",
   "execution_count": null,
   "metadata": {},
   "outputs": [],
   "source": [
    "fdata1"
   ]
  },
  {
   "cell_type": "code",
   "execution_count": null,
   "metadata": {},
   "outputs": [],
   "source": [
    "fdata.size"
   ]
  },
  {
   "cell_type": "code",
   "execution_count": null,
   "metadata": {},
   "outputs": [],
   "source": [
    "ydata.size"
   ]
  },
  {
   "cell_type": "markdown",
   "metadata": {},
   "source": [
    "## Plot the zero crossings"
   ]
  },
  {
   "cell_type": "code",
   "execution_count": null,
   "metadata": {},
   "outputs": [],
   "source": [
    "# Plot the results, save the figure(s)\n",
    "fsize = 20\n",
    "fscale = 1e9\n",
    "dstr = datetime.datetime.today().strftime('%y%m%d')\n",
    "wp, Lp, Cp, Qp, fcpy, ycpy, yp, pl, pc, gD, chippp = \\\n",
    "get_wp_Cp_Lp(fdata1, ydata1, LJ0=100e-9, CJ0=2e-15, fscale=1e9, use_Zq=False)\n",
    "\n",
    "fig, ax = plt.subplots(1, 1, tight_layout=True)\n",
    "ax.plot(fdata1, ydata1.imag)\n",
    "ax.plot(wp/(2*np.pi*fscale), yp.imag, 'o', label='Zero Crossings')\n",
    "ax.set_ylabel(r'Im $Y(\\omega)$', fontsize=fsize)\n",
    "ax.set_xlabel(r'Frequency [GHz]', fontsize=fsize)\n",
    "set_axes_fonts(ax, fsize)\n",
    "set_xaxis_rot(ax, 45.)\n",
    "#ax.set_xlim([None, 10])\n",
    "#ax.set_xlim([5.88, 5.95])\n",
    "ax.set_ylim([-0.05, 0.05])\n",
    "ax.axhline(y=0, color='k', ls='--')\n",
    "fig.savefig(f'../figs/zeros_term_bbq_inductive_50um_15mm_{dstr}.pdf', format='pdf')"
   ]
  },
  {
   "cell_type": "markdown",
   "metadata": {},
   "source": [
    "## Iterate over all coupler offset values, fix LJ=10 nH"
   ]
  },
  {
   "cell_type": "code",
   "execution_count": null,
   "metadata": {},
   "outputs": [],
   "source": [
    "def get_bbq_params(fdata, ydata, NLJ=25, Nmodes=6, LJvals=[0.1e-9, 100e-9]):\n",
    "    wps = []\n",
    "    pcs = []\n",
    "    pls = []\n",
    "    gDs = []\n",
    "    Cps = []\n",
    "    Lps = []\n",
    "    Qps = []\n",
    "    chis = []\n",
    "\n",
    "    # Whether or not to use the largest impedance mode\n",
    "    # as the junction mode in the calculations\n",
    "    use_Zq = False\n",
    "    print_results = True\n",
    "\n",
    "    LJs = np.logspace(np.log10(LJvals[0]), np.log10(LJvals[1]), NLJ)\n",
    "    #for idx, x in enumerate(xdata):\n",
    "    for LJ in LJs:\n",
    "        wpp, Lp, Cp, Qp, _, _, _, pl, pc, gD, chip \\\n",
    "        = get_wp_Cp_Lp(fdata, ydata, LJ0=LJ, fscale=fscale, use_Zq=use_Zq)\n",
    "        wps.append(np.sort(wpp[0:Nmodes]))\n",
    "        #wps.append(wpp[0:Nmodes])\n",
    "        pls.append(pl[0:Nmodes])\n",
    "        pcs.append(pc[0:Nmodes])\n",
    "        gDs.append(gD[0:Nmodes, 0:Nmodes])\n",
    "        Lps.append(Lp[0:Nmodes])\n",
    "        Cps.append(Cp[0:Nmodes])\n",
    "        Qps.append(Qp[0:Nmodes])\n",
    "        chis.append(chip[0:Nmodes, 0:Nmodes])\n",
    "        if print_results:\n",
    "            print(f'wps: {wps}')\n",
    "        # wps.append(wpp)\n",
    "        # print(f'LJ: {LJ}, wpp: {wpp}')\n",
    "    wps = np.asarray(wps).T\n",
    "    pls  = np.asarray(pls).T\n",
    "    pcs  = np.asarray(pls).T\n",
    "    gDs = np.asarray(gDs).T\n",
    "    Lps = np.asarray(Lps).T\n",
    "    Cps = np.asarray(Cps).T\n",
    "    Qps = np.asarray(Qps).T\n",
    "    chis = np.asarray(chis).T\n",
    "\n",
    "    return wps, pls, pcs, gDs, Lps, Cps, Qps, chis"
   ]
  },
  {
   "cell_type": "code",
   "execution_count": null,
   "metadata": {},
   "outputs": [],
   "source": [
    "wp0,_ , _, _, _, _, _, _, _, _, _ = get_wp_Cp_Lp(fdata, ydata, fscale=fscale, LJ0=None)"
   ]
  },
  {
   "cell_type": "code",
   "execution_count": null,
   "metadata": {},
   "outputs": [],
   "source": [
    "wps1, pls1, pcs1, gDs1, Lps1, Cps1, Qps1, chis1 = get_bbq_params(fdata, ydata, Nmodes=1, LJvals=[1e-9,100e-9])"
   ]
  },
  {
   "cell_type": "code",
   "execution_count": null,
   "metadata": {},
   "outputs": [],
   "source": [
    "Cps1"
   ]
  },
  {
   "cell_type": "code",
   "execution_count": null,
   "metadata": {},
   "outputs": [],
   "source": [
    "FtoMHz(Cps1[0])"
   ]
  },
  {
   "cell_type": "markdown",
   "metadata": {},
   "source": [
    "## Plot the $E_C$ of the coupler mode"
   ]
  },
  {
   "cell_type": "code",
   "execution_count": null,
   "metadata": {},
   "outputs": [],
   "source": [
    "fig, ax = plt.subplots(1, 1, tight_layout=True)\n",
    "dstr = datetime.datetime.today().strftime('%y%m%d')\n",
    "lsize = 14\n",
    "cycle = plt.rcParams['axes.prop_cycle'].by_key()['color']\n",
    "clen = len(cycle)\n",
    "NLJ = 25\n",
    "LJs = np.logspace(np.log10(1e-9), np.log10(100e-9), NLJ)\n",
    "ax2 = ax.twinx()\n",
    "for idx, wppp in enumerate(wps1):\n",
    "    ax.plot(LJs/1e-9, FtoMHz(Cps1[0]),\n",
    "            'o',\n",
    "            color=cycle[idx%clen], label=r'$E_C$ [MHz]')\n",
    "    ax2.plot(LJs/1e-9, HtoGHz(LJs),\n",
    "           '*', color=cycle[(idx+1)%clen],\n",
    "            label=r'$E_J$ [GHz]')\n",
    "ax.set_xlabel(r'$L_J$ [nH]', fontsize=fsize)\n",
    "ax.set_ylabel(r'$E_C$ [MHz]', fontsize=fsize)\n",
    "ax2.set_ylabel(r'$E_J$ [GHz]', fontsize=fsize)\n",
    "set_xaxis_rot(ax, 45)\n",
    "# ax.set_ylim([7.165, 7.2])\n",
    "set_axes_fonts(ax, fsize)\n",
    "set_axes_fonts(ax2, fsize)\n",
    "ax.set_xscale('log')\n",
    "fig.savefig(f'../figs/modes_term_bbq_inductive_planar_sapphire_{dstr}.pdf',\n",
    "            transparent=True, format='pdf')"
   ]
  },
  {
   "cell_type": "code",
   "execution_count": null,
   "metadata": {},
   "outputs": [],
   "source": [
    "wps1[2]"
   ]
  },
  {
   "cell_type": "code",
   "execution_count": null,
   "metadata": {},
   "outputs": [],
   "source": [
    "wps1[:, 0]"
   ]
  },
  {
   "cell_type": "code",
   "execution_count": null,
   "metadata": {},
   "outputs": [],
   "source": [
    "wps1[:, -1]"
   ]
  },
  {
   "cell_type": "code",
   "execution_count": null,
   "metadata": {},
   "outputs": [],
   "source": [
    "wps1_sort = np.sort(wps1, axis=0)\n",
    "wps1_sort"
   ]
  },
  {
   "cell_type": "markdown",
   "metadata": {},
   "source": [
    "## Plot the modes of coupled structure"
   ]
  },
  {
   "cell_type": "code",
   "execution_count": null,
   "metadata": {},
   "outputs": [],
   "source": [
    "fig, ax = plt.subplots(1, 1, tight_layout=True)\n",
    "dstr = datetime.datetime.today().strftime('%y%m%d')\n",
    "lsize = 14\n",
    "cycle = plt.rcParams['axes.prop_cycle'].by_key()['color']\n",
    "clen = len(cycle)\n",
    "NLJ = 25\n",
    "LJs = np.logspace(np.log10(1e-9), np.log10(100e-9), NLJ)\n",
    "for idx, wppp in enumerate(wps1):\n",
    "    ax.plot(LJs/1e-9, wppp/(2*np.pi*fscale),\n",
    "            'o', label=r'Mode-%d' % (idx + 1),\n",
    "            color=cycle[idx%clen])\n",
    "    ax.plot(LJs/1e-9, [wp0[idx]/(2*np.pi*fscale)] * len(LJs),\n",
    "            '--', color=cycle[idx%clen])\n",
    "ax.set_xlabel(r'$L_J$ [nH]', fontsize=fsize)\n",
    "ax.set_ylabel(r'Eigenfrequencies [GHz]', fontsize=fsize)\n",
    "set_xaxis_rot(ax, 45)\n",
    "# ax.set_ylim([7.165, 7.2])\n",
    "set_axes_fonts(ax, fsize)\n",
    "leg = set_leg_outside(ax, lsize)\n",
    "ax.set_xscale('log')\n",
    "fig.savefig(f'../figs/modes_term_bbq_inductive_planar_sapphire_{dstr}.pdf',\n",
    "             bbox_extra_artists=(leg, ), bbox_inches='tight',\n",
    "            transparent=True, format='pdf')"
   ]
  },
  {
   "cell_type": "markdown",
   "metadata": {},
   "source": [
    "## Plot the splittings of the lowest modes vs LJ"
   ]
  },
  {
   "cell_type": "code",
   "execution_count": null,
   "metadata": {},
   "outputs": [],
   "source": [
    "fig, ax = plt.subplots(1, 1, tight_layout=True)\n",
    "lsize = 14\n",
    "fscale2 = 1e6\n",
    "cycle = plt.rcParams['axes.prop_cycle'].by_key()['color']\n",
    "clen = len(cycle)\n",
    "ax.plot(LJs/1e-9, (wps1[1]-wps1[0])/(2*np.pi*fscale2),\n",
    "           'o-',\n",
    "            color=cycle[0%clen])\n",
    "# ax.plot(LJs/1e-9, np.ones(LJs.size) * dw/(fscale2), 'k--')\n",
    "ax.set_xlabel(r'$L_J$ [nH]', fontsize=fsize)\n",
    "ax.set_ylabel(r'Mode Splitting (1,2) [MHz]', fontsize=fsize)\n",
    "set_xaxis_rot(ax, 45)\n",
    "set_axes_fonts(ax, fsize)\n",
    "#ax.set_ylim([0, 150])\n",
    "#ax.set_xlim([0.5, 2.2])\n",
    "ax.set_xscale('log')\n",
    "fig.savefig(f'../figs/modes_splitting_term_bbq_inductive_planar_sapphire_{dstr}.pdf',\n",
    "            format='pdf')"
   ]
  },
  {
   "cell_type": "markdown",
   "metadata": {},
   "source": [
    "## Mode losses"
   ]
  },
  {
   "cell_type": "code",
   "execution_count": null,
   "metadata": {},
   "outputs": [],
   "source": [
    "fig, ax = plt.subplots(1, 1, tight_layout=True)\n",
    "lsize = 14\n",
    "cycle = plt.rcParams['axes.prop_cycle'].by_key()['color']\n",
    "clen = len(cycle)\n",
    "for idx, Q in enumerate(Qps1):\n",
    "    ax.plot(LJs/1e-9, 1./Q,\n",
    "            'o-', label=r'Mode-%d' % (idx + 1),\n",
    "            color=cycle[idx%clen])\n",
    "ax.set_xlabel(r'$L_J$ [nH]', fontsize=fsize)\n",
    "ax.set_ylabel(r'$Q_p^{-1}$', fontsize=fsize)\n",
    "set_xaxis_rot(ax, 45)\n",
    "set_axes_fonts(ax, fsize)\n",
    "set_leg_outside(ax, lsize)\n",
    "ax.set_xscale('log')\n",
    "ax.set_yscale('log')\n",
    "fig.savefig(f'../figs/mode_losses_term_bbq_inductive_planar_sapphire_{dstr}.pdf', format='pdf')"
   ]
  },
  {
   "cell_type": "markdown",
   "metadata": {},
   "source": [
    "## Mode $T_1$'s"
   ]
  },
  {
   "cell_type": "code",
   "execution_count": null,
   "metadata": {},
   "outputs": [],
   "source": [
    "fig, ax = plt.subplots(1, 1, tight_layout=True)\n",
    "lsize = 14\n",
    "fscale2 = 1e6\n",
    "cycle = plt.rcParams['axes.prop_cycle'].by_key()['color']\n",
    "clen = len(cycle)\n",
    "for idx, Q in enumerate(Qps1):\n",
    "    ax.plot(LJs/1e-9, 1e6 * Q / wps1[idx],\n",
    "            'o-', label=r'Mode-%d' % (idx + 1),\n",
    "            color=cycle[idx%clen])\n",
    "ax.plot(LJs/1e-9, 100*np.ones(LJs.size), 'k:',\n",
    "        lw=2, label=r'100 $\\mu$s $T_1$')\n",
    "ax.set_xlabel(r'$L_J$ [nH]', fontsize=fsize)\n",
    "ax.set_ylabel(r'$T_1$ [$\\mu$s]', fontsize=fsize)\n",
    "# ax.plot(LJs/1e-9, np.ones(LJs.size) * dw/(fscale2), 'k--')\n",
    "set_xaxis_rot(ax, 45)\n",
    "set_axes_fonts(ax, fsize)\n",
    "set_leg_outside(ax, lsize)\n",
    "#ax.set_ylim([1e-2, 350])\n",
    "#ax.set_xlim([0.5, 2.2])\n",
    "ax.set_xscale('log')\n",
    "ax.set_yscale('log')\n",
    "fig.savefig(f'../figs/T1_modes_coupled_{dstr}.pdf',\n",
    "            format='pdf')"
   ]
  },
  {
   "cell_type": "markdown",
   "metadata": {},
   "source": [
    "## Black box results"
   ]
  },
  {
   "cell_type": "markdown",
   "metadata": {},
   "source": [
    "### $\\alpha_p$ and $\\chi_{pq}$"
   ]
  },
  {
   "cell_type": "code",
   "execution_count": null,
   "metadata": {},
   "outputs": [],
   "source": [
    "fig, ax = plt.subplots(1, 1, tight_layout=True)\n",
    "lsize = 14\n",
    "cycle = plt.rcParams['axes.prop_cycle'].by_key()['color']\n",
    "clen = len(cycle)\n",
    "Nmodes = 4\n",
    "fscale3 = 1e3\n",
    "for idx in range(Nmodes):\n",
    "    ax.plot(LJs/1e-9, 0.5 * np.abs(chis1[idx, idx, :]) / fscale3,\n",
    "            'o-', label=r'Mode-%d' % (idx + 1),\n",
    "            color=cycle[idx%clen])\n",
    "ax.set_xlabel(r'$L_J$ [nH]', fontsize=fsize)\n",
    "ax.set_ylabel(r'$|\\alpha_p|$ [kHz]', fontsize=fsize)\n",
    "set_xaxis_rot(ax, 45)\n",
    "set_axes_fonts(ax, fsize)\n",
    "set_leg_outside(ax, lsize)\n",
    "ax.set_xscale('log')\n",
    "ax.set_yscale('log')\n",
    "fig.savefig(f'../figs/mode_alpha_term_bbq_inductive_planar_sapphire_{dstr}.pdf', format='pdf')"
   ]
  },
  {
   "cell_type": "code",
   "execution_count": null,
   "metadata": {},
   "outputs": [],
   "source": [
    "# Chi, lower triangle\n",
    "chiT = np.array([np.triu(chis1[:,:,i]) for i in range(len(LJs))]).T\n",
    "gT = np.array([np.triu(gDs1[:,:,i]) for i in range(len(LJs))]).T\n",
    "NM = 4\n",
    "chiT[0:NM,0:NM,0]\n",
    "\n",
    "fig, ax = plt.subplots(1, 1, tight_layout=True)\n",
    "lsize = 14\n",
    "cycle = plt.rcParams['axes.prop_cycle'].by_key()['color']\n",
    "clen = len(cycle)\n",
    "NM = 4\n",
    "idx = 0\n",
    "for i in range(NM):\n",
    "    for j in range(NM):\n",
    "        if (i != j) and np.any(chiT[i, j, :] != 0.):\n",
    "            ax.plot(LJs/1e-9, np.abs(chiT[i, j, :]) / fscale3,\n",
    "                'o-', label=r'$\\chi_{%d,%d}$' % (i + 1, j + 1),\n",
    "                color=cycle[idx%clen])\n",
    "            idx += 1\n",
    "ax.set_xlabel(r'$L_J$ [nH]', fontsize=fsize)\n",
    "ax.set_ylabel(r'$|\\chi_{pq}|$ [kHz]', fontsize=fsize)\n",
    "set_xaxis_rot(ax, 45)\n",
    "set_axes_fonts(ax, fsize)\n",
    "set_leg_outside(ax, lsize)\n",
    "ax.set_xscale('log')\n",
    "ax.set_yscale('log')\n",
    "fig.savefig(f'../figs/mode_chi_term_bbq_inductive_planar_sapphire_{dstr}.pdf', format='pdf')"
   ]
  },
  {
   "cell_type": "code",
   "execution_count": null,
   "metadata": {},
   "outputs": [],
   "source": [
    "fig, ax = plt.subplots(1, 1, tight_layout=True)\n",
    "lsize = 14\n",
    "cycle = plt.rcParams['axes.prop_cycle'].by_key()['color']\n",
    "clen = len(cycle)\n",
    "NM = 4\n",
    "idx = 0\n",
    "for i in range(NM):\n",
    "    for j in range(NM):\n",
    "        if (i != j) and np.any(gT[i, j, :] != 0.):\n",
    "            ax.plot(LJs/1e-9, np.abs(gT[i, j, :]) / fscale2,\n",
    "                'o-', label=r'$g_{%d,%d}$' % (i + 1, j + 1),\n",
    "                color=cycle[idx%clen])\n",
    "            idx += 1\n",
    "ax.set_xlabel(r'$L_J$ [nH]', fontsize=fsize)\n",
    "ax.set_ylabel(r'$|g_{pq}|$ [MHz]', fontsize=fsize)\n",
    "set_xaxis_rot(ax, 45)\n",
    "set_axes_fonts(ax, fsize)\n",
    "set_leg_outside(ax, lsize)\n",
    "ax.set_xscale('log')\n",
    "ax.set_yscale('log')\n",
    "fig.savefig(f'../figs/mode_g_term_bbq_inductive_planar_sapphire_{dstr}.pdf', format='pdf')"
   ]
  },
  {
   "cell_type": "code",
   "execution_count": null,
   "metadata": {},
   "outputs": [],
   "source": []
  }
 ],
 "metadata": {
  "kernelspec": {
   "display_name": "Python 3 (ipykernel)",
   "language": "python",
   "name": "python3"
  },
  "language_info": {
   "codemirror_mode": {
    "name": "ipython",
    "version": 3
   },
   "file_extension": ".py",
   "mimetype": "text/x-python",
   "name": "python",
   "nbconvert_exporter": "python",
   "pygments_lexer": "ipython3",
   "version": "3.11.7"
  }
 },
 "nbformat": 4,
 "nbformat_minor": 4
}
