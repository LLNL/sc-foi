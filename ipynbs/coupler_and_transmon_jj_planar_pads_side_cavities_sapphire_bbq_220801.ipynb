{
 "cells": [
  {
   "cell_type": "code",
   "execution_count": 2,
   "metadata": {},
   "outputs": [],
   "source": [
    "import glob\n",
    "# from slab import *\n",
    "#import PyInventor\n",
    "#from PyInventor import *\n",
    "%load_ext autoreload\n",
    "%autoreload 2\n",
    "#import pyEPR as epr\n",
    "#from pyEPR import ansys as HFSS\n",
    "import numpy as np\n",
    "\n",
    "%matplotlib notebook\n",
    "\n",
    "import pandas as pd\n",
    "import pyEPR\n",
    "from pyEPR import ansys as HFSS\n",
    "\n",
    "import scipy\n",
    "from scipy import constants as const\n",
    "\n",
    "from pint import UnitRegistry\n",
    "ureg = UnitRegistry()    \n",
    "Q = ureg.Quantity\n",
    "import os\n",
    "import matplotlib.pyplot as plt\n",
    "\n",
    "def flt2strfmt(val, fmt='%.3f', units='mm'):\n",
    "    return (fmt % val) + units\n",
    "\n",
    "import matplotlib\n",
    "import datetime\n",
    "dstr = datetime.datetime.today().strftime('%y%m%d')"
   ]
  },
  {
   "cell_type": "markdown",
   "metadata": {},
   "source": [
    "# Add junction and chip"
   ]
  },
  {
   "cell_type": "code",
   "execution_count": 21,
   "metadata": {},
   "outputs": [
    {
     "name": "stdout",
     "output_type": "stream",
     "text": [
      "project_name: planar_pads_c_coupled_three_cavities_bbq_y11_nondegen_220821\n",
      "path: Z:\\tcav\\ipynbs\\HFSS\\planar_pads_c_coupled_three_cavities_bbq_y11_nondegen_220821.aedt\n",
      "z_offset: z_offset\n",
      "x_cpl_offset: x_cpl_offset\n"
     ]
    }
   ],
   "source": [
    "'''\n",
    "HFSS eigenmode simulation Creation:\n",
    "\n",
    "This sets up a standard eigenmode simulation without the qubit, just the bare cavity created above. It calculates\n",
    "the mode frequencies, loss (with boundary impedances set) and the electric and magnetic surface participation \n",
    "ratios (S_e, S_m)\n",
    "\n",
    "'''\n",
    "# Toggle between eigenmode and driven modal\n",
    "solution_type = 'driven_modal' \n",
    "# solution_type = 'eigenmode'\n",
    "\n",
    "# Define the cavity parameters [mm]\n",
    "z_cav_1 = 100\n",
    "y_cav_1 = 25\n",
    "x_cav_1 = 10\n",
    "z_cav_2 = 110\n",
    "y_cav_2 = 25\n",
    "x_cav_2 = 10\n",
    "z_offset = 0\n",
    "cav_thickness = 1\n",
    "\n",
    "# Define the coupler parameters [mmm]\n",
    "z_coupler = 30.\n",
    "y_coupler = 0.5\n",
    "x_coupler = 2.5\n",
    "\n",
    "# Substrate dimensions\n",
    "x_sub = x_coupler\n",
    "y_sub = 0.450 # 450 um\n",
    "z_sub = 5.\n",
    "\n",
    "# Offsets of the junction pads\n",
    "ycoupler_offset = 0.\n",
    "zcoupler_offset = 0.\n",
    "\n",
    "# Offsets of the pads from the cavity walls\n",
    "pad_offset = 0.25\n",
    "\n",
    "# Light and heavy modes (500, 100 um)\n",
    "# l_junc = 500e-3\n",
    "# l_junc = 100e-3\n",
    "l_junc = 0.05\n",
    "coupler_pads = (x_coupler - l_junc) / 2\n",
    "y_pads = 0.1\n",
    "w_junc = l_junc / 2 * 1e-3\n",
    "\n",
    "# Project and HFSS design names for the bare waveguide model\n",
    "dd = datetime.datetime.today().strftime('%y%m%d')\n",
    "ref_name = 'planar_pads_c_coupled_three_cavities_bbq_y11_nondegen'\n",
    "project_name=f'{ref_name}_{dd}'\n",
    "design_name=f'{ref_name}_hfss_design_{dd}'\n",
    "overwrite=True\n",
    "\n",
    "#use file location path:\n",
    "HFSS_path=os.getcwd()\n",
    "\n",
    "full_path=HFSS_path+'\\\\HFSS\\\\'+project_name+'.aedt'\n",
    "\n",
    "HFSS_app=HFSS.HfssApp()\n",
    "HFSS_desktop=HFSS_app.get_app_desktop()\n",
    "\n",
    "project=HFSS_desktop.open_project(full_path)\n",
    "\n",
    "if project==None:\n",
    "    project=HFSS_desktop.new_project()\n",
    "    project.save(full_path)\n",
    "    \n",
    "project.save(full_path)\n",
    "project.make_active()\n",
    "    \n",
    "if design_name in project.get_design_names():\n",
    "    if overwrite==True:\n",
    "        project.delete_design(design_name)\n",
    "        project.save()\n",
    "        \n",
    "        # Setup a driven modal design type\n",
    "        if solution_type == 'driven_modal':\n",
    "            EM_design=project.new_dm_design(design_name)\n",
    "        elif solution_type == 'eigenmode':\n",
    "            EM_design=project.new_em_design(design_name)\n",
    "        else:\n",
    "            raise ValueError(f'Solution type ({solution_type}) not recognized.')\n",
    "    else:\n",
    "        EM_design=project.get_design(design_name)\n",
    "        \n",
    "else:\n",
    "    if solution_type == 'driven_modal':\n",
    "        EM_design=project.new_dm_design(design_name)\n",
    "    elif solution_type == 'eigenmode':\n",
    "        EM_design=project.new_em_design(design_name)\n",
    "    else:\n",
    "        raise ValueError(f'Solution type ({solution_type}) not recognized.')\n",
    "        \n",
    "EM_design.make_active()\n",
    "model=HFSS.HfssModeler(EM_design)\n",
    "\n",
    "# Geometry parameters\n",
    "zcav1 = EM_design.set_variable('z_cav_1', flt2strfmt(z_cav_1))\n",
    "ycav1 = EM_design.set_variable('y_cav_1', flt2strfmt(y_cav_1))\n",
    "xcav1 = EM_design.set_variable('x_cav_1', flt2strfmt(x_cav_1))\n",
    "zcav2 = EM_design.set_variable('z_cav_2', flt2strfmt(z_cav_2))\n",
    "ycav2 = EM_design.set_variable('y_cav_2', flt2strfmt(y_cav_2))\n",
    "xcav2 = EM_design.set_variable('x_cav_2', flt2strfmt(x_cav_2))\n",
    "zcpl  = EM_design.set_variable('z_coupler', flt2strfmt(z_coupler))\n",
    "ycpl  = EM_design.set_variable('y_coupler', flt2strfmt(y_coupler))\n",
    "xcpl  = EM_design.set_variable('x_coupler', flt2strfmt(x_coupler))\n",
    "ycpl_offset = EM_design.set_variable('ycoupler_offset',\n",
    "                                    flt2strfmt(ycoupler_offset))\n",
    "zcpl_offset = EM_design.set_variable('zcoupler_offset',\n",
    "                                    flt2strfmt(zcoupler_offset))\n",
    "z_offset  = EM_design.set_variable('z_offset', flt2strfmt(z_offset))\n",
    "x_cpl_offset = EM_design.set_variable('x_cpl_offset', flt2strfmt(2e3*x_cav_1))\n",
    "tcav = EM_design.set_variable('cav_thickness', flt2strfmt(cav_thickness))\n",
    "cpl_pads = EM_design.set_variable('coupler_pads', flt2strfmt(coupler_pads))\n",
    "ypads = EM_design.set_variable('y_pads', flt2strfmt(y_pads))\n",
    "ljunc = EM_design.set_variable('l_junc', flt2strfmt(l_junc))\n",
    "pdoff = EM_design.set_variable('pad_offset', flt2strfmt(pad_offset))\n",
    "\n",
    "xsub = EM_design.set_variable('x_sub', flt2strfmt(x_sub))\n",
    "ysub = EM_design.set_variable('y_sub', flt2strfmt(y_sub))\n",
    "zsub = EM_design.set_variable('z_sub', flt2strfmt(z_sub))\n",
    "\n",
    "print(f'z_offset: {z_offset}')\n",
    "print(f'x_cpl_offset: {x_cpl_offset}')\n",
    "\n",
    "# Origin\n",
    "pos=[0, 0, 0]\n",
    "\n",
    "# Draw the cavities\n",
    "## Define the cavity and coupler dimensions and positions\n",
    "cav1_dims = [xcav1, ycav1, zcav1]\n",
    "cav2_dims = [xcav1, ycav1, zcav2]\n",
    "\n",
    "cav1_pos = [0, -ycpl/2-ycav1/2, 0]\n",
    "cav2_pos = [0, ycpl/2+ycav2/2, 0]\n",
    "\n",
    "cpl_dims = [xcpl, ycpl, zcpl/2]\n",
    "cplout_dims = [xcpl+tcav, ycpl+tcav, zcpl/2+tcav]\n",
    "cpl_pos = [0, 0, 0]\n",
    "\n",
    "\n",
    "# cav1 = model.draw_box_center(cav1_pos, cav1_dims, name='cavity_1')\n",
    "pad1_pos = [-(cpl_pads-pdoff)/2-ljunc/2, ysub/2+ycpl_offset, zcpl_offset]\n",
    "pad2_pos = [(cpl_pads-pdoff)/2+ljunc/2, ysub/2+ycpl_offset, zcpl_offset]\n",
    "\n",
    "pad_dims = [cpl_pads-pdoff,  ypads, xcpl/10]\n",
    "cpl  = model.draw_box_center(cpl_pos, cpl_dims, name='coupler')\n",
    "cav1  = model.draw_box_center(cav1_pos, cav1_dims, name='cav1')\n",
    "cav2  = model.draw_box_center(cav2_pos, cav2_dims, name='cav2')\n",
    "\n",
    "model.unite(names=['coupler', 'cav1', 'cav2'],\n",
    "            keep_originals=False)\n",
    "\n",
    "# Planar pads\n",
    "pad1=model.draw_rect_center(pos=pad1_pos, x_size=pad_dims[0],\n",
    "                          y_size=0,\n",
    "                          z_size = pad_dims[2],\n",
    "                          name='pad1')\n",
    "pad2=model.draw_rect_center(pos=pad2_pos, x_size=pad_dims[0],\n",
    "                          y_size=0,\n",
    "                          z_size = pad_dims[2],\n",
    "                          name='pad2')\n",
    "\n",
    "# Substrate\n",
    "sub_pos = [0, 0, 0]\n",
    "sub_dims = [xsub, ysub, zsub]\n",
    "# Edit sapphire material properties\n",
    "params = {'dielectric_loss_tangent' : 2e-8}\n",
    "project.edit_material(params, 'sapphire')\n",
    "substrate = model.draw_box_center(sub_pos, sub_dims, name='substrate',\n",
    "                                 material='sapphire')\n",
    "DM_setup = None"
   ]
  },
  {
   "cell_type": "markdown",
   "metadata": {},
   "source": [
    "## Assign the junction to be a lumped port"
   ]
  },
  {
   "cell_type": "code",
   "execution_count": 22,
   "metadata": {},
   "outputs": [],
   "source": [
    "if solution_type == 'driven_modal':\n",
    "    model.assign_perfect_E([pad1, pad2], name='junction_pads')\n",
    "    junc_loc = [0, ysub/2+ycpl_offset, zcpl_offset]\n",
    "    jj=model.draw_rect_center(pos=junc_loc, x_size=xcpl-2*cpl_pads,\n",
    "                              y_size=0,\n",
    "                              z_size = w_junc,\n",
    "                              name='jj')\n",
    "\n",
    "    Lj_val=10.  #<---this sets the nominal Lj_val, should be same as start\n",
    "    L_jj=EM_design.set_variable('Lj_1', '%.3fnH'%Lj_val)\n",
    "    jj_line=model.draw_polyline(jj.make_center_line(axis='X'), \n",
    "                                closed=False, name='jj_line')\n",
    "    jj.make_lumped_port('X', z0=1e6)"
   ]
  },
  {
   "cell_type": "markdown",
   "metadata": {},
   "source": [
    "## Interpolating sweep to identify resonances"
   ]
  },
  {
   "cell_type": "code",
   "execution_count": 23,
   "metadata": {},
   "outputs": [],
   "source": [
    "f1 = 10.; f2 = 20.; count = 20001"
   ]
  },
  {
   "cell_type": "code",
   "execution_count": 24,
   "metadata": {},
   "outputs": [
    {
     "data": {
      "text/plain": [
       "0"
      ]
     },
     "execution_count": 24,
     "metadata": {},
     "output_type": "execute_result"
    }
   ],
   "source": [
    "# Define the sweep range\n",
    "if not DM_setup:\n",
    "    DM_setup = EM_design.create_dm_setup()\n",
    "DM_setup.insert_sweep(f1, f2,\n",
    "                      count=count,\n",
    "                      save_fields=True,\n",
    "                      name=f'Interpolating_0',\n",
    "                      type='Interpolating')\n",
    "\n",
    "DM_setup.solve()"
   ]
  },
  {
   "cell_type": "code",
   "execution_count": 25,
   "metadata": {},
   "outputs": [],
   "source": [
    "def set_axes_fonts(ax, fsize):\n",
    "    \"\"\"\n",
    "    Set axes font sizes because it should be abstracted away\n",
    "    \"\"\"\n",
    "    for tick in ax.get_xticklabels():\n",
    "        tick.set_fontsize(fsize)\n",
    "    for tick in ax.get_yticklabels():\n",
    "        tick.set_fontsize(fsize)\n",
    "\n",
    "def set_xaxis_rot(ax, angle=45):\n",
    "    \"\"\"\n",
    "    Rotate the x-axis labels\n",
    "    \"\"\"\n",
    "        \n",
    "    for tick in ax.get_xticklabels():\n",
    "        tick.set_rotation(angle)\n",
    "\n",
    "def set_leg_outside(ax, fsize):\n",
    "    \"\"\"\n",
    "    Sets the legend location outside\n",
    "    \"\"\"\n",
    "    \n",
    "    # Shrink current axis by 20%\n",
    "    box = ax.get_position()\n",
    "    ax.set_position([box.x0, box.y0, box.width * 0.8, box.height])\n",
    "    \n",
    "    # Put a legend to the right of the current axis\n",
    "    hdls, legs = ax.get_legend_handles_labels()\n",
    "    leg = ax.legend(hdls, legs, loc='center left', bbox_to_anchor=(1, 0.5), \\\n",
    "                    fontsize=fsize, framealpha=0.)\n",
    "\n",
    "    return leg"
   ]
  },
  {
   "cell_type": "markdown",
   "metadata": {},
   "source": [
    "### Get the interpolating sweep data to estimate resonance positions"
   ]
  },
  {
   "cell_type": "code",
   "execution_count": 26,
   "metadata": {},
   "outputs": [
    {
     "ename": "com_error",
     "evalue": "(-2147417851, 'The server threw an exception.', None, None)",
     "output_type": "error",
     "traceback": [
      "\u001b[1;31m---------------------------------------------------------------------------\u001b[0m",
      "\u001b[1;31mcom_error\u001b[0m                                 Traceback (most recent call last)",
      "\u001b[1;32mC:\\Users\\NMATER~1\\AppData\\Local\\Temp/ipykernel_33888/416139232.py\u001b[0m in \u001b[0;36m<module>\u001b[1;34m\u001b[0m\n\u001b[0;32m      1\u001b[0m \u001b[0mfsweep_interp\u001b[0m \u001b[1;33m=\u001b[0m \u001b[0mHFSS\u001b[0m\u001b[1;33m.\u001b[0m\u001b[0mHfssFrequencySweep\u001b[0m\u001b[1;33m(\u001b[0m\u001b[0mDM_setup\u001b[0m\u001b[1;33m,\u001b[0m \u001b[1;34m'Interpolating_01'\u001b[0m\u001b[1;33m)\u001b[0m\u001b[1;33m\u001b[0m\u001b[1;33m\u001b[0m\u001b[0m\n\u001b[0;32m      2\u001b[0m \u001b[1;33m\u001b[0m\u001b[0m\n\u001b[1;32m----> 3\u001b[1;33m \u001b[0mreport_im\u001b[0m \u001b[1;33m=\u001b[0m \u001b[0mfsweep_interp\u001b[0m\u001b[1;33m.\u001b[0m\u001b[0mcreate_report\u001b[0m\u001b[1;33m(\u001b[0m\u001b[1;34m'Interpolating_01'\u001b[0m\u001b[1;33m,\u001b[0m \u001b[0mexpr\u001b[0m\u001b[1;33m=\u001b[0m\u001b[1;34m'im(Y(LumpPort,LumpPort))'\u001b[0m\u001b[1;33m)\u001b[0m\u001b[1;33m\u001b[0m\u001b[1;33m\u001b[0m\u001b[0m\n\u001b[0m\u001b[0;32m      4\u001b[0m \u001b[0myim\u001b[0m \u001b[1;33m=\u001b[0m \u001b[0mreport_im\u001b[0m\u001b[1;33m.\u001b[0m\u001b[0mget_arrays\u001b[0m\u001b[1;33m(\u001b[0m\u001b[1;33m)\u001b[0m\u001b[1;33m\u001b[0m\u001b[1;33m\u001b[0m\u001b[0m\n\u001b[0;32m      5\u001b[0m \u001b[1;33m\u001b[0m\u001b[0m\n",
      "\u001b[1;32mC:\\Anaconda3\\envs\\py39\\lib\\site-packages\\pyepr-0.8-py3.9.egg\\pyEPR\\ansys.py\u001b[0m in \u001b[0;36mcreate_report\u001b[1;34m(self, name, expr)\u001b[0m\n\u001b[0;32m   1957\u001b[0m         var_args = sum([[\"%s:=\" % v_name, [\"Nominal\"]]\n\u001b[0;32m   1958\u001b[0m                         for v_name in var_names], [])\n\u001b[1;32m-> 1959\u001b[1;33m         self.parent._reporter.CreateReport(\n\u001b[0m\u001b[0;32m   1960\u001b[0m             \u001b[0mname\u001b[0m\u001b[1;33m,\u001b[0m \u001b[1;34m\"Modal Solution Data\"\u001b[0m\u001b[1;33m,\u001b[0m \u001b[1;34m\"Rectangular Plot\"\u001b[0m\u001b[1;33m,\u001b[0m\u001b[1;33m\u001b[0m\u001b[1;33m\u001b[0m\u001b[0m\n\u001b[0;32m   1961\u001b[0m             self.solution_name, [\"Domain:=\", \"Sweep\"], [\n",
      "\u001b[1;32mC:\\Anaconda3\\envs\\py39\\lib\\site-packages\\win32com\\client\\dynamic.py\u001b[0m in \u001b[0;36mCreateReport\u001b[1;34m(self, reportNameArg, reportTypeArg, displayTypeArg, solutionNameArg, simValueCtxtArg, pointSetArg, expressionsOfTracesArg, extTraceInfoArg)\u001b[0m\n",
      "\u001b[1;31mcom_error\u001b[0m: (-2147417851, 'The server threw an exception.', None, None)"
     ]
    }
   ],
   "source": [
    "fsweep_interp = HFSS.HfssFrequencySweep(DM_setup, 'Interpolating_01')\n",
    "\n",
    "report_im = fsweep_interp.create_report('Interpolating_01', expr='im(Y(LumpPort,LumpPort))')\n",
    "yim = report_im.get_arrays()\n",
    "\n",
    "# Identify the zero crossings as resonances\n",
    "zero_xing_idxs = np.where(np.diff(np.sign(yim[1,:])))[0]\n",
    "resonances = yim[0,zero_xing_idxs]"
   ]
  },
  {
   "cell_type": "code",
   "execution_count": null,
   "metadata": {},
   "outputs": [],
   "source": [
    "resonances"
   ]
  },
  {
   "cell_type": "code",
   "execution_count": null,
   "metadata": {},
   "outputs": [],
   "source": [
    "# Plot the results, save the figure(s)\n",
    "fsize = 20\n",
    "fscale = 1e9\n",
    "#wp, Lp, Cp, Qp, fcpy, ycpy, yp, pl, pc, gD, chippp = \\\n",
    "#get_wp_Cp_Lp(fdata, ydata, LJ0=None, CJ0=None, fscale=1e9, use_Zq=False)\n",
    "\n",
    "fig, ax = plt.subplots(1, 1, tight_layout=True)\n",
    "ax.plot(yim[0,:], yim[1,:], '-', label='Zero Crossings')\n",
    "ax.plot(resonances, yim[1,zero_xing_idxs], 'o', label='Zero Crossings')\n",
    "# ax.plot(fdata, ydata.imag)\n",
    "ax.set_ylabel(r'Im $Y(\\omega)$', fontsize=fsize)\n",
    "ax.set_xlabel(r'Frequency [GHz]', fontsize=fsize)\n",
    "set_axes_fonts(ax, fsize)"
   ]
  },
  {
   "cell_type": "markdown",
   "metadata": {},
   "source": [
    "#### Bypass the interpolating sweep if frequencies already known"
   ]
  },
  {
   "cell_type": "code",
   "execution_count": null,
   "metadata": {},
   "outputs": [],
   "source": [
    "# resonances = np.array([ 6.0928,  6.1684,  6.1692,  6.2692,  7.3356,  7.3816,  7.4712,\n",
    "#        7.506 ,  9.3064,  9.3292,  9.588 ,  9.6076, 11.5804, 11.6684,\n",
    "#       11.7568, 11.95  , 12.604 , 12.6944, 12.8012, 12.8048])\n",
    "# resonances = np.array([ 6.0928,  6.1692,  6.2692,  7.3816,  7.4712,\n",
    "#        7.506 , 9.3292,  9.588 ,  9.6076, 11.5804, \n",
    "#       11.7568, 11.95, 12.6944, 12.8048])"
   ]
  },
  {
   "cell_type": "code",
   "execution_count": null,
   "metadata": {},
   "outputs": [],
   "source": [
    "# Use half the minimum spacing between resonances as a the bandwidth"
   ]
  },
  {
   "cell_type": "code",
   "execution_count": null,
   "metadata": {},
   "outputs": [],
   "source": [
    "df = 0.8 * np.diff(np.hstack((f1, resonances, f2))).min()"
   ]
  },
  {
   "cell_type": "markdown",
   "metadata": {},
   "source": [
    "### Discrete sweep to resolve resonances"
   ]
  },
  {
   "cell_type": "code",
   "execution_count": null,
   "metadata": {},
   "outputs": [],
   "source": [
    "if solution_type == 'driven_modal':\n",
    "    # Setup the driven-modal simulation\n",
    "    if not DM_setup:\n",
    "        DM_setup = EM_design.create_dm_setup()\n",
    "        \n",
    "    # Discrete count\n",
    "    count = 201\n",
    "    \n",
    "    ## This should resolve the issue of overlapping sweeps\n",
    "    ## We advance the left boundary by a small amount away\n",
    "    ## from the previous right boundary\n",
    "    dff = df / count\n",
    "    \n",
    "    # Identify resonances from interpolating sweep manually (for now)\n",
    "    ## Start at the first sweep frequency\n",
    "    f1r = f1\n",
    "    \n",
    "    # df  = 0.01 # 10 MHz window\n",
    "    # Iteratve over all resonances and shift the discrete\n",
    "    # sweep window from f1r to f2r\n",
    "    rlen = len(resonances)\n",
    "    fdata = np.array([])\n",
    "    ydata = np.array([])\n",
    "    for ridx, fr in enumerate(resonances):\n",
    "        try:\n",
    "            # First sweep from f1 to fr_j - df / 2\n",
    "            f2r = fr - df / 2\n",
    "            print(f'[{2*ridx} / {2*rlen}] Discrete sweep from {f1r} to {f2r} GHz ...')\n",
    "            DM_setup.insert_sweep(f1r, f2r,\n",
    "                                  count=count,\n",
    "                                  save_fields=True,\n",
    "                                  name=f'Discrete_Sweep_{2*ridx}',\n",
    "                                  type='Discrete')\n",
    "            DM_setup.solve()\n",
    "\n",
    "            # Get data from first sweep\n",
    "            print(f'Creating even reports ...')\n",
    "            fsweep = HFSS.HfssFrequencySweep(DM_setup, f'Discrete_Sweep_{2*ridx}')\n",
    "            report_re = fsweep.create_report(f'Discrete_Sweep_{2*ridx}', expr='re(Y(LumpPort,LumpPort))')\n",
    "            report_im = fsweep.create_report(f'Discrete_Sweep_{2*ridx}', expr='im(Y(LumpPort,LumpPort))')\n",
    "            yre = report_re.get_arrays()\n",
    "            yim = report_im.get_arrays()\n",
    "            fdata = np.hstack((fdata, yre[0,:]))\n",
    "            ydata = np.hstack((ydata, yre[1,:]+1j*yim[1,:]))    \n",
    "\n",
    "            # Backup data to file\n",
    "            print(f'Backing up even reports ...')\n",
    "            with open(f'../data/ydata_{dd}_sweep_{2*ridx}.csv', 'w') as fid:\n",
    "                fid.write('\\n'.join([f'{ff}, {yi}, {yr}'\\\n",
    "                                     for ff, yi, yr in zip(yre[0,:], yre[1,:], yim[1,:])]))\n",
    "\n",
    "            # Second sweep from fr_j - df / 2 to fr_j + df / 2\n",
    "            f1r = f2r + dff\n",
    "            f2r = fr + df / 2\n",
    "            print(f'[{2*ridx+1} / {2*rlen}] Discrete sweep from {f1r} to {f2r} GHz ...')\n",
    "            DM_setup.insert_sweep(f1r, f2r,\n",
    "                                  count=count,\n",
    "                                  save_fields=True,\n",
    "                                  name=f'Discrete_Sweep_{2*ridx+1}',\n",
    "                                  type='Discrete')\n",
    "            DM_setup.solve()\n",
    "\n",
    "            # Get data from first sweep\n",
    "            print(f'Creating odd reports ...')\n",
    "            fsweep = HFSS.HfssFrequencySweep(DM_setup, f'Discrete_Sweep_{2*ridx+1}')\n",
    "            report_re = fsweep.create_report(f'Discrete_Sweep_{2*ridx+1}', expr='re(Y(LumpPort,LumpPort))')\n",
    "            report_im = fsweep.create_report(f'Discrete_Sweep_{2*ridx+1}', expr='im(Y(LumpPort,LumpPort))')\n",
    "            yre = report_re.get_arrays()\n",
    "            yim = report_im.get_arrays()\n",
    "            fdata = np.hstack((fdata, yre[0,:]))\n",
    "            ydata = np.hstack((ydata, yre[1,:]+1j*yim[1,:]))    \n",
    "\n",
    "            # Backup data to file\n",
    "            print(f'Backing up even reports ...')\n",
    "            with open(f'../data/ydata_{dd}_sweep_{2*ridx+1}.csv', 'w') as fid:\n",
    "                fid.write('\\n'.join([f'{ff}, {yi}, {yr}'\\\n",
    "                                     for ff, yi, yr in zip(yre[0,:], yre[1,:], yim[1,:])]))\n",
    "\n",
    "            # Next sweep from fr_j + df / 2 to fr_j+1 - df / 2\n",
    "            f1r = f2r + dff\n",
    "    \n",
    "        except Exception as e:\n",
    "            print(f'Exception on run {ridx}:\\n{e}')\n",
    "            continue\n",
    "    \n",
    "    # Last frequency band from fr_j + df / 2 to f2\n",
    "    f2r = f2\n",
    "    print(f'[{2*rlen} / {2*rlen}] Discrete sweep from {f1r} to {f2r} GHz ...')\n",
    "    DM_setup.insert_sweep(f1r, f2r,\n",
    "                          count=count,\n",
    "                          save_fields=True,\n",
    "                          name=f'Discrete_Sweep_{2*rlen}',\n",
    "                          type='Discrete')\n",
    "    DM_setup.solve()\n",
    "    \n",
    "    # Get data from first sweep\n",
    "    print(f'Creating last report ...')\n",
    "    fsweep = HFSS.HfssFrequencySweep(DM_setup, f'Discrete_Sweep_{2*rlen}')\n",
    "    report_re = fsweep.create_report(f'Discrete_Sweep_{2*rlen}', expr='re(Y(LumpPort,LumpPort))')\n",
    "    report_im = fsweep.create_report(f'Discrete_Sweep_{2*rlen}', expr='im(Y(LumpPort,LumpPort))')\n",
    "    yre = report_re.get_arrays()\n",
    "    yim = report_im.get_arrays()\n",
    "    fdata = np.hstack((fdata, yre[0,:]))\n",
    "    ydata = np.hstack((ydata, yre[1,:]+1j*yim[1,:]))\n",
    "\n",
    "    # Backup data to file\n",
    "    print(f'Backing up even reports ...')\n",
    "    with open(f'../data/ydata_{dd}_sweep_{2*rlen}.csv', 'w') as fid:\n",
    "        fid.write('\\n'.join([f'{ff}, {yi}, {yr}'\\\n",
    "                             for ff, yi, yr in zip(yre[0,:], yre[1,:], yim[1,:])]))"
   ]
  },
  {
   "cell_type": "code",
   "execution_count": null,
   "metadata": {},
   "outputs": [],
   "source": [
    "fdata"
   ]
  },
  {
   "cell_type": "code",
   "execution_count": null,
   "metadata": {},
   "outputs": [],
   "source": [
    "ydata"
   ]
  },
  {
   "cell_type": "code",
   "execution_count": null,
   "metadata": {},
   "outputs": [],
   "source": [
    "fdata.size"
   ]
  },
  {
   "cell_type": "code",
   "execution_count": null,
   "metadata": {},
   "outputs": [],
   "source": [
    "ydata.size"
   ]
  },
  {
   "cell_type": "markdown",
   "metadata": {},
   "source": [
    "## Get admittance data from file, if above failed"
   ]
  },
  {
   "cell_type": "code",
   "execution_count": 20,
   "metadata": {},
   "outputs": [],
   "source": [
    "recover_from_files = False\n",
    "if recover_from_files:\n",
    "    fdata = np.array([])\n",
    "    ydata = np.array([], dtype=complex)\n",
    "\n",
    "    # Iterate over all discrete frequency sweeps\n",
    "    for i in range(2*len(resonances)+1):\n",
    "        report_re = fsweep_interp.create_report(f'Discrete_Sweep_{i}', expr='re(Y(LumpPort,LumpPort))')\n",
    "        report_im = fsweep_interp.create_report(f'Discrete_Sweep_{i}', expr='im(Y(LumpPort,LumpPort))')\n",
    "        yre = report_re.get_arrays()\n",
    "        yim = report_im.get_arrays()\n",
    "\n",
    "        fdata = np.hstack((fdata, yre[0,:]))\n",
    "        ydata = np.hstack((ydata, yre[1,:]+1j*yim[1,:]))"
   ]
  },
  {
   "cell_type": "code",
   "execution_count": 21,
   "metadata": {},
   "outputs": [
    {
     "data": {
      "text/plain": [
       "5025"
      ]
     },
     "execution_count": 21,
     "metadata": {},
     "output_type": "execute_result"
    }
   ],
   "source": [
    "fdata.size"
   ]
  },
  {
   "cell_type": "markdown",
   "metadata": {},
   "source": [
    "## Combine data from several discrete sweeps"
   ]
  },
  {
   "cell_type": "code",
   "execution_count": 22,
   "metadata": {},
   "outputs": [],
   "source": [
    "def combine_multiple_data(files : list, Nzeros : int=10):\n",
    "    \"\"\"\n",
    "    Combines data from multiple sweeps, fills with zeros outside of run\n",
    "    \"\"\"\n",
    "    # Iterate over all files\n",
    "    zero_pad = np.ones(Nzeros)\n",
    "    fdata = np.array([])\n",
    "    yredata = np.array([])\n",
    "    yimdata = np.array([])\n",
    "    data0 = np.genfromtxt(files[0], delimiter=',', skip_header=1).T\n",
    "    \n",
    "    if len(files) > 1:\n",
    "        for fidx, file in enumerate(files[1:]):\n",
    "\n",
    "            # Get the current data file\n",
    "            data1 = np.genfromtxt(file, delimiter=',', skip_header=1).T\n",
    "            \n",
    "            # Store the previous data\n",
    "            fdata = np.hstack((fdata, data0[0]))\n",
    "            yredata = np.hstack((yredata, data0[1]))\n",
    "            yimdata = np.hstack((yimdata, data0[2]))\n",
    "            \n",
    "            # Determine the frequency array and zeros to append\n",
    "            #fapp = np.linspace(data0[0,-1], data1[0,0], Nzeros)\n",
    "            #print(f'fapp: [{fapp[0]/1e9}, {fapp[-1]/1e9}] GHz')\n",
    "            #fdata = np.hstack((fdata, fapp))\n",
    "            #yredata = np.hstack((yredata, zero_pad * yredata[-1]))\n",
    "            #yimdata = np.hstack((yimdata, zero_pad * yimdata[-1]))\n",
    "            data0 = np.copy(data1)\n",
    "            \n",
    "        # Store the last data set\n",
    "        fdata = np.hstack((fdata, data0[0]))\n",
    "        yredata = np.hstack((yredata, data0[1]))\n",
    "        yimdata = np.hstack((yimdata, data0[2]))\n",
    "        \n",
    "        # Convert to numpy arrays and make y complex\n",
    "        fdata = np.asarray(fdata).flatten()\n",
    "        ydata = yredata.flatten() + 1j * yimdata.flatten()\n",
    "        \n",
    "        return fdata, ydata"
   ]
  },
  {
   "cell_type": "code",
   "execution_count": 23,
   "metadata": {},
   "outputs": [],
   "source": [
    "#files = [f'../data/ydata_220801_sweep_{d}.csv' for d in range(25)]\n",
    "#fdata, ydata = combine_multiple_data(files)"
   ]
  },
  {
   "cell_type": "markdown",
   "metadata": {},
   "source": [
    "## Postprocessing, blackbox quantization"
   ]
  },
  {
   "cell_type": "code",
   "execution_count": null,
   "metadata": {},
   "outputs": [],
   "source": [
    "def get_wp_Cp_Lp(f, y, LJ0=10e-9, CJ0=2e-15, RJ0=10e3, fscale=1e9, use_Zq=False):\n",
    "    \"\"\"\n",
    "    Converts frequency-dependent imaginary parts\n",
    "    of the admittance data to poles,\n",
    "    capacitances, and inductances\n",
    "    \"\"\"\n",
    "    # Add the junction inductance and capacitance to the\n",
    "    # total admittance\n",
    "    # Compute the zero crossings\n",
    "    fcpy = np.copy(f * fscale)\n",
    "    ycpy = np.copy(np.complex128(y))\n",
    "    if LJ0:\n",
    "        ycpy += (1. / (1j * fcpy * 2 * np.pi * LJ0)) \\\n",
    "          + 1j * fcpy * 2 * np.pi * CJ0 \\\n",
    "          + (1. / RJ0)\n",
    "    \n",
    "    yim = ycpy.imag\n",
    "    zero_xing_idxs = np.where(np.diff(np.sign(yim)))[0]\n",
    "    wp = 2 * np.pi * fcpy[zero_xing_idxs]\n",
    "    yp = yim[zero_xing_idxs]\n",
    "\n",
    "    # Compute the capacitances from the derivatives\n",
    "    ypp = np.gradient(ycpy, 2*np.pi*(fcpy[1]-fcpy[0]))\n",
    "    Cp = 0.5 * np.abs(ypp.imag[zero_xing_idxs])\n",
    "    Lp = 1. / (wp**2 * Cp)\n",
    "    Zp = np.sqrt(Lp / Cp)\n",
    "    Rp = 1. / np.abs(np.real(ycpy[zero_xing_idxs]))\n",
    "    Qp = wp * Rp * Cp\n",
    "    \n",
    "    # Physical constants\n",
    "    h    = 6.62607015e-34 \n",
    "    hbar = h / (2 * np.pi)\n",
    "    e    = 1.602176634e-19\n",
    "    Phi0 = h / (2 * e)\n",
    "    \n",
    "    # Compute Ej, Ec\n",
    "    if LJ0 and CJ0 and RJ0:\n",
    "        # Compute the Josephson inductive and charging energies\n",
    "        Ej = (Phi0 / (2 * np.pi))**2 / LJ0\n",
    "        Ec = e**2 / (2 * CJ0)\n",
    "\n",
    "        # Compute inductive energies, EL\n",
    "        EL = 0.5 * Phi0**2 / Lp\n",
    "\n",
    "        # Compute the phase zero point fluctuations\n",
    "        GQ = 2 * e**2 / h\n",
    "        phip2 = 2 * np.pi * GQ * Zp\n",
    "\n",
    "        # Compute the participations\n",
    "        # p = phi2 * 2 * Ej / (hbar * wp)\n",
    "        pl = Lp / LJ0\n",
    "        pc = Cp / CJ0\n",
    "\n",
    "        # Compute the gs / Ds\n",
    "        Zq = np.sqrt(LJ0 / CJ0)\n",
    "        gD = np.sqrt(Zp / Zq)\n",
    "        \n",
    "        # Compute the g's in units of Hz, divide by h to get v, Ej = hv\n",
    "        gpq = -(2 * np.pi * GQ * Ej) * (0.5 - sum(phip2) * np.asarray([[\n",
    "            np.sqrt(Zpp * Zqq) / h for p, Zpp in enumerate(Zp)]\n",
    "                               for q, Zqq in enumerate(Zp) ]) / 24)\n",
    "        gpq = gpq.reshape([len(gpq), len(gpq)])\n",
    "        \n",
    "        # Compute the chis, anharmonicities\n",
    "        # In units of Hz, divide by h to get v, Ec = hv\n",
    "        chipp  = -Ec * gD**2 / h\n",
    "        chippp = np.asarray([-2 * np.sqrt(chipp[p] * chipp[q]) \n",
    "                             for p in range(len(chipp))\n",
    "                             for q in range(len(chipp))])\n",
    "        chippp = chippp.reshape([len(chipp), len(chipp)])\n",
    "\n",
    "        return wp, Lp, Cp, Qp, fcpy, ycpy, yp, pl, pc, gpq, chippp\n",
    "    \n",
    "    else:\n",
    "        return wp, Lp, Cp, Qp, fcpy, ycpy, yp, None, None, None, None"
   ]
  },
  {
   "cell_type": "markdown",
   "metadata": {},
   "source": [
    "## Plot the zero crossings"
   ]
  },
  {
   "cell_type": "code",
   "execution_count": null,
   "metadata": {},
   "outputs": [],
   "source": [
    "# Plot the results, save the figure(s)\n",
    "fsize = 20\n",
    "fscale = 1e9\n",
    "wp, Lp, Cp, Qp, fcpy, ycpy, yp, pl, pc, gD, chippp = \\\n",
    "get_wp_Cp_Lp(fdata, ydata, LJ0=None, CJ0=None, fscale=1e9, use_Zq=False)\n",
    "\n",
    "fig, ax = plt.subplots(1, 1, tight_layout=True)\n",
    "ax.plot(fdata, ydata.imag)\n",
    "ax.plot(wp/(2*np.pi*fscale), yp.imag, 'o', label='Zero Crossings')\n",
    "ax.set_ylabel(r'Im $Y(\\omega)$', fontsize=fsize)\n",
    "ax.set_xlabel(r'Frequency [GHz]', fontsize=fsize)\n",
    "set_axes_fonts(ax, fsize)\n",
    "#ax.set_xlim([6.08, 6.081])\n",
    "# fig.savefig(f'../figs/zeros_term_bbq_inductive_50um_{dstr}.pdf', format='pdf')"
   ]
  },
  {
   "cell_type": "markdown",
   "metadata": {},
   "source": [
    "## Iterate over all coupler offset values, fix LJ=10 nH"
   ]
  },
  {
   "cell_type": "code",
   "execution_count": null,
   "metadata": {},
   "outputs": [],
   "source": [
    "NLJ = 25\n",
    "wps = []\n",
    "pcs = []\n",
    "pls = []\n",
    "gDs = []\n",
    "Cps = []\n",
    "Lps = []\n",
    "Qps = []\n",
    "chis = []\n",
    "Nmodes = 10\n",
    "\n",
    "# Whether or not to use the largest impedance mode\n",
    "# as the junction mode in the calculations\n",
    "use_Zq = False\n",
    "print_results = True\n",
    "\n",
    "# LJs = np.logspace(np.log10(0.1e-9), np.log10(1000e-9), NLJ)\n",
    "LJs = np.logspace(np.log10(1e-9), np.log10(40e-9), NLJ)\n",
    "# LJs = np.logspace(np.log10(0.00001e-9), np.log10(0.0001e-9), NLJ)\n",
    "# LJs = np.logspace(np.log10(0.1), np.log10(100), NLJ)\n",
    "LJ0 = 10e-9\n",
    "#for idx, x in enumerate(xdata):\n",
    "for LJ in LJs:\n",
    "    wpp, Lp, Cp, Qp, _, _, _, pl, pc, gD, chip \\\n",
    "    = get_wp_Cp_Lp(fdata, ydata, LJ0=LJ, fscale=fscale, use_Zq=use_Zq)\n",
    "    if print_results:\n",
    "        print(f'wpp: {wpp}')\n",
    "        #print(f'Lp: {Lp}')\n",
    "        #print(f'Cp: {Cp}')\n",
    "        #print(f'pl: {pl}')\n",
    "        #print(f'pc: {pc}')\n",
    "        #print(f'chip: {chip}')\n",
    "        print(f'g: {gD}')\n",
    "    # wps.append(np.sort(wpp[0:Nmodes]))\n",
    "    wps.append(wpp[0:Nmodes])\n",
    "    pls.append(pl[0:Nmodes])\n",
    "    pcs.append(pc[0:Nmodes])\n",
    "    gDs.append(gD[0:Nmodes, 0:Nmodes])\n",
    "    Lps.append(Lp[0:Nmodes])\n",
    "    Cps.append(Cp[0:Nmodes])\n",
    "    Qps.append(Qp[0:Nmodes])\n",
    "    chis.append(chip[0:Nmodes, 0:Nmodes])\n",
    "    # wps.append(wpp)\n",
    "    # print(f'LJ: {LJ}, wpp: {wpp}')\n",
    "wps = np.asarray(wps).T\n",
    "pls  = np.asarray(pls).T\n",
    "pcs  = np.asarray(pls).T\n",
    "gDs = np.asarray(gDs).T\n",
    "Lps = np.asarray(Lps).T\n",
    "Cps = np.asarray(Cps).T\n",
    "Qps = np.asarray(Qps).T\n",
    "chis = np.asarray(chis).T"
   ]
  },
  {
   "cell_type": "code",
   "execution_count": null,
   "metadata": {},
   "outputs": [],
   "source": [
    "wp0,_ , _, _, _, _, _, _, _, _, _ = get_wp_Cp_Lp(fdata, ydata, fscale=fscale, LJ0=None)"
   ]
  },
  {
   "cell_type": "markdown",
   "metadata": {},
   "source": [
    "## Plot the modes of coupled structure"
   ]
  },
  {
   "cell_type": "code",
   "execution_count": null,
   "metadata": {},
   "outputs": [],
   "source": [
    "fig, ax = plt.subplots(1, 1, tight_layout=True)\n",
    "lsize = 14\n",
    "cycle = plt.rcParams['axes.prop_cycle'].by_key()['color']\n",
    "clen = len(cycle)\n",
    "for idx, wppp in enumerate(wps):\n",
    "    ax.plot(LJs/1e-9, wppp/(2*np.pi*fscale),\n",
    "            'o', label=r'Mode-%d' % (idx + 1),\n",
    "            color=cycle[idx%clen])\n",
    "    ax.plot(LJs/1e-9, [wp0[idx]/(2*np.pi*fscale)] * len(LJs),\n",
    "            '--', color=cycle[idx%clen])\n",
    "ax.set_xlabel(r'$L_J$ [nH]', fontsize=fsize)\n",
    "ax.set_ylabel(r'Eigenfrequencies [GHz]', fontsize=fsize)\n",
    "set_xaxis_rot(ax, 45)\n",
    "# ax.set_ylim([6.158, 6.166])\n",
    "set_axes_fonts(ax, fsize)\n",
    "set_leg_outside(ax, lsize)\n",
    "ax.set_xscale('log')\n",
    "fig.savefig(f'../figs/modes_term_bbq_inductive_planar_sapphire_{dstr}.pdf', format='pdf')"
   ]
  },
  {
   "cell_type": "code",
   "execution_count": null,
   "metadata": {},
   "outputs": [],
   "source": [
    "dw"
   ]
  },
  {
   "cell_type": "code",
   "execution_count": null,
   "metadata": {},
   "outputs": [],
   "source": [
    "wps[0]"
   ]
  },
  {
   "cell_type": "markdown",
   "metadata": {},
   "source": [
    "## Plot the splittings of the lowest modes vs LJ"
   ]
  },
  {
   "cell_type": "code",
   "execution_count": null,
   "metadata": {},
   "outputs": [],
   "source": [
    "fig, ax = plt.subplots(1, 1, tight_layout=True)\n",
    "lsize = 14\n",
    "fscale2 = 1e6\n",
    "cycle = plt.rcParams['axes.prop_cycle'].by_key()['color']\n",
    "clen = len(cycle)\n",
    "ax.plot(LJs/1e-9, (wps[1]-wps[0])/(2*np.pi*fscale2),\n",
    "           'o-',\n",
    "            color=cycle[0%clen])\n",
    "# ax.plot(LJs/1e-9, np.ones(LJs.size) * dw/(fscale2), 'k--')\n",
    "ax.set_xlabel(r'$L_J$ [nH]', fontsize=fsize)\n",
    "ax.set_ylabel(r'Mode Splitting (0-1) [MHz]', fontsize=fsize)\n",
    "set_xaxis_rot(ax, 45)\n",
    "set_axes_fonts(ax, fsize)\n",
    "# ax.set_ylim([0, 100])\n",
    "# ax.set_xlim([1, 2.2])\n",
    "ax.set_xscale('log')\n",
    "fig.savefig(f'../figs/modes_splitting_term_bbq_inductive_planar_sapphire_{dstr}.pdf',\n",
    "            format='pdf')"
   ]
  },
  {
   "cell_type": "markdown",
   "metadata": {},
   "source": [
    "## Mode losses"
   ]
  },
  {
   "cell_type": "code",
   "execution_count": null,
   "metadata": {},
   "outputs": [],
   "source": [
    "fig, ax = plt.subplots(1, 1, tight_layout=True)\n",
    "lsize = 14\n",
    "cycle = plt.rcParams['axes.prop_cycle'].by_key()['color']\n",
    "clen = len(cycle)\n",
    "for idx, Q in enumerate(Qps):\n",
    "    ax.plot(LJs/1e-9, 1./Q,\n",
    "            'o-', label=r'Mode-%d' % (idx + 1),\n",
    "            color=cycle[idx%clen])\n",
    "ax.set_xlabel(r'$L_J$ [nH]', fontsize=fsize)\n",
    "ax.set_ylabel(r'$Q_p^{-1}$', fontsize=fsize)\n",
    "set_xaxis_rot(ax, 45)\n",
    "set_axes_fonts(ax, fsize)\n",
    "set_leg_outside(ax, lsize)\n",
    "ax.set_xscale('log')\n",
    "ax.set_yscale('log')\n",
    "fig.savefig(f'../figs/mode_losses_term_bbq_inductive_planar_sapphire_{dstr}.pdf', format='pdf')"
   ]
  },
  {
   "cell_type": "markdown",
   "metadata": {},
   "source": [
    "## Black box results"
   ]
  },
  {
   "cell_type": "markdown",
   "metadata": {},
   "source": [
    "### $\\alpha_p$ and $\\chi_{pq}$"
   ]
  },
  {
   "cell_type": "code",
   "execution_count": null,
   "metadata": {},
   "outputs": [],
   "source": [
    "chis.shape"
   ]
  },
  {
   "cell_type": "code",
   "execution_count": null,
   "metadata": {},
   "outputs": [],
   "source": [
    "fig, ax = plt.subplots(1, 1, tight_layout=True)\n",
    "lsize = 14\n",
    "cycle = plt.rcParams['axes.prop_cycle'].by_key()['color']\n",
    "clen = len(cycle)\n",
    "for idx in range(Nmodes):\n",
    "    ax.plot(LJs/1e-9, 0.5 * np.abs(chis[idx, idx, :]) / fscale2,\n",
    "            'o-', label=r'Mode-%d' % (idx + 1),\n",
    "            color=cycle[idx%clen])\n",
    "ax.set_xlabel(r'$L_J$ [nH]', fontsize=fsize)\n",
    "ax.set_ylabel(r'$|\\alpha_p|$ [MHz]', fontsize=fsize)\n",
    "set_xaxis_rot(ax, 45)\n",
    "set_axes_fonts(ax, fsize)\n",
    "set_leg_outside(ax, lsize)\n",
    "ax.set_xscale('log')\n",
    "ax.set_yscale('log')\n",
    "fig.savefig(f'../figs/mode_alpha_term_bbq_inductive_planar_sapphire_{dstr}.pdf', format='pdf')"
   ]
  },
  {
   "cell_type": "code",
   "execution_count": null,
   "metadata": {},
   "outputs": [],
   "source": [
    "# Chi, lower triangle\n",
    "chiT = np.array([np.triu(chis[:,:,i]) for i in range(len(LJs))]).T\n",
    "gT = np.array([np.triu(gDs[:,:,i]) for i in range(len(LJs))]).T"
   ]
  },
  {
   "cell_type": "code",
   "execution_count": null,
   "metadata": {},
   "outputs": [],
   "source": [
    "chiT[0:NM,0:NM,0]"
   ]
  },
  {
   "cell_type": "code",
   "execution_count": null,
   "metadata": {},
   "outputs": [],
   "source": [
    "fig, ax = plt.subplots(1, 1, tight_layout=True)\n",
    "lsize = 14\n",
    "cycle = plt.rcParams['axes.prop_cycle'].by_key()['color']\n",
    "clen = len(cycle)\n",
    "NM = 5\n",
    "idx = 0\n",
    "for i in range(NM):\n",
    "    for j in range(NM):\n",
    "        if (i != j) and np.any(chiT[i, j, :] != 0.):\n",
    "            ax.plot(LJs/1e-9, np.abs(chiT[i, j, :]) / fscale2,\n",
    "                'o-', label=r'$\\chi_{%d,%d}$' % (i + 1, j + 1),\n",
    "                color=cycle[idx%clen])\n",
    "            idx += 1\n",
    "ax.set_xlabel(r'$L_J$ [nH]', fontsize=fsize)\n",
    "ax.set_ylabel(r'$|\\chi_{pq}|$ [MHz]', fontsize=fsize)\n",
    "set_xaxis_rot(ax, 45)\n",
    "set_axes_fonts(ax, fsize)\n",
    "set_leg_outside(ax, lsize)\n",
    "ax.set_xscale('log')\n",
    "ax.set_yscale('log')\n",
    "fig.savefig(f'../figs/mode_chi_term_bbq_inductive_planar_sapphire_{dstr}.pdf', format='pdf')"
   ]
  },
  {
   "cell_type": "code",
   "execution_count": null,
   "metadata": {},
   "outputs": [],
   "source": [
    "fig, ax = plt.subplots(1, 1, tight_layout=True)\n",
    "lsize = 14\n",
    "cycle = plt.rcParams['axes.prop_cycle'].by_key()['color']\n",
    "clen = len(cycle)\n",
    "NM = 5\n",
    "idx = 0\n",
    "for i in range(NM):\n",
    "    for j in range(NM):\n",
    "        if (i != j) and np.any(gT[i, j, :] != 0.):\n",
    "            ax.plot(LJs/1e-9, np.abs(gT[i, j, :]) / fscale2,\n",
    "                'o-', label=r'$g_{%d,%d}$' % (i + 1, j + 1),\n",
    "                color=cycle[idx%clen])\n",
    "            idx += 1\n",
    "ax.set_xlabel(r'$L_J$ [nH]', fontsize=fsize)\n",
    "ax.set_ylabel(r'$|g_{pq}|$ [MHz]', fontsize=fsize)\n",
    "set_xaxis_rot(ax, 45)\n",
    "set_axes_fonts(ax, fsize)\n",
    "set_leg_outside(ax, lsize)\n",
    "ax.set_xscale('log')\n",
    "ax.set_yscale('log')\n",
    "fig.savefig(f'../figs/mode_g_term_bbq_inductive_planar_sapphire_{dstr}.pdf', format='pdf')"
   ]
  },
  {
   "cell_type": "code",
   "execution_count": null,
   "metadata": {},
   "outputs": [],
   "source": []
  },
  {
   "cell_type": "code",
   "execution_count": null,
   "metadata": {},
   "outputs": [],
   "source": []
  }
 ],
 "metadata": {
  "kernelspec": {
   "display_name": "Python 3 (ipykernel)",
   "language": "python",
   "name": "python3"
  },
  "language_info": {
   "codemirror_mode": {
    "name": "ipython",
    "version": 3
   },
   "file_extension": ".py",
   "mimetype": "text/x-python",
   "name": "python",
   "nbconvert_exporter": "python",
   "pygments_lexer": "ipython3",
   "version": "3.9.15"
  },
  "varInspector": {
   "cols": {
    "lenName": 16,
    "lenType": 16,
    "lenVar": 40
   },
   "kernels_config": {
    "python": {
     "delete_cmd_postfix": "",
     "delete_cmd_prefix": "del ",
     "library": "var_list.py",
     "varRefreshCmd": "print(var_dic_list())"
    },
    "r": {
     "delete_cmd_postfix": ") ",
     "delete_cmd_prefix": "rm(",
     "library": "var_list.r",
     "varRefreshCmd": "cat(var_dic_list()) "
    }
   },
   "types_to_exclude": [
    "module",
    "function",
    "builtin_function_or_method",
    "instance",
    "_Feature"
   ],
   "window_display": false
  }
 },
 "nbformat": 4,
 "nbformat_minor": 4
}
