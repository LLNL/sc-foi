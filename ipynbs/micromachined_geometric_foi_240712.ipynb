{
 "cells": [
  {
   "cell_type": "code",
   "execution_count": 1,
   "metadata": {},
   "outputs": [
    {
     "name": "stderr",
     "output_type": "stream",
     "text": [
      "C:\\Users\\materise1\\AppData\\Local\\anaconda3\\envs\\tcav\\Lib\\site-packages\\pyepr_quantum-0.9.0-py3.12.egg\\pyEPR\\ansys.py:82: SyntaxWarning: invalid escape sequence '\\d'\n",
      "C:\\Users\\materise1\\AppData\\Local\\anaconda3\\envs\\tcav\\Lib\\site-packages\\pyepr_quantum-0.9.0-py3.12.egg\\pyEPR\\ansys.py:1583: SyntaxWarning: invalid escape sequence '\\$'\n",
      "C:\\Users\\materise1\\AppData\\Local\\anaconda3\\envs\\tcav\\Lib\\site-packages\\pyepr_quantum-0.9.0-py3.12.egg\\pyEPR\\ansys.py:82: SyntaxWarning: invalid escape sequence '\\d'\n",
      "C:\\Users\\materise1\\AppData\\Local\\anaconda3\\envs\\tcav\\Lib\\site-packages\\pyepr_quantum-0.9.0-py3.12.egg\\pyEPR\\ansys.py:1583: SyntaxWarning: invalid escape sequence '\\$'\n"
     ]
    }
   ],
   "source": [
    "'''\n",
    "Demos written and developed by: Andrew E. Oriani 2020 EMAIL: oriani@uchicago.edu\n",
    "\n",
    "'''\n",
    "from PyInventor import *\n",
    "import numpy as np\n",
    "from numpy import pi, cos, sin, sqrt, log\n",
    "import math\n",
    "import glob\n",
    "import time\n",
    "import datetime\n",
    "\n",
    "#Import plotting libraries for later\n",
    "import matplotlib\n",
    "from matplotlib import pyplot as plt\n",
    "\n",
    "from matplotlib import cm\n",
    "import matplotlib as mpl\n",
    "from matplotlib.colors import BoundaryNorm \n",
    "from matplotlib.ticker import MaxNLocator\n",
    "\n",
    "import pandas as pd\n",
    "\n",
    "import pyEPR\n",
    "from pyEPR import ansys as HFSS\n",
    "from pyEPR.core_distributed_analysis import CalcObject\n",
    "\n",
    "import scipy\n",
    "from scipy import constants as const\n",
    "\n",
    "from pint import UnitRegistry\n",
    "ureg = UnitRegistry()\n",
    "Q = ureg.Quantity\n",
    "import os\n",
    "import re as regex\n",
    "\n",
    "# Field integrals code\n",
    "import sys\n",
    "sys.path.append('../python/src')\n",
    "import field_integrals as fint"
   ]
  },
  {
   "cell_type": "markdown",
   "metadata": {},
   "source": [
    "## Eigenmode solver read from existing HFSS aedt file"
   ]
  },
  {
   "cell_type": "code",
   "execution_count": 2,
   "metadata": {},
   "outputs": [],
   "source": [
    "def set_axes_fonts(ax, fsize):\n",
    "    \"\"\"\n",
    "    Set axes font sizes because it should be abstracted away\n",
    "    \"\"\"\n",
    "    for tick in ax.get_xticklabels():\n",
    "        tick.set_fontsize(fsize)\n",
    "    for tick in ax.get_yticklabels():\n",
    "        tick.set_fontsize(fsize)\n",
    "\n",
    "def set_xaxis_rot(ax, angle=45):\n",
    "    \"\"\"\n",
    "    Rotate the x-axis labels\n",
    "    \"\"\"\n",
    "        \n",
    "    for tick in ax.get_xticklabels():\n",
    "        tick.set_rotation(angle)\n",
    "\n",
    "def set_leg_outside(ax, fsize):\n",
    "    \"\"\"\n",
    "    Sets the legend location outside\n",
    "    \"\"\"\n",
    "    \n",
    "    # Shrink current axis by 20%\n",
    "    box = ax.get_position()\n",
    "    ax.set_position([box.x0, box.y0, box.width * 0.8, box.height])\n",
    "    \n",
    "    # Put a legend to the right of the current axis\n",
    "    hdls, legs = ax.get_legend_handles_labels()\n",
    "    leg = ax.legend(hdls, legs, loc='center left', bbox_to_anchor=(1, 0.5), \\\n",
    "                    fontsize=fsize, framealpha=0.)\n",
    "\n",
    "    return leg"
   ]
  },
  {
   "cell_type": "code",
   "execution_count": 3,
   "metadata": {},
   "outputs": [],
   "source": [
    "def plot_2d_cmap(x, y, z, fname,                                                \n",
    "                 xstr='', ystr='',                                              \n",
    "                 tstr='', cbar_str='',                                          \n",
    "                 cmap=cm.inferno,\n",
    "                 xyscales={'x' : 'linear', 'y': 'linear'},\n",
    "                 interp_zeros=False,\n",
    "                interp_std_dev=10,\n",
    "                image_rot_angle=0,\n",
    "                norm_type='linear',\n",
    "                zref=None, \n",
    "                fsize=30,\n",
    "                tsize=36):\n",
    "    \"\"\"                                                                         \n",
    "    Plot 2D colormap data such that                                             \n",
    "                                                                                \n",
    "         -----------------------                                                \n",
    "         |                     |                                                \n",
    "         |                     |                                                \n",
    "    y    |          z          |                                                \n",
    "         |                     |                                                \n",
    "         |                     |                                                \n",
    "         -----------------------                                                \n",
    "                                                                                \n",
    "                    x                                                           \n",
    "                                                                                \n",
    "    Parameters:                                                                 \n",
    "    ----------                                                                  \n",
    "                                                                                \n",
    "    x, y:       independent variables                                           \n",
    "    z:          resulting data, z = z(x, y)                                     \n",
    "    fname:      output figure filename, relative path with file extension       \n",
    "    xstr:       x-axis label                                                    \n",
    "    ystr:       y-axis label                                                    \n",
    "    tstr:       title label                                                     \n",
    "    cbar_str:   lable for color bar                                             \n",
    "    cmap:       colormap to use on the 2D figure output                         \n",
    "                                                                                \n",
    "    \"\"\"\n",
    "    # Interpolate the data\n",
    "    if interp_zeros:\n",
    "        hot_pixels, z = fix_outlier_pixels(z, tolerance=interp_std_dev)\n",
    "    \n",
    "    # Setup the color map, normalizations, etc\n",
    "    if norm_type == 'linear':\n",
    "        norm = mpl.colors.Normalize(z.min(), z.max())\n",
    "    elif norm_type == 'log':\n",
    "        if zref:\n",
    "            norm = mpl.colors.LogNorm(min(zref), max(zref))\n",
    "        else:\n",
    "            norm = mpl.colors.Normalize(min(zref), max(zref))    \n",
    "    elif (norm_type == 'ref') and zref:\n",
    "        norm = mpl.colors.Normalize(min(zref), max(zref))\n",
    "    else:\n",
    "        raise ValueError(f'norm_type ({norm_type}) not recognized')                                         \n",
    "                                                                                \n",
    "    # Setup the figure and axes                                                 \n",
    "    fig, ax = plt.subplots(1, 1, figsize=(10, 8), tight_layout=True)\n",
    "    \n",
    "    # Set the scale bar and levels\n",
    "    if (norm_type == 'ref') and zref:\n",
    "        levels = MaxNLocator(nbins=20).tick_values(min(zref), max(zref))\n",
    "    else:\n",
    "        levels = MaxNLocator(nbins=20).tick_values(z.min(), z.max())\n",
    "    if image_rot_angle:\n",
    "        z = scipy.ndimage.rotate(z, image_rot_angle, reshape=True)\n",
    "    #plt1 = ax.imshow(z, cmap=cmap, norm=norm)\n",
    "    plt1 = ax.pcolormesh(x, y, z, cmap=cmap, norm=norm)\n",
    "    ax.set_xlabel(xstr, fontsize=fsize)                                         \n",
    "    ax.set_ylabel(ystr, fontsize=fsize)                                         \n",
    "    ax.set_title(tstr, fontsize=tsize)\n",
    "    \n",
    "    # Rotate the xlabels. Set both x and y labels to headers[1:]\n",
    "    ax.set_xscale(xyscales['x'])\n",
    "    ax.set_yscale(xyscales['y'])\n",
    "    # set_xaxis_rot(ax, 45)\n",
    "                                                                                \n",
    "    # Set the axis tick labels to a reasonable size                             \n",
    "    set_axes_fonts(ax, fsize)                                                   \n",
    "                                                                                \n",
    "    # Set the color bar, offset the title slightly from top                     \n",
    "    cbar = fig.colorbar(plt1, ax=ax)                                            \n",
    "    cbar.ax.set_title(cbar_str, fontsize=fsize, y=1.025)                        \n",
    "    cbar.ax.tick_params(labelsize=fsize)                                        \n",
    "                                                                                \n",
    "    # Write the results to file\n",
    "    print(f'Writing {fname} ...')\n",
    "    fig.savefig(fname, format='pdf', transparent=True)                  "
   ]
  },
  {
   "cell_type": "code",
   "execution_count": 4,
   "metadata": {},
   "outputs": [],
   "source": [
    "'''\n",
    "HFSS eigenmode simulation Creation:\n",
    "\n",
    "This sets up a standard eigenmode simulation without the qubit, just the bare cavity created above. It calculates\n",
    "the mode frequencies, loss (with boundary impedances set) and the electric and magnetic surface participation \n",
    "ratios (S_e, S_m)\n",
    "\n",
    "'''\n",
    "\n",
    "def open_hfss_design(project_name : str, design_name : str):\n",
    "    # Project and HFSS design names for the bare waveguide model\n",
    "    dd = datetime.datetime.today().strftime('%y%m%d')\n",
    "    solution_type = 'eigenmode'\n",
    "    overwrite = False\n",
    "    \n",
    "    # # Switch between degenerate and non-degenerate cavities\n",
    "    # design_name=f'two_coupled_cavities_no_jj_no_silicon_version_a_merged_gnd_sidewall_vacuum_full_geom_sweeps_eigenmode2'\n",
    "    \n",
    "    #use file location path:\n",
    "    HFSS_path=os.getcwd()\n",
    "    \n",
    "    full_path=HFSS_path+'\\\\HFSS\\\\'+project_name+'.aedt'\n",
    "    \n",
    "    HFSS_app=HFSS.HfssApp()\n",
    "    HFSS_desktop=HFSS_app.get_app_desktop()\n",
    "    \n",
    "    project=HFSS_desktop.open_project(full_path)\n",
    "    \n",
    "    if project==None:\n",
    "        project=HFSS_desktop.new_project()\n",
    "        project.save(full_path)\n",
    "        \n",
    "    project.save(full_path)\n",
    "    project.make_active()\n",
    "        \n",
    "    if design_name in project.get_design_names():\n",
    "        if overwrite==True:\n",
    "            project.delete_design(design_name)\n",
    "            project.save()\n",
    "            \n",
    "            # Setup a driven modal design type\n",
    "            if solution_type == 'driven_modal':\n",
    "                EM_design=project.new_dm_design(design_name)\n",
    "            elif solution_type == 'eigenmode':\n",
    "                EM_design=project.new_em_design(design_name)\n",
    "            else:\n",
    "                raise ValueError(f'Solution type ({solution_type}) not recognized.')\n",
    "        else:\n",
    "            EM_design=project.get_design(design_name)\n",
    "            \n",
    "    else:\n",
    "        if solution_type == 'driven_modal':\n",
    "            EM_design=project.new_dm_design(design_name)\n",
    "        elif solution_type == 'eigenmode':\n",
    "            EM_design=project.new_em_design(design_name)\n",
    "        else:\n",
    "            raise ValueError(f'Solution type ({solution_type}) not recognized.')\n",
    "            \n",
    "    EM_design.make_active()\n",
    "    model=HFSS.HfssModeler(EM_design)\n",
    "    \n",
    "    project=HFSS_desktop.open_project(full_path)\n",
    "    \n",
    "    if project==None:\n",
    "        project=HFSS_desktop.new_project()\n",
    "        project.save(full_path)\n",
    "        \n",
    "    project.make_active()\n",
    "        \n",
    "    if design_name in project.get_design_names():\n",
    "        if overwrite==True:\n",
    "            project.delete_design(design_name)\n",
    "            project.save()\n",
    "            EM_design=project.new_em_design(design_name)\n",
    "        else:\n",
    "            EM_design=project.get_design(design_name)\n",
    "            \n",
    "    else:\n",
    "        EM_design=project.new_em_design(design_name)\n",
    "            \n",
    "    EM_design.make_active()\n",
    "    model=HFSS.HfssModeler(EM_design)\n",
    "\n",
    "    return EM_design, HFSS_path"
   ]
  },
  {
   "cell_type": "markdown",
   "metadata": {},
   "source": [
    "## Loop over multiple designs"
   ]
  },
  {
   "cell_type": "code",
   "execution_count": 5,
   "metadata": {},
   "outputs": [],
   "source": [
    "project_name = 'micromachined_coupler'\n",
    "design_prefix = 'two_coupled_cavities_jj_no_silicon_version_a_merged_gnd_sidewall_vacuum_full_geom_sweep_xtunnel'\n",
    "xtunnels = ['', '1', '3', '4', '5', '6', '7']\n",
    "designs = [f'{design_prefix}{xt}' for xt in xtunnels]\n",
    "vstr = 'xtunnel'\n",
    "vunits = 'mm'\n",
    "hfields_file_format = f'hfields_micromachined_mode_%d_{vstr}_%s.aedtplt'\n",
    "efields_file_format = f'efields_micromachined_mode_%d_{vstr}_%s.aedtplt'\n",
    "dpath = 'C:\\\\Users\\\\materise1\\\\tcav\\\\data\\\\'\n",
    "Nmodes = 8"
   ]
  },
  {
   "cell_type": "code",
   "execution_count": 10,
   "metadata": {
    "scrolled": true
   },
   "outputs": [
    {
     "name": "stdout",
     "output_type": "stream",
     "text": [
      "------------------------------\n",
      "Starting with design two_coupled_cavities_no_jj_no_silicon_version_a_merged_gnd_sidewall_vacuum_full_geom_sweep_xtunnel ...\n",
      "------------------------------\n",
      "\n",
      "\n",
      "project_name: micromachined_coupler\n",
      "path: C:\\Users\\materise1\\tcav\\ipynbs\\HFSS\\micromachined_coupler.aedt\n",
      "project_name: micromachined_coupler\n",
      "path: C:\\Users\\materise1\\tcav\\ipynbs\\HFSS\\micromachined_coupler.aedt\n"
     ]
    },
    {
     "name": "stderr",
     "output_type": "stream",
     "text": [
      "INFO 10:21AM [connect_project]: Connecting to Ansys Desktop API...\n",
      "INFO 10:21AM [load_ansys_project]: \tFile path to HFSS project found.\n",
      "INFO 10:21AM [load_ansys_project]: \tOpened Ansys App\n",
      "INFO 10:21AM [load_ansys_project]: \tOpened Ansys Desktop v2022.1.0\n",
      "INFO 10:21AM [load_ansys_project]: \tOpened Ansys Project\n",
      "\tFolder:    C:/Users/materise1/tcav/ipynbs/HFSS/\n",
      "\tProject:   micromachined_coupler\n",
      "INFO 10:21AM [connect_design]: \tOpened active design\n",
      "\tDesign:    two_coupled_cavities_no_jj_no_silicon_version_a_merged_gnd_sidewall_vacuum_full_geom_sweep_xtunnel [Solution type: Eigenmode]\n",
      "INFO 10:21AM [get_setup]: \tOpened setup `Setup1`  (<class 'pyEPR.ansys.HfssEMSetup'>)\n",
      "INFO 10:21AM [connect]: \tConnected to project \"micromachined_coupler\" and design \"two_coupled_cavities_no_jj_no_silicon_version_a_merged_gnd_sidewall_vacuum_full_geom_sweep_xtunnel\" 😀 \n",
      "\n",
      "ERROR 10:21AM [setup_data]: WARNING!   DESIGN FILENAME MAY BE TOO LONG! \n"
     ]
    },
    {
     "name": "stdout",
     "output_type": "stream",
     "text": [
      "Design \"two_coupled_cavities_no_jj_no_silicon_version_a_merged_gnd_sidewall_vacuum_full_geom_sweep_xtunnel\" info:\n",
      "\t# eigenmodes    8\n",
      "\t# variations    1\n",
      "variations: (\"angle_a='54.700000000000003' angle_b='35.299999999999997' cavity_offset='2mm' chip_offset='4mm' h_chip='0.40000000000000002mm' hcav='0.29999999999999999mm' hchip='0.45000000000000001mm' hsub='5mm' leg_length='0.70617532385323001mm' LJ='1nH' ljunc='50um' lpad='-0.050000000000000003mm' ltaper='150um' wjunc='50um' wpad='0.20000000000000301mm' xcav='24mm' xcav_a='24mm' xcav_b='24mm' xchip='28mm' xsub='90mm' xtunnel='8mm' xtunnel0='8mm' xtunnel1='7mm' xtunnel2='6mm' xtunnel3='5mm' xtunnel4='4mm' xtunnel5='3mm' xtunnel6='2mm' ycav='22mm' ycav_a='22mm' ycav_b='22mm' ychip='46mm' ysub='90mm' ytunnel='2mm'\",)\n",
      "Mode-1\n",
      "omod: <COMObject GetModule>\n",
      "efields_filename: efields_micromachined_mode_1_xtunnel_xtunnel0.aedtplt\n",
      "hfields_filename: hfields_micromachined_mode_1_xtunnel_xtunnel0.aedtplt\n"
     ]
    },
    {
     "ename": "com_error",
     "evalue": "(-2147352567, 'Exception occurred.', (0, None, None, None, 0, -2147024365), None)",
     "output_type": "error",
     "traceback": [
      "\u001b[1;31m---------------------------------------------------------------------------\u001b[0m",
      "\u001b[1;31mcom_error\u001b[0m                                 Traceback (most recent call last)",
      "Cell \u001b[1;32mIn[10], line 22\u001b[0m\n\u001b[0;32m     18\u001b[0m efield_file_format \u001b[38;5;241m=\u001b[39m dpath \u001b[38;5;241m+\u001b[39m \u001b[38;5;124mf\u001b[39m\u001b[38;5;124m'\u001b[39m\u001b[38;5;124mefields_micromachined_mode_%d_\u001b[39m\u001b[38;5;132;01m{\u001b[39;00mvstr_i\u001b[38;5;132;01m}\u001b[39;00m\u001b[38;5;124m_%s.aedtplt\u001b[39m\u001b[38;5;124m'\u001b[39m\n\u001b[0;32m     20\u001b[0m \u001b[38;5;66;03m# Note: vars_sorted=None indicates that we are not using the variations\u001b[39;00m\n\u001b[0;32m     21\u001b[0m \u001b[38;5;66;03m#       to drive the EM field exports\u001b[39;00m\n\u001b[1;32m---> 22\u001b[0m export_em_fields(eprh,\n\u001b[0;32m     23\u001b[0m                  EM_design,\n\u001b[0;32m     24\u001b[0m                  Nmodes,\n\u001b[0;32m     25\u001b[0m                  efields_file_format,\n\u001b[0;32m     26\u001b[0m                  hfields_file_format,\n\u001b[0;32m     27\u001b[0m                  vstrs \u001b[38;5;241m=\u001b[39m [vstr_i],\n\u001b[0;32m     28\u001b[0m                  vars_sorted \u001b[38;5;241m=\u001b[39m vars_sorted)\n\u001b[0;32m     29\u001b[0m \u001b[38;5;28mprint\u001b[39m(\u001b[38;5;124m'\u001b[39m\u001b[38;5;124m-\u001b[39m\u001b[38;5;124m'\u001b[39m\u001b[38;5;241m*\u001b[39m\u001b[38;5;241m30\u001b[39m)\n\u001b[0;32m     30\u001b[0m \u001b[38;5;28mprint\u001b[39m(\u001b[38;5;124m'\u001b[39m\u001b[38;5;130;01m\\n\u001b[39;00m\u001b[38;5;124m'\u001b[39m)\n",
      "Cell \u001b[1;32mIn[9], line 26\u001b[0m, in \u001b[0;36mexport_em_fields\u001b[1;34m(eprh, EM_design, Nmodes, efields_file_format, hfields_file_format, vstrs, vars_sorted)\u001b[0m\n\u001b[0;32m     24\u001b[0m             \u001b[38;5;28mprint\u001b[39m(\u001b[38;5;124mf\u001b[39m\u001b[38;5;124m'\u001b[39m\u001b[38;5;124mhfields_filename: \u001b[39m\u001b[38;5;132;01m{\u001b[39;00mhfields_filename\u001b[38;5;132;01m}\u001b[39;00m\u001b[38;5;124m'\u001b[39m)\n\u001b[0;32m     25\u001b[0m             \u001b[38;5;66;03m# omod.ExportFieldPlot(\"Vector_E1\", False, f\"C:\\\\Users\\\\materise1\\\\tcav\\\\data\\\\efields_micromachined_mode_{kp+1}_{vstrs[idx]}.aedtplt\")\u001b[39;00m\n\u001b[1;32m---> 26\u001b[0m             omod\u001b[38;5;241m.\u001b[39mExportFieldPlot(\u001b[38;5;124m\"\u001b[39m\u001b[38;5;124mVector_E1\u001b[39m\u001b[38;5;124m\"\u001b[39m, \u001b[38;5;28;01mFalse\u001b[39;00m, efields_filename)\n\u001b[0;32m     27\u001b[0m             omod\u001b[38;5;241m.\u001b[39mExportFieldPlot(\u001b[38;5;124m\"\u001b[39m\u001b[38;5;124mVector_H1\u001b[39m\u001b[38;5;124m\"\u001b[39m, \u001b[38;5;28;01mFalse\u001b[39;00m, hfields_filename)\n\u001b[0;32m     28\u001b[0m \u001b[38;5;28;01melse\u001b[39;00m:\n",
      "File \u001b[1;32m<COMObject GetModule>:2\u001b[0m, in \u001b[0;36mExportFieldPlot\u001b[1;34m(self, plotName, showHeader, fileName)\u001b[0m\n",
      "\u001b[1;31mcom_error\u001b[0m: (-2147352567, 'Exception occurred.', (0, None, None, None, 0, -2147024365), None)"
     ]
    }
   ],
   "source": [
    "for didx, design in enumerate(designs):\n",
    "    # Open the HFSS design\n",
    "    print('-'*30)\n",
    "    print(f'Starting with design {design} ...')\n",
    "    print('-'*30)\n",
    "    print('\\n')\n",
    "    EM_design, HFSS_path = open_hfss_design(project_name, design)\n",
    "\n",
    "    # Get the sorted variations, if any\n",
    "    eprh, vstrs, Ljstrs, Ljvals, vars_sorted \\\n",
    "    = get_sorted_variations(HFSS_path, project_name, design, vstr=vstr,\n",
    "                           vunits=vunits, Nmodes=Nmodes)\n",
    "    # Export the fields\n",
    "    ## Update the variation string for different filenames\n",
    "    vstr_i = f'{vstr}{didx}'\n",
    "    \n",
    "    hfield_file_format = dpath + f'hfields_micromachined_mode_%d_{vstr_i}_%s.aedtplt'\n",
    "    efield_file_format = dpath + f'efields_micromachined_mode_%d_{vstr_i}_%s.aedtplt'\n",
    "\n",
    "    # Note: vars_sorted=None indicates that we are not using the variations\n",
    "    #       to drive the EM field exports\n",
    "    export_em_fields(eprh,\n",
    "                     EM_design,\n",
    "                     Nmodes,\n",
    "                     efields_file_format,\n",
    "                     hfields_file_format,\n",
    "                     vstrs = [vstr_i],\n",
    "                     vars_sorted = vars_sorted)\n",
    "    print('-'*30)\n",
    "    print('\\n')"
   ]
  },
  {
   "cell_type": "code",
   "execution_count": 43,
   "metadata": {},
   "outputs": [
    {
     "name": "stdout",
     "output_type": "stream",
     "text": [
      "------------------------------\n",
      "Starting with design two_coupled_cavities_no_jj_no_silicon_version_a_merged_gnd_sidewall_vacuum_full_geom_sweep_xtunnel7 ...\n",
      "------------------------------\n",
      "\n",
      "\n",
      "project_name: micromachined_coupler\n",
      "path: C:\\Users\\materise1\\tcav\\ipynbs\\HFSS\\micromachined_coupler.aedt\n",
      "project_name: micromachined_coupler\n",
      "path: C:\\Users\\materise1\\tcav\\ipynbs\\HFSS\\micromachined_coupler.aedt\n"
     ]
    },
    {
     "name": "stderr",
     "output_type": "stream",
     "text": [
      "INFO 11:45AM [connect_project]: Connecting to Ansys Desktop API...\n",
      "INFO 11:45AM [load_ansys_project]: \tFile path to HFSS project found.\n",
      "INFO 11:45AM [load_ansys_project]: \tOpened Ansys App\n",
      "INFO 11:45AM [load_ansys_project]: \tOpened Ansys Desktop v2022.1.0\n",
      "INFO 11:45AM [load_ansys_project]: \tOpened Ansys Project\n",
      "\tFolder:    C:/Users/materise1/tcav/ipynbs/HFSS/\n",
      "\tProject:   micromachined_coupler\n",
      "INFO 11:45AM [connect_design]: \tOpened active design\n",
      "\tDesign:    two_coupled_cavities_no_jj_no_silicon_version_a_merged_gnd_sidewall_vacuum_full_geom_sweep_xtunnel7 [Solution type: Eigenmode]\n",
      "INFO 11:45AM [get_setup]: \tOpened setup `Setup1`  (<class 'pyEPR.ansys.HfssEMSetup'>)\n",
      "INFO 11:45AM [connect]: \tConnected to project \"micromachined_coupler\" and design \"two_coupled_cavities_no_jj_no_silicon_version_a_merged_gnd_sidewall_vacuum_full_geom_sweep_xtunnel7\" 😀 \n",
      "\n",
      "ERROR 11:45AM [setup_data]: WARNING!   DESIGN FILENAME MAY BE TOO LONG! \n"
     ]
    },
    {
     "name": "stdout",
     "output_type": "stream",
     "text": [
      "Design \"two_coupled_cavities_no_jj_no_silicon_version_a_merged_gnd_sidewall_vacuum_full_geom_sweep_xtunnel7\" info:\n",
      "\t# eigenmodes    8\n",
      "\t# variations    1\n",
      "variations: (\"angle_a='54.700000000000003' angle_b='35.299999999999997' cavity_offset='2mm' chip_offset='4mm' h_chip='0.40000000000000002mm' hcav='0.29999999999999999mm' hchip='0.45000000000000001mm' hsub='5mm' leg_length='0.70617532385323001mm' LJ='1nH' ljunc='50um' lpad='-0.050000000000000003mm' ltaper='150um' wjunc='50um' wpad='0.20000000000000301mm' xcav='24mm' xcav_a='24mm' xcav_b='24mm' xchip='28mm' xsub='90mm' xtunnel='8mm' xtunnel0='8mm' xtunnel1='7mm' xtunnel2='6mm' xtunnel3='5mm' xtunnel4='4mm' xtunnel5='3mm' xtunnel6='2mm' ycav='22mm' ycav_a='22mm' ycav_b='22mm' ychip='46mm' ysub='90mm' ytunnel='2mm'\",)\n",
      "Mode-1\n",
      "efields_filename: efields_micromachined_mode_1_xtunnel_2mm.aedtplt\n",
      "hfields_filename: hfields_micromachined_mode_1_xtunnel_2mm.aedtplt\n",
      "Mode-2\n",
      "efields_filename: efields_micromachined_mode_2_xtunnel_2mm.aedtplt\n",
      "hfields_filename: hfields_micromachined_mode_2_xtunnel_2mm.aedtplt\n",
      "Mode-3\n",
      "efields_filename: efields_micromachined_mode_3_xtunnel_2mm.aedtplt\n",
      "hfields_filename: hfields_micromachined_mode_3_xtunnel_2mm.aedtplt\n",
      "Mode-4\n",
      "efields_filename: efields_micromachined_mode_4_xtunnel_2mm.aedtplt\n",
      "hfields_filename: hfields_micromachined_mode_4_xtunnel_2mm.aedtplt\n",
      "Mode-5\n",
      "efields_filename: efields_micromachined_mode_5_xtunnel_2mm.aedtplt\n",
      "hfields_filename: hfields_micromachined_mode_5_xtunnel_2mm.aedtplt\n",
      "Mode-6\n",
      "efields_filename: efields_micromachined_mode_6_xtunnel_2mm.aedtplt\n",
      "hfields_filename: hfields_micromachined_mode_6_xtunnel_2mm.aedtplt\n",
      "Mode-7\n",
      "efields_filename: efields_micromachined_mode_7_xtunnel_2mm.aedtplt\n",
      "hfields_filename: hfields_micromachined_mode_7_xtunnel_2mm.aedtplt\n",
      "Mode-8\n",
      "efields_filename: efields_micromachined_mode_8_xtunnel_2mm.aedtplt\n",
      "hfields_filename: hfields_micromachined_mode_8_xtunnel_2mm.aedtplt\n"
     ]
    }
   ],
   "source": [
    "didx = 6 \n",
    "design = designs[didx]\n",
    "my_xtunnels = [f'{i}mm' for i in range(8, 1, -1)]\n",
    "vstr = my_xtunnels[didx]\n",
    "# Open the HFSS design\n",
    "print('-'*30)\n",
    "print(f'Starting with design {design} ...')\n",
    "print('-'*30)\n",
    "print('\\n')\n",
    "EM_design, HFSS_path = open_hfss_design(project_name, design)\n",
    "\n",
    "# Get the sorted variations, if any\n",
    "eprh, vstrs, Ljstrs, Ljvals, vars_sorted \\\n",
    "= get_sorted_variations(HFSS_path, project_name, design, vstr=vstr,\n",
    "                       vunits=vunits, Nmodes=Nmodes)\n",
    "# Export the fields\n",
    "## Update the variation string for different filenames\n",
    "vstr_i = f'{vstr}{didx}'\n",
    "dpath = 'C:\\\\Users\\\\materise1\\\\tcav\\\\data\\\\'\n",
    "\n",
    "hfield_file_format = dpath + f'hfields_micromachined_mode_%d_%s.aedtplt'\n",
    "efield_file_format = dpath + f'efields_micromachined_mode_%d_%s.aedtplt'\n",
    "\n",
    "for kp in range(Nmodes):\n",
    "    # Set the solution to mode kp\n",
    "    eprh.solutions.set_mode(kp+1)\n",
    "    # time.sleep(0.5)\n",
    "    print(f'Mode-{kp+1}')\n",
    "    des = EM_design._design\n",
    "    omod = des.GetModule('FieldsReporter')\n",
    "    efields_filename = efields_file_format % (kp+1, vstr)\n",
    "    hfields_filename = hfields_file_format % (kp+1, vstr)\n",
    "    print(f'efields_filename: {efields_filename}')\n",
    "    print(f'hfields_filename: {hfields_filename}')\n",
    "    omod.ExportFieldPlot(\"Vector_E1\", False, efields_filename)\n",
    "    omod.ExportFieldPlot(\"Vector_H1\", False, hfields_filename)"
   ]
  },
  {
   "cell_type": "code",
   "execution_count": 6,
   "metadata": {},
   "outputs": [],
   "source": [
    "def get_sorted_variations(HFSS_path : str,\n",
    "                          project_name : str,\n",
    "                          design_name : str,\n",
    "                          vstr : str = 'xtunnel',\n",
    "                          vunits : str = 'mm',\n",
    "                          Nmodes : int = 8):\n",
    "    # Setup the pyEPR project\n",
    "    pinfo = pyEPR.ProjectInfo(HFSS_path+'\\\\HFSS',  \n",
    "                             project_name,\n",
    "                             design_name)\n",
    "    # Setup for EPR anaylsis\n",
    "    eprh = pyEPR.DistributedAnalysis(pinfo)\n",
    "    \n",
    "    # Read off the inductances and x-offsets from the variations\n",
    "    variations = eprh.solutions.list_variations()\n",
    "    vstr = 'cavity_offset'\n",
    "    vstr = 'xtunnel'\n",
    "    vunits = 'mm'\n",
    "    Ljstrs = []; Ljvals = []\n",
    "    #xoffstrs = []; xoff_vals = []\n",
    "    print(f'variations: {variations}')\n",
    "    for v in variations:\n",
    "        Ljstrs.append(regex.findall(f'{vstr}=\\'(.*?{vunits})', v)[0].replace('.', 'p'))\n",
    "        Ljvals.append(float(regex.findall(f'{vstr}=\\'(.*?){vunits}', v)[0]))\n",
    "\n",
    "    # Sort the strings by the values\n",
    "    Lj_sort_idxs = np.argsort(Ljvals)\n",
    "    Ljvals = np.unique(np.asarray(Ljvals)[Lj_sort_idxs])\n",
    "    Ljstrs = np.unique(np.asarray(Ljstrs)[Lj_sort_idxs])\n",
    "\n",
    "    # Variation strings\n",
    "    vstrs = [f'{vstr}_{l}' for l in Ljstrs]\n",
    "\n",
    "    # Sort the variations\n",
    "    vars_sorted = np.asarray(eprh.variations)\n",
    "    vars_sorted = vars_sorted[Lj_sort_idxs]\n",
    "\n",
    "    return eprh, vstrs, Ljstrs, Ljvals, vars_sorted"
   ]
  },
  {
   "cell_type": "code",
   "execution_count": 7,
   "metadata": {},
   "outputs": [
    {
     "ename": "NameError",
     "evalue": "name 'vars_sorted' is not defined",
     "output_type": "error",
     "traceback": [
      "\u001b[1;31m---------------------------------------------------------------------------\u001b[0m",
      "\u001b[1;31mNameError\u001b[0m                                 Traceback (most recent call last)",
      "Cell \u001b[1;32mIn[7], line 1\u001b[0m\n\u001b[1;32m----> 1\u001b[0m vars_sorted\u001b[38;5;241m.\u001b[39msize\n",
      "\u001b[1;31mNameError\u001b[0m: name 'vars_sorted' is not defined"
     ]
    }
   ],
   "source": [
    "vars_sorted.size"
   ]
  },
  {
   "cell_type": "code",
   "execution_count": 8,
   "metadata": {},
   "outputs": [
    {
     "ename": "NameError",
     "evalue": "name 'Ljstrs' is not defined",
     "output_type": "error",
     "traceback": [
      "\u001b[1;31m---------------------------------------------------------------------------\u001b[0m",
      "\u001b[1;31mNameError\u001b[0m                                 Traceback (most recent call last)",
      "Cell \u001b[1;32mIn[8], line 1\u001b[0m\n\u001b[1;32m----> 1\u001b[0m Ljstrs\u001b[38;5;241m.\u001b[39msize\n",
      "\u001b[1;31mNameError\u001b[0m: name 'Ljstrs' is not defined"
     ]
    }
   ],
   "source": [
    "Ljstrs.size"
   ]
  },
  {
   "cell_type": "markdown",
   "metadata": {},
   "source": [
    "## Need to manually create Vector_E plot in GUI first\n",
    "* TODO: Create a new field plot, then export the field data with ansys.py"
   ]
  },
  {
   "cell_type": "code",
   "execution_count": 9,
   "metadata": {},
   "outputs": [],
   "source": [
    "def export_em_fields(eprh,\n",
    "                     EM_design,\n",
    "                     Nmodes : int,\n",
    "                     efields_file_format : str,\n",
    "                     hfields_file_format : str,\n",
    "                     vstrs : list,\n",
    "                     vars_sorted : list = None):\n",
    "    if vars_sorted is not None:\n",
    "        for idx, v in enumerate(vars_sorted):\n",
    "            # Set the variation\n",
    "            eprh.set_variation(v)\n",
    "            lv = eprh._get_lv(v)\n",
    "            for kp in range(Nmodes):\n",
    "                # Set the solution to mode kp\n",
    "                eprh.solutions.set_mode(kp+1)\n",
    "                # time.sleep(0.5)\n",
    "                print(f'Mode-{kp+1}')\n",
    "                des = EM_design._design\n",
    "                omod = des.GetModule('FieldsReporter')\n",
    "                print(f'omod: {omod}')\n",
    "                efields_filename = efields_file_format % (kp+1, vstrs[idx])\n",
    "                hfields_filename = hfields_file_format % (kp+1, vstrs[idx])\n",
    "                print(f'efields_filename: {efields_filename}')\n",
    "                print(f'hfields_filename: {hfields_filename}')\n",
    "                # omod.ExportFieldPlot(\"Vector_E1\", False, f\"C:\\\\Users\\\\materise1\\\\tcav\\\\data\\\\efields_micromachined_mode_{kp+1}_{vstrs[idx]}.aedtplt\")\n",
    "                omod.ExportFieldPlot(\"Vector_E1\", False, efields_filename)\n",
    "                omod.ExportFieldPlot(\"Vector_H1\", False, hfields_filename)\n",
    "    else:\n",
    "        for kp in range(Nmodes):\n",
    "            # Set the solution to mode kp\n",
    "            eprh.solutions.set_mode(kp+1)\n",
    "            # time.sleep(0.5)\n",
    "            print(f'Mode-{kp+1}')\n",
    "            des = EM_design._design\n",
    "            omod = des.GetModule('FieldsReporter')\n",
    "            efields_filename = efields_file_format % (kp+1, vstrs[0])\n",
    "            hfields_filename = hfields_file_format % (kp+1, vstrs[0])\n",
    "            print(f'efields_filename: {efields_filename}')\n",
    "            print(f'hfields_filename: {hfields_filename}')\n",
    "            # omod.ExportFieldPlot(\"Vector_E1\", False, f\"C:\\\\Users\\\\materise1\\\\tcav\\\\data\\\\efields_micromachined_mode_{kp+1}_{vstrs[idx]}.aedtplt\")\n",
    "            omod.ExportFieldPlot(\"Vector_E1\", False, efields_filename)\n",
    "            omod.ExportFieldPlot(\"Vector_H1\", False, hfields_filename)\n",
    "    print('Finished writing field data to file.')"
   ]
  },
  {
   "cell_type": "code",
   "execution_count": 18,
   "metadata": {
    "scrolled": true
   },
   "outputs": [
    {
     "name": "stdout",
     "output_type": "stream",
     "text": [
      "Variation: xtunnel_4mm\n",
      "Mode-1\n",
      "Mode-2\n",
      "Mode-3\n",
      "Mode-4\n",
      "Variation: xtunnel_4p5mm\n",
      "Mode-1\n",
      "Mode-2\n",
      "Mode-3\n",
      "Mode-4\n",
      "Variation: xtunnel_5mm\n",
      "Mode-1\n",
      "Mode-2\n",
      "Mode-3\n",
      "Mode-4\n",
      "Variation: xtunnel_5p5mm\n",
      "Mode-1\n",
      "Mode-2\n",
      "Mode-3\n",
      "Mode-4\n",
      "Variation: xtunnel_6mm\n",
      "Mode-1\n",
      "Mode-2\n",
      "Mode-3\n",
      "Mode-4\n",
      "Variation: xtunnel_6p5mm\n",
      "Mode-1\n",
      "Mode-2\n",
      "Mode-3\n",
      "Mode-4\n",
      "Variation: xtunnel_7mm\n",
      "Mode-1\n",
      "Mode-2\n",
      "Mode-3\n",
      "Mode-4\n",
      "Variation: xtunnel_7p5mm\n",
      "Mode-1\n",
      "Mode-2\n",
      "Mode-3\n",
      "Mode-4\n",
      "Variation: xtunnel_8mm\n",
      "Mode-1\n",
      "Mode-2\n",
      "Mode-3\n",
      "Mode-4\n",
      "Finished writing field data to file.\n"
     ]
    }
   ],
   "source": [
    "# Build a string for each variation to label the output files\n",
    "Nmodes = 4\n",
    "for idx, v in enumerate(vars_sorted):\n",
    "    # Set the variation\n",
    "    eprh.set_variation(v)\n",
    "    lv = eprh._get_lv(v)\n",
    "    print(f'Variation: {vstrs[idx]}')\n",
    "    for kp in range(Nmodes):\n",
    "        # Set the solution to mode kp\n",
    "        eprh.solutions.set_mode(kp+1)\n",
    "        # time.sleep(0.5)\n",
    "        print(f'Mode-{kp+1}')\n",
    "        des = EM_design._design\n",
    "        omod = des.GetModule('FieldsReporter')\n",
    "        omod.ExportFieldPlot(\"Vector_E1\", False, f\"C:\\\\Users\\\\materise1\\\\tcav\\\\data\\\\efields_micromachined_mode_{kp+1}_{vstrs[idx]}.aedtplt\")\n",
    "print('Finished writing field data to file.')"
   ]
  },
  {
   "cell_type": "markdown",
   "metadata": {},
   "source": [
    "## Need to manually create Vector_H (90 degrees phase) plot in GUI first"
   ]
  },
  {
   "cell_type": "code",
   "execution_count": 19,
   "metadata": {
    "scrolled": true
   },
   "outputs": [
    {
     "name": "stdout",
     "output_type": "stream",
     "text": [
      "Variation: xtunnel_4mm\n",
      "Mode-1\n",
      "Mode-2\n",
      "Mode-3\n",
      "Mode-4\n",
      "Variation: xtunnel_4p5mm\n",
      "Mode-1\n",
      "Mode-2\n",
      "Mode-3\n",
      "Mode-4\n",
      "Variation: xtunnel_5mm\n",
      "Mode-1\n",
      "Mode-2\n",
      "Mode-3\n",
      "Mode-4\n",
      "Variation: xtunnel_5p5mm\n",
      "Mode-1\n",
      "Mode-2\n",
      "Mode-3\n",
      "Mode-4\n",
      "Variation: xtunnel_6mm\n",
      "Mode-1\n",
      "Mode-2\n",
      "Mode-3\n",
      "Mode-4\n",
      "Variation: xtunnel_6p5mm\n",
      "Mode-1\n",
      "Mode-2\n",
      "Mode-3\n",
      "Mode-4\n",
      "Variation: xtunnel_7mm\n",
      "Mode-1\n",
      "Mode-2\n",
      "Mode-3\n",
      "Mode-4\n",
      "Variation: xtunnel_7p5mm\n",
      "Mode-1\n",
      "Mode-2\n",
      "Mode-3\n",
      "Mode-4\n",
      "Variation: xtunnel_8mm\n",
      "Mode-1\n",
      "Mode-2\n",
      "Mode-3\n",
      "Mode-4\n",
      "Finished writing field data to file.\n"
     ]
    }
   ],
   "source": [
    "# Build a string for each variation to label the output files\n",
    "Nmodes = 4\n",
    "for idx, v in enumerate(vars_sorted):\n",
    "    # Set the variation\n",
    "    eprh.set_variation(v)\n",
    "    lv = eprh._get_lv(v)\n",
    "    print(f'Variation: {vstrs[idx]}')\n",
    "    for kp in range(Nmodes):\n",
    "        # Set the solution to mode kp\n",
    "        eprh.solutions.set_mode(kp+1)\n",
    "        # time.sleep(0.5)\n",
    "        print(f'Mode-{kp+1}')\n",
    "        des = EM_design._design\n",
    "        omod = des.GetModule('FieldsReporter')\n",
    "        omod.ExportFieldPlot(\"Vector_H1\", False, f\"C:\\\\Users\\\\materise1\\\\tcav\\\\data\\\\hfields_micromachined_mode_{kp+1}_{vstrs[idx]}.aedtplt\")\n",
    "print('Finished writing field data to file.')"
   ]
  },
  {
   "cell_type": "markdown",
   "metadata": {},
   "source": [
    "## Run the field integrals code with correct normalization"
   ]
  },
  {
   "cell_type": "code",
   "execution_count": 53,
   "metadata": {},
   "outputs": [
    {
     "name": "stdout",
     "output_type": "stream",
     "text": [
      "modes: [1 2]\n",
      "Integrals will use normalized fields.\n"
     ]
    }
   ],
   "source": [
    "from importlib import reload\n",
    "reload(fint)\n",
    "# Single point of entry inputs to class\n",
    "Nmodes = 2\n",
    "modes = np.linspace(1, Nmodes, Nmodes, dtype=int)\n",
    "print(f'modes: {modes}')\n",
    "# LJs = np.asarray([0.1, 1., 10., 100.])\n",
    "# LJstrs = ['0p1', '1', '10']\n",
    "\n",
    "data_path = ''\n",
    "# vstr='cavity_offset'\n",
    "hfield_format = f'hfields_micromachined_mode_%d_{vstr}_%s.aedtplt'\n",
    "efield_format = f'efields_micromachined_mode_%d_{vstr}_%s.aedtplt'\n",
    "\n",
    "\n",
    "hfield_format = dpath + f'hfields_micromachined_mode_%d_xtunnel_%s.aedtplt'\n",
    "efield_format = dpath + f'efields_micromachined_mode_%d_xtunnel_%s.aedtplt'\n",
    "\n",
    "Ljstrs = my_xtunnels\n",
    "Lj_vals = np.asarray(list(range(8, 1, -1)))\n",
    "\n",
    "Nmodes = 2\n",
    "tic = time.time()\n",
    "myfields = fint.FieldIntegrals(# eprh,\n",
    "                 Nmodes, data_path,\n",
    "                 Lj_vals, np.array([0]*len(Lj_vals)),\n",
    "                 Ljstrs,\n",
    "                 hfield_format, efield_format,\n",
    "                 jjstr=None, LJstr=None,\n",
    "                 jj_area = None, debug=False,\n",
    "                 normalize_fields=True)\n"
   ]
  },
  {
   "cell_type": "code",
   "execution_count": 54,
   "metadata": {
    "scrolled": true
   },
   "outputs": [
    {
     "name": "stdout",
     "output_type": "stream",
     "text": [
      "load_fields() modes: [1 2]\n",
      "Loading Mode-1 ...\n",
      "Loading Mode-2 ...\n",
      "Computing Akkp ...\n",
      "Running kkp1_1_LJLJp_8mm_8mm ...\n",
      "Running kkp1_1_LJLJp_8mm_7mm ...\n",
      "Running kkp1_1_LJLJp_8mm_6mm ...\n",
      "Running kkp1_1_LJLJp_8mm_5mm ...\n",
      "Running kkp1_1_LJLJp_8mm_4mm ...\n",
      "Running kkp1_1_LJLJp_8mm_3mm ...\n",
      "Running kkp1_1_LJLJp_8mm_2mm ...\n",
      "Running kkp1_1_LJLJp_7mm_8mm ...\n",
      "Running kkp1_1_LJLJp_7mm_7mm ...\n",
      "Running kkp1_1_LJLJp_7mm_6mm ...\n",
      "Running kkp1_1_LJLJp_7mm_5mm ...\n",
      "Running kkp1_1_LJLJp_7mm_4mm ...\n",
      "Running kkp1_1_LJLJp_7mm_3mm ...\n",
      "Running kkp1_1_LJLJp_7mm_2mm ...\n",
      "Running kkp1_1_LJLJp_6mm_8mm ...\n",
      "Running kkp1_1_LJLJp_6mm_7mm ...\n",
      "Running kkp1_1_LJLJp_6mm_6mm ...\n",
      "Running kkp1_1_LJLJp_6mm_5mm ...\n",
      "Running kkp1_1_LJLJp_6mm_4mm ...\n",
      "Running kkp1_1_LJLJp_6mm_3mm ...\n",
      "Running kkp1_1_LJLJp_6mm_2mm ...\n",
      "Running kkp1_1_LJLJp_5mm_8mm ...\n",
      "Running kkp1_1_LJLJp_5mm_7mm ...\n",
      "Running kkp1_1_LJLJp_5mm_6mm ...\n",
      "Running kkp1_1_LJLJp_5mm_5mm ...\n",
      "Running kkp1_1_LJLJp_5mm_4mm ...\n",
      "Running kkp1_1_LJLJp_5mm_3mm ...\n",
      "Running kkp1_1_LJLJp_5mm_2mm ...\n",
      "Running kkp1_1_LJLJp_4mm_8mm ...\n",
      "Running kkp1_1_LJLJp_4mm_7mm ...\n",
      "Running kkp1_1_LJLJp_4mm_6mm ...\n",
      "Running kkp1_1_LJLJp_4mm_5mm ...\n",
      "Running kkp1_1_LJLJp_4mm_4mm ...\n",
      "Running kkp1_1_LJLJp_4mm_3mm ...\n",
      "Running kkp1_1_LJLJp_4mm_2mm ...\n",
      "Running kkp1_1_LJLJp_3mm_8mm ...\n",
      "Running kkp1_1_LJLJp_3mm_7mm ...\n",
      "Running kkp1_1_LJLJp_3mm_6mm ...\n",
      "Running kkp1_1_LJLJp_3mm_5mm ...\n",
      "Running kkp1_1_LJLJp_3mm_4mm ...\n",
      "Running kkp1_1_LJLJp_3mm_3mm ...\n",
      "Running kkp1_1_LJLJp_3mm_2mm ...\n",
      "Running kkp1_1_LJLJp_2mm_8mm ...\n",
      "Running kkp1_1_LJLJp_2mm_7mm ...\n",
      "Running kkp1_1_LJLJp_2mm_6mm ...\n",
      "Running kkp1_1_LJLJp_2mm_5mm ...\n",
      "Running kkp1_1_LJLJp_2mm_4mm ...\n",
      "Running kkp1_1_LJLJp_2mm_3mm ...\n",
      "Running kkp1_1_LJLJp_2mm_2mm ...\n",
      "Running kkp1_2_LJLJp_8mm_8mm ...\n",
      "Running kkp1_2_LJLJp_8mm_7mm ...\n",
      "Running kkp1_2_LJLJp_8mm_6mm ...\n",
      "Running kkp1_2_LJLJp_8mm_5mm ...\n",
      "Running kkp1_2_LJLJp_8mm_4mm ...\n",
      "Running kkp1_2_LJLJp_8mm_3mm ...\n",
      "Running kkp1_2_LJLJp_8mm_2mm ...\n",
      "Running kkp1_2_LJLJp_7mm_8mm ...\n",
      "Running kkp1_2_LJLJp_7mm_7mm ...\n",
      "Running kkp1_2_LJLJp_7mm_6mm ...\n",
      "Running kkp1_2_LJLJp_7mm_5mm ...\n",
      "Running kkp1_2_LJLJp_7mm_4mm ...\n",
      "Running kkp1_2_LJLJp_7mm_3mm ...\n",
      "Running kkp1_2_LJLJp_7mm_2mm ...\n",
      "Running kkp1_2_LJLJp_6mm_8mm ...\n",
      "Running kkp1_2_LJLJp_6mm_7mm ...\n",
      "Running kkp1_2_LJLJp_6mm_6mm ...\n",
      "Running kkp1_2_LJLJp_6mm_5mm ...\n",
      "Running kkp1_2_LJLJp_6mm_4mm ...\n",
      "Running kkp1_2_LJLJp_6mm_3mm ...\n",
      "Running kkp1_2_LJLJp_6mm_2mm ...\n",
      "Running kkp1_2_LJLJp_5mm_8mm ...\n",
      "Running kkp1_2_LJLJp_5mm_7mm ...\n",
      "Running kkp1_2_LJLJp_5mm_6mm ...\n",
      "Running kkp1_2_LJLJp_5mm_5mm ...\n",
      "Running kkp1_2_LJLJp_5mm_4mm ...\n",
      "Running kkp1_2_LJLJp_5mm_3mm ...\n",
      "Running kkp1_2_LJLJp_5mm_2mm ...\n",
      "Running kkp1_2_LJLJp_4mm_8mm ...\n",
      "Running kkp1_2_LJLJp_4mm_7mm ...\n",
      "Running kkp1_2_LJLJp_4mm_6mm ...\n",
      "Running kkp1_2_LJLJp_4mm_5mm ...\n",
      "Running kkp1_2_LJLJp_4mm_4mm ...\n",
      "Running kkp1_2_LJLJp_4mm_3mm ...\n",
      "Running kkp1_2_LJLJp_4mm_2mm ...\n",
      "Running kkp1_2_LJLJp_3mm_8mm ...\n",
      "Running kkp1_2_LJLJp_3mm_7mm ...\n",
      "Running kkp1_2_LJLJp_3mm_6mm ...\n",
      "Running kkp1_2_LJLJp_3mm_5mm ...\n",
      "Running kkp1_2_LJLJp_3mm_4mm ...\n",
      "Running kkp1_2_LJLJp_3mm_3mm ...\n",
      "Running kkp1_2_LJLJp_3mm_2mm ...\n",
      "Running kkp1_2_LJLJp_2mm_8mm ...\n",
      "Running kkp1_2_LJLJp_2mm_7mm ...\n",
      "Running kkp1_2_LJLJp_2mm_6mm ...\n",
      "Running kkp1_2_LJLJp_2mm_5mm ...\n",
      "Running kkp1_2_LJLJp_2mm_4mm ...\n",
      "Running kkp1_2_LJLJp_2mm_3mm ...\n",
      "Running kkp1_2_LJLJp_2mm_2mm ...\n",
      "Running kkp2_1_LJLJp_8mm_8mm ...\n",
      "Running kkp2_1_LJLJp_8mm_7mm ...\n",
      "Running kkp2_1_LJLJp_8mm_6mm ...\n",
      "Running kkp2_1_LJLJp_8mm_5mm ...\n",
      "Running kkp2_1_LJLJp_8mm_4mm ...\n",
      "Running kkp2_1_LJLJp_8mm_3mm ...\n",
      "Running kkp2_1_LJLJp_8mm_2mm ...\n",
      "Running kkp2_1_LJLJp_7mm_8mm ...\n",
      "Running kkp2_1_LJLJp_7mm_7mm ...\n",
      "Running kkp2_1_LJLJp_7mm_6mm ...\n",
      "Running kkp2_1_LJLJp_7mm_5mm ...\n",
      "Running kkp2_1_LJLJp_7mm_4mm ...\n",
      "Running kkp2_1_LJLJp_7mm_3mm ...\n",
      "Running kkp2_1_LJLJp_7mm_2mm ...\n",
      "Running kkp2_1_LJLJp_6mm_8mm ...\n",
      "Running kkp2_1_LJLJp_6mm_7mm ...\n",
      "Running kkp2_1_LJLJp_6mm_6mm ...\n",
      "Running kkp2_1_LJLJp_6mm_5mm ...\n",
      "Running kkp2_1_LJLJp_6mm_4mm ...\n",
      "Running kkp2_1_LJLJp_6mm_3mm ...\n",
      "Running kkp2_1_LJLJp_6mm_2mm ...\n",
      "Running kkp2_1_LJLJp_5mm_8mm ...\n",
      "Running kkp2_1_LJLJp_5mm_7mm ...\n",
      "Running kkp2_1_LJLJp_5mm_6mm ...\n",
      "Running kkp2_1_LJLJp_5mm_5mm ...\n",
      "Running kkp2_1_LJLJp_5mm_4mm ...\n",
      "Running kkp2_1_LJLJp_5mm_3mm ...\n",
      "Running kkp2_1_LJLJp_5mm_2mm ...\n",
      "Running kkp2_1_LJLJp_4mm_8mm ...\n",
      "Running kkp2_1_LJLJp_4mm_7mm ...\n",
      "Running kkp2_1_LJLJp_4mm_6mm ...\n",
      "Running kkp2_1_LJLJp_4mm_5mm ...\n",
      "Running kkp2_1_LJLJp_4mm_4mm ...\n",
      "Running kkp2_1_LJLJp_4mm_3mm ...\n",
      "Running kkp2_1_LJLJp_4mm_2mm ...\n",
      "Running kkp2_1_LJLJp_3mm_8mm ...\n",
      "Running kkp2_1_LJLJp_3mm_7mm ...\n",
      "Running kkp2_1_LJLJp_3mm_6mm ...\n",
      "Running kkp2_1_LJLJp_3mm_5mm ...\n",
      "Running kkp2_1_LJLJp_3mm_4mm ...\n",
      "Running kkp2_1_LJLJp_3mm_3mm ...\n",
      "Running kkp2_1_LJLJp_3mm_2mm ...\n",
      "Running kkp2_1_LJLJp_2mm_8mm ...\n",
      "Running kkp2_1_LJLJp_2mm_7mm ...\n",
      "Running kkp2_1_LJLJp_2mm_6mm ...\n",
      "Running kkp2_1_LJLJp_2mm_5mm ...\n",
      "Running kkp2_1_LJLJp_2mm_4mm ...\n",
      "Running kkp2_1_LJLJp_2mm_3mm ...\n",
      "Running kkp2_1_LJLJp_2mm_2mm ...\n",
      "Running kkp2_2_LJLJp_8mm_8mm ...\n",
      "Running kkp2_2_LJLJp_8mm_7mm ...\n",
      "Running kkp2_2_LJLJp_8mm_6mm ...\n",
      "Running kkp2_2_LJLJp_8mm_5mm ...\n",
      "Running kkp2_2_LJLJp_8mm_4mm ...\n",
      "Running kkp2_2_LJLJp_8mm_3mm ...\n",
      "Running kkp2_2_LJLJp_8mm_2mm ...\n",
      "Running kkp2_2_LJLJp_7mm_8mm ...\n",
      "Running kkp2_2_LJLJp_7mm_7mm ...\n",
      "Running kkp2_2_LJLJp_7mm_6mm ...\n",
      "Running kkp2_2_LJLJp_7mm_5mm ...\n",
      "Running kkp2_2_LJLJp_7mm_4mm ...\n",
      "Running kkp2_2_LJLJp_7mm_3mm ...\n",
      "Running kkp2_2_LJLJp_7mm_2mm ...\n",
      "Running kkp2_2_LJLJp_6mm_8mm ...\n",
      "Running kkp2_2_LJLJp_6mm_7mm ...\n",
      "Running kkp2_2_LJLJp_6mm_6mm ...\n",
      "Running kkp2_2_LJLJp_6mm_5mm ...\n",
      "Running kkp2_2_LJLJp_6mm_4mm ...\n",
      "Running kkp2_2_LJLJp_6mm_3mm ...\n",
      "Running kkp2_2_LJLJp_6mm_2mm ...\n",
      "Running kkp2_2_LJLJp_5mm_8mm ...\n",
      "Running kkp2_2_LJLJp_5mm_7mm ...\n",
      "Running kkp2_2_LJLJp_5mm_6mm ...\n",
      "Running kkp2_2_LJLJp_5mm_5mm ...\n",
      "Running kkp2_2_LJLJp_5mm_4mm ...\n",
      "Running kkp2_2_LJLJp_5mm_3mm ...\n",
      "Running kkp2_2_LJLJp_5mm_2mm ...\n",
      "Running kkp2_2_LJLJp_4mm_8mm ...\n",
      "Running kkp2_2_LJLJp_4mm_7mm ...\n",
      "Running kkp2_2_LJLJp_4mm_6mm ...\n",
      "Running kkp2_2_LJLJp_4mm_5mm ...\n",
      "Running kkp2_2_LJLJp_4mm_4mm ...\n",
      "Running kkp2_2_LJLJp_4mm_3mm ...\n",
      "Running kkp2_2_LJLJp_4mm_2mm ...\n",
      "Running kkp2_2_LJLJp_3mm_8mm ...\n",
      "Running kkp2_2_LJLJp_3mm_7mm ...\n",
      "Running kkp2_2_LJLJp_3mm_6mm ...\n",
      "Running kkp2_2_LJLJp_3mm_5mm ...\n",
      "Running kkp2_2_LJLJp_3mm_4mm ...\n",
      "Running kkp2_2_LJLJp_3mm_3mm ...\n",
      "Running kkp2_2_LJLJp_3mm_2mm ...\n",
      "Running kkp2_2_LJLJp_2mm_8mm ...\n",
      "Running kkp2_2_LJLJp_2mm_7mm ...\n",
      "Running kkp2_2_LJLJp_2mm_6mm ...\n",
      "Running kkp2_2_LJLJp_2mm_5mm ...\n",
      "Running kkp2_2_LJLJp_2mm_4mm ...\n",
      "Running kkp2_2_LJLJp_2mm_3mm ...\n",
      "Running kkp2_2_LJLJp_2mm_2mm ...\n",
      "Computing Bkkp ...\n",
      "load_fields() modes: [1 2]\n",
      "Loading Mode-1 ...\n",
      "Loading Mode-2 ...\n",
      "Running kkp1_1_LJLJp_8mm_8mm ...\n",
      "Running kkp1_1_LJLJp_8mm_7mm ...\n",
      "Running kkp1_1_LJLJp_8mm_6mm ...\n",
      "Running kkp1_1_LJLJp_8mm_5mm ...\n",
      "Running kkp1_1_LJLJp_8mm_4mm ...\n",
      "Running kkp1_1_LJLJp_8mm_3mm ...\n",
      "Running kkp1_1_LJLJp_8mm_2mm ...\n",
      "Running kkp1_1_LJLJp_7mm_8mm ...\n",
      "Running kkp1_1_LJLJp_7mm_7mm ...\n",
      "Running kkp1_1_LJLJp_7mm_6mm ...\n",
      "Running kkp1_1_LJLJp_7mm_5mm ...\n",
      "Running kkp1_1_LJLJp_7mm_4mm ...\n",
      "Running kkp1_1_LJLJp_7mm_3mm ...\n",
      "Running kkp1_1_LJLJp_7mm_2mm ...\n",
      "Running kkp1_1_LJLJp_6mm_8mm ...\n",
      "Running kkp1_1_LJLJp_6mm_7mm ...\n",
      "Running kkp1_1_LJLJp_6mm_6mm ...\n",
      "Running kkp1_1_LJLJp_6mm_5mm ...\n",
      "Running kkp1_1_LJLJp_6mm_4mm ...\n",
      "Running kkp1_1_LJLJp_6mm_3mm ...\n",
      "Running kkp1_1_LJLJp_6mm_2mm ...\n",
      "Running kkp1_1_LJLJp_5mm_8mm ...\n",
      "Running kkp1_1_LJLJp_5mm_7mm ...\n",
      "Running kkp1_1_LJLJp_5mm_6mm ...\n",
      "Running kkp1_1_LJLJp_5mm_5mm ...\n",
      "Running kkp1_1_LJLJp_5mm_4mm ...\n",
      "Running kkp1_1_LJLJp_5mm_3mm ...\n",
      "Running kkp1_1_LJLJp_5mm_2mm ...\n",
      "Running kkp1_1_LJLJp_4mm_8mm ...\n",
      "Running kkp1_1_LJLJp_4mm_7mm ...\n",
      "Running kkp1_1_LJLJp_4mm_6mm ...\n",
      "Running kkp1_1_LJLJp_4mm_5mm ...\n",
      "Running kkp1_1_LJLJp_4mm_4mm ...\n",
      "Running kkp1_1_LJLJp_4mm_3mm ...\n",
      "Running kkp1_1_LJLJp_4mm_2mm ...\n",
      "Running kkp1_1_LJLJp_3mm_8mm ...\n",
      "Running kkp1_1_LJLJp_3mm_7mm ...\n",
      "Running kkp1_1_LJLJp_3mm_6mm ...\n",
      "Running kkp1_1_LJLJp_3mm_5mm ...\n",
      "Running kkp1_1_LJLJp_3mm_4mm ...\n",
      "Running kkp1_1_LJLJp_3mm_3mm ...\n",
      "Running kkp1_1_LJLJp_3mm_2mm ...\n",
      "Running kkp1_1_LJLJp_2mm_8mm ...\n",
      "Running kkp1_1_LJLJp_2mm_7mm ...\n",
      "Running kkp1_1_LJLJp_2mm_6mm ...\n",
      "Running kkp1_1_LJLJp_2mm_5mm ...\n",
      "Running kkp1_1_LJLJp_2mm_4mm ...\n",
      "Running kkp1_1_LJLJp_2mm_3mm ...\n",
      "Running kkp1_1_LJLJp_2mm_2mm ...\n",
      "Running kkp1_2_LJLJp_8mm_8mm ...\n",
      "Running kkp1_2_LJLJp_8mm_7mm ...\n",
      "Running kkp1_2_LJLJp_8mm_6mm ...\n",
      "Running kkp1_2_LJLJp_8mm_5mm ...\n",
      "Running kkp1_2_LJLJp_8mm_4mm ...\n",
      "Running kkp1_2_LJLJp_8mm_3mm ...\n",
      "Running kkp1_2_LJLJp_8mm_2mm ...\n",
      "Running kkp1_2_LJLJp_7mm_8mm ...\n",
      "Running kkp1_2_LJLJp_7mm_7mm ...\n",
      "Running kkp1_2_LJLJp_7mm_6mm ...\n",
      "Running kkp1_2_LJLJp_7mm_5mm ...\n",
      "Running kkp1_2_LJLJp_7mm_4mm ...\n",
      "Running kkp1_2_LJLJp_7mm_3mm ...\n",
      "Running kkp1_2_LJLJp_7mm_2mm ...\n",
      "Running kkp1_2_LJLJp_6mm_8mm ...\n",
      "Running kkp1_2_LJLJp_6mm_7mm ...\n",
      "Running kkp1_2_LJLJp_6mm_6mm ...\n",
      "Running kkp1_2_LJLJp_6mm_5mm ...\n",
      "Running kkp1_2_LJLJp_6mm_4mm ...\n",
      "Running kkp1_2_LJLJp_6mm_3mm ...\n",
      "Running kkp1_2_LJLJp_6mm_2mm ...\n",
      "Running kkp1_2_LJLJp_5mm_8mm ...\n",
      "Running kkp1_2_LJLJp_5mm_7mm ...\n",
      "Running kkp1_2_LJLJp_5mm_6mm ...\n",
      "Running kkp1_2_LJLJp_5mm_5mm ...\n",
      "Running kkp1_2_LJLJp_5mm_4mm ...\n",
      "Running kkp1_2_LJLJp_5mm_3mm ...\n",
      "Running kkp1_2_LJLJp_5mm_2mm ...\n",
      "Running kkp1_2_LJLJp_4mm_8mm ...\n",
      "Running kkp1_2_LJLJp_4mm_7mm ...\n",
      "Running kkp1_2_LJLJp_4mm_6mm ...\n",
      "Running kkp1_2_LJLJp_4mm_5mm ...\n",
      "Running kkp1_2_LJLJp_4mm_4mm ...\n",
      "Running kkp1_2_LJLJp_4mm_3mm ...\n",
      "Running kkp1_2_LJLJp_4mm_2mm ...\n",
      "Running kkp1_2_LJLJp_3mm_8mm ...\n",
      "Running kkp1_2_LJLJp_3mm_7mm ...\n",
      "Running kkp1_2_LJLJp_3mm_6mm ...\n",
      "Running kkp1_2_LJLJp_3mm_5mm ...\n",
      "Running kkp1_2_LJLJp_3mm_4mm ...\n",
      "Running kkp1_2_LJLJp_3mm_3mm ...\n",
      "Running kkp1_2_LJLJp_3mm_2mm ...\n",
      "Running kkp1_2_LJLJp_2mm_8mm ...\n",
      "Running kkp1_2_LJLJp_2mm_7mm ...\n",
      "Running kkp1_2_LJLJp_2mm_6mm ...\n",
      "Running kkp1_2_LJLJp_2mm_5mm ...\n",
      "Running kkp1_2_LJLJp_2mm_4mm ...\n",
      "Running kkp1_2_LJLJp_2mm_3mm ...\n",
      "Running kkp1_2_LJLJp_2mm_2mm ...\n",
      "Running kkp2_1_LJLJp_8mm_8mm ...\n",
      "Running kkp2_1_LJLJp_8mm_7mm ...\n",
      "Running kkp2_1_LJLJp_8mm_6mm ...\n",
      "Running kkp2_1_LJLJp_8mm_5mm ...\n",
      "Running kkp2_1_LJLJp_8mm_4mm ...\n",
      "Running kkp2_1_LJLJp_8mm_3mm ...\n",
      "Running kkp2_1_LJLJp_8mm_2mm ...\n",
      "Running kkp2_1_LJLJp_7mm_8mm ...\n",
      "Running kkp2_1_LJLJp_7mm_7mm ...\n",
      "Running kkp2_1_LJLJp_7mm_6mm ...\n",
      "Running kkp2_1_LJLJp_7mm_5mm ...\n",
      "Running kkp2_1_LJLJp_7mm_4mm ...\n",
      "Running kkp2_1_LJLJp_7mm_3mm ...\n",
      "Running kkp2_1_LJLJp_7mm_2mm ...\n",
      "Running kkp2_1_LJLJp_6mm_8mm ...\n",
      "Running kkp2_1_LJLJp_6mm_7mm ...\n",
      "Running kkp2_1_LJLJp_6mm_6mm ...\n",
      "Running kkp2_1_LJLJp_6mm_5mm ...\n",
      "Running kkp2_1_LJLJp_6mm_4mm ...\n",
      "Running kkp2_1_LJLJp_6mm_3mm ...\n",
      "Running kkp2_1_LJLJp_6mm_2mm ...\n",
      "Running kkp2_1_LJLJp_5mm_8mm ...\n",
      "Running kkp2_1_LJLJp_5mm_7mm ...\n",
      "Running kkp2_1_LJLJp_5mm_6mm ...\n",
      "Running kkp2_1_LJLJp_5mm_5mm ...\n",
      "Running kkp2_1_LJLJp_5mm_4mm ...\n",
      "Running kkp2_1_LJLJp_5mm_3mm ...\n",
      "Running kkp2_1_LJLJp_5mm_2mm ...\n",
      "Running kkp2_1_LJLJp_4mm_8mm ...\n",
      "Running kkp2_1_LJLJp_4mm_7mm ...\n",
      "Running kkp2_1_LJLJp_4mm_6mm ...\n",
      "Running kkp2_1_LJLJp_4mm_5mm ...\n",
      "Running kkp2_1_LJLJp_4mm_4mm ...\n",
      "Running kkp2_1_LJLJp_4mm_3mm ...\n",
      "Running kkp2_1_LJLJp_4mm_2mm ...\n",
      "Running kkp2_1_LJLJp_3mm_8mm ...\n",
      "Running kkp2_1_LJLJp_3mm_7mm ...\n",
      "Running kkp2_1_LJLJp_3mm_6mm ...\n",
      "Running kkp2_1_LJLJp_3mm_5mm ...\n",
      "Running kkp2_1_LJLJp_3mm_4mm ...\n",
      "Running kkp2_1_LJLJp_3mm_3mm ...\n",
      "Running kkp2_1_LJLJp_3mm_2mm ...\n",
      "Running kkp2_1_LJLJp_2mm_8mm ...\n",
      "Running kkp2_1_LJLJp_2mm_7mm ...\n",
      "Running kkp2_1_LJLJp_2mm_6mm ...\n",
      "Running kkp2_1_LJLJp_2mm_5mm ...\n",
      "Running kkp2_1_LJLJp_2mm_4mm ...\n",
      "Running kkp2_1_LJLJp_2mm_3mm ...\n",
      "Running kkp2_1_LJLJp_2mm_2mm ...\n",
      "Running kkp2_2_LJLJp_8mm_8mm ...\n",
      "Running kkp2_2_LJLJp_8mm_7mm ...\n",
      "Running kkp2_2_LJLJp_8mm_6mm ...\n",
      "Running kkp2_2_LJLJp_8mm_5mm ...\n",
      "Running kkp2_2_LJLJp_8mm_4mm ...\n",
      "Running kkp2_2_LJLJp_8mm_3mm ...\n",
      "Running kkp2_2_LJLJp_8mm_2mm ...\n",
      "Running kkp2_2_LJLJp_7mm_8mm ...\n",
      "Running kkp2_2_LJLJp_7mm_7mm ...\n",
      "Running kkp2_2_LJLJp_7mm_6mm ...\n",
      "Running kkp2_2_LJLJp_7mm_5mm ...\n",
      "Running kkp2_2_LJLJp_7mm_4mm ...\n",
      "Running kkp2_2_LJLJp_7mm_3mm ...\n",
      "Running kkp2_2_LJLJp_7mm_2mm ...\n",
      "Running kkp2_2_LJLJp_6mm_8mm ...\n",
      "Running kkp2_2_LJLJp_6mm_7mm ...\n",
      "Running kkp2_2_LJLJp_6mm_6mm ...\n",
      "Running kkp2_2_LJLJp_6mm_5mm ...\n",
      "Running kkp2_2_LJLJp_6mm_4mm ...\n",
      "Running kkp2_2_LJLJp_6mm_3mm ...\n",
      "Running kkp2_2_LJLJp_6mm_2mm ...\n",
      "Running kkp2_2_LJLJp_5mm_8mm ...\n",
      "Running kkp2_2_LJLJp_5mm_7mm ...\n",
      "Running kkp2_2_LJLJp_5mm_6mm ...\n",
      "Running kkp2_2_LJLJp_5mm_5mm ...\n",
      "Running kkp2_2_LJLJp_5mm_4mm ...\n",
      "Running kkp2_2_LJLJp_5mm_3mm ...\n",
      "Running kkp2_2_LJLJp_5mm_2mm ...\n",
      "Running kkp2_2_LJLJp_4mm_8mm ...\n",
      "Running kkp2_2_LJLJp_4mm_7mm ...\n",
      "Running kkp2_2_LJLJp_4mm_6mm ...\n",
      "Running kkp2_2_LJLJp_4mm_5mm ...\n",
      "Running kkp2_2_LJLJp_4mm_4mm ...\n",
      "Running kkp2_2_LJLJp_4mm_3mm ...\n",
      "Running kkp2_2_LJLJp_4mm_2mm ...\n",
      "Running kkp2_2_LJLJp_3mm_8mm ...\n",
      "Running kkp2_2_LJLJp_3mm_7mm ...\n",
      "Running kkp2_2_LJLJp_3mm_6mm ...\n",
      "Running kkp2_2_LJLJp_3mm_5mm ...\n",
      "Running kkp2_2_LJLJp_3mm_4mm ...\n",
      "Running kkp2_2_LJLJp_3mm_3mm ...\n",
      "Running kkp2_2_LJLJp_3mm_2mm ...\n",
      "Running kkp2_2_LJLJp_2mm_8mm ...\n",
      "Running kkp2_2_LJLJp_2mm_7mm ...\n",
      "Running kkp2_2_LJLJp_2mm_6mm ...\n",
      "Running kkp2_2_LJLJp_2mm_5mm ...\n",
      "Running kkp2_2_LJLJp_2mm_4mm ...\n",
      "Running kkp2_2_LJLJp_2mm_3mm ...\n",
      "Running kkp2_2_LJLJp_2mm_2mm ...\n",
      "Repairing Akkp, Bkkp ...\n",
      "Elapsed time: 0.3 hours\n"
     ]
    }
   ],
   "source": [
    "tic = time.time()\n",
    "AE, AH, XE, XH = myfields.solve_AB_matrix_eqs()\n",
    "toc = time.time() - tic\n",
    "print(f'Elapsed time: {toc / 3600:.1f} hours')"
   ]
  },
  {
   "cell_type": "markdown",
   "metadata": {},
   "source": [
    "### Compute the bare coupling rates"
   ]
  },
  {
   "cell_type": "code",
   "execution_count": 22,
   "metadata": {},
   "outputs": [
    {
     "name": "stdout",
     "output_type": "stream",
     "text": [
      "wk.shape: (4, 4, 9)\n",
      "Ljstr.shape: (9,)\n",
      "Lj_sort_idxs.shape: (9,)\n"
     ]
    }
   ],
   "source": [
    "from importlib import reload\n",
    "reload(fint)\n",
    "mypcpl = fint.ParametricCouplings(AE, AH, XE, XH, eprh=eprh,\n",
    "                                  Nmodes_in=Nmodes, vstr=vstr, vunits=vunits)"
   ]
  },
  {
   "cell_type": "code",
   "execution_count": 23,
   "metadata": {},
   "outputs": [
    {
     "data": {
      "text/plain": [
       "array(['4mm', '4p5mm', '5mm', '5p5mm', '6mm', '6p5mm', '7mm', '7p5mm',\n",
       "       '8mm'], dtype='<U5')"
      ]
     },
     "execution_count": 23,
     "metadata": {},
     "output_type": "execute_result"
    }
   ],
   "source": [
    "Ljstrs"
   ]
  },
  {
   "cell_type": "code",
   "execution_count": 24,
   "metadata": {},
   "outputs": [
    {
     "data": {
      "text/plain": [
       "array([4. , 4.5, 5. , 5.5, 6. , 6.5, 7. , 7.5, 8. ])"
      ]
     },
     "execution_count": 24,
     "metadata": {},
     "output_type": "execute_result"
    }
   ],
   "source": [
    "Lj_vals"
   ]
  },
  {
   "cell_type": "code",
   "execution_count": 25,
   "metadata": {},
   "outputs": [
    {
     "data": {
      "text/plain": [
       "(9, 9, 4, 4)"
      ]
     },
     "execution_count": 25,
     "metadata": {},
     "output_type": "execute_result"
    }
   ],
   "source": [
    "AE.shape"
   ]
  },
  {
   "cell_type": "code",
   "execution_count": 26,
   "metadata": {},
   "outputs": [
    {
     "data": {
      "text/plain": [
       "(9, 9, 4, 4)"
      ]
     },
     "execution_count": 26,
     "metadata": {},
     "output_type": "execute_result"
    }
   ],
   "source": [
    "XE.shape"
   ]
  },
  {
   "cell_type": "code",
   "execution_count": 27,
   "metadata": {},
   "outputs": [
    {
     "data": {
      "text/plain": [
       "(9, 9, 4, 4)"
      ]
     },
     "execution_count": 27,
     "metadata": {},
     "output_type": "execute_result"
    }
   ],
   "source": [
    "AH.shape"
   ]
  },
  {
   "cell_type": "code",
   "execution_count": 28,
   "metadata": {},
   "outputs": [
    {
     "data": {
      "text/plain": [
       "(9, 9, 4, 4)"
      ]
     },
     "execution_count": 28,
     "metadata": {},
     "output_type": "execute_result"
    }
   ],
   "source": [
    "XH.shape"
   ]
  },
  {
   "cell_type": "code",
   "execution_count": 42,
   "metadata": {},
   "outputs": [],
   "source": [
    "wks, gsmsk = mypcpl.get_w_gsms_k(0, units='Hz')\n",
    "gbs, gtms = mypcpl.get_gbs_gtms_kkp(1, 0, units='Hz')"
   ]
  },
  {
   "cell_type": "markdown",
   "metadata": {
    "jp-MarkdownHeadingCollapsed": true
   },
   "source": [
    "#### Plot the two-mode squeezing, $g_{\\mathrm{tms}, 12}$"
   ]
  },
  {
   "cell_type": "code",
   "execution_count": 191,
   "metadata": {},
   "outputs": [
    {
     "data": {
      "image/png": "[encoded data removed]",
      "text/plain": [
       "<Figure size 800x600 with 1 Axes>"
      ]
     },
     "metadata": {},
     "output_type": "display_data"
    }
   ],
   "source": [
    "# Plot the modes vs. offset\n",
    "fig, ax = plt.subplots(1, 1, figsize=(8, 6), tight_layout=True)\n",
    "lsize = 14\n",
    "fsize = 20\n",
    "cycle = plt.rcParams['axes.prop_cycle'].by_key()['color']\n",
    "clen = len(cycle)\n",
    "ra0 = 15.0\n",
    "M = 2\n",
    "markers = ['x', 'o', '+', '^', 's', '>', '<', '*']\n",
    "mlen = len(markers)\n",
    "for i in range(len(Lj_vals)):\n",
    "    ax.plot(np.asarray(Lj_vals), gtms[i, :] / 1e-3,\n",
    "            marker=markers[i%mlen], lw=2, ms=10, ls='-',\n",
    "            label=r'%.2f mm' % (Lj_vals[i]))\n",
    "ax.set_xlabel(r'cavity offset [mm]', fontsize=fsize)\n",
    "ax.set_ylabel(r'$g_{12}$ [MHz]', fontsize=fsize)\n",
    "#ax.set_ylim([-60, 60])\n",
    "set_xaxis_rot(ax, 45)\n",
    "set_axes_fonts(ax, fsize)\n",
    "leg = set_leg_outside(ax, 16)"
   ]
  },
  {
   "cell_type": "markdown",
   "metadata": {},
   "source": [
    "#### Plot the coupling, $g_{12}$"
   ]
  },
  {
   "cell_type": "code",
   "execution_count": 43,
   "metadata": {},
   "outputs": [
    {
     "data": {
      "image/png": "[encoded data removed]",
      "text/plain": [
       "<Figure size 800x600 with 1 Axes>"
      ]
     },
     "metadata": {},
     "output_type": "display_data"
    }
   ],
   "source": [
    "# Plot the modes vs. offset\n",
    "fig, ax = plt.subplots(1, 1, figsize=(8, 6), tight_layout=True)\n",
    "lsize = 14\n",
    "fsize = 20\n",
    "cycle = plt.rcParams['axes.prop_cycle'].by_key()['color']\n",
    "clen = len(cycle)\n",
    "ra0 = 15.0\n",
    "M = 2\n",
    "markers = ['x', 'o', '+', '^', 's', '>', '<', '*']\n",
    "mlen = len(markers)\n",
    "for i in [0]: # range(len(Lj_vals)):\n",
    "    ax.plot(np.asarray(Lj_vals), gbs[i, :] / 1e-3,\n",
    "            marker=markers[i%mlen], lw=2, ms=10, ls='-',\n",
    "            label=r'%.2f mm' % (Lj_vals[i]))\n",
    "ax.set_xlabel(f'{vstr} [{vunits}]', fontsize=fsize)\n",
    "ax.set_ylabel(r'$g_{12}$ [MHz]', fontsize=fsize)\n",
    "#ax.set_ylim([-60, 60])\n",
    "set_xaxis_rot(ax, 45)\n",
    "set_axes_fonts(ax, fsize)\n",
    "leg = set_leg_outside(ax, 16)"
   ]
  },
  {
   "cell_type": "markdown",
   "metadata": {},
   "source": [
    "#### Plot the coupling, $g_{23}$"
   ]
  },
  {
   "cell_type": "code",
   "execution_count": 75,
   "metadata": {},
   "outputs": [],
   "source": [
    "wks, gsmsk = mypcpl.get_w_gsms_k(0, units='Hz')\n",
    "gbs, gtms = mypcpl.get_gbs_gtms_kkp(1, 2, units='Hz')"
   ]
  },
  {
   "cell_type": "code",
   "execution_count": 76,
   "metadata": {},
   "outputs": [
    {
     "data": {
      "image/png": "[encoded data removed]",
      "text/plain": [
       "<Figure size 800x600 with 1 Axes>"
      ]
     },
     "metadata": {},
     "output_type": "display_data"
    }
   ],
   "source": [
    "# Plot the modes vs. offset\n",
    "fig, ax = plt.subplots(1, 1, figsize=(8, 6), tight_layout=True)\n",
    "lsize = 14\n",
    "fsize = 20\n",
    "cycle = plt.rcParams['axes.prop_cycle'].by_key()['color']\n",
    "clen = len(cycle)\n",
    "ra0 = 15.0\n",
    "M = 2\n",
    "markers = ['x', 'o', '+', '^', 's', '>', '<', '*']\n",
    "mlen = len(markers)\n",
    "for i in range(len(Lj_vals)):\n",
    "    ax.plot(np.asarray(Lj_vals), gbs[i, :] / 1e-3,\n",
    "            marker=markers[i%mlen], lw=2, ms=10, ls='-',\n",
    "            label=r'%.2f mm' % (Lj_vals[i]))\n",
    "ax.set_xlabel(f'{vstr} [{vunits}]', fontsize=fsize)\n",
    "ax.set_ylabel(r'$g_{23}$ [MHz]', fontsize=fsize)\n",
    "#ax.set_ylim([-60, 60])\n",
    "set_xaxis_rot(ax, 45)\n",
    "set_axes_fonts(ax, fsize)\n",
    "leg = set_leg_outside(ax, 16)"
   ]
  },
  {
   "cell_type": "markdown",
   "metadata": {},
   "source": [
    "#### Plot the coupling $g_{34}$"
   ]
  },
  {
   "cell_type": "code",
   "execution_count": 67,
   "metadata": {},
   "outputs": [],
   "source": [
    "wks, gsmsk = mypcpl.get_w_gsms_k(0, units='Hz')\n",
    "gbs, gtms = mypcpl.get_gbs_gtms_kkp(2, 3, units='Hz')"
   ]
  },
  {
   "cell_type": "code",
   "execution_count": 68,
   "metadata": {},
   "outputs": [
    {
     "data": {
      "image/png": "[encoded data removed]",
      "text/plain": [
       "<Figure size 800x600 with 1 Axes>"
      ]
     },
     "metadata": {},
     "output_type": "display_data"
    }
   ],
   "source": [
    "# Plot the modes vs. offset\n",
    "fig, ax = plt.subplots(1, 1, figsize=(8, 6), tight_layout=True)\n",
    "lsize = 14\n",
    "fsize = 20\n",
    "cycle = plt.rcParams['axes.prop_cycle'].by_key()['color']\n",
    "clen = len(cycle)\n",
    "ra0 = 15.0\n",
    "M = 2\n",
    "markers = ['x', 'o', '+', '^', 's', '>', '<', '*']\n",
    "mlen = len(markers)\n",
    "for i in [0]: #range(len(Lj_vals)):\n",
    "    ax.plot(np.asarray(Lj_vals), gbs[i, :] / 1e-3,\n",
    "            marker=markers[i%mlen], lw=2, ms=10, ls='-',\n",
    "            label=r'%.2f mm' % (Lj_vals[i]))\n",
    "ax.set_xlabel(f'{vstr} [{vunits}]', fontsize=fsize)\n",
    "ax.set_ylabel(r'$g_{34}$ [MHz]', fontsize=fsize)\n",
    "#ax.set_ylim([-60, 60])\n",
    "set_xaxis_rot(ax, 45)\n",
    "set_axes_fonts(ax, fsize)\n",
    "leg = set_leg_outside(ax, 16)"
   ]
  },
  {
   "cell_type": "code",
   "execution_count": 33,
   "metadata": {},
   "outputs": [],
   "source": [
    "ww, qq = eprh.solutions.eigenmodes()"
   ]
  },
  {
   "cell_type": "markdown",
   "metadata": {},
   "source": [
    "## Get the eigenmode frequencies and losses\n",
    "* Note that frequencies are in GHz here"
   ]
  },
  {
   "cell_type": "code",
   "execution_count": 54,
   "metadata": {},
   "outputs": [
    {
     "name": "stdout",
     "output_type": "stream",
     "text": [
      "Eigenmodes for variation xtunnel_4mm ...\n",
      "Eigenmodes for variation xtunnel_4p5mm ...\n",
      "Eigenmodes for variation xtunnel_5mm ...\n",
      "Eigenmodes for variation xtunnel_5p5mm ...\n",
      "Eigenmodes for variation xtunnel_6mm ...\n",
      "Eigenmodes for variation xtunnel_6p5mm ...\n",
      "Eigenmodes for variation xtunnel_7mm ...\n",
      "Eigenmodes for variation xtunnel_7p5mm ...\n",
      "Eigenmodes for variation xtunnel_8mm ...\n"
     ]
    }
   ],
   "source": [
    "wk = {}; Qk = {};\n",
    "for idx, v in enumerate(vars_sorted):\n",
    "    # Set the variation\n",
    "    eprh.set_variation(v)\n",
    "    lv = eprh._get_lv(v)\n",
    "    print(f'Eigenmodes for variation {vstrs[idx]} ...')\n",
    "    ww, qq = eprh.solutions.eigenmodes(lv=lv)\n",
    "    key = f'{vstrs[idx]}'\n",
    "    wk.update({key : ww})\n",
    "    Qk.update({key : [ww1/qq1 for ww1, qq1 in zip(ww, qq)]})"
   ]
  },
  {
   "cell_type": "code",
   "execution_count": 37,
   "metadata": {},
   "outputs": [],
   "source": [
    "LJ_dict = dict({k : v for k, v in zip(Ljstrs, Lj_vals)})"
   ]
  },
  {
   "cell_type": "code",
   "execution_count": 38,
   "metadata": {},
   "outputs": [
    {
     "data": {
      "text/plain": [
       "{'4mm': 4.0,\n",
       " '4p5mm': 4.5,\n",
       " '5mm': 5.0,\n",
       " '5p5mm': 5.5,\n",
       " '6mm': 6.0,\n",
       " '6p5mm': 6.5,\n",
       " '7mm': 7.0,\n",
       " '7p5mm': 7.5,\n",
       " '8mm': 8.0}"
      ]
     },
     "execution_count": 38,
     "metadata": {},
     "output_type": "execute_result"
    }
   ],
   "source": [
    "LJ_dict"
   ]
  },
  {
   "cell_type": "markdown",
   "metadata": {},
   "source": [
    "## Plot the modes vs. parameter"
   ]
  },
  {
   "cell_type": "code",
   "execution_count": 53,
   "metadata": {},
   "outputs": [
    {
     "data": {
      "text/plain": [
       "array(['4mm', '4p5mm', '5mm', '5p5mm', '6mm', '6p5mm', '7mm', '7p5mm',\n",
       "       '8mm'], dtype='<U5')"
      ]
     },
     "execution_count": 53,
     "metadata": {},
     "output_type": "execute_result"
    }
   ],
   "source": [
    "Ljstrs"
   ]
  },
  {
   "cell_type": "code",
   "execution_count": 1,
   "metadata": {},
   "outputs": [
    {
     "ename": "NameError",
     "evalue": "name 'plt' is not defined",
     "output_type": "error",
     "traceback": [
      "\u001b[1;31m---------------------------------------------------------------------------\u001b[0m",
      "\u001b[1;31mNameError\u001b[0m                                 Traceback (most recent call last)",
      "Cell \u001b[1;32mIn[1], line 1\u001b[0m\n\u001b[1;32m----> 1\u001b[0m fig, ax \u001b[38;5;241m=\u001b[39m plt\u001b[38;5;241m.\u001b[39msubplots(\u001b[38;5;241m1\u001b[39m, \u001b[38;5;241m1\u001b[39m, tight_layout\u001b[38;5;241m=\u001b[39m\u001b[38;5;28;01mTrue\u001b[39;00m)\n\u001b[0;32m      2\u001b[0m dstr \u001b[38;5;241m=\u001b[39m datetime\u001b[38;5;241m.\u001b[39mdatetime\u001b[38;5;241m.\u001b[39mtoday()\u001b[38;5;241m.\u001b[39mstrftime(\u001b[38;5;124m'\u001b[39m\u001b[38;5;124m%\u001b[39m\u001b[38;5;124my\u001b[39m\u001b[38;5;124m%\u001b[39m\u001b[38;5;124mm\u001b[39m\u001b[38;5;132;01m%d\u001b[39;00m\u001b[38;5;124m'\u001b[39m)\n\u001b[0;32m      3\u001b[0m fsize \u001b[38;5;241m=\u001b[39m \u001b[38;5;241m20\u001b[39m\n",
      "\u001b[1;31mNameError\u001b[0m: name 'plt' is not defined"
     ]
    }
   ],
   "source": [
    "fig, ax = plt.subplots(1, 1, tight_layout=True)\n",
    "dstr = datetime.datetime.today().strftime('%y%m%d')\n",
    "fsize = 20\n",
    "lsize = 14\n",
    "cycle = plt.rcParams['axes.prop_cycle'].by_key()['color']\n",
    "clen = len(cycle)\n",
    "idx_start = 4\n",
    "Nmodes = 8\n",
    "for k in range(Nmodes):\n",
    "    wppp = np.array([wk[f'{vstr}_{key}'][k] for key in Ljstrs])\n",
    "    ax.plot(Lj_vals, wppp,\n",
    "            'o-', label=r'Mode-%d' % (k + 1),\n",
    "            color=cycle[k%clen])\n",
    "    #ax.plot(LJs/1e-9, [wp0[idx]/(2*np.pi*fscale)] * len(LJs),\n",
    "    #        '--', color=cycle[idx%clen])\n",
    "ax.set_xlabel(f'{vstr} [{vunits}]', fontsize=fsize)\n",
    "ax.set_ylabel(r'Eigenfrequencies [GHz]', fontsize=fsize)\n",
    "set_xaxis_rot(ax, 45)\n",
    "ax.set_ylim([8.7, 9.2])\n",
    "set_axes_fonts(ax, fsize)\n",
    "leg = set_leg_outside(ax, lsize)\n",
    "# ax.set_xscale('log')\n",
    "fig.savefig(f'../figs/modes_bare_remesh2_nondegen_{dstr}.pdf', \n",
    "            format='pdf', bbox_extra_artists=(leg, ), bbox_inches='tight',\n",
    "           transparent=True)"
   ]
  },
  {
   "cell_type": "code",
   "execution_count": 61,
   "metadata": {},
   "outputs": [
    {
     "data": {
      "text/plain": [
       "0.13482421999988503"
      ]
     },
     "execution_count": 61,
     "metadata": {},
     "output_type": "execute_result"
    }
   ],
   "source": [
    "(wk[f'{vstr}_4mm'][2] - wk[f'{vstr}_4mm'][1]) *1e3"
   ]
  },
  {
   "cell_type": "markdown",
   "metadata": {},
   "source": [
    "## Q of the modes"
   ]
  },
  {
   "cell_type": "code",
   "execution_count": 62,
   "metadata": {},
   "outputs": [
    {
     "data": {
      "image/png": "[encoded data removed]",
      "text/plain": [
       "<Figure size 640x480 with 1 Axes>"
      ]
     },
     "metadata": {},
     "output_type": "display_data"
    }
   ],
   "source": [
    "fig, ax = plt.subplots(1, 1, tight_layout=True)\n",
    "lsize = 14\n",
    "fscale = 1e9\n",
    "fscale2 = 1e6\n",
    "cycle = plt.rcParams['axes.prop_cycle'].by_key()['color']\n",
    "clen = len(cycle)\n",
    "T1trans = 100\n",
    "for k in range(Nmodes):\n",
    "    Q = np.array([Qk[f'{vstr}_{key}'][k] for key in Ljstrs])\n",
    "    wppp = 2*np.pi*np.array([wk[f'{vstr}_{key}'][k] for key in Ljstrs])*fscale\n",
    "    T1nom = wppp / Q\n",
    "    T1tot = T1nom * T1trans / (T1nom + T1trans)\n",
    "    ax.plot(Lj_vals, Q,\n",
    "            'o-', label=r'Mode-%d' % (k + 1),\n",
    "            color=cycle[k%clen])\n",
    "ax.set_xlabel(f'{vstr} [{vunits}]', fontsize=fsize)\n",
    "ax.set_ylabel(r'$Q$', fontsize=fsize)\n",
    "# ax.plot(LJs/1e-9, np.ones(LJs.size) * dw/(fscale2), 'k--')\n",
    "set_xaxis_rot(ax, 45)\n",
    "set_axes_fonts(ax, fsize)\n",
    "set_leg_outside(ax, lsize)\n",
    "#ax.set_ylim([1e-2, 350])\n",
    "#ax.set_xlim([0.5, 2.2])\n",
    "# ax.set_xscale('log')\n",
    "ax.set_yscale('log')\n",
    "fig.savefig(f'../figs/T1_modes_coupled_remesh2_eigenmode_{dstr}.pdf',\n",
    "            format='pdf')"
   ]
  },
  {
   "cell_type": "markdown",
   "metadata": {},
   "source": [
    "# Plot the eigenmode $T_1$ values"
   ]
  },
  {
   "cell_type": "code",
   "execution_count": 64,
   "metadata": {},
   "outputs": [
    {
     "data": {
      "image/png": "[encoded data removed]",
      "text/plain": [
       "<Figure size 640x480 with 1 Axes>"
      ]
     },
     "metadata": {},
     "output_type": "display_data"
    }
   ],
   "source": [
    "fig, ax = plt.subplots(1, 1, tight_layout=True)\n",
    "lsize = 14\n",
    "fscale = 1e9\n",
    "fscale2 = 1e6\n",
    "cycle = plt.rcParams['axes.prop_cycle'].by_key()['color']\n",
    "clen = len(cycle)\n",
    "T1trans = 100\n",
    "for k in range(Nmodes):\n",
    "    Q = np.array([Qk[f'{vstr}_{key}'][k] for key in Ljstrs])\n",
    "    wppp = 2*np.pi*np.array([wk[f'{vstr}_{key}'][k] for key in Ljstrs])*fscale\n",
    "    T1nom = 1e6 * Q / wppp\n",
    "    T1tot = T1nom * T1trans / (T1nom + T1trans)\n",
    "    ax.plot(Lj_vals, T1nom,\n",
    "            'o-', label=r'Mode-%d' % (k + 1),\n",
    "            color=cycle[k%clen])\n",
    "ax.set_xlabel(r'$L_J$ [nH]', fontsize=fsize)\n",
    "ax.set_ylabel(r'$T_1$ [$\\mu$s]', fontsize=fsize)\n",
    "# ax.plot(LJs/1e-9, np.ones(LJs.size) * dw/(fscale2), 'k--')\n",
    "set_xaxis_rot(ax, 45)\n",
    "set_axes_fonts(ax, fsize)\n",
    "set_leg_outside(ax, lsize)\n",
    "#ax.set_ylim([1e-2, 350])\n",
    "#ax.set_xlim([0.5, 2.2])\n",
    "# ax.set_xscale('log')\n",
    "ax.set_yscale('log')\n",
    "fig.savefig(f'../figs/T1_modes_coupled_remesh2_eigenmode_{dstr}.pdf',\n",
    "            format='pdf')"
   ]
  },
  {
   "cell_type": "markdown",
   "metadata": {},
   "source": [
    "## Compute the $g_{kk'}$ and $\\widetilde{\\omega}_{k}$ from $A_{kk'}$"
   ]
  },
  {
   "cell_type": "code",
   "execution_count": null,
   "metadata": {},
   "outputs": [],
   "source": [
    "\"\"\"\n",
    "Compute the couplings from Akk, wk values\n",
    "\"\"\"\n",
    "# Iterate over all modes and inductances\n",
    "gkk = {}\n",
    "idx_start = 2; idx_stop = -1\n",
    "Nmodes = 2\n",
    "for k in range(Nmodes):\n",
    "    for kp in range(Nmodes):\n",
    "        for idx, LJ in enumerate(Lj_vals):\n",
    "            \n",
    "            # Outside sqrt(wk wk') factor\n",
    "            wkey = f'{vstr}_{Ljstrs[idx]}'\n",
    "            wkwkp = np.sqrt(wk[wkey][k] * wk[wkey][kp])\n",
    "            \n",
    "            for idx0, LJ0 in enumerate(Lj_vals):\n",
    "                \n",
    "                # Key to index gkk'\n",
    "                gkey = f'kkp{k+1}_{kp+1}_LJLJp_{Ljstrs[idx]}_{Ljstrs[idx0]}'\n",
    "                Akkpsum = 0\n",
    "                print(f'Computing g at {gkey}, wkwkp: {wkwkp:.2e} ...')\n",
    "                for kpp in range(Nmodes):\n",
    "                    key = f'kkp{kpp+1}_{k+1}_LJLJp_{Ljstrs[idx]}_{Ljstrs[idx0]}'\n",
    "                    keyp = f'kkp{kpp+1}_{kp+1}_LJLJp_{Ljstrs[idx]}_{Ljstrs[idx0]}'\n",
    "                    Akppk = Akkp[key]\n",
    "                    Akppkp = Akkp[keyp]\n",
    "                    Akkpsum += Akppk * Akppkp\n",
    "\n",
    "                # Store the results\n",
    "                if (k != kp):\n",
    "                    gkk.update({gkey : wkwkp * Akkpsum})"
   ]
  },
  {
   "cell_type": "code",
   "execution_count": null,
   "metadata": {},
   "outputs": [],
   "source": [
    "'kkp1_1_LJLJp_0p10000000000000001nH_0p10000000000000001nH' in gkk.keys()"
   ]
  },
  {
   "cell_type": "markdown",
   "metadata": {},
   "source": [
    "### Collect the results as a matrix"
   ]
  },
  {
   "cell_type": "code",
   "execution_count": null,
   "metadata": {},
   "outputs": [],
   "source": [
    "gkk_matrix = np.zeros([Nmodes, Nmodes, len(Lj_vals), len(Lj_vals)])\n",
    "for k in range(Nmodes):\n",
    "    for kp in range(Nmodes):\n",
    "        for idx, LJ in enumerate(Lj_vals):\n",
    "            for idx0, LJ0 in enumerate(Lj_vals):\n",
    "                if k != kp:\n",
    "                    gkey = f'kkp{k+1}_{kp+1}_LJLJp_{Ljstrs[idx]}_{Ljstrs[idx0]}'\n",
    "                    gkk_matrix[k, kp, idx, idx0] = gkk[gkey]"
   ]
  },
  {
   "cell_type": "code",
   "execution_count": null,
   "metadata": {},
   "outputs": [],
   "source": [
    "gkk_matrix"
   ]
  },
  {
   "cell_type": "code",
   "execution_count": null,
   "metadata": {},
   "outputs": [],
   "source": [
    "\"\"\"\n",
    "Compute the couplings from Akk, wk values\n",
    "\"\"\"\n",
    "# Iterate over all modes and inductances\n",
    "wkt = {}\n",
    "idx_start = 2; idx_stop = -1\n",
    "Nmodes = 2\n",
    "for k in range(Nmodes):\n",
    "    for idx, LJ in enumerate(Lj_vals):\n",
    "\n",
    "        # Outside wk factor\n",
    "        wkey = f'{vstr}_{Ljstrs[idx]}'\n",
    "        wkp = wk[wkey][k]\n",
    "\n",
    "        for idx0, LJ0 in enumerate(Lj_vals):\n",
    "\n",
    "            # Key to index gkk'\n",
    "            wwkey = f'kkp{k+1}_LJLJp_{Ljstrs[idx]}_{Ljstrs[idx0]}'\n",
    "            Akkpsum = 0\n",
    "            # print(f'Computing wkp at {wwkey}, wkwkp: {wkp:.2e} ...')\n",
    "            for kpp in range(Nmodes):\n",
    "                key = f'kkp{kpp+1}_{k+1}_LJLJp_{Ljstrs[idx]}_{Ljstrs[idx0]}'\n",
    "                Akppk = Akkp[key]\n",
    "                Akkpsum += Akppk**2\n",
    "\n",
    "            # Store the results\n",
    "            wkt.update({wwkey : wkp * Akkpsum})"
   ]
  },
  {
   "cell_type": "code",
   "execution_count": null,
   "metadata": {},
   "outputs": [],
   "source": [
    "len(wkt)"
   ]
  },
  {
   "cell_type": "code",
   "execution_count": null,
   "metadata": {},
   "outputs": [],
   "source": [
    "wkt_matrix = np.zeros([Nmodes, len(Lj_vals), len(Lj_vals)])"
   ]
  },
  {
   "cell_type": "markdown",
   "metadata": {},
   "source": [
    "## Compute the $\\widetilde{\\omega}_k(L_J, L_{J_0})$ matrix"
   ]
  },
  {
   "cell_type": "code",
   "execution_count": null,
   "metadata": {},
   "outputs": [],
   "source": [
    "for k in range(Nmodes):\n",
    "    for idx, LJ in enumerate(Lj_vals):\n",
    "        for idx0, LJ0 in enumerate(Lj_vals):\n",
    "            wwkkey = f'kkp{k+1}_LJLJp_{Ljstrs[idx]}_{Ljstrs[idx0]}'\n",
    "            wkt_matrix[k, idx, idx0] = wkt[wwkkey]"
   ]
  },
  {
   "cell_type": "markdown",
   "metadata": {},
   "source": [
    "### Sort the frequencies for each $(L_J, L_{J_0})$ pair"
   ]
  },
  {
   "cell_type": "code",
   "execution_count": null,
   "metadata": {},
   "outputs": [],
   "source": [
    "wkt_matrix_sorted = np.sort(wkt_matrix, axis=0)\n",
    "wkt_sort_idx = np.argsort(wkt_matrix, axis=0)\n",
    "\n",
    "gkk_sort_idx = wkt_sort_idx[np.newaxis, :, :, :]"
   ]
  },
  {
   "cell_type": "code",
   "execution_count": null,
   "metadata": {},
   "outputs": [],
   "source": [
    "gkk_sort_idx.shape"
   ]
  },
  {
   "cell_type": "code",
   "execution_count": null,
   "metadata": {},
   "outputs": [],
   "source": [
    "gkk_matrix_sorted = gkk_matrix[gkk_sort_idx]"
   ]
  },
  {
   "cell_type": "code",
   "execution_count": null,
   "metadata": {},
   "outputs": [],
   "source": [
    "gkk_matrix_sorted.shape"
   ]
  },
  {
   "cell_type": "markdown",
   "metadata": {},
   "source": [
    "## Plot the sorted $\\widetilde{\\omega}_k(L_J, L_{J_0})$ values"
   ]
  },
  {
   "cell_type": "code",
   "execution_count": null,
   "metadata": {},
   "outputs": [],
   "source": [
    "cycle = plt.rcParams['axes.prop_cycle'].by_key()['color']\n",
    "clen = len(cycle)\n",
    "\n",
    "for idx_fixed in range(len(Lj_vals)):\n",
    "    print(f'LJ0-{idx_fixed} ...')\n",
    "    fig, ax = plt.subplots(1, 1, tight_layout=True)\n",
    "    for k in range(Nmodes):\n",
    "        ax.plot(Lj_vals, wkt_matrix_sorted[k, :, idx_fixed],\n",
    "            'o-', label=r'Mode-%d' % (k + 1),\n",
    "            color=cycle[k%clen])\n",
    "    ax.set_xlabel(r'$L_J$ [nH]', fontsize=fsize)\n",
    "    ax.set_ylabel(r'$\\widetilde{\\omega}/2\\pi$ [GHz]', fontsize=fsize)\n",
    "    set_xaxis_rot(ax, 45)\n",
    "    set_axes_fonts(ax, fsize)\n",
    "    leg = set_leg_outside(ax, lsize)\n",
    "    ax.set_xscale('log')\n",
    "    fig.savefig(f'../figs/modes_eigenmode_remesh2_modified_LJ0_{Ljstrs[idx_fixed]}_{dstr}.pdf', \n",
    "                format='pdf', bbox_extra_artists=(leg, ), bbox_inches='tight',\n",
    "               transparent=True)"
   ]
  },
  {
   "cell_type": "code",
   "execution_count": null,
   "metadata": {},
   "outputs": [],
   "source": [
    "'kkp1_LJLJp_0p10000000000000001nH_56p234132519034901nH' in wkt.keys()"
   ]
  },
  {
   "cell_type": "markdown",
   "metadata": {},
   "source": [
    "## Plot $g_{k_1,k_2}$ vs. $L_J, L_{J_0}$"
   ]
  },
  {
   "cell_type": "code",
   "execution_count": null,
   "metadata": {},
   "outputs": [],
   "source": [
    "gmax = np.max(np.array(list(gkk.values()))) * 1e3\n",
    "gmin = np.min(np.array(list(gkk.values()))) * 1e3"
   ]
  },
  {
   "cell_type": "code",
   "execution_count": null,
   "metadata": {},
   "outputs": [],
   "source": [
    "gmax"
   ]
  },
  {
   "cell_type": "code",
   "execution_count": null,
   "metadata": {},
   "outputs": [],
   "source": [
    "gmin"
   ]
  },
  {
   "cell_type": "code",
   "execution_count": null,
   "metadata": {},
   "outputs": [],
   "source": [
    "#plot_2d_cmap(ydata/ymax,\n",
    "#    zdata/zmax,\n",
    "for k1 in [1,2]:\n",
    "    for k2 in [1, 2]:\n",
    "        if k1 != k2:\n",
    "            gkk12 = np.array([[gkk[f'kkp{k1}_{k2}_LJLJp_{Ljstrs[idx]}_{Ljstrs[idx0]}'] \\\n",
    "                               for idx in range(len(Lj_vals))] \\\n",
    "                               for idx0 in range(len(Lj_vals))])*1e3\n",
    "            plot_2d_cmap(# LJs/1e-9,\n",
    "                #Lj_vals[idx_start:idx_stop],\n",
    "                #Lj_vals[idx_start:idx_stop],\n",
    "                Lj_vals,\n",
    "                Lj_vals,\n",
    "                np.abs(gkk12),\n",
    "                # gkk_matrix_sorted[k1, k2, :, :],\n",
    "                f'../figs/g{k1}_{k2}_remesh2_sorted_vs_rr0_{dd}.pdf',\n",
    "                xstr=r'$r_{0}$ [mm]',\n",
    "                ystr=r'$r$ [mm]',\n",
    "                tstr='',\n",
    "                xyscales={'x' : 'linear', 'y' : 'linear'},\n",
    "                cbar_str=r'$g_{%d%d}$ [MHz]' % (k1, k2),\n",
    "                interp_zeros=False,\n",
    "                interp_std_dev=3,\n",
    "                image_rot_angle=0,\n",
    "                norm_type='ref',\n",
    "                zref=[0, gmax],\n",
    "                fsize=40,\n",
    "                tsize=46)"
   ]
  },
  {
   "cell_type": "markdown",
   "metadata": {},
   "source": [
    "## Plot $B_{k_1,k_2}(L_{J}, L_{J_0})$ vs. $L_J, L_{J_0}$"
   ]
  },
  {
   "cell_type": "code",
   "execution_count": null,
   "metadata": {},
   "outputs": [],
   "source": [
    "# Amax = np.max(list(Akkp.values()))\n",
    "# Amin = np.min(list(Akkp.values()))\n",
    "\n",
    "Bmax = np.max(np.abs(list(Bkkp.values())))\n",
    "Bmin = np.min(np.abs(list(Bkkp.values())))"
   ]
  },
  {
   "cell_type": "code",
   "execution_count": null,
   "metadata": {},
   "outputs": [],
   "source": [
    "Ljstrs"
   ]
  },
  {
   "cell_type": "code",
   "execution_count": null,
   "metadata": {},
   "outputs": [],
   "source": [
    "Bmin, Bmax"
   ]
  },
  {
   "cell_type": "code",
   "execution_count": null,
   "metadata": {},
   "outputs": [],
   "source": [
    "Amax"
   ]
  },
  {
   "cell_type": "code",
   "execution_count": null,
   "metadata": {},
   "outputs": [],
   "source": [
    "Amin"
   ]
  },
  {
   "cell_type": "code",
   "execution_count": null,
   "metadata": {},
   "outputs": [],
   "source": [
    "for k1 in range(1, Nmodes+1):\n",
    "    for k2 in range(1, Nmodes+1):\n",
    "\n",
    "        Akk12 = np.array([[Bkkp[f'kkp{k1}_{k2}_LJLJp_{Ljstrs[idx]}_{Ljstrs[idx0]}'] \\\n",
    "                           for idx in range(len(Lj_vals))] \\\n",
    "                           for idx0 in range(len(Lj_vals))])\n",
    "        \n",
    "        \n",
    "        plot_2d_cmap(\n",
    "            Lj_vals,\n",
    "            Lj_vals,\n",
    "            np.abs(Akk12),\n",
    "            f'../figs/B{k1}_{k2}_two_post_coupler_only_vs_LJLJ0_{dd}.pdf',\n",
    "            xstr=r'$L_{J_0}$ [nH]',\n",
    "            ystr=r'$L_{J}$ [nH]',\n",
    "            tstr='',\n",
    "            cmap=cm.viridis,\n",
    "            xyscales={'x' : 'linear', 'y' : 'linear'},\n",
    "            cbar_str=r'$|B_{%d%d}|$' % (k1, k2),\n",
    "            interp_zeros=False,\n",
    "            interp_std_dev=3,\n",
    "            image_rot_angle=0,\n",
    "            norm_type='log',\n",
    "            zref=[Bmin, Bmax],\n",
    "            fsize=40,\n",
    "            tsize=46)"
   ]
  },
  {
   "cell_type": "code",
   "execution_count": null,
   "metadata": {},
   "outputs": [],
   "source": [
    "Amax = np.max(np.abs(list(Akkp.values())))\n",
    "Amin = np.min(np.abs(list(Akkp.values())))\n",
    "for k1 in range(1, Nmodes+1):\n",
    "    for k2 in range(1, Nmodes+1):\n",
    "\n",
    "        Akk12 = np.array([[Akkp[f'kkp{k1}_{k2}_LJLJp_{Ljstrs[idx]}_{Ljstrs[idx0]}'] \\\n",
    "                           for idx in range(len(Lj_vals))] \\\n",
    "                           for idx0 in range(len(Lj_vals))])\n",
    "        \n",
    "        \n",
    "        plot_2d_cmap(\n",
    "            Lj_vals,\n",
    "            Lj_vals,\n",
    "            np.abs(Akk12),\n",
    "            f'../figs/A{k1}_{k2}_two_post_coupler_only_vs_LJLJ0_{dd}.pdf',\n",
    "            xstr=r'$L_{J_0}$ [nH]',\n",
    "            ystr=r'$L_{J}$ [nH]',\n",
    "            tstr='',\n",
    "            cmap=cm.viridis,\n",
    "            xyscales={'x' : 'linear', 'y' : 'linear'},\n",
    "            cbar_str=r'$|A_{%d%d}|$' % (k1, k2),\n",
    "            interp_zeros=False,\n",
    "            interp_std_dev=3,\n",
    "            image_rot_angle=0,\n",
    "            norm_type='log',\n",
    "            zref=[Amin, Amax],\n",
    "            fsize=40,\n",
    "            tsize=46)"
   ]
  },
  {
   "cell_type": "code",
   "execution_count": null,
   "metadata": {},
   "outputs": [],
   "source": [
    "Imax = np.max(np.abs(Ikkp))\n",
    "Imin = np.min(np.abs(Ikkp))\n",
    "for k1 in range(Nmodes):\n",
    "    for k2 in range(Nmodes):\n",
    "\n",
    "        Akk12 = Ikkp[:, :, k1, k2]\n",
    "        \n",
    "        plot_2d_cmap(\n",
    "            Lj_vals,\n",
    "            Lj_vals,\n",
    "            np.abs(Akk12),\n",
    "            f'../figs/I{k1}_{k2}_two_post_coupler_only_vs_LJLJ0_{dd}.pdf',\n",
    "            xstr=r'$L_{J_0}$ [nH]',\n",
    "            ystr=r'$L_{J}$ [nH]',\n",
    "            tstr='',\n",
    "            cmap=cm.viridis,\n",
    "            xyscales={'x' : 'log', 'y' : 'log'},\n",
    "            cbar_str=r'$|I_{%d}I_{%d}|$' % (k1+1, k2+1),\n",
    "            interp_zeros=False,\n",
    "            interp_std_dev=3,\n",
    "            image_rot_angle=0,\n",
    "            norm_type='log',\n",
    "            zref=[Imin, Imax],\n",
    "            fsize=40,\n",
    "            tsize=46)\n",
    "        "
   ]
  },
  {
   "cell_type": "code",
   "execution_count": null,
   "metadata": {},
   "outputs": [],
   "source": [
    "wmax = np.max(np.array(list(wkt.values())))\n",
    "wmin = np.min(np.array(list(wkt.values())))\n",
    "\n",
    "wmax\n",
    "\n",
    "wmin\n",
    "\n",
    "#plot_2d_cmap(ydata/ymax,\n",
    "#    zdata/zmax,\n",
    "# for k1 in [1,2,3,4]:\n",
    "for k1 in range(Nmodes):\n",
    "        # wkk12 = np.array([[wkt[f'kkp{k1}_LJLJp_{Ljstrs[idx]}_{Ljstrs[idx0]}'] \\\n",
    "        #                   for idx in range(len(Lj_vals))] \\\n",
    "        #                   for idx0 in range(len(Lj_vals))])\n",
    "        plot_2d_cmap(# LJs/1e-9,\n",
    "            Lj_vals,\n",
    "            Lj_vals,\n",
    "            #wkk12,\n",
    "            wkt_matrix_sorted[k1, :, :],\n",
    "            # f'../figs/w_{k1}_vs_LJLJ0_{dd}.pdf',\n",
    "            f'../figs/w_{k1+1}_remesh2_sorted_vs_LJLJ0_{dd}.pdf',\n",
    "            xstr=r'$L_{J_0}$ [nH]',\n",
    "            ystr=r'$L_{J}$ [nH]',\n",
    "            tstr='',\n",
    "            xyscales={'x' : 'log', 'y' : 'log'},\n",
    "            cbar_str=r'$\\omega_{%d}$ [GHz]' % (k1),\n",
    "            interp_zeros=False,\n",
    "            interp_std_dev=3,\n",
    "            image_rot_angle=0,\n",
    "            norm_type='ref',\n",
    "            zref=[wmin, wmax],\n",
    "            fsize=40,\n",
    "            tsize=46)\n",
    "\n",
    "## Compute the derivatives to estimate the driven coupling strengths\n",
    "\n",
    "dLJ = 1 # 10 nH as a possible driving point\n",
    "for k1 in [1,2,3,4]:\n",
    "    for k2 in [1, 2, 3, 4]:\n",
    "        if k1 != k2:\n",
    "            gkk12 = np.array([[gkk[f'kkp{k1}_{k2}_LJLJp_{Ljstrs[idx]}_{Ljstrs[idx0]}'] \\\n",
    "                               for idx in range(len(Lj_vals))] \\\n",
    "                               for idx0 in range(len(Lj_vals))])\n",
    "            gkk12_grad = np.array([np.gradient(gkk12[:, j], Lj_vals) for j in range(len(Lj_vals))])\n",
    "            epskk = gkk12_grad * dLJ * 1e3\n",
    "            # Write the results to file\n",
    "            plot_2d_cmap(# LJs/1e-9,\n",
    "            Lj_vals,\n",
    "            Lj_vals,\n",
    "            epskk,\n",
    "            f'../figs/eps_{k1}_{k2}_remesh2_vs_LJLJ0_{dd}.pdf',\n",
    "            xstr=r'$L_{J_0}$ [nH]',\n",
    "            ystr=r'$L_{J}$ [nH]',\n",
    "            tstr='',\n",
    "            xyscales={'x' : 'log', 'y' : 'log'},\n",
    "            cbar_str=r'$\\epsilon_{g_{%d %d}}$ [MHz]' % (k1, k2),\n",
    "            interp_zeros=False,\n",
    "            interp_std_dev=3,\n",
    "            image_rot_angle=0,\n",
    "            norm_type='ref',\n",
    "            zref=[gmin, gmax],\n",
    "            fsize=40,\n",
    "            tsize=46)\n",
    "\n",
    "## Plot $g_{12}$ for a fixed $L_{J_0}$\n",
    "\n",
    "LJidx0 = 0\n",
    "dLJ = 10 # 10 nH as a possible driving point\n",
    "k1 = 1; k2 = 2\n",
    "\n",
    "fig, ax = plt.subplots(1, 1, tight_layout=True)\n",
    "dstr = datetime.datetime.today().strftime('%y%m%d')\n",
    "fsize = 20\n",
    "lsize = 14\n",
    "cycle = plt.rcParams['axes.prop_cycle'].by_key()['color']\n",
    "clen = len(cycle)\n",
    "idx_start = 4\n",
    "cidx = 0\n",
    "for idx0 in [8, 10, 12, 14]:\n",
    "    gkk12 = np.array([gkk[f'kkp{k1}_{k2}_LJLJp_{Ljstrs[idx]}_{Ljstrs[LJidx0]}'] \\\n",
    "                               for idx in range(len(Lj_vals))])\n",
    "    gkk12_grad = np.gradient(gkk12, Lj_vals)\n",
    "    epskk = gkk12_grad * Lj_vals[idx0] * 1e3\n",
    "    ax.plot(Lj_vals, epskk / 2,\n",
    "        'o-', color=cycle[cidx%clen],\n",
    "           label=r'$\\delta L_{J}$ = %.2f nH' % Lj_vals[idx0])\n",
    "    cidx += 1\n",
    "\n",
    "ax.axhline(y=0, color='k', ls='--')\n",
    "ax.set_title(r'$L_{J_0} = %.2f$ nH' % Lj_vals[LJidx0],\n",
    "             fontsize=fsize)\n",
    "ax.set_xlabel(r'$L_J$ [nH]', fontsize=fsize)\n",
    "ax.set_ylabel(r'$\\frac{1}{2}\\epsilon_{g_{%d%d}}$ [MHz]' % (k1, k2), fontsize=fsize)\n",
    "set_xaxis_rot(ax, 45)\n",
    "#ax.set_ylim([-0.5, 1.5])\n",
    "set_axes_fonts(ax, fsize)\n",
    "ax.set_xscale('log')\n",
    "leg = set_leg_outside(ax, lsize)\n",
    "fig.savefig(f'../figs/epsg_{k1}{k2}_bbq_1_10_100nH_remesh2_{dstr}.pdf', \n",
    "            bbox_extra_artists=(leg, ), bbox_inches='tight',\n",
    "            format='pdf', transparent=True)"
   ]
  },
  {
   "cell_type": "markdown",
   "metadata": {},
   "source": [
    "### Get the interpolating sweep data to estimate resonance positions"
   ]
  },
  {
   "cell_type": "code",
   "execution_count": null,
   "metadata": {},
   "outputs": [],
   "source": [
    "fsweep_interp = HFSS.HfssFrequencySweep(DM_setup, 'Interpolating_0')\n",
    "\n",
    "report_im = fsweep_interp.create_report('Interpolating_0', expr='im(Y(1,1))')\n",
    "yim = report_im.get_arrays()\n",
    "\n",
    "# Identify the zero crossings as resonances\n",
    "zero_xing_idxs = np.where(np.diff(np.sign(yim[1,:])) > 0)[0]\n",
    "resonances = yim[0,zero_xing_idxs]\n",
    "\n",
    "print(f'resonances: {resonances}')"
   ]
  },
  {
   "cell_type": "code",
   "execution_count": null,
   "metadata": {},
   "outputs": [],
   "source": [
    "# Plot the results, save the figure(s)\n",
    "fsize = 20\n",
    "fscale = 1e9\n",
    "#wp, Lp, Cp, Qp, fcpy, ycpy, yp, pl, pc, gD, chippp = \\\n",
    "#get_wp_Cp_Lp(fdata, ydata, LJ0=None, CJ0=None, fscale=1e9, use_Zq=False)\n",
    "\n",
    "fig, ax = plt.subplots(1, 1, tight_layout=True)\n",
    "ax.plot(yim[0,:], yim[1,:], '-', label='Zero Crossings')\n",
    "ax.plot(resonances,\n",
    "        yim[1,zero_xing_idxs],\n",
    "        'o', label='Zero Crossings')\n",
    "# ax.set_xlim([5.8, 6.1])\n",
    "ax.set_ylim([-0.1, 0.1])\n",
    "ax.axhline(y=0, ls='--', color='k')\n",
    "# ax.plot(fdata, ydata.imag)\n",
    "set_xaxis_rot(ax, 45)\n",
    "ax.set_ylabel(r'Im $Y(\\omega)$', fontsize=fsize)\n",
    "ax.set_xlabel(r'Frequency [GHz]', fontsize=fsize)\n",
    "set_axes_fonts(ax, fsize)"
   ]
  },
  {
   "cell_type": "code",
   "execution_count": null,
   "metadata": {},
   "outputs": [],
   "source": [
    "resonances"
   ]
  },
  {
   "cell_type": "markdown",
   "metadata": {},
   "source": [
    "#### Bypass the interpolating sweep if frequencies already known"
   ]
  },
  {
   "cell_type": "code",
   "execution_count": null,
   "metadata": {},
   "outputs": [],
   "source": [
    "# resonances = np.array([ 6.0928,  6.1684,  6.1692,  6.2692,  7.3356,  7.3816,  7.4712,\n",
    "#        7.506 ,  9.3064,  9.3292,  9.588 ,  9.6076, 11.5804, 11.6684,\n",
    "#       11.7568, 11.95  , 12.604 , 12.6944, 12.8012, 12.8048])\n",
    "# resonances = np.array([ 6.0928,  6.1692,  6.2692,  7.3816,  7.4712,\n",
    "#        7.506 , 9.3292,  9.588 ,  9.6076, 11.5804, \n",
    "#       11.7568, 11.95, 12.6944, 12.8048])\n",
    "\n",
    "# Use half the minimum spacing between resonances as a the bandwidth\n",
    "Nmodes = 10\n",
    "# resonances = resonances[0:Nmodes]\n",
    "df = 0.8 * np.diff(np.hstack((f1, resonances, f2))).min()"
   ]
  },
  {
   "cell_type": "code",
   "execution_count": null,
   "metadata": {},
   "outputs": [],
   "source": [
    "df"
   ]
  },
  {
   "cell_type": "markdown",
   "metadata": {},
   "source": [
    "### Discrete sweep to resolve resonances"
   ]
  },
  {
   "cell_type": "code",
   "execution_count": null,
   "metadata": {},
   "outputs": [],
   "source": [
    "if solution_type == 'driven_modal':\n",
    "    # Setup the driven-modal simulation\n",
    "    if not DM_setup:\n",
    "        DM_setup = EM_design.create_dm_setup()\n",
    "        \n",
    "    # Discrete count\n",
    "    count2 = 201\n",
    "    count1 = 51\n",
    "    \n",
    "    ## This should resolve the issue of overlapping sweeps\n",
    "    ## We advance the left boundary by a small amount away\n",
    "    ## from the previous right boundary\n",
    "    dff = df / count\n",
    "    \n",
    "    # Identify resonances from interpolating sweep manually (for now)\n",
    "    ## Start at the first sweep frequency\n",
    "    f1r = f1\n",
    "    \n",
    "    # df  = 0.01 # 10 MHz window\n",
    "    # Iteratve over all resonances and shift the discrete\n",
    "    # sweep window from f1r to f2r\n",
    "    rlen = len(resonances)\n",
    "    fdata = np.array([])\n",
    "    ydata = np.array([])\n",
    "    for ridx, fr in enumerate(resonances):\n",
    "        try:\n",
    "            # First sweep from f1 to fr_j - df / 2\n",
    "            f2r = fr - df / 2\n",
    "            print(f'[{2*ridx} / {2*rlen}] Discrete sweep from {f1r} to {f2r} GHz ...')\n",
    "            DM_setup.insert_sweep(f1r, f2r,\n",
    "                                  count=count1,\n",
    "                                  save_fields=True,\n",
    "                                  name=f'Discrete_Sweep_{2*ridx}',\n",
    "                                  type='Discrete')\n",
    "            DM_setup.solve()\n",
    "\n",
    "            # Get data from first sweep\n",
    "            print(f'Creating even reports ...')\n",
    "            fsweep = HFSS.HfssFrequencySweep(DM_setup, f'Discrete_Sweep_{2*ridx}')\n",
    "            # report_re = fsweep.create_report(f'Discrete_Sweep_{2*ridx}', expr='re(Y(LumpPort,LumpPort))')\n",
    "            # report_im = fsweep.create_report(f'Discrete_Sweep_{2*ridx}', expr='im(Y(LumpPort,LumpPort))')\n",
    "            report_re = fsweep.create_report(f'Discrete_Sweep_{2*ridx}', expr='re(Y(1, 1))')\n",
    "            report_im = fsweep.create_report(f'Discrete_Sweep_{2*ridx}', expr='im(Y(1, 1))')\n",
    "            yre = report_re.get_arrays()\n",
    "            yim = report_im.get_arrays()\n",
    "            fdata = np.hstack((fdata, yre[0,:]))\n",
    "            ydata = np.hstack((ydata, yre[1,:]+1j*yim[1,:]))    \n",
    "\n",
    "            # Backup data to file\n",
    "            print(f'Backing up even reports ...')\n",
    "            with open(f'../data/ydata_{dd}_sweep_{2*ridx}.csv', 'w') as fid:\n",
    "                fid.write('\\n'.join([f'{ff}, {yi}, {yr}'\\\n",
    "                                     for ff, yi, yr in zip(yre[0,:], yre[1,:], yim[1,:])]))\n",
    "\n",
    "            # Second sweep from fr_j - df / 2 to fr_j + df / 2\n",
    "            f1r = f2r + dff\n",
    "            f2r = fr + df / 2\n",
    "            print(f'[{2*ridx+1} / {2*rlen}] Discrete sweep from {f1r} to {f2r} GHz ...')\n",
    "            DM_setup.insert_sweep(f1r, f2r,\n",
    "                                  count=count2,\n",
    "                                  save_fields=True,\n",
    "                                  name=f'Discrete_Sweep_{2*ridx+1}',\n",
    "                                  type='Discrete')\n",
    "            DM_setup.solve()\n",
    "\n",
    "            # Get data from first sweep\n",
    "            print(f'Creating odd reports ...')\n",
    "            fsweep = HFSS.HfssFrequencySweep(DM_setup, f'Discrete_Sweep_{2*ridx+1}')\n",
    "            # report_re = fsweep.create_report(f'Discrete_Sweep_{2*ridx+1}', expr='re(Y(LumpPort,LumpPort))')\n",
    "            # report_im = fsweep.create_report(f'Discrete_Sweep_{2*ridx+1}', expr='im(Y(LumpPort,LumpPort))')\n",
    "            report_re = fsweep.create_report(f'Discrete_Sweep_{2*ridx+1}', expr='re(Y(1, 1))')\n",
    "            report_im = fsweep.create_report(f'Discrete_Sweep_{2*ridx+1}', expr='im(Y(1, 1))')\n",
    "            yre = report_re.get_arrays()\n",
    "            yim = report_im.get_arrays()\n",
    "            fdata = np.hstack((fdata, yre[0,:]))\n",
    "            ydata = np.hstack((ydata, yre[1,:]+1j*yim[1,:]))    \n",
    "\n",
    "            # Backup data to file\n",
    "            print(f'Backing up even reports ...')\n",
    "            with open(f'../data/ydata_{dd}_sweep_{2*ridx+1}.csv', 'w') as fid:\n",
    "                fid.write('\\n'.join([f'{ff}, {yi}, {yr}'\\\n",
    "                                     for ff, yi, yr in zip(yre[0,:], yre[1,:], yim[1,:])]))\n",
    "\n",
    "            # Next sweep from fr_j + df / 2 to fr_j+1 - df / 2\n",
    "            f1r = f2r + dff\n",
    "    \n",
    "        except Exception as e:\n",
    "            print(f'Exception on run {ridx}:\\n{e}')\n",
    "            continue\n",
    "    \n",
    "    # Last frequency band from fr_j + df / 2 to f2\n",
    "    f2r = f2\n",
    "    print(f'[{2*rlen} / {2*rlen}] Discrete sweep from {f1r} to {f2r} GHz ...')\n",
    "    DM_setup.insert_sweep(f1r, f2r,\n",
    "                          count=count1,\n",
    "                          save_fields=True,\n",
    "                          name=f'Discrete_Sweep_{2*rlen}',\n",
    "                          type='Discrete')\n",
    "    DM_setup.solve()\n",
    "    \n",
    "    # Get data from first sweep\n",
    "    print(f'Creating last report ...')\n",
    "    fsweep = HFSS.HfssFrequencySweep(DM_setup, f'Discrete_Sweep_{2*rlen}')\n",
    "    # report_re = fsweep.create_report(f'Discrete_Sweep_{2*rlen}', expr='re(Y(LumpPort,LumpPort))')\n",
    "    # report_im = fsweep.create_report(f'Discrete_Sweep_{2*rlen}', expr='im(Y(LumpPort,LumpPort))')\n",
    "    report_re = fsweep.create_report(f'Discrete_Sweep_{2*rlen}', expr='re(Y(1, 1))')\n",
    "    report_im = fsweep.create_report(f'Discrete_Sweep_{2*rlen}', expr='im(Y(1, 1))')\n",
    "    yre = report_re.get_arrays()\n",
    "    yim = report_im.get_arrays()\n",
    "    fdata = np.hstack((fdata, yre[0,:]))\n",
    "    ydata = np.hstack((ydata, yre[1,:]+1j*yim[1,:]))\n",
    "\n",
    "    # Backup data to file\n",
    "    print(f'Backing up even reports ...')\n",
    "    with open(f'../data/ydata_{dd}_sweep_{2*rlen}.csv', 'w') as fid:\n",
    "        fid.write('\\n'.join([f'{ff}, {yi}, {yr}'\\\n",
    "                             for ff, yi, yr in zip(yre[0,:], yre[1,:], yim[1,:])]))"
   ]
  },
  {
   "cell_type": "markdown",
   "metadata": {},
   "source": [
    "## --------------------------------------------------------"
   ]
  },
  {
   "cell_type": "markdown",
   "metadata": {},
   "source": [
    "## Postprocessing, blackbox quantization"
   ]
  },
  {
   "cell_type": "code",
   "execution_count": null,
   "metadata": {},
   "outputs": [],
   "source": [
    "def get_wp_Cp_Lp(f, y, LJ0=10e-9, CJ0=2e-15, fscale=1e9, use_Zq=False,\n",
    "                GJ0=7.748e-10):\n",
    "    \"\"\"\n",
    "    Converts frequency-dependent imaginary parts\n",
    "    of the admittance data to poles,\n",
    "    capacitances, and inductances\n",
    "    \"\"\"\n",
    "    # Add the junction inductance and capacitance to the\n",
    "    # total admittance\n",
    "    # Compute the zero crossings\n",
    "    fcpy = np.copy(f * fscale)\n",
    "    ycpy = np.copy(np.complex128(y))\n",
    "    if LJ0:\n",
    "        ycpy += (1. / (1j * fcpy * 2 * np.pi * LJ0)) \\\n",
    "          + 1j * fcpy * 2 * np.pi * CJ0\n",
    "    if LJ0 and GJ0:\n",
    "        ycpy += (1. / (1j * fcpy * 2 * np.pi * LJ0)) \\\n",
    "             + 1j * fcpy * 2 * np.pi * CJ0 \\\n",
    "             + GJ0\n",
    "    yim = ycpy.imag\n",
    "    zero_xing_idxs = np.where(np.diff(np.sign(yim))>0)[0]\n",
    "    wp = 2 * np.pi * fcpy[zero_xing_idxs]\n",
    "    yp = yim[zero_xing_idxs]\n",
    "\n",
    "    # Compute the capacitances from the derivatives\n",
    "    ypp = np.gradient(ycpy, 2*np.pi*(fcpy[1]-fcpy[0]))\n",
    "    Cp = 0.5 * np.abs(ypp.imag[zero_xing_idxs])\n",
    "    Lp = 1. / (wp**2 * Cp)\n",
    "    Zp = np.sqrt(Lp / Cp)\n",
    "    Rp = 1. / np.abs(np.real(ycpy[zero_xing_idxs]))\n",
    "    Qp = wp * Rp * Cp\n",
    "    \n",
    "    # Physical constants\n",
    "    h    = 6.62607015e-34 \n",
    "    hbar = h / (2 * np.pi)\n",
    "    e    = 1.602176634e-19\n",
    "    Phi0 = h / (2 * e)\n",
    "    \n",
    "    # Compute Ej, Ec\n",
    "    if LJ0 and CJ0:\n",
    "        # Compute the Josephson inductive and charging energies\n",
    "        Ej = (Phi0 / (2 * np.pi))**2 / LJ0\n",
    "        Ec = e**2 / (2 * (sum(Cp)+CJ0))\n",
    "\n",
    "        # Compute inductive energies, EL\n",
    "        EL = 0.5 * Phi0**2 / Lp\n",
    "\n",
    "        # Compute the phase zero point fluctuations\n",
    "        GQ = 2 * e**2 / h\n",
    "        phip2 = 2 * np.pi * GQ * Zp\n",
    "\n",
    "        # Compute the participations\n",
    "        # p = phi2 * 2 * Ej / (hbar * wp)\n",
    "        pl = Lp / LJ0\n",
    "        pc = Cp / CJ0\n",
    "\n",
    "        # Compute the gs / Ds\n",
    "        Zq = np.sqrt(LJ0 / CJ0)\n",
    "        gD = np.sqrt(Zp / Zq)\n",
    "\n",
    "        # Compute the g's in units of Hz, divide by h to get v, Ej = hv\n",
    "        gpq = (2 * np.pi * GQ * Ej / 24.) * sum(phip2) * np.asarray([[\n",
    "            np.sqrt(Zpp * Zqq) / h for p, Zpp in enumerate(Zp)]\n",
    "                               for q, Zqq in enumerate(Zp) ])\n",
    "        gpq = gpq.reshape([len(gpq), len(gpq)])\n",
    "        \n",
    "        # Compute the chis, anharmonicities\n",
    "        # In units of Hz\n",
    "        chipp  = -Ec * gD**2 / h\n",
    "        chippp = np.asarray([-2 * np.sqrt(chipp[p] * chipp[q]) \n",
    "                             for p in range(len(chipp))\n",
    "                             for q in range(len(chipp))])\n",
    "        chippp = chippp.reshape([len(chipp), len(chipp)])\n",
    "\n",
    "        return wp, Lp, Cp, Qp, fcpy, ycpy, yp, pl, pc, gpq, chippp\n",
    "    \n",
    "    else:\n",
    "        return wp, Lp, Cp, Qp, fcpy, ycpy, yp, None, None, None, None"
   ]
  },
  {
   "cell_type": "code",
   "execution_count": null,
   "metadata": {},
   "outputs": [],
   "source": [
    "def FtoMHz(C):\n",
    "    \"\"\"\n",
    "    Converts Farads to MHz\n",
    "    \"\"\"\n",
    "    MHz  = 1e6\n",
    "    h    = 6.62607015e-34 \n",
    "    e    = 1.602176634e-19\n",
    "    Ec   = e**2 / (2 * C)\n",
    "    return Ec / h / MHz"
   ]
  },
  {
   "cell_type": "code",
   "execution_count": null,
   "metadata": {},
   "outputs": [],
   "source": [
    "def HtoGHz(L):\n",
    "    \"\"\"\n",
    "    Converts Henrys to GHz\n",
    "    \"\"\"\n",
    "    GHz  = 1e9\n",
    "    h    = 6.62607015e-34 \n",
    "    e    = 1.602176634e-19\n",
    "    Phi0 = h / (2 * e)\n",
    "    EJ   = (Phi0 / (2 * np.pi))**2 / L\n",
    "    return EJ / h / GHz"
   ]
  },
  {
   "cell_type": "markdown",
   "metadata": {},
   "source": [
    "## Load y-data from files if not-overwrite"
   ]
  },
  {
   "cell_type": "code",
   "execution_count": null,
   "metadata": {},
   "outputs": [],
   "source": [
    "def load_ydata_from_sweeps(resonances):\n",
    "    fdata = np.array([])\n",
    "    ydata = np.array([], dtype=complex)\n",
    "\n",
    "    # Iterate over all discrete frequency sweeps\n",
    "    for i in range(2*len(resonances)+1):\n",
    "        report_re = fsweep_interp.create_report(f'Discrete_Sweep_{i}', expr='re(Y(LumpPort,LumpPort))')\n",
    "        report_im = fsweep_interp.create_report(f'Discrete_Sweep_{i}', expr='im(Y(LumpPort,LumpPort))')\n",
    "        yre = report_re.get_arrays()\n",
    "        yim = report_im.get_arrays()\n",
    "\n",
    "        fdata = np.hstack((fdata, yre[0,:]))\n",
    "        ydata = np.hstack((ydata, yre[1,:]+1j*yim[1,:]))\n",
    "    \n",
    "    return fdata, ydata"
   ]
  },
  {
   "cell_type": "code",
   "execution_count": null,
   "metadata": {},
   "outputs": [],
   "source": [
    "def load_ydata_from_txt(filenames, delimiter=','):\n",
    "    fdata = np.array([])\n",
    "    ydata = np.array([], dtype=complex)\n",
    "    # Iterate over all discrete frequency sweeps\n",
    "    for fname in filenames:\n",
    "        print(f'Reading {fname} ...')\n",
    "        data = np.genfromtxt(fname, delimiter=delimiter).T\n",
    "        f   = data[0]\n",
    "        yre = data[1]\n",
    "        yim = data[2]\n",
    "\n",
    "        fdata = np.hstack((fdata, f))\n",
    "        ydata = np.hstack((ydata, yre + 1j*yim))\n",
    "    return fdata, ydata"
   ]
  },
  {
   "cell_type": "code",
   "execution_count": null,
   "metadata": {},
   "outputs": [],
   "source": [
    "if not overwrite:\n",
    "    res_in = np.zeros(21)\n",
    "    fdata, ydata = load_ydata_from_files(res_in)"
   ]
  },
  {
   "cell_type": "code",
   "execution_count": null,
   "metadata": {},
   "outputs": [],
   "source": [
    "filenames = [f'../data/ydata_230418_sweep_{i}.csv' for i in range(3)]\n",
    "#for f in [f'../data/ydata_230326_sweep_{i}.csv' for i in range(3)]:\n",
    "#    filenames.append(f)\n",
    "fdata1, ydata1 = load_ydata_from_txt(filenames)"
   ]
  },
  {
   "cell_type": "code",
   "execution_count": null,
   "metadata": {},
   "outputs": [],
   "source": [
    "ydata1"
   ]
  },
  {
   "cell_type": "code",
   "execution_count": null,
   "metadata": {},
   "outputs": [],
   "source": [
    "fdata1"
   ]
  },
  {
   "cell_type": "code",
   "execution_count": null,
   "metadata": {},
   "outputs": [],
   "source": [
    "fdata.size"
   ]
  },
  {
   "cell_type": "code",
   "execution_count": null,
   "metadata": {},
   "outputs": [],
   "source": [
    "ydata.size"
   ]
  },
  {
   "cell_type": "markdown",
   "metadata": {},
   "source": [
    "## Plot the zero crossings"
   ]
  },
  {
   "cell_type": "code",
   "execution_count": null,
   "metadata": {},
   "outputs": [],
   "source": [
    "# Plot the results, save the figure(s)\n",
    "fsize = 20\n",
    "fscale = 1e9\n",
    "dstr = datetime.datetime.today().strftime('%y%m%d')\n",
    "wp, Lp, Cp, Qp, fcpy, ycpy, yp, pl, pc, gD, chippp = \\\n",
    "get_wp_Cp_Lp(fdata1, ydata1, LJ0=100e-9, CJ0=2e-15, fscale=1e9, use_Zq=False)\n",
    "\n",
    "fig, ax = plt.subplots(1, 1, tight_layout=True)\n",
    "ax.plot(fdata1, ydata1.imag)\n",
    "ax.plot(wp/(2*np.pi*fscale), yp.imag, 'o', label='Zero Crossings')\n",
    "ax.set_ylabel(r'Im $Y(\\omega)$', fontsize=fsize)\n",
    "ax.set_xlabel(r'Frequency [GHz]', fontsize=fsize)\n",
    "set_axes_fonts(ax, fsize)\n",
    "set_xaxis_rot(ax, 45.)\n",
    "#ax.set_xlim([None, 10])\n",
    "#ax.set_xlim([5.88, 5.95])\n",
    "ax.set_ylim([-0.05, 0.05])\n",
    "ax.axhline(y=0, color='k', ls='--')\n",
    "fig.savefig(f'../figs/zeros_term_bbq_inductive_50um_15mm_{dstr}.pdf', format='pdf')"
   ]
  },
  {
   "cell_type": "markdown",
   "metadata": {},
   "source": [
    "## Iterate over all coupler offset values, fix LJ=10 nH"
   ]
  },
  {
   "cell_type": "code",
   "execution_count": null,
   "metadata": {},
   "outputs": [],
   "source": [
    "def get_bbq_params(fdata, ydata, NLJ=25, Nmodes=6, LJvals=[0.1e-9, 100e-9]):\n",
    "    wps = []\n",
    "    pcs = []\n",
    "    pls = []\n",
    "    gDs = []\n",
    "    Cps = []\n",
    "    Lps = []\n",
    "    Qps = []\n",
    "    chis = []\n",
    "\n",
    "    # Whether or not to use the largest impedance mode\n",
    "    # as the junction mode in the calculations\n",
    "    use_Zq = False\n",
    "    print_results = True\n",
    "\n",
    "    LJs = np.logspace(np.log10(LJvals[0]), np.log10(LJvals[1]), NLJ)\n",
    "    #for idx, x in enumerate(xdata):\n",
    "    for LJ in LJs:\n",
    "        wpp, Lp, Cp, Qp, _, _, _, pl, pc, gD, chip \\\n",
    "        = get_wp_Cp_Lp(fdata, ydata, LJ0=LJ, fscale=fscale, use_Zq=use_Zq)\n",
    "        wps.append(np.sort(wpp[0:Nmodes]))\n",
    "        #wps.append(wpp[0:Nmodes])\n",
    "        pls.append(pl[0:Nmodes])\n",
    "        pcs.append(pc[0:Nmodes])\n",
    "        gDs.append(gD[0:Nmodes, 0:Nmodes])\n",
    "        Lps.append(Lp[0:Nmodes])\n",
    "        Cps.append(Cp[0:Nmodes])\n",
    "        Qps.append(Qp[0:Nmodes])\n",
    "        chis.append(chip[0:Nmodes, 0:Nmodes])\n",
    "        if print_results:\n",
    "            print(f'wps: {wps}')\n",
    "        # wps.append(wpp)\n",
    "        # print(f'LJ: {LJ}, wpp: {wpp}')\n",
    "    wps = np.asarray(wps).T\n",
    "    pls  = np.asarray(pls).T\n",
    "    pcs  = np.asarray(pls).T\n",
    "    gDs = np.asarray(gDs).T\n",
    "    Lps = np.asarray(Lps).T\n",
    "    Cps = np.asarray(Cps).T\n",
    "    Qps = np.asarray(Qps).T\n",
    "    chis = np.asarray(chis).T\n",
    "\n",
    "    return wps, pls, pcs, gDs, Lps, Cps, Qps, chis"
   ]
  },
  {
   "cell_type": "code",
   "execution_count": null,
   "metadata": {},
   "outputs": [],
   "source": [
    "wp0,_ , _, _, _, _, _, _, _, _, _ = get_wp_Cp_Lp(fdata, ydata, fscale=fscale, LJ0=None)"
   ]
  },
  {
   "cell_type": "code",
   "execution_count": null,
   "metadata": {},
   "outputs": [],
   "source": [
    "wps1, pls1, pcs1, gDs1, Lps1, Cps1, Qps1, chis1 = get_bbq_params(fdata, ydata, Nmodes=1, LJvals=[1e-9,100e-9])"
   ]
  },
  {
   "cell_type": "code",
   "execution_count": null,
   "metadata": {},
   "outputs": [],
   "source": [
    "Cps1"
   ]
  },
  {
   "cell_type": "code",
   "execution_count": null,
   "metadata": {},
   "outputs": [],
   "source": [
    "FtoMHz(Cps1[0])"
   ]
  },
  {
   "cell_type": "markdown",
   "metadata": {},
   "source": [
    "## Plot the $E_C$ of the coupler mode"
   ]
  },
  {
   "cell_type": "code",
   "execution_count": null,
   "metadata": {},
   "outputs": [],
   "source": [
    "fig, ax = plt.subplots(1, 1, tight_layout=True)\n",
    "dstr = datetime.datetime.today().strftime('%y%m%d')\n",
    "lsize = 14\n",
    "cycle = plt.rcParams['axes.prop_cycle'].by_key()['color']\n",
    "clen = len(cycle)\n",
    "NLJ = 25\n",
    "LJs = np.logspace(np.log10(1e-9), np.log10(100e-9), NLJ)\n",
    "ax2 = ax.twinx()\n",
    "for idx, wppp in enumerate(wps1):\n",
    "    ax.plot(LJs/1e-9, FtoMHz(Cps1[0]),\n",
    "            'o',\n",
    "            color=cycle[idx%clen], label=r'$E_C$ [MHz]')\n",
    "    ax2.plot(LJs/1e-9, HtoGHz(LJs),\n",
    "           '*', color=cycle[(idx+1)%clen],\n",
    "            label=r'$E_J$ [GHz]')\n",
    "ax.set_xlabel(r'$L_J$ [nH]', fontsize=fsize)\n",
    "ax.set_ylabel(r'$E_C$ [MHz]', fontsize=fsize)\n",
    "ax2.set_ylabel(r'$E_J$ [GHz]', fontsize=fsize)\n",
    "set_xaxis_rot(ax, 45)\n",
    "# ax.set_ylim([7.165, 7.2])\n",
    "set_axes_fonts(ax, fsize)\n",
    "set_axes_fonts(ax2, fsize)\n",
    "ax.set_xscale('log')\n",
    "fig.savefig(f'../figs/modes_term_bbq_inductive_planar_sapphire_{dstr}.pdf',\n",
    "            transparent=True, format='pdf')"
   ]
  },
  {
   "cell_type": "code",
   "execution_count": null,
   "metadata": {},
   "outputs": [],
   "source": [
    "wps1[2]"
   ]
  },
  {
   "cell_type": "code",
   "execution_count": null,
   "metadata": {},
   "outputs": [],
   "source": [
    "wps1[:, 0]"
   ]
  },
  {
   "cell_type": "code",
   "execution_count": null,
   "metadata": {},
   "outputs": [],
   "source": [
    "wps1[:, -1]"
   ]
  },
  {
   "cell_type": "code",
   "execution_count": null,
   "metadata": {},
   "outputs": [],
   "source": [
    "wps1_sort = np.sort(wps1, axis=0)\n",
    "wps1_sort"
   ]
  },
  {
   "cell_type": "markdown",
   "metadata": {},
   "source": [
    "## Plot the modes of coupled structure"
   ]
  },
  {
   "cell_type": "code",
   "execution_count": null,
   "metadata": {},
   "outputs": [],
   "source": [
    "fig, ax = plt.subplots(1, 1, tight_layout=True)\n",
    "dstr = datetime.datetime.today().strftime('%y%m%d')\n",
    "lsize = 14\n",
    "cycle = plt.rcParams['axes.prop_cycle'].by_key()['color']\n",
    "clen = len(cycle)\n",
    "NLJ = 25\n",
    "LJs = np.logspace(np.log10(1e-9), np.log10(100e-9), NLJ)\n",
    "for idx, wppp in enumerate(wps1):\n",
    "    ax.plot(LJs/1e-9, wppp/(2*np.pi*fscale),\n",
    "            'o', label=r'Mode-%d' % (idx + 1),\n",
    "            color=cycle[idx%clen])\n",
    "    ax.plot(LJs/1e-9, [wp0[idx]/(2*np.pi*fscale)] * len(LJs),\n",
    "            '--', color=cycle[idx%clen])\n",
    "ax.set_xlabel(r'$L_J$ [nH]', fontsize=fsize)\n",
    "ax.set_ylabel(r'Eigenfrequencies [GHz]', fontsize=fsize)\n",
    "set_xaxis_rot(ax, 45)\n",
    "# ax.set_ylim([7.165, 7.2])\n",
    "set_axes_fonts(ax, fsize)\n",
    "leg = set_leg_outside(ax, lsize)\n",
    "ax.set_xscale('log')\n",
    "fig.savefig(f'../figs/modes_term_bbq_inductive_planar_sapphire_{dstr}.pdf',\n",
    "             bbox_extra_artists=(leg, ), bbox_inches='tight',\n",
    "            transparent=True, format='pdf')"
   ]
  },
  {
   "cell_type": "markdown",
   "metadata": {},
   "source": [
    "## Plot the splittings of the lowest modes vs LJ"
   ]
  },
  {
   "cell_type": "code",
   "execution_count": null,
   "metadata": {},
   "outputs": [],
   "source": [
    "fig, ax = plt.subplots(1, 1, tight_layout=True)\n",
    "lsize = 14\n",
    "fscale2 = 1e6\n",
    "cycle = plt.rcParams['axes.prop_cycle'].by_key()['color']\n",
    "clen = len(cycle)\n",
    "ax.plot(LJs/1e-9, (wps1[1]-wps1[0])/(2*np.pi*fscale2),\n",
    "           'o-',\n",
    "            color=cycle[0%clen])\n",
    "# ax.plot(LJs/1e-9, np.ones(LJs.size) * dw/(fscale2), 'k--')\n",
    "ax.set_xlabel(r'$L_J$ [nH]', fontsize=fsize)\n",
    "ax.set_ylabel(r'Mode Splitting (1,2) [MHz]', fontsize=fsize)\n",
    "set_xaxis_rot(ax, 45)\n",
    "set_axes_fonts(ax, fsize)\n",
    "#ax.set_ylim([0, 150])\n",
    "#ax.set_xlim([0.5, 2.2])\n",
    "ax.set_xscale('log')\n",
    "fig.savefig(f'../figs/modes_splitting_term_bbq_inductive_planar_sapphire_{dstr}.pdf',\n",
    "            format='pdf')"
   ]
  },
  {
   "cell_type": "markdown",
   "metadata": {},
   "source": [
    "## Mode losses"
   ]
  },
  {
   "cell_type": "code",
   "execution_count": null,
   "metadata": {},
   "outputs": [],
   "source": [
    "fig, ax = plt.subplots(1, 1, tight_layout=True)\n",
    "lsize = 14\n",
    "cycle = plt.rcParams['axes.prop_cycle'].by_key()['color']\n",
    "clen = len(cycle)\n",
    "for idx, Q in enumerate(Qps1):\n",
    "    ax.plot(LJs/1e-9, 1./Q,\n",
    "            'o-', label=r'Mode-%d' % (idx + 1),\n",
    "            color=cycle[idx%clen])\n",
    "ax.set_xlabel(r'$L_J$ [nH]', fontsize=fsize)\n",
    "ax.set_ylabel(r'$Q_p^{-1}$', fontsize=fsize)\n",
    "set_xaxis_rot(ax, 45)\n",
    "set_axes_fonts(ax, fsize)\n",
    "set_leg_outside(ax, lsize)\n",
    "ax.set_xscale('log')\n",
    "ax.set_yscale('log')\n",
    "fig.savefig(f'../figs/mode_losses_term_bbq_inductive_planar_sapphire_{dstr}.pdf', format='pdf')"
   ]
  },
  {
   "cell_type": "markdown",
   "metadata": {},
   "source": [
    "## Mode $T_1$'s"
   ]
  },
  {
   "cell_type": "code",
   "execution_count": null,
   "metadata": {},
   "outputs": [],
   "source": [
    "fig, ax = plt.subplots(1, 1, tight_layout=True)\n",
    "lsize = 14\n",
    "fscale2 = 1e6\n",
    "cycle = plt.rcParams['axes.prop_cycle'].by_key()['color']\n",
    "clen = len(cycle)\n",
    "for idx, Q in enumerate(Qps1):\n",
    "    ax.plot(LJs/1e-9, 1e6 * Q / wps1[idx],\n",
    "            'o-', label=r'Mode-%d' % (idx + 1),\n",
    "            color=cycle[idx%clen])\n",
    "ax.plot(LJs/1e-9, 100*np.ones(LJs.size), 'k:',\n",
    "        lw=2, label=r'100 $\\mu$s $T_1$')\n",
    "ax.set_xlabel(r'$L_J$ [nH]', fontsize=fsize)\n",
    "ax.set_ylabel(r'$T_1$ [$\\mu$s]', fontsize=fsize)\n",
    "# ax.plot(LJs/1e-9, np.ones(LJs.size) * dw/(fscale2), 'k--')\n",
    "set_xaxis_rot(ax, 45)\n",
    "set_axes_fonts(ax, fsize)\n",
    "set_leg_outside(ax, lsize)\n",
    "#ax.set_ylim([1e-2, 350])\n",
    "#ax.set_xlim([0.5, 2.2])\n",
    "ax.set_xscale('log')\n",
    "ax.set_yscale('log')\n",
    "fig.savefig(f'../figs/T1_modes_coupled_{dstr}.pdf',\n",
    "            format='pdf')"
   ]
  },
  {
   "cell_type": "markdown",
   "metadata": {},
   "source": [
    "## Black box results"
   ]
  },
  {
   "cell_type": "markdown",
   "metadata": {},
   "source": [
    "### $\\alpha_p$ and $\\chi_{pq}$"
   ]
  },
  {
   "cell_type": "code",
   "execution_count": null,
   "metadata": {},
   "outputs": [],
   "source": [
    "fig, ax = plt.subplots(1, 1, tight_layout=True)\n",
    "lsize = 14\n",
    "cycle = plt.rcParams['axes.prop_cycle'].by_key()['color']\n",
    "clen = len(cycle)\n",
    "Nmodes = 4\n",
    "fscale3 = 1e3\n",
    "for idx in range(Nmodes):\n",
    "    ax.plot(LJs/1e-9, 0.5 * np.abs(chis1[idx, idx, :]) / fscale3,\n",
    "            'o-', label=r'Mode-%d' % (idx + 1),\n",
    "            color=cycle[idx%clen])\n",
    "ax.set_xlabel(r'$L_J$ [nH]', fontsize=fsize)\n",
    "ax.set_ylabel(r'$|\\alpha_p|$ [kHz]', fontsize=fsize)\n",
    "set_xaxis_rot(ax, 45)\n",
    "set_axes_fonts(ax, fsize)\n",
    "set_leg_outside(ax, lsize)\n",
    "ax.set_xscale('log')\n",
    "ax.set_yscale('log')\n",
    "fig.savefig(f'../figs/mode_alpha_term_bbq_inductive_planar_sapphire_{dstr}.pdf', format='pdf')"
   ]
  },
  {
   "cell_type": "code",
   "execution_count": null,
   "metadata": {},
   "outputs": [],
   "source": [
    "# Chi, lower triangle\n",
    "chiT = np.array([np.triu(chis1[:,:,i]) for i in range(len(LJs))]).T\n",
    "gT = np.array([np.triu(gDs1[:,:,i]) for i in range(len(LJs))]).T\n",
    "NM = 4\n",
    "chiT[0:NM,0:NM,0]\n",
    "\n",
    "fig, ax = plt.subplots(1, 1, tight_layout=True)\n",
    "lsize = 14\n",
    "cycle = plt.rcParams['axes.prop_cycle'].by_key()['color']\n",
    "clen = len(cycle)\n",
    "NM = 4\n",
    "idx = 0\n",
    "for i in range(NM):\n",
    "    for j in range(NM):\n",
    "        if (i != j) and np.any(chiT[i, j, :] != 0.):\n",
    "            ax.plot(LJs/1e-9, np.abs(chiT[i, j, :]) / fscale3,\n",
    "                'o-', label=r'$\\chi_{%d,%d}$' % (i + 1, j + 1),\n",
    "                color=cycle[idx%clen])\n",
    "            idx += 1\n",
    "ax.set_xlabel(r'$L_J$ [nH]', fontsize=fsize)\n",
    "ax.set_ylabel(r'$|\\chi_{pq}|$ [kHz]', fontsize=fsize)\n",
    "set_xaxis_rot(ax, 45)\n",
    "set_axes_fonts(ax, fsize)\n",
    "set_leg_outside(ax, lsize)\n",
    "ax.set_xscale('log')\n",
    "ax.set_yscale('log')\n",
    "fig.savefig(f'../figs/mode_chi_term_bbq_inductive_planar_sapphire_{dstr}.pdf', format='pdf')"
   ]
  },
  {
   "cell_type": "code",
   "execution_count": null,
   "metadata": {},
   "outputs": [],
   "source": [
    "fig, ax = plt.subplots(1, 1, tight_layout=True)\n",
    "lsize = 14\n",
    "cycle = plt.rcParams['axes.prop_cycle'].by_key()['color']\n",
    "clen = len(cycle)\n",
    "NM = 4\n",
    "idx = 0\n",
    "for i in range(NM):\n",
    "    for j in range(NM):\n",
    "        if (i != j) and np.any(gT[i, j, :] != 0.):\n",
    "            ax.plot(LJs/1e-9, np.abs(gT[i, j, :]) / fscale2,\n",
    "                'o-', label=r'$g_{%d,%d}$' % (i + 1, j + 1),\n",
    "                color=cycle[idx%clen])\n",
    "            idx += 1\n",
    "ax.set_xlabel(r'$L_J$ [nH]', fontsize=fsize)\n",
    "ax.set_ylabel(r'$|g_{pq}|$ [MHz]', fontsize=fsize)\n",
    "set_xaxis_rot(ax, 45)\n",
    "set_axes_fonts(ax, fsize)\n",
    "set_leg_outside(ax, lsize)\n",
    "ax.set_xscale('log')\n",
    "ax.set_yscale('log')\n",
    "fig.savefig(f'../figs/mode_g_term_bbq_inductive_planar_sapphire_{dstr}.pdf', format='pdf')"
   ]
  },
  {
   "cell_type": "code",
   "execution_count": null,
   "metadata": {},
   "outputs": [],
   "source": []
  },
  {
   "cell_type": "code",
   "execution_count": null,
   "metadata": {},
   "outputs": [],
   "source": []
  }
 ],
 "metadata": {
  "kernelspec": {
   "display_name": "Python 3 (ipykernel)",
   "language": "python",
   "name": "python3"
  },
  "language_info": {
   "codemirror_mode": {
    "name": "ipython",
    "version": 3
   },
   "file_extension": ".py",
   "mimetype": "text/x-python",
   "name": "python",
   "nbconvert_exporter": "python",
   "pygments_lexer": "ipython3",
   "version": "3.12.9"
  }
 },
 "nbformat": 4,
 "nbformat_minor": 4
}
